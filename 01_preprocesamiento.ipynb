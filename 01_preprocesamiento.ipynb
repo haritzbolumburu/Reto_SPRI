{
 "cells": [
  {
   "attachments": {},
   "cell_type": "markdown",
   "metadata": {},
   "source": [
    "<img src=\"https://pbs.twimg.com/media/E_4gSkjVQAIXhaU.jpg\" width=600 height=300>"
   ]
  },
  {
   "attachments": {},
   "cell_type": "markdown",
   "metadata": {},
   "source": [
    "# LIBRERÍAS"
   ]
  },
  {
   "cell_type": "code",
   "execution_count": 46,
   "metadata": {},
   "outputs": [],
   "source": [
    "import os\n",
    "import pandas as pd\n",
    "import numpy as np\n",
    "import datetime as dt\n",
    "\n",
    "import missingno as msno\n",
    "from collections import Counter\n",
    "from sklearn.impute import KNNImputer\n",
    "\n",
    "from pyod.models.iforest import IForest\n",
    "from IPython.display import display\n",
    "\n",
    "import matplotlib.pyplot as plt\n",
    "import seaborn as sns\n",
    "\n",
    "from preprocesamiento.funciones_preprocesamiento import *"
   ]
  },
  {
   "cell_type": "code",
   "execution_count": 47,
   "metadata": {},
   "outputs": [],
   "source": [
    "# Se crea el directorio donde se guardarán los datos limpios\n",
    "path_clean_data = os.path.join('Datos','Limpios')\n",
    "if not os.path.exists(path_clean_data):\n",
    "    os.makedirs(path_clean_data)"
   ]
  },
  {
   "attachments": {},
   "cell_type": "markdown",
   "metadata": {},
   "source": [
    "# INGESTA DE DATOS"
   ]
  },
  {
   "cell_type": "code",
   "execution_count": 48,
   "metadata": {},
   "outputs": [],
   "source": [
    "# Path de datos originales\n",
    "path_originales = os.path.join('Datos','Originales')\n",
    "\n",
    "# Cargamos los datasets\n",
    "df1 = leer_excel(path_originales, 'df_sabi_modif_1.xlsx')\n",
    "df2 = leer_excel(path_originales, 'df_sabi_modif_2_new.xlsx')\n",
    "df2_2 = leer_excel(path_originales, 'df_sabi_parte3.xlsx')\n",
    "df3 = leer_excel(path_originales, 'df_dealroom_modif.xlsx')"
   ]
  },
  {
   "attachments": {},
   "cell_type": "markdown",
   "metadata": {},
   "source": [
    "* df1 --> datos legales de la empresa y porcentaje de adquisición; 0 missings\n",
    "* df2 --> NIF, año, número de empleados y 38 variables contables (Balance y Cuenta de Pérdidas y Ganancias; algunas en miles y otras en porcentaje); 2308 missings en total, 94 de ellos en la columna del número de empleados\n",
    "* df3 --> NIF, perfil de Dealroom y web (scraping), sector (tagline: qué hace la empresa,NLP ; revenue_models: sector), datos de rondas de financiación (fecha de primera y última, cantidad total y de la última, tipo de la última, cuántas rondas), número de empleados según Dealroom (pocos datos; contrastar con el del sabi), fase de la startup (ownerships y growth stage), b2b_b2c, valuation_2022 (pocos datos); 1393 missings en total, 305 de ellos en la columna del número de empleados y 352 de ellos en la de la valoración en 2022\n",
    "\n",
    "* 412 instancias en df1 y df3, 824 instancias en df2 (datos para 2020 y 2021 de esas 412 startups)"
   ]
  },
  {
   "attachments": {},
   "cell_type": "markdown",
   "metadata": {},
   "source": [
    "# PREPROCESAMIENTO INICIAL"
   ]
  },
  {
   "attachments": {},
   "cell_type": "markdown",
   "metadata": {},
   "source": [
    "## DF SABI 1"
   ]
  },
  {
   "cell_type": "code",
   "execution_count": 49,
   "metadata": {},
   "outputs": [
    {
     "data": {
      "text/plain": [
       "Codigo_NIF                    0\n",
       "Nombre_sabi                   0\n",
       "Localidad                     0\n",
       "Fecha constitucion            0\n",
       "Codigo consolidacion          0\n",
       "Codigo primario CNAE 2009     0\n",
       "Forma juridica                0\n",
       "Forma juridica detallada      0\n",
       "Estado                        0\n",
       "Estado detallado              0\n",
       "Capital social mil EUR        0\n",
       "Free capital mil EUR          0\n",
       "Porcentaje_adquisicion_cat    0\n",
       "dtype: int64"
      ]
     },
     "execution_count": 49,
     "metadata": {},
     "output_type": "execute_result"
    }
   ],
   "source": [
    "df1.isna().sum() # no hay missings en este dataframe"
   ]
  },
  {
   "cell_type": "code",
   "execution_count": 50,
   "metadata": {},
   "outputs": [],
   "source": [
    "df1['Fecha constitucion']=pd.to_datetime(df1['Fecha constitucion'], format='%Y/%m/%d')"
   ]
  },
  {
   "cell_type": "code",
   "execution_count": 51,
   "metadata": {},
   "outputs": [
    {
     "name": "stdout",
     "output_type": "stream",
     "text": [
      "824 filas y 51 columnas en df2.\n",
      "2820 missings en total.\n",
      "0 missings en la columna del NIF.\n",
      "0 missings en la columna del año.\n",
      "94 missings en la columna del número de empleados.\n"
     ]
    },
    {
     "data": {
      "text/html": [
       "<div>\n",
       "<style scoped>\n",
       "    .dataframe tbody tr th:only-of-type {\n",
       "        vertical-align: middle;\n",
       "    }\n",
       "\n",
       "    .dataframe tbody tr th {\n",
       "        vertical-align: top;\n",
       "    }\n",
       "\n",
       "    .dataframe thead th {\n",
       "        text-align: right;\n",
       "    }\n",
       "</style>\n",
       "<table border=\"1\" class=\"dataframe\">\n",
       "  <thead>\n",
       "    <tr style=\"text-align: right;\">\n",
       "      <th></th>\n",
       "      <th>Codigo_NIF</th>\n",
       "      <th>year</th>\n",
       "      <th>Acreedores a L. P. mil EUR</th>\n",
       "      <th>Acreedores comerciales mil EUR</th>\n",
       "      <th>Activo circulante mil EUR</th>\n",
       "      <th>Apalancamiento (%) %</th>\n",
       "      <th>Capital suscrito mil EUR</th>\n",
       "      <th>Cash flow mil EUR</th>\n",
       "      <th>Deudas financieras mil EUR</th>\n",
       "      <th>EBITDA mil EUR</th>\n",
       "      <th>...</th>\n",
       "      <th>Coeficiente de solvencia (%) %</th>\n",
       "      <th>Costes de los trabajadores / Ingresos de explotación (%) %</th>\n",
       "      <th>Deudores mil EUR</th>\n",
       "      <th>Dotaciones para amortiz. de inmovil. mil EUR</th>\n",
       "      <th>EBIT mil EUR</th>\n",
       "      <th>Gastos financieros y gastos asimilados mil EUR</th>\n",
       "      <th>Impuestos sobre sociedades mil EUR</th>\n",
       "      <th>Rentabilidad sobre capital empleado (%) %</th>\n",
       "      <th>Rentabilidad sobre el activo total (%) %</th>\n",
       "      <th>Rentabilidad sobre recursos propios (%) %</th>\n",
       "    </tr>\n",
       "  </thead>\n",
       "  <tbody>\n",
       "    <tr>\n",
       "      <th>0</th>\n",
       "      <td>A78053147</td>\n",
       "      <td>2021.0</td>\n",
       "      <td>15314.000</td>\n",
       "      <td>339928.000</td>\n",
       "      <td>1032835.000</td>\n",
       "      <td>147.861</td>\n",
       "      <td>2000.0</td>\n",
       "      <td>3589.000</td>\n",
       "      <td>NaN</td>\n",
       "      <td>6182.000</td>\n",
       "      <td>...</td>\n",
       "      <td>12.392</td>\n",
       "      <td>7.645</td>\n",
       "      <td>751524.000</td>\n",
       "      <td>2743.000</td>\n",
       "      <td>3439.000</td>\n",
       "      <td>3210.000</td>\n",
       "      <td>279.0</td>\n",
       "      <td>1.192</td>\n",
       "      <td>0.095</td>\n",
       "      <td>0.767</td>\n",
       "    </tr>\n",
       "    <tr>\n",
       "      <th>1</th>\n",
       "      <td>A78053147</td>\n",
       "      <td>2020.0</td>\n",
       "      <td>16336.000</td>\n",
       "      <td>346970.000</td>\n",
       "      <td>931984.000</td>\n",
       "      <td>122.989</td>\n",
       "      <td>2000.0</td>\n",
       "      <td>128101.000</td>\n",
       "      <td>NaN</td>\n",
       "      <td>99163.000</td>\n",
       "      <td>...</td>\n",
       "      <td>14.058</td>\n",
       "      <td>7.513</td>\n",
       "      <td>653291.000</td>\n",
       "      <td>10189.000</td>\n",
       "      <td>88974.000</td>\n",
       "      <td>5575.000</td>\n",
       "      <td>21547.0</td>\n",
       "      <td>44.601</td>\n",
       "      <td>13.444</td>\n",
       "      <td>95.633</td>\n",
       "    </tr>\n",
       "    <tr>\n",
       "      <th>2</th>\n",
       "      <td>B75103515</td>\n",
       "      <td>2021.0</td>\n",
       "      <td>61152.908</td>\n",
       "      <td>19954.260</td>\n",
       "      <td>152330.720</td>\n",
       "      <td>1141.461</td>\n",
       "      <td>20500.0</td>\n",
       "      <td>-5899.978</td>\n",
       "      <td>29685.498</td>\n",
       "      <td>-5011.881</td>\n",
       "      <td>...</td>\n",
       "      <td>4.777</td>\n",
       "      <td>8.111</td>\n",
       "      <td>70254.306</td>\n",
       "      <td>3270.684</td>\n",
       "      <td>-8282.565</td>\n",
       "      <td>983.042</td>\n",
       "      <td>NaN</td>\n",
       "      <td>-11.847</td>\n",
       "      <td>-5.504</td>\n",
       "      <td>-115.237</td>\n",
       "    </tr>\n",
       "    <tr>\n",
       "      <th>3</th>\n",
       "      <td>B75103515</td>\n",
       "      <td>2020.0</td>\n",
       "      <td>83608.494</td>\n",
       "      <td>12554.314</td>\n",
       "      <td>107903.655</td>\n",
       "      <td>-598.358</td>\n",
       "      <td>10000.0</td>\n",
       "      <td>-13014.985</td>\n",
       "      <td>19944.946</td>\n",
       "      <td>-12410.040</td>\n",
       "      <td>...</td>\n",
       "      <td>-14.146</td>\n",
       "      <td>15.277</td>\n",
       "      <td>49474.365</td>\n",
       "      <td>3110.304</td>\n",
       "      <td>-15520.344</td>\n",
       "      <td>692.911</td>\n",
       "      <td>NaN</td>\n",
       "      <td>-23.275</td>\n",
       "      <td>-13.181</td>\n",
       "      <td>93.176</td>\n",
       "    </tr>\n",
       "    <tr>\n",
       "      <th>4</th>\n",
       "      <td>B95864310</td>\n",
       "      <td>2021.0</td>\n",
       "      <td>17489.000</td>\n",
       "      <td>11920.000</td>\n",
       "      <td>55895.000</td>\n",
       "      <td>115.514</td>\n",
       "      <td>7515.0</td>\n",
       "      <td>92.000</td>\n",
       "      <td>8380.000</td>\n",
       "      <td>1974.000</td>\n",
       "      <td>...</td>\n",
       "      <td>22.183</td>\n",
       "      <td>20.928</td>\n",
       "      <td>7946.000</td>\n",
       "      <td>2386.000</td>\n",
       "      <td>-412.000</td>\n",
       "      <td>2098.000</td>\n",
       "      <td>-250.0</td>\n",
       "      <td>-1.085</td>\n",
       "      <td>-2.459</td>\n",
       "      <td>-11.086</td>\n",
       "    </tr>\n",
       "  </tbody>\n",
       "</table>\n",
       "<p>5 rows × 51 columns</p>\n",
       "</div>"
      ],
      "text/plain": [
       "  Codigo_NIF    year  Acreedores a L. P. mil EUR  \\\n",
       "0  A78053147  2021.0                   15314.000   \n",
       "1  A78053147  2020.0                   16336.000   \n",
       "2  B75103515  2021.0                   61152.908   \n",
       "3  B75103515  2020.0                   83608.494   \n",
       "4  B95864310  2021.0                   17489.000   \n",
       "\n",
       "   Acreedores comerciales mil EUR  Activo circulante mil EUR  \\\n",
       "0                      339928.000                1032835.000   \n",
       "1                      346970.000                 931984.000   \n",
       "2                       19954.260                 152330.720   \n",
       "3                       12554.314                 107903.655   \n",
       "4                       11920.000                  55895.000   \n",
       "\n",
       "   Apalancamiento (%) %  Capital suscrito mil EUR  Cash flow mil EUR  \\\n",
       "0               147.861                    2000.0           3589.000   \n",
       "1               122.989                    2000.0         128101.000   \n",
       "2              1141.461                   20500.0          -5899.978   \n",
       "3              -598.358                   10000.0         -13014.985   \n",
       "4               115.514                    7515.0             92.000   \n",
       "\n",
       "   Deudas financieras mil EUR  EBITDA mil EUR  ...  \\\n",
       "0                         NaN        6182.000  ...   \n",
       "1                         NaN       99163.000  ...   \n",
       "2                   29685.498       -5011.881  ...   \n",
       "3                   19944.946      -12410.040  ...   \n",
       "4                    8380.000        1974.000  ...   \n",
       "\n",
       "   Coeficiente de solvencia (%) %  \\\n",
       "0                          12.392   \n",
       "1                          14.058   \n",
       "2                           4.777   \n",
       "3                         -14.146   \n",
       "4                          22.183   \n",
       "\n",
       "   Costes de los trabajadores / Ingresos de explotación (%) %  \\\n",
       "0                                              7.645            \n",
       "1                                              7.513            \n",
       "2                                              8.111            \n",
       "3                                             15.277            \n",
       "4                                             20.928            \n",
       "\n",
       "   Deudores mil EUR  Dotaciones para amortiz. de inmovil. mil EUR  \\\n",
       "0        751524.000                                      2743.000   \n",
       "1        653291.000                                     10189.000   \n",
       "2         70254.306                                      3270.684   \n",
       "3         49474.365                                      3110.304   \n",
       "4          7946.000                                      2386.000   \n",
       "\n",
       "   EBIT mil EUR  Gastos financieros y gastos asimilados mil EUR  \\\n",
       "0      3439.000                                        3210.000   \n",
       "1     88974.000                                        5575.000   \n",
       "2     -8282.565                                         983.042   \n",
       "3    -15520.344                                         692.911   \n",
       "4      -412.000                                        2098.000   \n",
       "\n",
       "   Impuestos sobre sociedades mil EUR  \\\n",
       "0                               279.0   \n",
       "1                             21547.0   \n",
       "2                                 NaN   \n",
       "3                                 NaN   \n",
       "4                              -250.0   \n",
       "\n",
       "   Rentabilidad sobre capital empleado (%) %  \\\n",
       "0                                      1.192   \n",
       "1                                     44.601   \n",
       "2                                    -11.847   \n",
       "3                                    -23.275   \n",
       "4                                     -1.085   \n",
       "\n",
       "   Rentabilidad sobre el activo total (%) %  \\\n",
       "0                                     0.095   \n",
       "1                                    13.444   \n",
       "2                                    -5.504   \n",
       "3                                   -13.181   \n",
       "4                                    -2.459   \n",
       "\n",
       "   Rentabilidad sobre recursos propios (%) %  \n",
       "0                                      0.767  \n",
       "1                                     95.633  \n",
       "2                                   -115.237  \n",
       "3                                     93.176  \n",
       "4                                    -11.086  \n",
       "\n",
       "[5 rows x 51 columns]"
      ]
     },
     "execution_count": 51,
     "metadata": {},
     "output_type": "execute_result"
    }
   ],
   "source": [
    "print(f\"{df2.shape[0]} filas y {df2.shape[1]} columnas en df2.\")\n",
    "\n",
    "print(f'{df2.isna().sum().sum()} missings en total.')\n",
    "print(f'{df2[[\"Codigo_NIF\"]].isna().sum().sum()} missings en la columna del NIF.')\n",
    "print(f'{df2[[\"year\"]].isna().sum().sum()} missings en la columna del año.')\n",
    "print(f'{df2[[\"Número empleados\"]].isna().sum().sum()} missings en la columna del número de empleados.')\n",
    "\n",
    "df2.head()"
   ]
  },
  {
   "attachments": {},
   "cell_type": "markdown",
   "metadata": {},
   "source": [
    "## DF SABI 2 (variables financieras)"
   ]
  },
  {
   "attachments": {},
   "cell_type": "markdown",
   "metadata": {},
   "source": [
    "### Union y eliminacion de instancias"
   ]
  },
  {
   "attachments": {},
   "cell_type": "markdown",
   "metadata": {},
   "source": [
    "Se juntan el df2 y el df2_2, que contienen ambos datos financieros, pero distintas variables\n"
   ]
  },
  {
   "cell_type": "code",
   "execution_count": 52,
   "metadata": {},
   "outputs": [],
   "source": [
    "df2 = df2.merge(df2_2, on=['Codigo_NIF', 'year'], how='outer') # por las claves primarias: \"Codigo_NIF\" y \"year\""
   ]
  },
  {
   "attachments": {},
   "cell_type": "markdown",
   "metadata": {},
   "source": [
    "Se quitan las instancias de 2020 para las empresas que se han creado a finales de 2020 o en 2021\n"
   ]
  },
  {
   "cell_type": "code",
   "execution_count": 53,
   "metadata": {},
   "outputs": [],
   "source": [
    "df2 = df2[df2.isna().mean(axis=1)<0.5]"
   ]
  },
  {
   "attachments": {},
   "cell_type": "markdown",
   "metadata": {},
   "source": [
    "Hay algunos NaNs camuflados como 'n.s.', los convertiremos a NaNs\n"
   ]
  },
  {
   "cell_type": "code",
   "execution_count": 54,
   "metadata": {},
   "outputs": [
    {
     "name": "stdout",
     "output_type": "stream",
     "text": [
      "n.s.: 1255\n"
     ]
    }
   ],
   "source": [
    "print(f\"n.s.: {df2[df2=='n.s.'].count().sum()}\")"
   ]
  },
  {
   "cell_type": "code",
   "execution_count": 55,
   "metadata": {},
   "outputs": [],
   "source": [
    "df2 = df2.replace('n.s.', np.nan)"
   ]
  },
  {
   "cell_type": "code",
   "execution_count": 56,
   "metadata": {},
   "outputs": [
    {
     "name": "stdout",
     "output_type": "stream",
     "text": [
      "n.s.: 0\n"
     ]
    }
   ],
   "source": [
    "print(f\"n.s.: {df2[df2=='n.s.'].count().sum()}\")"
   ]
  },
  {
   "cell_type": "code",
   "execution_count": 57,
   "metadata": {},
   "outputs": [
    {
     "data": {
      "text/plain": [
       "(815, 76)"
      ]
     },
     "execution_count": 57,
     "metadata": {},
     "output_type": "execute_result"
    }
   ],
   "source": [
    "df2.shape"
   ]
  },
  {
   "attachments": {},
   "cell_type": "markdown",
   "metadata": {},
   "source": [
    "### Colinealidades entre varibles financieras"
   ]
  },
  {
   "attachments": {},
   "cell_type": "markdown",
   "metadata": {},
   "source": [
    "<img src=\"https://www.gmconsulting.pro/wp-content/uploads/2014/12/Equilibrio-financiero.jpg\" width=600 height=400>\n",
    "<img src=\"https://1.bp.blogspot.com/-6S5kz2O5zS8/YEeDLSxR_aI/AAAAAAAAHbI/kEV9SEur0O0yGNnTzMi_NLCgL_abgOS4ACLcBGAsYHQ/w640-h612/ejercicio.png\" width=425 height=400>"
   ]
  },
  {
   "cell_type": "code",
   "execution_count": 58,
   "metadata": {},
   "outputs": [
    {
     "data": {
      "text/plain": [
       "True    815\n",
       "dtype: int64"
      ]
     },
     "execution_count": 58,
     "metadata": {},
     "output_type": "execute_result"
    }
   ],
   "source": [
    "# COLINEALIDADES ENTRE LAS VARIABLES FINANCIERAS\n",
    "\n",
    "# BALANCE\n",
    "\n",
    "# Activo no corriente\n",
    "df2[['Inmovilizado mil EUR', 'Inmovilizado inmaterial mil EUR', 'Inmovilizado material mil EUR', 'Otros activos fijos mil EUR']].isna().sum()\n",
    "# Cuadran bien, por lo que nos quedamos con la columna principal, que es la que tiene menos missings\n",
    "\n",
    "# Activo corriente\n",
    "df2[['Activo circulante mil EUR', 'Existencias mil EUR', 'Deudores mil EUR', 'Otros activos líquidos mil EUR']].isna().sum()\n",
    "# Cuadran bien, por lo que nos quedamos con la columna principal, que es la que tiene menos missings\n",
    "\n",
    "# Total activo\n",
    "(df2['Total activo mil EUR'] == df2['Inmovilizado mil EUR'] + df2['Activo circulante mil EUR']).value_counts()\n",
    "# coinciden (excepto las 8 que tienen missings siempre)\n",
    "\n",
    "# Patrimonio neto\n",
    "(df2['Fondos propios mil EUR'] == (df2['Capital suscrito mil EUR'] + df2['Otros fondos propios mil EUR'])).value_counts()\n",
    "# coinciden (excepto las 8 que tienen missings siempre)\n",
    "\n",
    "# Pasivo no corriente\n",
    "df2[['Pasivo fijo mil EUR', 'Otros pasivos fijos mil EUR', 'Acreedores a L. P. mil EUR']].isna().sum()\n",
    "# Cuadran bien, por lo que nos quedamos con la columna principal, que es la que tiene menos missings\n",
    "\n",
    "# Pasivo corriente\n",
    "df2[['Pasivo líquido mil EUR', 'Deudas financieras mil EUR', 'Acreedores comerciales mil EUR', 'Otros pasivos líquidos mil EUR']].isna().sum()\n",
    "# Cuadran bien, por lo que nos quedamos con la columna principal, que es la que tiene menos missings\n",
    "\n",
    "# Total pasivo y patrimonio neto\n",
    "df2[['Total pasivo y capital propio mil EUR', 'Fondos propios mil EUR', 'Pasivo fijo mil EUR', 'Pasivo líquido mil EUR']].isna().sum()\n",
    "# Cuadran bien, por lo que nos quedamos con la columna principal, que no tiene missings\n",
    "\n",
    "# Comprobación de la corrección del balance\n",
    "(df2['Total activo mil EUR'].round() == df2['Total pasivo y capital propio mil EUR'].round()).value_counts()\n",
    "# El balance cuadra a la perfección"
   ]
  },
  {
   "cell_type": "code",
   "execution_count": 59,
   "metadata": {},
   "outputs": [
    {
     "data": {
      "text/plain": [
       "Inmovilizado mil EUR                      24\n",
       "Activo circulante mil EUR                  1\n",
       "Total activo mil EUR                       0\n",
       "Fondos propios mil EUR                     0\n",
       "Pasivo fijo mil EUR                      176\n",
       "Pasivo líquido mil EUR                     4\n",
       "Total pasivo y capital propio mil EUR      0\n",
       "dtype: int64"
      ]
     },
     "execution_count": 59,
     "metadata": {},
     "output_type": "execute_result"
    }
   ],
   "source": [
    "# Missings en las variables principales\n",
    "vars_balance = ['Inmovilizado mil EUR', 'Activo circulante mil EUR', 'Total activo mil EUR', \\\n",
    "                    'Fondos propios mil EUR', 'Pasivo fijo mil EUR', 'Pasivo líquido mil EUR', \\\n",
    "                    'Total pasivo y capital propio mil EUR']\n",
    "df2[vars_balance].isna().sum()"
   ]
  },
  {
   "attachments": {},
   "cell_type": "markdown",
   "metadata": {},
   "source": [
    "### Imputación de variables financieras según reglas financieras"
   ]
  },
  {
   "cell_type": "code",
   "execution_count": 60,
   "metadata": {},
   "outputs": [
    {
     "name": "stdout",
     "output_type": "stream",
     "text": [
      "Total activo mil EUR          0\n",
      "Inmovilizado mil EUR         24\n",
      "Activo circulante mil EUR     1\n",
      "dtype: int64\n",
      "Total activo mil EUR         0\n",
      "Inmovilizado mil EUR         0\n",
      "Activo circulante mil EUR    0\n",
      "dtype: int64\n"
     ]
    }
   ],
   "source": [
    "# IMPUTACIONES (I): Activo\n",
    "\n",
    "print(df2[['Total activo mil EUR', 'Inmovilizado mil EUR', 'Activo circulante mil EUR']].isna().sum())\n",
    "\n",
    "# Hay algunos missings, los rellenamos según las reglas contables:\n",
    "df2['Inmovilizado mil EUR'] = df2['Inmovilizado mil EUR'].fillna(df2['Total activo mil EUR'] - df2['Activo circulante mil EUR'])\n",
    "df2['Activo circulante mil EUR'] = df2['Activo circulante mil EUR'].fillna(df2['Total activo mil EUR'] - df2['Inmovilizado mil EUR'])\n",
    "\n",
    "print(df2[['Total activo mil EUR', 'Inmovilizado mil EUR', 'Activo circulante mil EUR']].isna().sum())\n",
    "\n",
    "# Missings imputados según las reglas contables"
   ]
  },
  {
   "cell_type": "code",
   "execution_count": 61,
   "metadata": {},
   "outputs": [
    {
     "name": "stdout",
     "output_type": "stream",
     "text": [
      "Total pasivo y capital propio mil EUR      0\n",
      "Fondos propios mil EUR                     0\n",
      "Pasivo fijo mil EUR                      176\n",
      "Pasivo líquido mil EUR                     4\n",
      "dtype: int64\n",
      "Total pasivo y capital propio mil EUR    0\n",
      "Fondos propios mil EUR                   0\n",
      "Pasivo fijo mil EUR                      2\n",
      "Pasivo líquido mil EUR                   2\n",
      "dtype: int64\n"
     ]
    },
    {
     "data": {
      "text/html": [
       "<div>\n",
       "<style scoped>\n",
       "    .dataframe tbody tr th:only-of-type {\n",
       "        vertical-align: middle;\n",
       "    }\n",
       "\n",
       "    .dataframe tbody tr th {\n",
       "        vertical-align: top;\n",
       "    }\n",
       "\n",
       "    .dataframe thead th {\n",
       "        text-align: right;\n",
       "    }\n",
       "</style>\n",
       "<table border=\"1\" class=\"dataframe\">\n",
       "  <thead>\n",
       "    <tr style=\"text-align: right;\">\n",
       "      <th></th>\n",
       "      <th>Total pasivo y capital propio mil EUR</th>\n",
       "      <th>Fondos propios mil EUR</th>\n",
       "      <th>Pasivo fijo mil EUR</th>\n",
       "      <th>Pasivo líquido mil EUR</th>\n",
       "    </tr>\n",
       "  </thead>\n",
       "  <tbody>\n",
       "    <tr>\n",
       "      <th>260</th>\n",
       "      <td>2250.00000</td>\n",
       "      <td>2250.00000</td>\n",
       "      <td>NaN</td>\n",
       "      <td>NaN</td>\n",
       "    </tr>\n",
       "    <tr>\n",
       "      <th>822</th>\n",
       "      <td>116.87972</td>\n",
       "      <td>116.87972</td>\n",
       "      <td>NaN</td>\n",
       "      <td>NaN</td>\n",
       "    </tr>\n",
       "  </tbody>\n",
       "</table>\n",
       "</div>"
      ],
      "text/plain": [
       "     Total pasivo y capital propio mil EUR  Fondos propios mil EUR  \\\n",
       "260                             2250.00000              2250.00000   \n",
       "822                              116.87972               116.87972   \n",
       "\n",
       "     Pasivo fijo mil EUR  Pasivo líquido mil EUR  \n",
       "260                  NaN                     NaN  \n",
       "822                  NaN                     NaN  "
      ]
     },
     "metadata": {},
     "output_type": "display_data"
    },
    {
     "name": "stdout",
     "output_type": "stream",
     "text": [
      "Total pasivo y capital propio mil EUR    0\n",
      "Fondos propios mil EUR                   0\n",
      "Pasivo fijo mil EUR                      0\n",
      "Pasivo líquido mil EUR                   0\n",
      "dtype: int64\n"
     ]
    }
   ],
   "source": [
    "# IMPUTACIONES (II): Pasivo\n",
    "\n",
    "print(df2[['Total pasivo y capital propio mil EUR', 'Fondos propios mil EUR', 'Pasivo fijo mil EUR', 'Pasivo líquido mil EUR']].isna().sum())\n",
    "\n",
    "# Hay algunos missings, los rellenamos según las reglas contables:\n",
    "df2['Pasivo fijo mil EUR'] = df2['Pasivo fijo mil EUR'].fillna(df2['Total pasivo y capital propio mil EUR'] - df2['Fondos propios mil EUR'] - df2['Pasivo líquido mil EUR'])\n",
    "df2['Pasivo líquido mil EUR'] = df2['Pasivo líquido mil EUR'].fillna(df2['Total pasivo y capital propio mil EUR'] - df2['Fondos propios mil EUR'] - df2['Pasivo fijo mil EUR'])\n",
    "\n",
    "print(df2[['Total pasivo y capital propio mil EUR', 'Fondos propios mil EUR', 'Pasivo fijo mil EUR', 'Pasivo líquido mil EUR']].isna().sum())\n",
    "\n",
    "# Quedan 2 missings en cada columna que tenía missings, pero no se puede imputar nada más\n",
    "# esas instancias son:\n",
    "display(df2[df2['Pasivo líquido mil EUR'].isna()][['Total pasivo y capital propio mil EUR', 'Fondos propios mil EUR', 'Pasivo fijo mil EUR', 'Pasivo líquido mil EUR']])\n",
    "\n",
    "# Se trata de empresas que no tienen pasivo fijo ni pasivo líquido, por lo que los NaNs se imputan como 0s\n",
    "\n",
    "df2['Pasivo fijo mil EUR'] = df2['Pasivo fijo mil EUR'].fillna(0)\n",
    "df2['Pasivo líquido mil EUR'] = df2['Pasivo líquido mil EUR'].fillna(0)\n",
    "\n",
    "print(df2[['Total pasivo y capital propio mil EUR', 'Fondos propios mil EUR', 'Pasivo fijo mil EUR', 'Pasivo líquido mil EUR']].isna().sum())\n",
    "\n",
    "# Missings imputados según las reglas contables"
   ]
  },
  {
   "cell_type": "code",
   "execution_count": 62,
   "metadata": {},
   "outputs": [
    {
     "name": "stdout",
     "output_type": "stream",
     "text": [
      "24695.242\n",
      "24695.242000000002\n",
      "0\n"
     ]
    }
   ],
   "source": [
    "# IMPUTACIONES (III): Decimales en el Activo\n",
    "\n",
    "for i, row in df2.iterrows():\n",
    "    if row['Total activo mil EUR'] != row['Inmovilizado mil EUR'] + row['Activo circulante mil EUR']:\n",
    "        print(row['Total activo mil EUR'])\n",
    "        print(row['Inmovilizado mil EUR'] + row['Activo circulante mil EUR'])\n",
    "        break\n",
    "\n",
    "# Las instancias que no coinciden no coindicen por un problema de decimales, por lo que se considera que son equivalentes\n",
    "df2['Total activo mil EUR'] = df2['Inmovilizado mil EUR'] + df2['Activo circulante mil EUR']\n",
    "print(df2['Total activo mil EUR'].isna().sum())\n",
    "# 0 missings"
   ]
  },
  {
   "cell_type": "code",
   "execution_count": 63,
   "metadata": {},
   "outputs": [
    {
     "name": "stdout",
     "output_type": "stream",
     "text": [
      "7958.076\n",
      "7958.075999999999\n",
      "0\n"
     ]
    }
   ],
   "source": [
    "# IMPUTACIONES (IV): Decimales en el Patrimonio Neto\n",
    "\n",
    "for i, row in df2.iterrows():\n",
    "    if row['Fondos propios mil EUR'] != row['Capital suscrito mil EUR'] + row['Otros fondos propios mil EUR']:\n",
    "        print(row['Fondos propios mil EUR'])\n",
    "        print(row['Capital suscrito mil EUR'] + row['Otros fondos propios mil EUR'])\n",
    "        break\n",
    "\n",
    "# de nuevo es un problema de decimales, por lo que se considera que son iguales\n",
    "df2['Fondos propios mil EUR'] = df2['Capital suscrito mil EUR'] + df2['Otros fondos propios mil EUR']\n",
    "print(df2['Fondos propios mil EUR'].isna().sum())\n",
    "# 0 missings"
   ]
  },
  {
   "attachments": {},
   "cell_type": "markdown",
   "metadata": {},
   "source": [
    "### Corrección de variables"
   ]
  },
  {
   "cell_type": "code",
   "execution_count": 64,
   "metadata": {},
   "outputs": [
    {
     "data": {
      "text/html": [
       "<div>\n",
       "<style scoped>\n",
       "    .dataframe tbody tr th:only-of-type {\n",
       "        vertical-align: middle;\n",
       "    }\n",
       "\n",
       "    .dataframe tbody tr th {\n",
       "        vertical-align: top;\n",
       "    }\n",
       "\n",
       "    .dataframe thead th {\n",
       "        text-align: right;\n",
       "    }\n",
       "</style>\n",
       "<table border=\"1\" class=\"dataframe\">\n",
       "  <thead>\n",
       "    <tr style=\"text-align: right;\">\n",
       "      <th></th>\n",
       "      <th>Fondo de maniobra mil EUR</th>\n",
       "      <th>Activo circulante mil EUR</th>\n",
       "      <th>Pasivo líquido mil EUR</th>\n",
       "    </tr>\n",
       "  </thead>\n",
       "  <tbody>\n",
       "    <tr>\n",
       "      <th>0</th>\n",
       "      <td>411596.000</td>\n",
       "      <td>1032835.00</td>\n",
       "      <td>820050.000</td>\n",
       "    </tr>\n",
       "    <tr>\n",
       "      <th>1</th>\n",
       "      <td>306321.000</td>\n",
       "      <td>931984.00</td>\n",
       "      <td>712086.000</td>\n",
       "    </tr>\n",
       "    <tr>\n",
       "      <th>2</th>\n",
       "      <td>85654.461</td>\n",
       "      <td>152330.72</td>\n",
       "      <td>97480.271</td>\n",
       "    </tr>\n",
       "  </tbody>\n",
       "</table>\n",
       "</div>"
      ],
      "text/plain": [
       "   Fondo de maniobra mil EUR  Activo circulante mil EUR  \\\n",
       "0                 411596.000                 1032835.00   \n",
       "1                 306321.000                  931984.00   \n",
       "2                  85654.461                  152330.72   \n",
       "\n",
       "   Pasivo líquido mil EUR  \n",
       "0              820050.000  \n",
       "1              712086.000  \n",
       "2               97480.271  "
      ]
     },
     "metadata": {},
     "output_type": "display_data"
    },
    {
     "name": "stdout",
     "output_type": "stream",
     "text": [
      "0\n"
     ]
    }
   ],
   "source": [
    "# 1. Fondo de maniobra = Activo circulante - Pasivo líquido\n",
    "(df2['Fondo de maniobra mil EUR'].round() == (df2['Activo circulante mil EUR'] - df2['Pasivo líquido mil EUR']).round()).value_counts()\n",
    "display(df2[['Fondo de maniobra mil EUR', 'Activo circulante mil EUR', 'Pasivo líquido mil EUR']].head(3))\n",
    "# No cuadra en la mayoría de los casos, por lo que reescribiremos esa variable según las reglas contables\n",
    "\n",
    "df2['Fondo de maniobra mil EUR'] = df2['Activo circulante mil EUR'] - df2['Pasivo líquido mil EUR']\n",
    "\n",
    "print(df2['Fondo de maniobra mil EUR'].isna().sum())\n",
    "# 0 missings"
   ]
  },
  {
   "attachments": {},
   "cell_type": "markdown",
   "metadata": {},
   "source": [
    "### Selección de variables"
   ]
  },
  {
   "cell_type": "code",
   "execution_count": 65,
   "metadata": {},
   "outputs": [
    {
     "data": {
      "text/plain": [
       "Resultado Explotación mil EUR                                  0\n",
       "Resultado financiero mil EUR                                   0\n",
       "Resultado del Ejercicio mil EUR                                0\n",
       "Costes de los trabajadores / Ingresos de explotación (%) %    24\n",
       "Tesorería mil EUR                                             23\n",
       "Cash flow mil EUR                                              0\n",
       "Período de cobro (días) días                                  24\n",
       "Valor agregado mil EUR                                         0\n",
       "dtype: int64"
      ]
     },
     "execution_count": 65,
     "metadata": {},
     "output_type": "execute_result"
    }
   ],
   "source": [
    "# CUENTA DE PÉRDIDAS Y GANANCIAS\n",
    "\n",
    "# A: Resultado de explotación = Ingresos de explotación - Gastos de explotación\n",
    "# B: Resultado financiero = Ingresos financieros - Gastos financieros\n",
    "# C: Resultado ordinario antes de impuestos = Resultado de explotación (A) + Resultado financiero (B)\n",
    "# D: Resultado del ejercicio = Resultado ordinario antes de impuestos (C) - Impuesto de sociedades\n",
    "\n",
    "# Variables clave:\n",
    "vars_perd_ganancias = ['Resultado Explotación mil EUR', 'Resultado financiero mil EUR',\n",
    "                         'Resultado del Ejercicio mil EUR', 'Costes de los trabajadores / Ingresos de explotación (%) %',\n",
    "                         'Tesorería mil EUR', 'Cash flow mil EUR', 'Período de cobro (días) días',\n",
    "                         'Valor agregado mil EUR']\n",
    "df2[vars_perd_ganancias].isna().sum()\n",
    "# El Resultado ordinario antes de impuestos no se incluye porque sería redundante\n",
    "\n",
    "# Cash flow mil EUR --> estado de flujos de efectivo\n",
    "# Período de cobro (días) días --> cantidad de tiempo que una empresa tarda en recibir el pago de sus facturas\n",
    "# Valor agregado mil EUR --> riqueza generada por la startup"
   ]
  },
  {
   "cell_type": "code",
   "execution_count": 66,
   "metadata": {},
   "outputs": [
    {
     "data": {
      "text/plain": [
       "Apalancamiento (%) %                                            0\n",
       "Endeudamiento (%) %                                             0\n",
       "Margen de beneficio (%) %                                      24\n",
       "Ratio de liquidez %                                             4\n",
       "Ratio de solvencia %                                            4\n",
       "Rentabilidad económica (%) %                                    0\n",
       "Rentabilidad financiera (%) %                                   0\n",
       "Rotación de activos netos %                                     0\n",
       "Rotación de las existencias %                                 425\n",
       "Coeficiente de solvencia (%) %                                  0\n",
       "Costes de los trabajadores / Ingresos de explotación (%) %     24\n",
       "Rentabilidad sobre capital empleado (%) %                       0\n",
       "Rentabilidad sobre el activo total (%) %                        0\n",
       "Rentabilidad sobre recursos propios (%) %                       0\n",
       "Liquidez general %                                              4\n",
       "Ratio de cobertura de intereses %                             143\n",
       "Ratios de autonomía financiera a medio y largo plazo %        176\n",
       "dtype: int64"
      ]
     },
     "execution_count": 66,
     "metadata": {},
     "output_type": "execute_result"
    }
   ],
   "source": [
    "# Ratios ya calculados\n",
    "vars_ratios = df2.columns[df2.columns.str.contains('%')] # ratios ya calculados\n",
    "df2[vars_ratios].isna().sum()\n",
    "# pocos missings, se imputarán con KNN"
   ]
  },
  {
   "cell_type": "code",
   "execution_count": 67,
   "metadata": {},
   "outputs": [],
   "source": [
    "# Otras variables seleccionadas necesarias para calcular nuevas variables o ejecucion de alguna tarea del reto\n",
    "vars_otros = ['EBITDA mil EUR', 'EBIT mil EUR', 'Fondo de maniobra mil EUR', 'Impuestos sobre sociedades mil EUR', 'Dotaciones para amortiz. de inmovil. mil EUR',\n",
    "                'Deudas financieras mil EUR', 'Importe neto Cifra de Ventas mil EUR', 'Existencias mil EUR', 'Acreedores comerciales mil EUR']"
   ]
  },
  {
   "cell_type": "code",
   "execution_count": 68,
   "metadata": {},
   "outputs": [],
   "source": [
    "# Variables identificativas de la empresa \n",
    "vars_identificativas = ['Codigo_NIF', 'year', 'Número empleados']"
   ]
  },
  {
   "cell_type": "code",
   "execution_count": 69,
   "metadata": {},
   "outputs": [],
   "source": [
    "vars = []\n",
    "vars.extend(vars_identificativas)\n",
    "vars.extend(vars_balance)\n",
    "vars.extend(vars_perd_ganancias)\n",
    "vars.extend(vars_ratios)\n",
    "vars.extend(vars_otros)\n",
    "df2_final = df2[vars]"
   ]
  },
  {
   "cell_type": "code",
   "execution_count": 70,
   "metadata": {},
   "outputs": [
    {
     "data": {
      "text/plain": [
       "(815, 44)"
      ]
     },
     "execution_count": 70,
     "metadata": {},
     "output_type": "execute_result"
    }
   ],
   "source": [
    "df2_final.shape"
   ]
  },
  {
   "cell_type": "code",
   "execution_count": 71,
   "metadata": {},
   "outputs": [
    {
     "data": {
      "text/plain": [
       "Index(['Codigo_NIF', 'year', 'Número empleados', 'Inmovilizado mil EUR',\n",
       "       'Activo circulante mil EUR', 'Total activo mil EUR',\n",
       "       'Fondos propios mil EUR', 'Pasivo fijo mil EUR',\n",
       "       'Pasivo líquido mil EUR', 'Total pasivo y capital propio mil EUR',\n",
       "       'Resultado Explotación mil EUR', 'Resultado financiero mil EUR',\n",
       "       'Resultado del Ejercicio mil EUR',\n",
       "       'Costes de los trabajadores / Ingresos de explotación (%) %',\n",
       "       'Tesorería mil EUR', 'Cash flow mil EUR',\n",
       "       'Período de cobro (días) días', 'Valor agregado mil EUR',\n",
       "       'Apalancamiento (%) %', 'Endeudamiento (%) %',\n",
       "       'Margen de beneficio (%) %', 'Ratio de liquidez %',\n",
       "       'Ratio de solvencia %', 'Rentabilidad económica (%) %',\n",
       "       'Rentabilidad financiera (%) %', 'Rotación de activos netos %',\n",
       "       'Rotación de las existencias %', 'Coeficiente de solvencia (%) %',\n",
       "       'Costes de los trabajadores / Ingresos de explotación (%) %',\n",
       "       'Rentabilidad sobre capital empleado (%) %',\n",
       "       'Rentabilidad sobre el activo total (%) %',\n",
       "       'Rentabilidad sobre recursos propios (%) %', 'Liquidez general %',\n",
       "       'Ratio de cobertura de intereses %',\n",
       "       'Ratios de autonomía financiera a medio y largo plazo %',\n",
       "       'EBITDA mil EUR', 'EBIT mil EUR', 'Fondo de maniobra mil EUR',\n",
       "       'Impuestos sobre sociedades mil EUR',\n",
       "       'Dotaciones para amortiz. de inmovil. mil EUR',\n",
       "       'Deudas financieras mil EUR', 'Importe neto Cifra de Ventas mil EUR',\n",
       "       'Existencias mil EUR', 'Acreedores comerciales mil EUR'],\n",
       "      dtype='object')"
      ]
     },
     "execution_count": 71,
     "metadata": {},
     "output_type": "execute_result"
    }
   ],
   "source": [
    "df2_final.columns"
   ]
  },
  {
   "cell_type": "code",
   "execution_count": 72,
   "metadata": {},
   "outputs": [
    {
     "data": {
      "text/plain": [
       "Rotación de las existencias %                                 0.521472\n",
       "Existencias mil EUR                                           0.521472\n",
       "Deudas financieras mil EUR                                    0.479755\n",
       "Acreedores comerciales mil EUR                                0.306748\n",
       "Ratios de autonomía financiera a medio y largo plazo %        0.215951\n",
       "Impuestos sobre sociedades mil EUR                            0.208589\n",
       "Ratio de cobertura de intereses %                             0.175460\n",
       "Dotaciones para amortiz. de inmovil. mil EUR                  0.109202\n",
       "Número empleados                                              0.104294\n",
       "Importe neto Cifra de Ventas mil EUR                          0.073620\n",
       "Margen de beneficio (%) %                                     0.029448\n",
       "Costes de los trabajadores / Ingresos de explotación (%) %    0.029448\n",
       "Costes de los trabajadores / Ingresos de explotación (%) %    0.029448\n",
       "Período de cobro (días) días                                  0.029448\n",
       "Tesorería mil EUR                                             0.028221\n",
       "Liquidez general %                                            0.004908\n",
       "Ratio de liquidez %                                           0.004908\n",
       "Ratio de solvencia %                                          0.004908\n",
       "Apalancamiento (%) %                                          0.000000\n",
       "Endeudamiento (%) %                                           0.000000\n",
       "Inmovilizado mil EUR                                          0.000000\n",
       "Activo circulante mil EUR                                     0.000000\n",
       "Total activo mil EUR                                          0.000000\n",
       "Fondos propios mil EUR                                        0.000000\n",
       "Pasivo fijo mil EUR                                           0.000000\n",
       "Fondo de maniobra mil EUR                                     0.000000\n",
       "EBIT mil EUR                                                  0.000000\n",
       "EBITDA mil EUR                                                0.000000\n",
       "Pasivo líquido mil EUR                                        0.000000\n",
       "Total pasivo y capital propio mil EUR                         0.000000\n",
       "Resultado Explotación mil EUR                                 0.000000\n",
       "Rentabilidad sobre recursos propios (%) %                     0.000000\n",
       "Rentabilidad sobre el activo total (%) %                      0.000000\n",
       "Rentabilidad sobre capital empleado (%) %                     0.000000\n",
       "Resultado financiero mil EUR                                  0.000000\n",
       "Coeficiente de solvencia (%) %                                0.000000\n",
       "Resultado del Ejercicio mil EUR                               0.000000\n",
       "Rotación de activos netos %                                   0.000000\n",
       "Rentabilidad financiera (%) %                                 0.000000\n",
       "Rentabilidad económica (%) %                                  0.000000\n",
       "year                                                          0.000000\n",
       "Cash flow mil EUR                                             0.000000\n",
       "Valor agregado mil EUR                                        0.000000\n",
       "Codigo_NIF                                                    0.000000\n",
       "dtype: float64"
      ]
     },
     "execution_count": 72,
     "metadata": {},
     "output_type": "execute_result"
    }
   ],
   "source": [
    "# Estos missings se imputaran con KNN\n",
    "df2_final.isna().mean(axis=0).sort_values(ascending=False)"
   ]
  },
  {
   "attachments": {},
   "cell_type": "markdown",
   "metadata": {},
   "source": [
    "## DF 3 (_Dealroom_)"
   ]
  },
  {
   "cell_type": "code",
   "execution_count": 73,
   "metadata": {},
   "outputs": [
    {
     "data": {
      "text/plain": [
       "valuation_2022          352\n",
       "n_empleados_dealroom    305\n",
       "last_funding            216\n",
       "revenue_models          184\n",
       "last_round               70\n",
       "ownerships               67\n",
       "tagline                  56\n",
       "first_funding_date       48\n",
       "last_funding_date        48\n",
       "total_funding            31\n",
       "b2b_b2c                  15\n",
       "growth_stage              1\n",
       "name_dealroom             0\n",
       "total_rounds              0\n",
       "website                   0\n",
       "profile_url               0\n",
       "company_status            0\n",
       "Codigo_NIF                0\n",
       "dtype: int64"
      ]
     },
     "execution_count": 73,
     "metadata": {},
     "output_type": "execute_result"
    }
   ],
   "source": [
    "df3.isna().sum().sort_values(ascending=False)"
   ]
  },
  {
   "attachments": {},
   "cell_type": "markdown",
   "metadata": {},
   "source": [
    "Si no hay rondas de financiación, no van a tener fechas de financiación ni valor de la financiación (first_funding_date, last_funding_date, last_funding, last_round, total_funding).\n"
   ]
  },
  {
   "attachments": {},
   "cell_type": "markdown",
   "metadata": {},
   "source": [
    "Hay 48 que no han tenido rondas de financiacion, el numero coincide con el número de missings de las fechas."
   ]
  },
  {
   "cell_type": "code",
   "execution_count": 74,
   "metadata": {},
   "outputs": [
    {
     "data": {
      "text/plain": [
       "total_rounds\n",
       "0      48\n",
       "1      39\n",
       "2      31\n",
       "3     110\n",
       "4      78\n",
       "5      33\n",
       "6      24\n",
       "7      18\n",
       "8      11\n",
       "9       5\n",
       "10      3\n",
       "11      2\n",
       "12      2\n",
       "14      2\n",
       "16      1\n",
       "17      2\n",
       "18      1\n",
       "21      1\n",
       "24      1\n",
       "dtype: int64"
      ]
     },
     "execution_count": 74,
     "metadata": {},
     "output_type": "execute_result"
    }
   ],
   "source": [
    "df3.groupby(\"total_rounds\").size()"
   ]
  },
  {
   "attachments": {},
   "cell_type": "markdown",
   "metadata": {},
   "source": [
    "Inventamos una fecha para las instancias que tienen missings : 1 de enero de 1900 y corregimos el formato"
   ]
  },
  {
   "cell_type": "code",
   "execution_count": 75,
   "metadata": {},
   "outputs": [
    {
     "name": "stderr",
     "output_type": "stream",
     "text": [
      "C:\\Users\\usuario\\AppData\\Local\\Temp\\ipykernel_9680\\1334530475.py:7: SettingWithCopyWarning: \n",
      "A value is trying to be set on a copy of a slice from a DataFrame\n",
      "\n",
      "See the caveats in the documentation: https://pandas.pydata.org/pandas-docs/stable/user_guide/indexing.html#returning-a-view-versus-a-copy\n",
      "  df3['first_funding_date'][index]=pd.to_datetime(row['first_funding_date'], format='%b/%Y')\n",
      "C:\\Users\\usuario\\AppData\\Local\\Temp\\ipykernel_9680\\1334530475.py:8: SettingWithCopyWarning: \n",
      "A value is trying to be set on a copy of a slice from a DataFrame\n",
      "\n",
      "See the caveats in the documentation: https://pandas.pydata.org/pandas-docs/stable/user_guide/indexing.html#returning-a-view-versus-a-copy\n",
      "  except: df3['first_funding_date'][index]=pd.to_datetime(row['first_funding_date'], format='%Y')\n",
      "C:\\Users\\usuario\\AppData\\Local\\Temp\\ipykernel_9680\\1334530475.py:16: SettingWithCopyWarning: \n",
      "A value is trying to be set on a copy of a slice from a DataFrame\n",
      "\n",
      "See the caveats in the documentation: https://pandas.pydata.org/pandas-docs/stable/user_guide/indexing.html#returning-a-view-versus-a-copy\n",
      "  df3['last_funding_date'][index]=pd.to_datetime(row['last_funding_date'], format='%b/%Y')\n",
      "C:\\Users\\usuario\\AppData\\Local\\Temp\\ipykernel_9680\\1334530475.py:17: SettingWithCopyWarning: \n",
      "A value is trying to be set on a copy of a slice from a DataFrame\n",
      "\n",
      "See the caveats in the documentation: https://pandas.pydata.org/pandas-docs/stable/user_guide/indexing.html#returning-a-view-versus-a-copy\n",
      "  except: df3['last_funding_date'][index]=pd.to_datetime(row['last_funding_date'], format='%Y')\n"
     ]
    }
   ],
   "source": [
    "# first funding date\n",
    "\n",
    "df3['first_funding_date']=df3['first_funding_date'].fillna(\"jan/1900\")\n",
    "\n",
    "for index, row in df3.iterrows():\n",
    "    try:\n",
    "        df3['first_funding_date'][index]=pd.to_datetime(row['first_funding_date'], format='%b/%Y')\n",
    "    except: df3['first_funding_date'][index]=pd.to_datetime(row['first_funding_date'], format='%Y')\n",
    "\n",
    "# last funding date\n",
    "\n",
    "df3['last_funding_date']=df3['last_funding_date'].fillna(\"jan/1900\")\n",
    "\n",
    "for index, row in df3.iterrows():\n",
    "    try:\n",
    "        df3['last_funding_date'][index]=pd.to_datetime(row['last_funding_date'], format='%b/%Y')\n",
    "    except: df3['last_funding_date'][index]=pd.to_datetime(row['last_funding_date'], format='%Y')"
   ]
  },
  {
   "attachments": {},
   "cell_type": "markdown",
   "metadata": {},
   "source": [
    "Las instancias cuya fecha de financiación sea 1900/1/1 no tienen rondas de financiación y las rellenamos con el valor \"sin ronda\"."
   ]
  },
  {
   "cell_type": "code",
   "execution_count": 76,
   "metadata": {},
   "outputs": [],
   "source": [
    "df3.loc[df3['first_funding_date'] == dt.datetime(1900,1,1), 'last_round'] = df3[df3['first_funding_date'] == dt.datetime(1900,1,1)]['last_round'].fillna(\"sin ronda\")"
   ]
  },
  {
   "cell_type": "code",
   "execution_count": 77,
   "metadata": {},
   "outputs": [
    {
     "data": {
      "text/plain": [
       "0.0"
      ]
     },
     "execution_count": 77,
     "metadata": {},
     "output_type": "execute_result"
    }
   ],
   "source": [
    "df3[df3['total_rounds']==0]['total_funding'].mean() # teniendo en cuenta esto, los missing de total funding son datos que no se han recogido"
   ]
  },
  {
   "attachments": {},
   "cell_type": "markdown",
   "metadata": {},
   "source": [
    "En las instancias donde total_funding es 0, el valor de la columna last_funding también es 0.\n"
   ]
  },
  {
   "attachments": {},
   "cell_type": "markdown",
   "metadata": {},
   "source": [
    "Todas las empresas que tienen total_funding=0 son las que tampoco tienen ronda de financiación."
   ]
  },
  {
   "cell_type": "code",
   "execution_count": 78,
   "metadata": {},
   "outputs": [],
   "source": [
    "df3[df3['total_funding']==0].shape \n",
    "df3.loc[df3['total_funding'] == 0, 'last_funding'] = df3[df3['total_funding'] == 0]['last_funding'].fillna(0)"
   ]
  },
  {
   "cell_type": "markdown",
   "metadata": {},
   "source": [
    "------------------------------------------------------------------------------------------------------------------------------------------"
   ]
  },
  {
   "attachments": {},
   "cell_type": "markdown",
   "metadata": {},
   "source": [
    "## ANÁLISIS DE LA VARIABLE DEL NÚMERO DE EMPLEADOS **después de agrupar**"
   ]
  },
  {
   "cell_type": "code",
   "execution_count": 79,
   "metadata": {},
   "outputs": [
    {
     "data": {
      "text/html": [
       "<div>\n",
       "<style scoped>\n",
       "    .dataframe tbody tr th:only-of-type {\n",
       "        vertical-align: middle;\n",
       "    }\n",
       "\n",
       "    .dataframe tbody tr th {\n",
       "        vertical-align: top;\n",
       "    }\n",
       "\n",
       "    .dataframe thead th {\n",
       "        text-align: right;\n",
       "    }\n",
       "</style>\n",
       "<table border=\"1\" class=\"dataframe\">\n",
       "  <thead>\n",
       "    <tr style=\"text-align: right;\">\n",
       "      <th></th>\n",
       "      <th>Codigo_NIF</th>\n",
       "      <th>2020.0</th>\n",
       "      <th>2021.0</th>\n",
       "      <th>n_empleados_dealroom</th>\n",
       "    </tr>\n",
       "  </thead>\n",
       "  <tbody>\n",
       "    <tr>\n",
       "      <th>0</th>\n",
       "      <td>A48464788</td>\n",
       "      <td>61.0</td>\n",
       "      <td>69.0</td>\n",
       "      <td>46.0</td>\n",
       "    </tr>\n",
       "    <tr>\n",
       "      <th>1</th>\n",
       "      <td>A48500052</td>\n",
       "      <td>6.0</td>\n",
       "      <td>6.0</td>\n",
       "      <td>NaN</td>\n",
       "    </tr>\n",
       "    <tr>\n",
       "      <th>2</th>\n",
       "      <td>A78053147</td>\n",
       "      <td>968.0</td>\n",
       "      <td>919.0</td>\n",
       "      <td>NaN</td>\n",
       "    </tr>\n",
       "    <tr>\n",
       "      <th>3</th>\n",
       "      <td>A95291613</td>\n",
       "      <td>34.0</td>\n",
       "      <td>32.0</td>\n",
       "      <td>52.0</td>\n",
       "    </tr>\n",
       "    <tr>\n",
       "      <th>4</th>\n",
       "      <td>A95363859</td>\n",
       "      <td>51.0</td>\n",
       "      <td>61.0</td>\n",
       "      <td>246.0</td>\n",
       "    </tr>\n",
       "  </tbody>\n",
       "</table>\n",
       "</div>"
      ],
      "text/plain": [
       "  Codigo_NIF  2020.0  2021.0  n_empleados_dealroom\n",
       "0  A48464788    61.0    69.0                  46.0\n",
       "1  A48500052     6.0     6.0                   NaN\n",
       "2  A78053147   968.0   919.0                   NaN\n",
       "3  A95291613    34.0    32.0                  52.0\n",
       "4  A95363859    51.0    61.0                 246.0"
      ]
     },
     "execution_count": 79,
     "metadata": {},
     "output_type": "execute_result"
    }
   ],
   "source": [
    "emp_años = df2.pivot(index='Codigo_NIF', columns='year', values='Número empleados').reset_index()\n",
    "empleados = pd.merge(emp_años, df3[['Codigo_NIF', 'n_empleados_dealroom']], on='Codigo_NIF')\n",
    "empleados.head()"
   ]
  },
  {
   "cell_type": "code",
   "execution_count": 80,
   "metadata": {},
   "outputs": [
    {
     "name": "stdout",
     "output_type": "stream",
     "text": [
      "26 instancias que tienen missings en las columnas del número de empleados de 2020, 2021 y dealroom.\n",
      "8 instancias que se pueden cruzar entre 2020 y 2021.\n",
      "5 instancias que se pueden cruzar entre 2021 y dealroom.\n"
     ]
    }
   ],
   "source": [
    "x  = len(empleados[(empleados[2020].isna()) & (empleados[2021].isna()) & (empleados['n_empleados_dealroom'].isna())]) \n",
    "print(f'{x} instancias que tienen missings en las columnas del número de empleados de 2020, 2021 y dealroom.')\n",
    "\n",
    "z  = len(empleados[~(empleados[2020].isna()) & (empleados[2021].isna())]) \n",
    "print(f'{z} instancias que se pueden cruzar entre 2020 y 2021.')\n",
    "\n",
    "y = len(empleados[~(empleados['n_empleados_dealroom'].isna()) & (empleados[2021].isna())])\n",
    "print(f'{y} instancias que se pueden cruzar entre 2021 y dealroom.')"
   ]
  },
  {
   "attachments": {},
   "cell_type": "markdown",
   "metadata": {},
   "source": [
    "Aunque se puedan cruzar los datos, no se garantiza que tengan mucha fiablidad puesto que las correlaciones entre los datos de SABI y _Dealroom_ no son muy elevadas."
   ]
  },
  {
   "cell_type": "code",
   "execution_count": 81,
   "metadata": {},
   "outputs": [
    {
     "data": {
      "text/html": [
       "<div>\n",
       "<style scoped>\n",
       "    .dataframe tbody tr th:only-of-type {\n",
       "        vertical-align: middle;\n",
       "    }\n",
       "\n",
       "    .dataframe tbody tr th {\n",
       "        vertical-align: top;\n",
       "    }\n",
       "\n",
       "    .dataframe thead th {\n",
       "        text-align: right;\n",
       "    }\n",
       "</style>\n",
       "<table border=\"1\" class=\"dataframe\">\n",
       "  <thead>\n",
       "    <tr style=\"text-align: right;\">\n",
       "      <th></th>\n",
       "      <th>2020.0</th>\n",
       "      <th>2021.0</th>\n",
       "      <th>n_empleados_dealroom</th>\n",
       "    </tr>\n",
       "  </thead>\n",
       "  <tbody>\n",
       "    <tr>\n",
       "      <th>2020.0</th>\n",
       "      <td>1.000000</td>\n",
       "      <td>0.990929</td>\n",
       "      <td>0.595516</td>\n",
       "    </tr>\n",
       "    <tr>\n",
       "      <th>2021.0</th>\n",
       "      <td>0.990929</td>\n",
       "      <td>1.000000</td>\n",
       "      <td>0.564381</td>\n",
       "    </tr>\n",
       "    <tr>\n",
       "      <th>n_empleados_dealroom</th>\n",
       "      <td>0.595516</td>\n",
       "      <td>0.564381</td>\n",
       "      <td>1.000000</td>\n",
       "    </tr>\n",
       "  </tbody>\n",
       "</table>\n",
       "</div>"
      ],
      "text/plain": [
       "                        2020.0    2021.0  n_empleados_dealroom\n",
       "2020.0                1.000000  0.990929              0.595516\n",
       "2021.0                0.990929  1.000000              0.564381\n",
       "n_empleados_dealroom  0.595516  0.564381              1.000000"
      ]
     },
     "execution_count": 81,
     "metadata": {},
     "output_type": "execute_result"
    }
   ],
   "source": [
    "empleados.corr()"
   ]
  },
  {
   "attachments": {},
   "cell_type": "markdown",
   "metadata": {},
   "source": [
    "------------------------------------------------"
   ]
  },
  {
   "attachments": {},
   "cell_type": "markdown",
   "metadata": {},
   "source": [
    "# AGRUPAR _DATAFRAMES_"
   ]
  },
  {
   "attachments": {},
   "cell_type": "markdown",
   "metadata": {},
   "source": [
    "### Agrupación y selección de la variable del número de empleados"
   ]
  },
  {
   "cell_type": "code",
   "execution_count": 82,
   "metadata": {},
   "outputs": [
    {
     "name": "stdout",
     "output_type": "stream",
     "text": [
      "(412, 13)\n",
      "(815, 76)\n",
      "(412, 18)\n"
     ]
    }
   ],
   "source": [
    "print(df1.shape)\n",
    "print(df2.shape)\n",
    "print(df3.shape)"
   ]
  },
  {
   "cell_type": "code",
   "execution_count": 83,
   "metadata": {},
   "outputs": [
    {
     "name": "stdout",
     "output_type": "stream",
     "text": [
      "(815, 73)\n"
     ]
    }
   ],
   "source": [
    "dftot = df1.merge(df3, on=\"Codigo_NIF\", how=\"outer\")\n",
    "dftot = dftot.merge(df2_final, on=\"Codigo_NIF\", how=\"outer\")\n",
    "print(dftot.shape)"
   ]
  },
  {
   "cell_type": "code",
   "execution_count": 84,
   "metadata": {},
   "outputs": [
    {
     "data": {
      "text/plain": [
       "valuation_2022                           0.852761\n",
       "n_empleados_dealroom                     0.738650\n",
       "Existencias mil EUR                      0.521472\n",
       "Rotación de las existencias %            0.521472\n",
       "Deudas financieras mil EUR               0.479755\n",
       "                                           ...   \n",
       "Nombre_sabi                              0.000000\n",
       "Pasivo líquido mil EUR                   0.000000\n",
       "Total pasivo y capital propio mil EUR    0.000000\n",
       "Resultado Explotación mil EUR            0.000000\n",
       "Pasivo fijo mil EUR                      0.000000\n",
       "Length: 73, dtype: float64"
      ]
     },
     "execution_count": 84,
     "metadata": {},
     "output_type": "execute_result"
    }
   ],
   "source": [
    "dftot.isna().mean().sort_values(ascending=False)"
   ]
  },
  {
   "cell_type": "code",
   "execution_count": 85,
   "metadata": {},
   "outputs": [],
   "source": [
    "# Hay dos columnas con el numero de empleados así que nos quedamos con el que menos missings tenga, en este caso la denominada n_empleados (la del SABI)\n",
    "dftot = dftot.drop(columns=\"n_empleados_dealroom\")"
   ]
  },
  {
   "attachments": {},
   "cell_type": "markdown",
   "metadata": {},
   "source": [
    "## ANÁLISIS DE LA VARIABLE DEL NÚMERO DE EMPLEADOS"
   ]
  },
  {
   "cell_type": "code",
   "execution_count": 86,
   "metadata": {},
   "outputs": [
    {
     "name": "stdout",
     "output_type": "stream",
     "text": [
      "growth_stage\n",
      "early growth    20.866379\n",
      "late growth     44.894737\n",
      "seed             5.943052\n",
      "Name: Número empleados, dtype: float64\n"
     ]
    }
   ],
   "source": [
    "# Tengo una variable \"n_empleados\"\n",
    "# Y una variable \"growth_stage\"\n",
    "# Quiero imputar la columna \"n_empleados\" según la media de la columna \"n_empleados\" de las empresas que estén en el mismo \"growth_stage\"\n",
    "\n",
    "# Media de empleados por growth_stage\n",
    "print(dftot.groupby('growth_stage')['Número empleados'].mean())\n",
    "\n",
    "dftot['Número empleados'] = dftot.groupby('growth_stage')['Número empleados'].transform(lambda x: x.fillna(x.mean()))\n",
    "\n",
    "# Se pone el Codigo_NIF como índice\n",
    "dftot.set_index('Codigo_NIF', inplace=True)"
   ]
  },
  {
   "cell_type": "code",
   "execution_count": 87,
   "metadata": {},
   "outputs": [
    {
     "data": {
      "text/plain": [
       "2"
      ]
     },
     "execution_count": 87,
     "metadata": {},
     "output_type": "execute_result"
    }
   ],
   "source": [
    "dftot['Número empleados'].isna().sum()"
   ]
  },
  {
   "cell_type": "code",
   "execution_count": 88,
   "metadata": {},
   "outputs": [
    {
     "data": {
      "text/html": [
       "<div>\n",
       "<style scoped>\n",
       "    .dataframe tbody tr th:only-of-type {\n",
       "        vertical-align: middle;\n",
       "    }\n",
       "\n",
       "    .dataframe tbody tr th {\n",
       "        vertical-align: top;\n",
       "    }\n",
       "\n",
       "    .dataframe thead th {\n",
       "        text-align: right;\n",
       "    }\n",
       "</style>\n",
       "<table border=\"1\" class=\"dataframe\">\n",
       "  <thead>\n",
       "    <tr style=\"text-align: right;\">\n",
       "      <th></th>\n",
       "      <th>Nombre_sabi</th>\n",
       "      <th>Localidad</th>\n",
       "      <th>Fecha constitucion</th>\n",
       "      <th>Codigo consolidacion</th>\n",
       "      <th>Codigo primario CNAE 2009</th>\n",
       "      <th>Forma juridica</th>\n",
       "      <th>Forma juridica detallada</th>\n",
       "      <th>Estado</th>\n",
       "      <th>Estado detallado</th>\n",
       "      <th>Capital social mil EUR</th>\n",
       "      <th>...</th>\n",
       "      <th>Ratios de autonomía financiera a medio y largo plazo %</th>\n",
       "      <th>EBITDA mil EUR</th>\n",
       "      <th>EBIT mil EUR</th>\n",
       "      <th>Fondo de maniobra mil EUR</th>\n",
       "      <th>Impuestos sobre sociedades mil EUR</th>\n",
       "      <th>Dotaciones para amortiz. de inmovil. mil EUR</th>\n",
       "      <th>Deudas financieras mil EUR</th>\n",
       "      <th>Importe neto Cifra de Ventas mil EUR</th>\n",
       "      <th>Existencias mil EUR</th>\n",
       "      <th>Acreedores comerciales mil EUR</th>\n",
       "    </tr>\n",
       "    <tr>\n",
       "      <th>Codigo_NIF</th>\n",
       "      <th></th>\n",
       "      <th></th>\n",
       "      <th></th>\n",
       "      <th></th>\n",
       "      <th></th>\n",
       "      <th></th>\n",
       "      <th></th>\n",
       "      <th></th>\n",
       "      <th></th>\n",
       "      <th></th>\n",
       "      <th></th>\n",
       "      <th></th>\n",
       "      <th></th>\n",
       "      <th></th>\n",
       "      <th></th>\n",
       "      <th></th>\n",
       "      <th></th>\n",
       "      <th></th>\n",
       "      <th></th>\n",
       "      <th></th>\n",
       "      <th></th>\n",
       "    </tr>\n",
       "  </thead>\n",
       "  <tbody>\n",
       "    <tr>\n",
       "      <th>B95285292</th>\n",
       "      <td>LORKE SYSTEMS SL</td>\n",
       "      <td>VITORIA-GASTEIZ</td>\n",
       "      <td>2003-10-30</td>\n",
       "      <td>U1</td>\n",
       "      <td>4673</td>\n",
       "      <td>Sociedad limitada</td>\n",
       "      <td>Sociedad limitada</td>\n",
       "      <td>Activa</td>\n",
       "      <td>Activa</td>\n",
       "      <td>3.01</td>\n",
       "      <td>...</td>\n",
       "      <td>1.009</td>\n",
       "      <td>27.99325</td>\n",
       "      <td>17.55355</td>\n",
       "      <td>133.84537</td>\n",
       "      <td>2.79427</td>\n",
       "      <td>10.43970</td>\n",
       "      <td>NaN</td>\n",
       "      <td>943.58985</td>\n",
       "      <td>NaN</td>\n",
       "      <td>255.01936</td>\n",
       "    </tr>\n",
       "    <tr>\n",
       "      <th>B95285292</th>\n",
       "      <td>LORKE SYSTEMS SL</td>\n",
       "      <td>VITORIA-GASTEIZ</td>\n",
       "      <td>2003-10-30</td>\n",
       "      <td>U1</td>\n",
       "      <td>4673</td>\n",
       "      <td>Sociedad limitada</td>\n",
       "      <td>Sociedad limitada</td>\n",
       "      <td>Activa</td>\n",
       "      <td>Activa</td>\n",
       "      <td>3.01</td>\n",
       "      <td>...</td>\n",
       "      <td>0.773</td>\n",
       "      <td>23.94066</td>\n",
       "      <td>13.43074</td>\n",
       "      <td>121.34612</td>\n",
       "      <td>1.79337</td>\n",
       "      <td>10.50992</td>\n",
       "      <td>NaN</td>\n",
       "      <td>666.43190</td>\n",
       "      <td>NaN</td>\n",
       "      <td>84.12117</td>\n",
       "    </tr>\n",
       "  </tbody>\n",
       "</table>\n",
       "<p>2 rows × 71 columns</p>\n",
       "</div>"
      ],
      "text/plain": [
       "                 Nombre_sabi        Localidad Fecha constitucion  \\\n",
       "Codigo_NIF                                                         \n",
       "B95285292   LORKE SYSTEMS SL  VITORIA-GASTEIZ         2003-10-30   \n",
       "B95285292   LORKE SYSTEMS SL  VITORIA-GASTEIZ         2003-10-30   \n",
       "\n",
       "           Codigo consolidacion  Codigo primario CNAE 2009     Forma juridica  \\\n",
       "Codigo_NIF                                                                      \n",
       "B95285292                    U1                       4673  Sociedad limitada   \n",
       "B95285292                    U1                       4673  Sociedad limitada   \n",
       "\n",
       "           Forma juridica detallada  Estado Estado detallado  \\\n",
       "Codigo_NIF                                                     \n",
       "B95285292         Sociedad limitada  Activa           Activa   \n",
       "B95285292         Sociedad limitada  Activa           Activa   \n",
       "\n",
       "            Capital social mil EUR  ...  \\\n",
       "Codigo_NIF                          ...   \n",
       "B95285292                     3.01  ...   \n",
       "B95285292                     3.01  ...   \n",
       "\n",
       "            Ratios de autonomía financiera a medio y largo plazo %  \\\n",
       "Codigo_NIF                                                           \n",
       "B95285292                                               1.009        \n",
       "B95285292                                               0.773        \n",
       "\n",
       "            EBITDA mil EUR EBIT mil EUR Fondo de maniobra mil EUR  \\\n",
       "Codigo_NIF                                                          \n",
       "B95285292         27.99325     17.55355                 133.84537   \n",
       "B95285292         23.94066     13.43074                 121.34612   \n",
       "\n",
       "           Impuestos sobre sociedades mil EUR  \\\n",
       "Codigo_NIF                                      \n",
       "B95285292                             2.79427   \n",
       "B95285292                             1.79337   \n",
       "\n",
       "           Dotaciones para amortiz. de inmovil. mil EUR  \\\n",
       "Codigo_NIF                                                \n",
       "B95285292                                      10.43970   \n",
       "B95285292                                      10.50992   \n",
       "\n",
       "            Deudas financieras mil EUR Importe neto Cifra de Ventas mil EUR  \\\n",
       "Codigo_NIF                                                                    \n",
       "B95285292                          NaN                            943.58985   \n",
       "B95285292                          NaN                            666.43190   \n",
       "\n",
       "           Existencias mil EUR  Acreedores comerciales mil EUR  \n",
       "Codigo_NIF                                                      \n",
       "B95285292                  NaN                       255.01936  \n",
       "B95285292                  NaN                        84.12117  \n",
       "\n",
       "[2 rows x 71 columns]"
      ]
     },
     "execution_count": 88,
     "metadata": {},
     "output_type": "execute_result"
    }
   ],
   "source": [
    "dftot[dftot['Número empleados'].isna()]"
   ]
  },
  {
   "cell_type": "code",
   "execution_count": 89,
   "metadata": {},
   "outputs": [],
   "source": [
    "# En Linkedin indican que tienen entre 11 y 50 empleados, de modo que se imputa con 30\n",
    "dftot.loc[dftot['Número empleados'].isna(), 'Número empleados'] = 30"
   ]
  },
  {
   "cell_type": "code",
   "execution_count": 90,
   "metadata": {},
   "outputs": [
    {
     "data": {
      "text/plain": [
       "0"
      ]
     },
     "execution_count": 90,
     "metadata": {},
     "output_type": "execute_result"
    }
   ],
   "source": [
    "dftot['Número empleados'].isna().sum() # no quedan missings en el número de empleados"
   ]
  },
  {
   "cell_type": "code",
   "execution_count": 91,
   "metadata": {},
   "outputs": [],
   "source": [
    "dftot = dftot.loc[:,~dftot.columns.duplicated()]"
   ]
  },
  {
   "cell_type": "code",
   "execution_count": 92,
   "metadata": {},
   "outputs": [],
   "source": [
    "dftot.to_csv(\"./Datos/Limpios/para_outliers.csv\", index=False)"
   ]
  },
  {
   "attachments": {},
   "cell_type": "markdown",
   "metadata": {},
   "source": [
    "# OUTLIERS"
   ]
  },
  {
   "cell_type": "code",
   "execution_count": null,
   "metadata": {},
   "outputs": [],
   "source": []
  },
  {
   "attachments": {},
   "cell_type": "markdown",
   "metadata": {},
   "source": [
    "# CREACIÓN DE VARIABLES"
   ]
  },
  {
   "cell_type": "code",
   "execution_count": 93,
   "metadata": {},
   "outputs": [],
   "source": [
    "# RATIOS FINANCIEROS ADICIONALES\n",
    "\n",
    "# Ratios con la deuda\n",
    "dftot['ratio_deuda_ebitda'] = dftot['Deudas financieras mil EUR'] / dftot['EBITDA mil EUR']\n",
    "dftot['ratio_deuda_activos'] = dftot['Deudas financieras mil EUR'] / dftot['Total activo mil EUR']\n",
    "dftot['ratio_deuda_patrimonio'] = dftot['Deudas financieras mil EUR'] / dftot['Fondos propios mil EUR']\n",
    "\n",
    "# Ratios con el EBITDA\n",
    "dftot['ratio_ebitda_activos'] = dftot['EBITDA mil EUR'] / dftot['Total activo mil EUR']\n",
    "dftot['ratio_ebitda_patrimonio'] = dftot['EBITDA mil EUR'] / dftot['Fondos propios mil EUR']\n",
    "\n",
    "# Ratios con las ventas\n",
    "dftot['ratio_ventas_ebitda'] = dftot['Importe neto Cifra de Ventas mil EUR'] / dftot['EBITDA mil EUR']\n",
    "dftot['ratio_ventas_activos'] = dftot['Importe neto Cifra de Ventas mil EUR'] / dftot['Total activo mil EUR']\n",
    "dftot['ratio_ventas_patrimonio'] = dftot['Importe neto Cifra de Ventas mil EUR'] / dftot['Fondos propios mil EUR']\n",
    "\n",
    "# Prueba ácida: medida más afinada de la capacidad que tiene una empresa para afrontar sus deudas a corto con elementos de activo, puesto que resta de estos elementos los que forman parte del inventario.\n",
    "dftot['ratio_prueba_acida'] = (dftot['Activo circulante mil EUR'] - dftot['Existencias mil EUR']) / dftot['Pasivo líquido mil EUR']\n",
    "\n",
    "# Periodo promedio de cobro = (Cuentas por cobrar * días del año) / Ventas anuales en cuenta corriente\n",
    "dftot['ratio_periodo_prom_cobro'] = (dftot['Acreedores comerciales mil EUR'] * 365) / dftot['Importe neto Cifra de Ventas mil EUR']"
   ]
  },
  {
   "cell_type": "code",
   "execution_count": 94,
   "metadata": {},
   "outputs": [],
   "source": [
    "# CREACIÓN DE VARIABLES TEMPORALES\n",
    "\n",
    "# Número de días operando\n",
    "dftot['dias_operando'] = dt.datetime.now() - dftot['Fecha constitucion']\n",
    "\n",
    "# Diferencia entre la fecha actual y la fecha de la última financiación\n",
    "dftot['dias_desde_ult_round'] = dt.datetime.now() - dftot['last_funding_date']\n",
    "\n",
    "# Se convierten las variables temporales a días y a numéricas para poder emplearlas para el modelado\n",
    "dftot['dias_operando'] = dftot['dias_operando'].dt.days.astype('int')\n",
    "dftot['dias_desde_ult_round'] = dftot['dias_desde_ult_round'].dt.days.astype('int')"
   ]
  },
  {
   "attachments": {},
   "cell_type": "markdown",
   "metadata": {},
   "source": [
    "# IMPUTACIONES"
   ]
  },
  {
   "attachments": {},
   "cell_type": "markdown",
   "metadata": {},
   "source": [
    "1 - Resultados: 'Resultado Explotación mil EUR', 'Resultado financiero mil EUR', 'Resultado del Ejercicio mil EUR', 'Impuestos sobre sociedades mil EUR', 'Deudas financieras mil EUR', 'Importe neto Cifra de Ventas mil EUR', 'Margen de beneficio (%) %'\n",
    "\n",
    "2- Ratios de rentabilidad: 'Rentabilidad económica (%) %', 'Rentabilidad financiera (%) %', 'Rentabilidad sobre capital empleado (%) %', 'Rentabilidad sobre el activo total (%) %', 'Rentabilidad sobre recursos propios (%) %'\n",
    "\n",
    "3- Recursos y balance: 'Inmovilizado mil EUR', 'Dotaciones para amortiz. de inmovil. mil EUR', 'Activo circulante mil EUR', 'Total activo mil EUR', 'Fondos propios mil EUR', 'Pasivo fijo mil EUR', 'Pasivo líquido mil EUR', 'Total pasivo y capital propio mil EUR', 'Valor agregado mil EUR', 'Costes de los trabajadores / Ingresos de explotación (%) %', 'Existencias mil EUR', 'Acreedores comerciales mil EUR', 'Fondo de maniobra mil EUR'\n",
    "\n",
    "4- Liquidez: 'Tesorería mil EUR', 'Cash flow mil EUR', 'Período de cobro (días) días', 'Liquidez general %', 'Ratio de liquidez %', 'Ratio de solvencia %', 'Coeficiente de solvencia (%) %', 'Ratio de cobertura de intereses %'\n",
    "\n",
    "5- Rotación de activos: 'Rotación de activos netos %', 'Rotación de las existencias %', 'ratio_rotacion_activo_fijo', 'ratio_ventas_activos', 'ratio_ventas_ebitda', 'ratio_ventas_patrimonio', 'ratio_periodo_prom_cobro', 'ratio_prueba_acida', 'ratio_deuda_activos'\n",
    "\n",
    "6- Apalancamiento: 'ratio_deuda_ebitda', 'ratio_deuda_patrimonio', 'ratio_ebitda_activos', 'ratio_ebitda_patrimonio', 'Apalancamiento (%) %', 'Endeudamiento (%) %', 'Ratios de autonomía financiera a medio y largo plazo %'"
   ]
  },
  {
   "cell_type": "code",
   "execution_count": 95,
   "metadata": {},
   "outputs": [],
   "source": [
    "df_numericos = dftot.select_dtypes(include=['float64', 'int64'])\n",
    "df_numericos.columns\n",
    "df_numericos=df_numericos.drop(columns=['Codigo primario CNAE 2009', 'valuation_2022', 'year'])"
   ]
  },
  {
   "cell_type": "code",
   "execution_count": 96,
   "metadata": {},
   "outputs": [],
   "source": [
    "vars_resultados=df_numericos[['Resultado Explotación mil EUR', 'Resultado financiero mil EUR', 'Resultado del Ejercicio mil EUR', 'Impuestos sobre sociedades mil EUR', 'Deudas financieras mil EUR', 'Importe neto Cifra de Ventas mil EUR', 'Margen de beneficio (%) %']].columns\n",
    "\n",
    "vars_rentabilidad=df_numericos[['Rentabilidad económica (%) %', 'Rentabilidad financiera (%) %', 'Rentabilidad sobre capital empleado (%) %', 'Rentabilidad sobre el activo total (%) %', 'Rentabilidad sobre recursos propios (%) %', 'Margen de beneficio (%) %']].columns\n",
    "\n",
    "vars_recursos=df_numericos[['Inmovilizado mil EUR', 'Dotaciones para amortiz. de inmovil. mil EUR', 'Activo circulante mil EUR', 'Total activo mil EUR', 'Fondos propios mil EUR', 'Pasivo fijo mil EUR', 'Pasivo líquido mil EUR', 'Total pasivo y capital propio mil EUR', 'Valor agregado mil EUR', 'Costes de los trabajadores / Ingresos de explotación (%) %', 'Existencias mil EUR', 'Acreedores comerciales mil EUR', 'Fondo de maniobra mil EUR']].columns\n",
    "\n",
    "vars_liquidos=df_numericos[['Tesorería mil EUR', 'Cash flow mil EUR', 'Período de cobro (días) días', 'Liquidez general %', 'Ratio de liquidez %', 'Ratio de solvencia %', 'Coeficiente de solvencia (%) %', 'Ratio de cobertura de intereses %']].columns\n",
    "\n",
    "vars_rotacion_activos=df_numericos[['Rotación de activos netos %', 'Rotación de las existencias %',  'ratio_ventas_activos', 'ratio_ventas_ebitda', 'ratio_ventas_patrimonio', 'ratio_periodo_prom_cobro', 'ratio_prueba_acida', 'ratio_deuda_activos']].columns\n",
    "\n",
    "vars_apalancamiento=df_numericos[['ratio_deuda_ebitda', 'ratio_deuda_patrimonio', 'ratio_ebitda_activos', 'ratio_ebitda_patrimonio', 'Apalancamiento (%) %', 'Endeudamiento (%) %', 'Ratios de autonomía financiera a medio y largo plazo %']].columns"
   ]
  },
  {
   "cell_type": "code",
   "execution_count": 97,
   "metadata": {},
   "outputs": [],
   "source": [
    "imputer = KNNImputer(n_neighbors=10, weights='distance')\n",
    "# 10 vecinos y ponderación por distancia para evitar una desmedida influencia de posibles outliers\n",
    "\n",
    "dftot[vars_resultados] = imputer.fit_transform(dftot[vars_resultados])\n",
    "dftot[vars_rentabilidad] = imputer.fit_transform(dftot[vars_rentabilidad])\n",
    "dftot[vars_recursos] = imputer.fit_transform(dftot[vars_recursos])\n",
    "dftot[vars_liquidos] = imputer.fit_transform(dftot[vars_liquidos])\n",
    "dftot[vars_rotacion_activos] = imputer.fit_transform(dftot[vars_rotacion_activos])\n",
    "dftot[vars_apalancamiento] = imputer.fit_transform(dftot[vars_apalancamiento])"
   ]
  },
  {
   "cell_type": "code",
   "execution_count": 98,
   "metadata": {},
   "outputs": [
    {
     "data": {
      "text/plain": [
       "Index(['tagline', 'total_funding', 'last_funding', 'last_round', 'ownerships',\n",
       "       'b2b_b2c', 'revenue_models', 'growth_stage'],\n",
       "      dtype='object')"
      ]
     },
     "execution_count": 98,
     "metadata": {},
     "output_type": "execute_result"
    }
   ],
   "source": [
    "# Variables donde aún quedan missings tras la imputación\n",
    "vars_miss = dftot.columns[dftot.isna().any()]\n",
    "\n",
    "# La target valuation_2022 de momento no se imputa, ya que es la variable que se quiere predecir\n",
    "vars_miss = vars_miss.drop('valuation_2022')\n",
    "\n",
    "vars_miss"
   ]
  },
  {
   "cell_type": "code",
   "execution_count": 99,
   "metadata": {},
   "outputs": [],
   "source": [
    "# Variables continuas a imputar\n",
    "vars_miss_cont = dftot[vars_miss].select_dtypes(include=['float64', 'int64']).columns\n",
    "\n",
    "# Variables categóricas a imputar\n",
    "vars_miss_obj = dftot[vars_miss].select_dtypes(include=['object']).columns"
   ]
  },
  {
   "cell_type": "code",
   "execution_count": 100,
   "metadata": {},
   "outputs": [],
   "source": [
    "# Imputación de las variables continuas mediante KNN (mismo método que para las variables financieras)\n",
    "dftot[vars_miss_cont] = imputer.fit_transform(dftot[vars_miss_cont])"
   ]
  },
  {
   "cell_type": "code",
   "execution_count": 101,
   "metadata": {},
   "outputs": [
    {
     "data": {
      "text/plain": [
       "0        0.00\n",
       "1         NaN\n",
       "2        0.00\n",
       "3      100.00\n",
       "4       27.27\n",
       "        ...  \n",
       "407       NaN\n",
       "408       NaN\n",
       "409      0.03\n",
       "410      0.00\n",
       "411      0.02\n",
       "Name: last_funding, Length: 412, dtype: float64"
      ]
     },
     "execution_count": 101,
     "metadata": {},
     "output_type": "execute_result"
    }
   ],
   "source": [
    "df3['last_funding']"
   ]
  },
  {
   "cell_type": "code",
   "execution_count": 102,
   "metadata": {},
   "outputs": [
    {
     "data": {
      "text/plain": [
       "Codigo_NIF\n",
       "A78053147    0.000000\n",
       "A78053147    0.000000\n",
       "B75103515    0.728037\n",
       "B75103515    0.728037\n",
       "B95864310    0.000000\n",
       "               ...   \n",
       "B01563881    0.030000\n",
       "B01563881    0.030000\n",
       "B95626842    0.000000\n",
       "B95626842    0.000000\n",
       "B95992509    0.020000\n",
       "Name: last_funding, Length: 815, dtype: float64"
      ]
     },
     "execution_count": 102,
     "metadata": {},
     "output_type": "execute_result"
    }
   ],
   "source": [
    "dftot['last_funding']"
   ]
  },
  {
   "cell_type": "code",
   "execution_count": 103,
   "metadata": {},
   "outputs": [
    {
     "data": {
      "text/plain": [
       "total_funding    0\n",
       "last_funding     0\n",
       "dtype: int64"
      ]
     },
     "execution_count": 103,
     "metadata": {},
     "output_type": "execute_result"
    }
   ],
   "source": [
    "dftot[vars_miss_cont].isna().sum()"
   ]
  },
  {
   "cell_type": "code",
   "execution_count": 104,
   "metadata": {},
   "outputs": [],
   "source": [
    "from sklearn.ensemble import RandomForestClassifier, GradientBoostingClassifier\n",
    "from sklearn.model_selection import train_test_split\n",
    "\n",
    "def mejor_imputador_clasif(variable):\n",
    "\n",
    "    # Prepare the data\n",
    "    df_pr = dftot.drop(columns='valuation_2022')\n",
    "\n",
    "    # Como es solo para evaluar y no para imputar, se quitan las instancias con missings para ver qué tal imputa las que sí sabemos\n",
    "    df_pr = df_pr.dropna()\n",
    "    \n",
    "    X = df_pr.drop(columns=vars_miss_obj, axis=1)\n",
    "    X = X.select_dtypes(include=['float64', 'int64'])\n",
    "    y = df_pr[variable]\n",
    "\n",
    "    # Split the data into training and testing sets\n",
    "    X_train, X_test, y_train, y_test = train_test_split(X, y, test_size=0.2, random_state=42)\n",
    "\n",
    "    # Define the models\n",
    "    rf_model = RandomForestClassifier(random_state=42)\n",
    "    gb_model = GradientBoostingClassifier(random_state=42)\n",
    "\n",
    "    # Fit the models on the training data\n",
    "    rf_model.fit(X_train, y_train)\n",
    "    gb_model.fit(X_train, y_train)\n",
    "\n",
    "    # Evaluate the models on the testing data\n",
    "    rf_score = rf_model.score(X_test, y_test)\n",
    "    gb_score = gb_model.score(X_test, y_test)\n",
    "\n",
    "    # Print the average scores and their standard deviations\n",
    "    print(f\"RandomForestClassifier para la variable {variable} tiene un accuracy de {rf_score:.4f}\")\n",
    "    print(f\"GradientBoostingClassifier para la variable {variable} tiene un accuracy de {gb_score:.4f}\")\n",
    "\n",
    "    # Select the best model\n",
    "    if rf_score >= gb_score:\n",
    "        mejor_modelo = rf_model\n",
    "    else:\n",
    "        mejor_modelo = gb_model\n",
    "\n",
    "    return mejor_modelo"
   ]
  },
  {
   "cell_type": "code",
   "execution_count": 105,
   "metadata": {},
   "outputs": [
    {
     "name": "stdout",
     "output_type": "stream",
     "text": [
      "RandomForestClassifier para la variable tagline tiene un accuracy de 0.4627\n",
      "GradientBoostingClassifier para la variable tagline tiene un accuracy de 0.1045\n",
      "Variable tagline imputada con el modelo RandomForestClassifier(random_state=42)\n",
      "\n",
      "\n",
      "RandomForestClassifier para la variable last_round tiene un accuracy de 0.6389\n",
      "GradientBoostingClassifier para la variable last_round tiene un accuracy de 0.7361\n",
      "Variable last_round imputada con el modelo GradientBoostingClassifier(random_state=42)\n",
      "\n",
      "\n",
      "RandomForestClassifier para la variable ownerships tiene un accuracy de 0.7308\n",
      "GradientBoostingClassifier para la variable ownerships tiene un accuracy de 0.8205\n",
      "Variable ownerships imputada con el modelo GradientBoostingClassifier(random_state=42)\n",
      "\n",
      "\n",
      "RandomForestClassifier para la variable b2b_b2c tiene un accuracy de 0.8090\n",
      "GradientBoostingClassifier para la variable b2b_b2c tiene un accuracy de 0.7978\n",
      "Variable b2b_b2c imputada con el modelo RandomForestClassifier(random_state=42)\n",
      "\n",
      "\n",
      "RandomForestClassifier para la variable revenue_models tiene un accuracy de 0.6889\n",
      "GradientBoostingClassifier para la variable revenue_models tiene un accuracy de 0.7000\n",
      "Variable revenue_models imputada con el modelo GradientBoostingClassifier(random_state=42)\n",
      "\n",
      "\n",
      "RandomForestClassifier para la variable growth_stage tiene un accuracy de 0.7423\n",
      "GradientBoostingClassifier para la variable growth_stage tiene un accuracy de 0.7791\n",
      "Variable growth_stage imputada con el modelo GradientBoostingClassifier(random_state=42)\n",
      "\n",
      "\n"
     ]
    }
   ],
   "source": [
    "# Imputar variables categóricas con mejor imputador para cada una\n",
    "\n",
    "from sklearn.impute import SimpleImputer\n",
    "\n",
    "for var in vars_miss_obj:\n",
    "    mejor_modelo = mejor_imputador_clasif(var)\n",
    "\n",
    "    num_vars = dftot.select_dtypes(include=['float64', 'int64']).columns\n",
    "\n",
    "    # Dividir el conjunto de datos en train y test\n",
    "    X_train = dftot[num_vars][~dftot[var].isna()]\n",
    "    y_train = dftot[var][~dftot[var].isna()]\n",
    "\n",
    "    X_test = dftot[num_vars][dftot[var].isna()]\n",
    "\n",
    "    # Imputar valores faltantes con SimpleImputer\n",
    "    imputer = SimpleImputer(strategy='median')\n",
    "    X_train = imputer.fit_transform(X_train)\n",
    "    X_test = imputer.transform(X_test)\n",
    "\n",
    "    # Entrenar el modelo\n",
    "    mejor_modelo.fit(X_train, y_train)\n",
    "\n",
    "    # Predecir valores faltantes en el conjunto de datos original\n",
    "    y_pred = mejor_modelo.predict(X_test)\n",
    "\n",
    "    dftot.loc[dftot[var].isna(), var] = y_pred\n",
    "\n",
    "    print(f\"Variable {var} imputada con el modelo {mejor_modelo}\")\n",
    "    print('\\n')"
   ]
  },
  {
   "cell_type": "code",
   "execution_count": 106,
   "metadata": {},
   "outputs": [
    {
     "data": {
      "text/plain": [
       "tagline           0\n",
       "last_round        0\n",
       "ownerships        0\n",
       "b2b_b2c           0\n",
       "revenue_models    0\n",
       "growth_stage      0\n",
       "dtype: int64"
      ]
     },
     "execution_count": 106,
     "metadata": {},
     "output_type": "execute_result"
    }
   ],
   "source": [
    "dftot[vars_miss_obj].isna().sum()"
   ]
  },
  {
   "cell_type": "code",
   "execution_count": 107,
   "metadata": {},
   "outputs": [
    {
     "data": {
      "text/plain": [
       "{'business': 634, 'consumer': 132, nan: 30, 'business;consumer': 28}"
      ]
     },
     "execution_count": 107,
     "metadata": {},
     "output_type": "execute_result"
    }
   ],
   "source": [
    "{k: v*2 for k, v in Counter(df3['b2b_b2c']).items()}"
   ]
  },
  {
   "cell_type": "code",
   "execution_count": 108,
   "metadata": {},
   "outputs": [
    {
     "data": {
      "text/plain": [
       "Counter({'business': 653, 'consumer': 134, 'business;consumer': 28})"
      ]
     },
     "execution_count": 108,
     "metadata": {},
     "output_type": "execute_result"
    }
   ],
   "source": [
    "Counter(dftot['b2b_b2c'])"
   ]
  },
  {
   "cell_type": "code",
   "execution_count": 109,
   "metadata": {},
   "outputs": [
    {
     "data": {
      "text/plain": [
       "Index(['valuation_2022'], dtype='object')"
      ]
     },
     "execution_count": 109,
     "metadata": {},
     "output_type": "execute_result"
    }
   ],
   "source": [
    "dftot.columns[dftot.isnull().any()] # no se rellena porque es la target para el modelo de regresión y hay que filtrar por instancias no nulas"
   ]
  },
  {
   "attachments": {},
   "cell_type": "markdown",
   "metadata": {},
   "source": [
    "# VISUALIZACIÓN DE _OUTLIERS_"
   ]
  },
  {
   "cell_type": "code",
   "execution_count": 110,
   "metadata": {},
   "outputs": [],
   "source": [
    "df_numeric_sinna = dftot.select_dtypes(include=['float64', 'int64'])\n",
    "df_numeric_sinna = df_numeric_sinna.drop(columns=['year', 'valuation_2022'])"
   ]
  },
  {
   "cell_type": "code",
   "execution_count": 111,
   "metadata": {},
   "outputs": [
    {
     "data": {
      "text/html": [
       "<div>\n",
       "<style scoped>\n",
       "    .dataframe tbody tr th:only-of-type {\n",
       "        vertical-align: middle;\n",
       "    }\n",
       "\n",
       "    .dataframe tbody tr th {\n",
       "        vertical-align: top;\n",
       "    }\n",
       "\n",
       "    .dataframe thead th {\n",
       "        text-align: right;\n",
       "    }\n",
       "</style>\n",
       "<table border=\"1\" class=\"dataframe\">\n",
       "  <thead>\n",
       "    <tr style=\"text-align: right;\">\n",
       "      <th></th>\n",
       "      <th>Codigo primario CNAE 2009</th>\n",
       "      <th>Capital social mil EUR</th>\n",
       "      <th>Free capital mil EUR</th>\n",
       "      <th>Porcentaje_adquisicion_cat</th>\n",
       "      <th>total_funding</th>\n",
       "      <th>last_funding</th>\n",
       "      <th>total_rounds</th>\n",
       "      <th>Número empleados</th>\n",
       "      <th>Inmovilizado mil EUR</th>\n",
       "      <th>Activo circulante mil EUR</th>\n",
       "      <th>...</th>\n",
       "      <th>ratio_deuda_ebitda</th>\n",
       "      <th>ratio_deuda_activos</th>\n",
       "      <th>ratio_deuda_patrimonio</th>\n",
       "      <th>ratio_ebitda_activos</th>\n",
       "      <th>ratio_ebitda_patrimonio</th>\n",
       "      <th>ratio_ventas_ebitda</th>\n",
       "      <th>ratio_ventas_activos</th>\n",
       "      <th>ratio_ventas_patrimonio</th>\n",
       "      <th>ratio_prueba_acida</th>\n",
       "      <th>ratio_periodo_prom_cobro</th>\n",
       "    </tr>\n",
       "  </thead>\n",
       "  <tbody>\n",
       "    <tr>\n",
       "      <th>min</th>\n",
       "      <td>124.0</td>\n",
       "      <td>3.0000</td>\n",
       "      <td>0.0000</td>\n",
       "      <td>0.0</td>\n",
       "      <td>0.00</td>\n",
       "      <td>0.000</td>\n",
       "      <td>0.0</td>\n",
       "      <td>1.000000</td>\n",
       "      <td>0.00000</td>\n",
       "      <td>0.000000e+00</td>\n",
       "      <td>...</td>\n",
       "      <td>-480.380811</td>\n",
       "      <td>5.243638e-07</td>\n",
       "      <td>-37.911782</td>\n",
       "      <td>-2.908746</td>\n",
       "      <td>-13.930711</td>\n",
       "      <td>-10111.813355</td>\n",
       "      <td>0.000050</td>\n",
       "      <td>-157.488985</td>\n",
       "      <td>0.000000</td>\n",
       "      <td>0.008934</td>\n",
       "    </tr>\n",
       "    <tr>\n",
       "      <th>max</th>\n",
       "      <td>9609.0</td>\n",
       "      <td>34676.0560</td>\n",
       "      <td>13301.2048</td>\n",
       "      <td>2.0</td>\n",
       "      <td>100.00</td>\n",
       "      <td>100.000</td>\n",
       "      <td>24.0</td>\n",
       "      <td>968.000000</td>\n",
       "      <td>150758.00000</td>\n",
       "      <td>1.032835e+06</td>\n",
       "      <td>...</td>\n",
       "      <td>90.914050</td>\n",
       "      <td>1.281228e+00</td>\n",
       "      <td>43.833764</td>\n",
       "      <td>0.813531</td>\n",
       "      <td>71.068521</td>\n",
       "      <td>1588.640354</td>\n",
       "      <td>42.104492</td>\n",
       "      <td>318.380012</td>\n",
       "      <td>5561.375668</td>\n",
       "      <td>6342.893958</td>\n",
       "    </tr>\n",
       "    <tr>\n",
       "      <th>median</th>\n",
       "      <td>6209.0</td>\n",
       "      <td>30.0000</td>\n",
       "      <td>0.0000</td>\n",
       "      <td>1.0</td>\n",
       "      <td>0.05</td>\n",
       "      <td>0.024</td>\n",
       "      <td>3.0</td>\n",
       "      <td>5.943052</td>\n",
       "      <td>179.88308</td>\n",
       "      <td>2.755745e+02</td>\n",
       "      <td>...</td>\n",
       "      <td>0.127948</td>\n",
       "      <td>4.358737e-02</td>\n",
       "      <td>0.055590</td>\n",
       "      <td>0.037123</td>\n",
       "      <td>0.143469</td>\n",
       "      <td>2.657258</td>\n",
       "      <td>0.538738</td>\n",
       "      <td>1.116109</td>\n",
       "      <td>3.007450</td>\n",
       "      <td>37.819958</td>\n",
       "    </tr>\n",
       "    <tr>\n",
       "      <th>Q1</th>\n",
       "      <td>4643.5</td>\n",
       "      <td>4.8250</td>\n",
       "      <td>0.0000</td>\n",
       "      <td>0.0</td>\n",
       "      <td>0.03</td>\n",
       "      <td>0.014</td>\n",
       "      <td>2.0</td>\n",
       "      <td>3.000000</td>\n",
       "      <td>37.44753</td>\n",
       "      <td>9.227631e+01</td>\n",
       "      <td>...</td>\n",
       "      <td>-0.071987</td>\n",
       "      <td>2.521403e-02</td>\n",
       "      <td>0.014426</td>\n",
       "      <td>-0.059121</td>\n",
       "      <td>-0.062900</td>\n",
       "      <td>-0.420776</td>\n",
       "      <td>0.163438</td>\n",
       "      <td>0.189056</td>\n",
       "      <td>1.244398</td>\n",
       "      <td>14.478492</td>\n",
       "    </tr>\n",
       "    <tr>\n",
       "      <th>Q3</th>\n",
       "      <td>7112.0</td>\n",
       "      <td>113.4075</td>\n",
       "      <td>0.0000</td>\n",
       "      <td>1.0</td>\n",
       "      <td>0.24</td>\n",
       "      <td>0.050</td>\n",
       "      <td>5.0</td>\n",
       "      <td>10.000000</td>\n",
       "      <td>718.93050</td>\n",
       "      <td>8.385917e+02</td>\n",
       "      <td>...</td>\n",
       "      <td>0.594503</td>\n",
       "      <td>9.698043e-02</td>\n",
       "      <td>0.222249</td>\n",
       "      <td>0.132198</td>\n",
       "      <td>0.441916</td>\n",
       "      <td>8.479560</td>\n",
       "      <td>1.128023</td>\n",
       "      <td>2.930401</td>\n",
       "      <td>17.060735</td>\n",
       "      <td>99.531230</td>\n",
       "    </tr>\n",
       "    <tr>\n",
       "      <th>IQR</th>\n",
       "      <td>2468.5</td>\n",
       "      <td>108.5825</td>\n",
       "      <td>0.0000</td>\n",
       "      <td>1.0</td>\n",
       "      <td>0.21</td>\n",
       "      <td>0.036</td>\n",
       "      <td>3.0</td>\n",
       "      <td>7.000000</td>\n",
       "      <td>681.48297</td>\n",
       "      <td>7.463154e+02</td>\n",
       "      <td>...</td>\n",
       "      <td>0.666490</td>\n",
       "      <td>7.176640e-02</td>\n",
       "      <td>0.207823</td>\n",
       "      <td>0.191319</td>\n",
       "      <td>0.504815</td>\n",
       "      <td>8.900335</td>\n",
       "      <td>0.964585</td>\n",
       "      <td>2.741344</td>\n",
       "      <td>15.816338</td>\n",
       "      <td>85.052738</td>\n",
       "    </tr>\n",
       "  </tbody>\n",
       "</table>\n",
       "<p>6 rows × 58 columns</p>\n",
       "</div>"
      ],
      "text/plain": [
       "        Codigo primario CNAE 2009  Capital social mil EUR  \\\n",
       "min                         124.0                  3.0000   \n",
       "max                        9609.0              34676.0560   \n",
       "median                     6209.0                 30.0000   \n",
       "Q1                         4643.5                  4.8250   \n",
       "Q3                         7112.0                113.4075   \n",
       "IQR                        2468.5                108.5825   \n",
       "\n",
       "        Free capital mil EUR  Porcentaje_adquisicion_cat  total_funding  \\\n",
       "min                   0.0000                         0.0           0.00   \n",
       "max               13301.2048                         2.0         100.00   \n",
       "median                0.0000                         1.0           0.05   \n",
       "Q1                    0.0000                         0.0           0.03   \n",
       "Q3                    0.0000                         1.0           0.24   \n",
       "IQR                   0.0000                         1.0           0.21   \n",
       "\n",
       "        last_funding  total_rounds  Número empleados  Inmovilizado mil EUR  \\\n",
       "min            0.000           0.0          1.000000               0.00000   \n",
       "max          100.000          24.0        968.000000          150758.00000   \n",
       "median         0.024           3.0          5.943052             179.88308   \n",
       "Q1             0.014           2.0          3.000000              37.44753   \n",
       "Q3             0.050           5.0         10.000000             718.93050   \n",
       "IQR            0.036           3.0          7.000000             681.48297   \n",
       "\n",
       "        Activo circulante mil EUR  ...  ratio_deuda_ebitda  \\\n",
       "min                  0.000000e+00  ...         -480.380811   \n",
       "max                  1.032835e+06  ...           90.914050   \n",
       "median               2.755745e+02  ...            0.127948   \n",
       "Q1                   9.227631e+01  ...           -0.071987   \n",
       "Q3                   8.385917e+02  ...            0.594503   \n",
       "IQR                  7.463154e+02  ...            0.666490   \n",
       "\n",
       "        ratio_deuda_activos  ratio_deuda_patrimonio  ratio_ebitda_activos  \\\n",
       "min            5.243638e-07              -37.911782             -2.908746   \n",
       "max            1.281228e+00               43.833764              0.813531   \n",
       "median         4.358737e-02                0.055590              0.037123   \n",
       "Q1             2.521403e-02                0.014426             -0.059121   \n",
       "Q3             9.698043e-02                0.222249              0.132198   \n",
       "IQR            7.176640e-02                0.207823              0.191319   \n",
       "\n",
       "        ratio_ebitda_patrimonio  ratio_ventas_ebitda  ratio_ventas_activos  \\\n",
       "min                  -13.930711        -10111.813355              0.000050   \n",
       "max                   71.068521          1588.640354             42.104492   \n",
       "median                 0.143469             2.657258              0.538738   \n",
       "Q1                    -0.062900            -0.420776              0.163438   \n",
       "Q3                     0.441916             8.479560              1.128023   \n",
       "IQR                    0.504815             8.900335              0.964585   \n",
       "\n",
       "        ratio_ventas_patrimonio  ratio_prueba_acida  ratio_periodo_prom_cobro  \n",
       "min                 -157.488985            0.000000                  0.008934  \n",
       "max                  318.380012         5561.375668               6342.893958  \n",
       "median                 1.116109            3.007450                 37.819958  \n",
       "Q1                     0.189056            1.244398                 14.478492  \n",
       "Q3                     2.930401           17.060735                 99.531230  \n",
       "IQR                    2.741344           15.816338                 85.052738  \n",
       "\n",
       "[6 rows x 58 columns]"
      ]
     },
     "execution_count": 111,
     "metadata": {},
     "output_type": "execute_result"
    }
   ],
   "source": [
    "df_numeric_sinna.apply(['min','max','median', Q1, Q3, IQR])"
   ]
  },
  {
   "attachments": {},
   "cell_type": "markdown",
   "metadata": {},
   "source": [
    "Modelo que detecta valores atípicos"
   ]
  },
  {
   "cell_type": "code",
   "execution_count": 112,
   "metadata": {},
   "outputs": [],
   "source": [
    "df_numeric_sinna.columns[1:49]\n",
    "df_numeric_sinna = df_numeric_sinna[df_numeric_sinna.columns[1:49]]"
   ]
  },
  {
   "cell_type": "code",
   "execution_count": 113,
   "metadata": {},
   "outputs": [
    {
     "data": {
      "text/html": [
       "<div>\n",
       "<style scoped>\n",
       "    .dataframe tbody tr th:only-of-type {\n",
       "        vertical-align: middle;\n",
       "    }\n",
       "\n",
       "    .dataframe tbody tr th {\n",
       "        vertical-align: top;\n",
       "    }\n",
       "\n",
       "    .dataframe thead th {\n",
       "        text-align: right;\n",
       "    }\n",
       "</style>\n",
       "<table border=\"1\" class=\"dataframe\">\n",
       "  <thead>\n",
       "    <tr style=\"text-align: right;\">\n",
       "      <th></th>\n",
       "      <th>Capital social mil EUR</th>\n",
       "      <th>Free capital mil EUR</th>\n",
       "      <th>Porcentaje_adquisicion_cat</th>\n",
       "      <th>total_funding</th>\n",
       "      <th>last_funding</th>\n",
       "      <th>total_rounds</th>\n",
       "      <th>Número empleados</th>\n",
       "      <th>Inmovilizado mil EUR</th>\n",
       "      <th>Activo circulante mil EUR</th>\n",
       "      <th>Total activo mil EUR</th>\n",
       "      <th>...</th>\n",
       "      <th>EBITDA mil EUR</th>\n",
       "      <th>EBIT mil EUR</th>\n",
       "      <th>Fondo de maniobra mil EUR</th>\n",
       "      <th>Impuestos sobre sociedades mil EUR</th>\n",
       "      <th>Dotaciones para amortiz. de inmovil. mil EUR</th>\n",
       "      <th>Deudas financieras mil EUR</th>\n",
       "      <th>Importe neto Cifra de Ventas mil EUR</th>\n",
       "      <th>Existencias mil EUR</th>\n",
       "      <th>Acreedores comerciales mil EUR</th>\n",
       "      <th>ratio_deuda_ebitda</th>\n",
       "    </tr>\n",
       "    <tr>\n",
       "      <th>Codigo_NIF</th>\n",
       "      <th></th>\n",
       "      <th></th>\n",
       "      <th></th>\n",
       "      <th></th>\n",
       "      <th></th>\n",
       "      <th></th>\n",
       "      <th></th>\n",
       "      <th></th>\n",
       "      <th></th>\n",
       "      <th></th>\n",
       "      <th></th>\n",
       "      <th></th>\n",
       "      <th></th>\n",
       "      <th></th>\n",
       "      <th></th>\n",
       "      <th></th>\n",
       "      <th></th>\n",
       "      <th></th>\n",
       "      <th></th>\n",
       "      <th></th>\n",
       "      <th></th>\n",
       "    </tr>\n",
       "  </thead>\n",
       "  <tbody>\n",
       "    <tr>\n",
       "      <th>A78053147</th>\n",
       "      <td>2000.000</td>\n",
       "      <td>0.0</td>\n",
       "      <td>2</td>\n",
       "      <td>0.00000</td>\n",
       "      <td>0.000000</td>\n",
       "      <td>0</td>\n",
       "      <td>919.0</td>\n",
       "      <td>150758.00000</td>\n",
       "      <td>1.032835e+06</td>\n",
       "      <td>1.183593e+06</td>\n",
       "      <td>...</td>\n",
       "      <td>6182.000000</td>\n",
       "      <td>3439.00000</td>\n",
       "      <td>212785.00000</td>\n",
       "      <td>279.000000</td>\n",
       "      <td>2743.000000</td>\n",
       "      <td>144.392079</td>\n",
       "      <td>1.258358e+06</td>\n",
       "      <td>18216.337680</td>\n",
       "      <td>339928.000000</td>\n",
       "      <td>0.179219</td>\n",
       "    </tr>\n",
       "    <tr>\n",
       "      <th>A78053147</th>\n",
       "      <td>2000.000</td>\n",
       "      <td>0.0</td>\n",
       "      <td>2</td>\n",
       "      <td>0.00000</td>\n",
       "      <td>0.000000</td>\n",
       "      <td>0</td>\n",
       "      <td>968.0</td>\n",
       "      <td>105279.00000</td>\n",
       "      <td>9.319840e+05</td>\n",
       "      <td>1.037263e+06</td>\n",
       "      <td>...</td>\n",
       "      <td>99163.000000</td>\n",
       "      <td>88974.00000</td>\n",
       "      <td>219898.00000</td>\n",
       "      <td>21547.000000</td>\n",
       "      <td>10189.000000</td>\n",
       "      <td>142.665395</td>\n",
       "      <td>9.737460e+05</td>\n",
       "      <td>18245.356737</td>\n",
       "      <td>346970.000000</td>\n",
       "      <td>0.600626</td>\n",
       "    </tr>\n",
       "    <tr>\n",
       "      <th>B75103515</th>\n",
       "      <td>20500.000</td>\n",
       "      <td>0.0</td>\n",
       "      <td>1</td>\n",
       "      <td>0.86575</td>\n",
       "      <td>0.728037</td>\n",
       "      <td>1</td>\n",
       "      <td>203.0</td>\n",
       "      <td>14260.53500</td>\n",
       "      <td>1.523307e+05</td>\n",
       "      <td>1.665913e+05</td>\n",
       "      <td>...</td>\n",
       "      <td>-5011.881000</td>\n",
       "      <td>-8282.56500</td>\n",
       "      <td>54850.44900</td>\n",
       "      <td>-39.037187</td>\n",
       "      <td>3270.684000</td>\n",
       "      <td>29685.498000</td>\n",
       "      <td>1.048606e+05</td>\n",
       "      <td>35354.415000</td>\n",
       "      <td>19954.260000</td>\n",
       "      <td>-5.923025</td>\n",
       "    </tr>\n",
       "    <tr>\n",
       "      <th>B75103515</th>\n",
       "      <td>20500.000</td>\n",
       "      <td>0.0</td>\n",
       "      <td>1</td>\n",
       "      <td>0.86575</td>\n",
       "      <td>0.728037</td>\n",
       "      <td>1</td>\n",
       "      <td>192.0</td>\n",
       "      <td>14432.40700</td>\n",
       "      <td>1.079037e+05</td>\n",
       "      <td>1.223361e+05</td>\n",
       "      <td>...</td>\n",
       "      <td>-12410.040000</td>\n",
       "      <td>-15520.34400</td>\n",
       "      <td>51869.82500</td>\n",
       "      <td>-41.488538</td>\n",
       "      <td>3110.304000</td>\n",
       "      <td>19944.946000</td>\n",
       "      <td>4.997248e+04</td>\n",
       "      <td>45897.425000</td>\n",
       "      <td>12554.314000</td>\n",
       "      <td>-1.607162</td>\n",
       "    </tr>\n",
       "    <tr>\n",
       "      <th>B95864310</th>\n",
       "      <td>7515.000</td>\n",
       "      <td>0.0</td>\n",
       "      <td>1</td>\n",
       "      <td>0.00000</td>\n",
       "      <td>0.000000</td>\n",
       "      <td>0</td>\n",
       "      <td>338.0</td>\n",
       "      <td>47544.00000</td>\n",
       "      <td>5.589500e+04</td>\n",
       "      <td>1.034390e+05</td>\n",
       "      <td>...</td>\n",
       "      <td>1974.000000</td>\n",
       "      <td>-412.00000</td>\n",
       "      <td>-6472.00000</td>\n",
       "      <td>-250.000000</td>\n",
       "      <td>2386.000000</td>\n",
       "      <td>8380.000000</td>\n",
       "      <td>6.500500e+04</td>\n",
       "      <td>42823.000000</td>\n",
       "      <td>11920.000000</td>\n",
       "      <td>4.245187</td>\n",
       "    </tr>\n",
       "    <tr>\n",
       "      <th>...</th>\n",
       "      <td>...</td>\n",
       "      <td>...</td>\n",
       "      <td>...</td>\n",
       "      <td>...</td>\n",
       "      <td>...</td>\n",
       "      <td>...</td>\n",
       "      <td>...</td>\n",
       "      <td>...</td>\n",
       "      <td>...</td>\n",
       "      <td>...</td>\n",
       "      <td>...</td>\n",
       "      <td>...</td>\n",
       "      <td>...</td>\n",
       "      <td>...</td>\n",
       "      <td>...</td>\n",
       "      <td>...</td>\n",
       "      <td>...</td>\n",
       "      <td>...</td>\n",
       "      <td>...</td>\n",
       "      <td>...</td>\n",
       "      <td>...</td>\n",
       "    </tr>\n",
       "    <tr>\n",
       "      <th>B01658152</th>\n",
       "      <td>3.605</td>\n",
       "      <td>0.0</td>\n",
       "      <td>0</td>\n",
       "      <td>0.04000</td>\n",
       "      <td>0.024000</td>\n",
       "      <td>3</td>\n",
       "      <td>2.0</td>\n",
       "      <td>399.01385</td>\n",
       "      <td>3.523114e+02</td>\n",
       "      <td>7.513252e+02</td>\n",
       "      <td>...</td>\n",
       "      <td>-90.022390</td>\n",
       "      <td>-91.14609</td>\n",
       "      <td>11.50539</td>\n",
       "      <td>-22.168182</td>\n",
       "      <td>1.123700</td>\n",
       "      <td>101.741130</td>\n",
       "      <td>1.272057e+01</td>\n",
       "      <td>120.397382</td>\n",
       "      <td>7.786560</td>\n",
       "      <td>0.348156</td>\n",
       "    </tr>\n",
       "    <tr>\n",
       "      <th>B75200840</th>\n",
       "      <td>125.000</td>\n",
       "      <td>0.0</td>\n",
       "      <td>1</td>\n",
       "      <td>0.93000</td>\n",
       "      <td>0.479320</td>\n",
       "      <td>4</td>\n",
       "      <td>3.0</td>\n",
       "      <td>588.73063</td>\n",
       "      <td>2.062657e+02</td>\n",
       "      <td>7.949963e+02</td>\n",
       "      <td>...</td>\n",
       "      <td>-198.525539</td>\n",
       "      <td>-200.22705</td>\n",
       "      <td>-18.20407</td>\n",
       "      <td>-58.382770</td>\n",
       "      <td>1.701510</td>\n",
       "      <td>0.046200</td>\n",
       "      <td>3.154214e+01</td>\n",
       "      <td>17.930000</td>\n",
       "      <td>2.652920</td>\n",
       "      <td>-0.000233</td>\n",
       "    </tr>\n",
       "    <tr>\n",
       "      <th>B75172163</th>\n",
       "      <td>207.792</td>\n",
       "      <td>0.0</td>\n",
       "      <td>1</td>\n",
       "      <td>10.44000</td>\n",
       "      <td>4.389060</td>\n",
       "      <td>8</td>\n",
       "      <td>8.0</td>\n",
       "      <td>1329.49498</td>\n",
       "      <td>2.769998e+03</td>\n",
       "      <td>4.099493e+03</td>\n",
       "      <td>...</td>\n",
       "      <td>-475.298910</td>\n",
       "      <td>-633.74473</td>\n",
       "      <td>2639.64697</td>\n",
       "      <td>-183.442490</td>\n",
       "      <td>158.445820</td>\n",
       "      <td>84.883541</td>\n",
       "      <td>3.586634e+02</td>\n",
       "      <td>445.501527</td>\n",
       "      <td>21.581420</td>\n",
       "      <td>0.291839</td>\n",
       "    </tr>\n",
       "    <tr>\n",
       "      <th>B95957643</th>\n",
       "      <td>3.000</td>\n",
       "      <td>0.0</td>\n",
       "      <td>1</td>\n",
       "      <td>0.02000</td>\n",
       "      <td>0.014000</td>\n",
       "      <td>2</td>\n",
       "      <td>6.0</td>\n",
       "      <td>38.17129</td>\n",
       "      <td>9.356940e+01</td>\n",
       "      <td>1.317407e+02</td>\n",
       "      <td>...</td>\n",
       "      <td>-255.011600</td>\n",
       "      <td>-255.01160</td>\n",
       "      <td>29.86342</td>\n",
       "      <td>-61.923010</td>\n",
       "      <td>10.198991</td>\n",
       "      <td>55.069100</td>\n",
       "      <td>2.915325e+02</td>\n",
       "      <td>23.127631</td>\n",
       "      <td>0.302500</td>\n",
       "      <td>-0.215947</td>\n",
       "    </tr>\n",
       "    <tr>\n",
       "      <th>B95957643</th>\n",
       "      <td>3.000</td>\n",
       "      <td>0.0</td>\n",
       "      <td>1</td>\n",
       "      <td>0.02000</td>\n",
       "      <td>0.014000</td>\n",
       "      <td>2</td>\n",
       "      <td>3.0</td>\n",
       "      <td>38.17129</td>\n",
       "      <td>1.650761e+01</td>\n",
       "      <td>5.467890e+01</td>\n",
       "      <td>...</td>\n",
       "      <td>-159.047050</td>\n",
       "      <td>-159.04705</td>\n",
       "      <td>-14.04705</td>\n",
       "      <td>-38.171290</td>\n",
       "      <td>6.696031</td>\n",
       "      <td>18.692110</td>\n",
       "      <td>1.481949e+02</td>\n",
       "      <td>11.589854</td>\n",
       "      <td>5.882207</td>\n",
       "      <td>-0.117526</td>\n",
       "    </tr>\n",
       "  </tbody>\n",
       "</table>\n",
       "<p>82 rows × 48 columns</p>\n",
       "</div>"
      ],
      "text/plain": [
       "            Capital social mil EUR  Free capital mil EUR  \\\n",
       "Codigo_NIF                                                 \n",
       "A78053147                 2000.000                   0.0   \n",
       "A78053147                 2000.000                   0.0   \n",
       "B75103515                20500.000                   0.0   \n",
       "B75103515                20500.000                   0.0   \n",
       "B95864310                 7515.000                   0.0   \n",
       "...                            ...                   ...   \n",
       "B01658152                    3.605                   0.0   \n",
       "B75200840                  125.000                   0.0   \n",
       "B75172163                  207.792                   0.0   \n",
       "B95957643                    3.000                   0.0   \n",
       "B95957643                    3.000                   0.0   \n",
       "\n",
       "            Porcentaje_adquisicion_cat  total_funding  last_funding  \\\n",
       "Codigo_NIF                                                            \n",
       "A78053147                            2        0.00000      0.000000   \n",
       "A78053147                            2        0.00000      0.000000   \n",
       "B75103515                            1        0.86575      0.728037   \n",
       "B75103515                            1        0.86575      0.728037   \n",
       "B95864310                            1        0.00000      0.000000   \n",
       "...                                ...            ...           ...   \n",
       "B01658152                            0        0.04000      0.024000   \n",
       "B75200840                            1        0.93000      0.479320   \n",
       "B75172163                            1       10.44000      4.389060   \n",
       "B95957643                            1        0.02000      0.014000   \n",
       "B95957643                            1        0.02000      0.014000   \n",
       "\n",
       "            total_rounds  Número empleados  Inmovilizado mil EUR  \\\n",
       "Codigo_NIF                                                         \n",
       "A78053147              0             919.0          150758.00000   \n",
       "A78053147              0             968.0          105279.00000   \n",
       "B75103515              1             203.0           14260.53500   \n",
       "B75103515              1             192.0           14432.40700   \n",
       "B95864310              0             338.0           47544.00000   \n",
       "...                  ...               ...                   ...   \n",
       "B01658152              3               2.0             399.01385   \n",
       "B75200840              4               3.0             588.73063   \n",
       "B75172163              8               8.0            1329.49498   \n",
       "B95957643              2               6.0              38.17129   \n",
       "B95957643              2               3.0              38.17129   \n",
       "\n",
       "            Activo circulante mil EUR  Total activo mil EUR  ...  \\\n",
       "Codigo_NIF                                                   ...   \n",
       "A78053147                1.032835e+06          1.183593e+06  ...   \n",
       "A78053147                9.319840e+05          1.037263e+06  ...   \n",
       "B75103515                1.523307e+05          1.665913e+05  ...   \n",
       "B75103515                1.079037e+05          1.223361e+05  ...   \n",
       "B95864310                5.589500e+04          1.034390e+05  ...   \n",
       "...                               ...                   ...  ...   \n",
       "B01658152                3.523114e+02          7.513252e+02  ...   \n",
       "B75200840                2.062657e+02          7.949963e+02  ...   \n",
       "B75172163                2.769998e+03          4.099493e+03  ...   \n",
       "B95957643                9.356940e+01          1.317407e+02  ...   \n",
       "B95957643                1.650761e+01          5.467890e+01  ...   \n",
       "\n",
       "            EBITDA mil EUR  EBIT mil EUR  Fondo de maniobra mil EUR  \\\n",
       "Codigo_NIF                                                            \n",
       "A78053147      6182.000000    3439.00000               212785.00000   \n",
       "A78053147     99163.000000   88974.00000               219898.00000   \n",
       "B75103515     -5011.881000   -8282.56500                54850.44900   \n",
       "B75103515    -12410.040000  -15520.34400                51869.82500   \n",
       "B95864310      1974.000000    -412.00000                -6472.00000   \n",
       "...                    ...           ...                        ...   \n",
       "B01658152       -90.022390     -91.14609                   11.50539   \n",
       "B75200840      -198.525539    -200.22705                  -18.20407   \n",
       "B75172163      -475.298910    -633.74473                 2639.64697   \n",
       "B95957643      -255.011600    -255.01160                   29.86342   \n",
       "B95957643      -159.047050    -159.04705                  -14.04705   \n",
       "\n",
       "            Impuestos sobre sociedades mil EUR  \\\n",
       "Codigo_NIF                                       \n",
       "A78053147                           279.000000   \n",
       "A78053147                         21547.000000   \n",
       "B75103515                           -39.037187   \n",
       "B75103515                           -41.488538   \n",
       "B95864310                          -250.000000   \n",
       "...                                        ...   \n",
       "B01658152                           -22.168182   \n",
       "B75200840                           -58.382770   \n",
       "B75172163                          -183.442490   \n",
       "B95957643                           -61.923010   \n",
       "B95957643                           -38.171290   \n",
       "\n",
       "            Dotaciones para amortiz. de inmovil. mil EUR  \\\n",
       "Codigo_NIF                                                 \n",
       "A78053147                                    2743.000000   \n",
       "A78053147                                   10189.000000   \n",
       "B75103515                                    3270.684000   \n",
       "B75103515                                    3110.304000   \n",
       "B95864310                                    2386.000000   \n",
       "...                                                  ...   \n",
       "B01658152                                       1.123700   \n",
       "B75200840                                       1.701510   \n",
       "B75172163                                     158.445820   \n",
       "B95957643                                      10.198991   \n",
       "B95957643                                       6.696031   \n",
       "\n",
       "            Deudas financieras mil EUR  Importe neto Cifra de Ventas mil EUR  \\\n",
       "Codigo_NIF                                                                     \n",
       "A78053147                   144.392079                          1.258358e+06   \n",
       "A78053147                   142.665395                          9.737460e+05   \n",
       "B75103515                 29685.498000                          1.048606e+05   \n",
       "B75103515                 19944.946000                          4.997248e+04   \n",
       "B95864310                  8380.000000                          6.500500e+04   \n",
       "...                                ...                                   ...   \n",
       "B01658152                   101.741130                          1.272057e+01   \n",
       "B75200840                     0.046200                          3.154214e+01   \n",
       "B75172163                    84.883541                          3.586634e+02   \n",
       "B95957643                    55.069100                          2.915325e+02   \n",
       "B95957643                    18.692110                          1.481949e+02   \n",
       "\n",
       "            Existencias mil EUR  Acreedores comerciales mil EUR  \\\n",
       "Codigo_NIF                                                        \n",
       "A78053147          18216.337680                   339928.000000   \n",
       "A78053147          18245.356737                   346970.000000   \n",
       "B75103515          35354.415000                    19954.260000   \n",
       "B75103515          45897.425000                    12554.314000   \n",
       "B95864310          42823.000000                    11920.000000   \n",
       "...                         ...                             ...   \n",
       "B01658152            120.397382                        7.786560   \n",
       "B75200840             17.930000                        2.652920   \n",
       "B75172163            445.501527                       21.581420   \n",
       "B95957643             23.127631                        0.302500   \n",
       "B95957643             11.589854                        5.882207   \n",
       "\n",
       "            ratio_deuda_ebitda  \n",
       "Codigo_NIF                      \n",
       "A78053147             0.179219  \n",
       "A78053147             0.600626  \n",
       "B75103515            -5.923025  \n",
       "B75103515            -1.607162  \n",
       "B95864310             4.245187  \n",
       "...                        ...  \n",
       "B01658152             0.348156  \n",
       "B75200840            -0.000233  \n",
       "B75172163             0.291839  \n",
       "B95957643            -0.215947  \n",
       "B95957643            -0.117526  \n",
       "\n",
       "[82 rows x 48 columns]"
      ]
     },
     "execution_count": 113,
     "metadata": {},
     "output_type": "execute_result"
    }
   ],
   "source": [
    "iforest = IForest().fit(df_numeric_sinna)\n",
    "\n",
    "# 0 for inliers, 1 for outliers\n",
    "labels = iforest.labels_\n",
    "\n",
    "outliers = df_numeric_sinna[labels == 1]\n",
    "outliers"
   ]
  },
  {
   "cell_type": "code",
   "execution_count": 114,
   "metadata": {},
   "outputs": [
    {
     "data": {
      "text/html": [
       "<div>\n",
       "<style scoped>\n",
       "    .dataframe tbody tr th:only-of-type {\n",
       "        vertical-align: middle;\n",
       "    }\n",
       "\n",
       "    .dataframe tbody tr th {\n",
       "        vertical-align: top;\n",
       "    }\n",
       "\n",
       "    .dataframe thead th {\n",
       "        text-align: right;\n",
       "    }\n",
       "</style>\n",
       "<table border=\"1\" class=\"dataframe\">\n",
       "  <thead>\n",
       "    <tr style=\"text-align: right;\">\n",
       "      <th></th>\n",
       "      <th>Capital social mil EUR</th>\n",
       "      <th>Free capital mil EUR</th>\n",
       "      <th>Porcentaje_adquisicion_cat</th>\n",
       "      <th>total_funding</th>\n",
       "      <th>last_funding</th>\n",
       "      <th>total_rounds</th>\n",
       "      <th>Número empleados</th>\n",
       "      <th>Inmovilizado mil EUR</th>\n",
       "      <th>Activo circulante mil EUR</th>\n",
       "      <th>Total activo mil EUR</th>\n",
       "      <th>...</th>\n",
       "      <th>EBITDA mil EUR</th>\n",
       "      <th>EBIT mil EUR</th>\n",
       "      <th>Fondo de maniobra mil EUR</th>\n",
       "      <th>Impuestos sobre sociedades mil EUR</th>\n",
       "      <th>Dotaciones para amortiz. de inmovil. mil EUR</th>\n",
       "      <th>Deudas financieras mil EUR</th>\n",
       "      <th>Importe neto Cifra de Ventas mil EUR</th>\n",
       "      <th>Existencias mil EUR</th>\n",
       "      <th>Acreedores comerciales mil EUR</th>\n",
       "      <th>ratio_deuda_ebitda</th>\n",
       "    </tr>\n",
       "    <tr>\n",
       "      <th>Codigo_NIF</th>\n",
       "      <th></th>\n",
       "      <th></th>\n",
       "      <th></th>\n",
       "      <th></th>\n",
       "      <th></th>\n",
       "      <th></th>\n",
       "      <th></th>\n",
       "      <th></th>\n",
       "      <th></th>\n",
       "      <th></th>\n",
       "      <th></th>\n",
       "      <th></th>\n",
       "      <th></th>\n",
       "      <th></th>\n",
       "      <th></th>\n",
       "      <th></th>\n",
       "      <th></th>\n",
       "      <th></th>\n",
       "      <th></th>\n",
       "      <th></th>\n",
       "      <th></th>\n",
       "    </tr>\n",
       "  </thead>\n",
       "  <tbody>\n",
       "    <tr>\n",
       "      <th>A78053147</th>\n",
       "      <td>2000.0</td>\n",
       "      <td>0.0</td>\n",
       "      <td>2</td>\n",
       "      <td>0.00000</td>\n",
       "      <td>0.000000</td>\n",
       "      <td>0</td>\n",
       "      <td>919.0</td>\n",
       "      <td>150758.000</td>\n",
       "      <td>1032835.000</td>\n",
       "      <td>1183593.000</td>\n",
       "      <td>...</td>\n",
       "      <td>6182.000</td>\n",
       "      <td>3439.000</td>\n",
       "      <td>212785.000</td>\n",
       "      <td>279.000000</td>\n",
       "      <td>2743.000</td>\n",
       "      <td>144.392079</td>\n",
       "      <td>1258358.000</td>\n",
       "      <td>18216.337680</td>\n",
       "      <td>339928.000</td>\n",
       "      <td>0.179219</td>\n",
       "    </tr>\n",
       "    <tr>\n",
       "      <th>A78053147</th>\n",
       "      <td>2000.0</td>\n",
       "      <td>0.0</td>\n",
       "      <td>2</td>\n",
       "      <td>0.00000</td>\n",
       "      <td>0.000000</td>\n",
       "      <td>0</td>\n",
       "      <td>968.0</td>\n",
       "      <td>105279.000</td>\n",
       "      <td>931984.000</td>\n",
       "      <td>1037263.000</td>\n",
       "      <td>...</td>\n",
       "      <td>99163.000</td>\n",
       "      <td>88974.000</td>\n",
       "      <td>219898.000</td>\n",
       "      <td>21547.000000</td>\n",
       "      <td>10189.000</td>\n",
       "      <td>142.665395</td>\n",
       "      <td>973746.000</td>\n",
       "      <td>18245.356737</td>\n",
       "      <td>346970.000</td>\n",
       "      <td>0.600626</td>\n",
       "    </tr>\n",
       "    <tr>\n",
       "      <th>B75103515</th>\n",
       "      <td>20500.0</td>\n",
       "      <td>0.0</td>\n",
       "      <td>1</td>\n",
       "      <td>0.86575</td>\n",
       "      <td>0.728037</td>\n",
       "      <td>1</td>\n",
       "      <td>203.0</td>\n",
       "      <td>14260.535</td>\n",
       "      <td>152330.720</td>\n",
       "      <td>166591.255</td>\n",
       "      <td>...</td>\n",
       "      <td>-5011.881</td>\n",
       "      <td>-8282.565</td>\n",
       "      <td>54850.449</td>\n",
       "      <td>-39.037187</td>\n",
       "      <td>3270.684</td>\n",
       "      <td>29685.498000</td>\n",
       "      <td>104860.642</td>\n",
       "      <td>35354.415000</td>\n",
       "      <td>19954.260</td>\n",
       "      <td>-5.923025</td>\n",
       "    </tr>\n",
       "    <tr>\n",
       "      <th>B75103515</th>\n",
       "      <td>20500.0</td>\n",
       "      <td>0.0</td>\n",
       "      <td>1</td>\n",
       "      <td>0.86575</td>\n",
       "      <td>0.728037</td>\n",
       "      <td>1</td>\n",
       "      <td>192.0</td>\n",
       "      <td>14432.407</td>\n",
       "      <td>107903.655</td>\n",
       "      <td>122336.062</td>\n",
       "      <td>...</td>\n",
       "      <td>-12410.040</td>\n",
       "      <td>-15520.344</td>\n",
       "      <td>51869.825</td>\n",
       "      <td>-41.488538</td>\n",
       "      <td>3110.304</td>\n",
       "      <td>19944.946000</td>\n",
       "      <td>49972.479</td>\n",
       "      <td>45897.425000</td>\n",
       "      <td>12554.314</td>\n",
       "      <td>-1.607162</td>\n",
       "    </tr>\n",
       "    <tr>\n",
       "      <th>B95864310</th>\n",
       "      <td>7515.0</td>\n",
       "      <td>0.0</td>\n",
       "      <td>1</td>\n",
       "      <td>0.00000</td>\n",
       "      <td>0.000000</td>\n",
       "      <td>0</td>\n",
       "      <td>338.0</td>\n",
       "      <td>47544.000</td>\n",
       "      <td>55895.000</td>\n",
       "      <td>103439.000</td>\n",
       "      <td>...</td>\n",
       "      <td>1974.000</td>\n",
       "      <td>-412.000</td>\n",
       "      <td>-6472.000</td>\n",
       "      <td>-250.000000</td>\n",
       "      <td>2386.000</td>\n",
       "      <td>8380.000000</td>\n",
       "      <td>65005.000</td>\n",
       "      <td>42823.000000</td>\n",
       "      <td>11920.000</td>\n",
       "      <td>4.245187</td>\n",
       "    </tr>\n",
       "  </tbody>\n",
       "</table>\n",
       "<p>5 rows × 48 columns</p>\n",
       "</div>"
      ],
      "text/plain": [
       "            Capital social mil EUR  Free capital mil EUR  \\\n",
       "Codigo_NIF                                                 \n",
       "A78053147                   2000.0                   0.0   \n",
       "A78053147                   2000.0                   0.0   \n",
       "B75103515                  20500.0                   0.0   \n",
       "B75103515                  20500.0                   0.0   \n",
       "B95864310                   7515.0                   0.0   \n",
       "\n",
       "            Porcentaje_adquisicion_cat  total_funding  last_funding  \\\n",
       "Codigo_NIF                                                            \n",
       "A78053147                            2        0.00000      0.000000   \n",
       "A78053147                            2        0.00000      0.000000   \n",
       "B75103515                            1        0.86575      0.728037   \n",
       "B75103515                            1        0.86575      0.728037   \n",
       "B95864310                            1        0.00000      0.000000   \n",
       "\n",
       "            total_rounds  Número empleados  Inmovilizado mil EUR  \\\n",
       "Codigo_NIF                                                         \n",
       "A78053147              0             919.0            150758.000   \n",
       "A78053147              0             968.0            105279.000   \n",
       "B75103515              1             203.0             14260.535   \n",
       "B75103515              1             192.0             14432.407   \n",
       "B95864310              0             338.0             47544.000   \n",
       "\n",
       "            Activo circulante mil EUR  Total activo mil EUR  ...  \\\n",
       "Codigo_NIF                                                   ...   \n",
       "A78053147                 1032835.000           1183593.000  ...   \n",
       "A78053147                  931984.000           1037263.000  ...   \n",
       "B75103515                  152330.720            166591.255  ...   \n",
       "B75103515                  107903.655            122336.062  ...   \n",
       "B95864310                   55895.000            103439.000  ...   \n",
       "\n",
       "            EBITDA mil EUR  EBIT mil EUR  Fondo de maniobra mil EUR  \\\n",
       "Codigo_NIF                                                            \n",
       "A78053147         6182.000      3439.000                 212785.000   \n",
       "A78053147        99163.000     88974.000                 219898.000   \n",
       "B75103515        -5011.881     -8282.565                  54850.449   \n",
       "B75103515       -12410.040    -15520.344                  51869.825   \n",
       "B95864310         1974.000      -412.000                  -6472.000   \n",
       "\n",
       "            Impuestos sobre sociedades mil EUR  \\\n",
       "Codigo_NIF                                       \n",
       "A78053147                           279.000000   \n",
       "A78053147                         21547.000000   \n",
       "B75103515                           -39.037187   \n",
       "B75103515                           -41.488538   \n",
       "B95864310                          -250.000000   \n",
       "\n",
       "            Dotaciones para amortiz. de inmovil. mil EUR  \\\n",
       "Codigo_NIF                                                 \n",
       "A78053147                                       2743.000   \n",
       "A78053147                                      10189.000   \n",
       "B75103515                                       3270.684   \n",
       "B75103515                                       3110.304   \n",
       "B95864310                                       2386.000   \n",
       "\n",
       "            Deudas financieras mil EUR  Importe neto Cifra de Ventas mil EUR  \\\n",
       "Codigo_NIF                                                                     \n",
       "A78053147                   144.392079                           1258358.000   \n",
       "A78053147                   142.665395                            973746.000   \n",
       "B75103515                 29685.498000                            104860.642   \n",
       "B75103515                 19944.946000                             49972.479   \n",
       "B95864310                  8380.000000                             65005.000   \n",
       "\n",
       "            Existencias mil EUR  Acreedores comerciales mil EUR  \\\n",
       "Codigo_NIF                                                        \n",
       "A78053147          18216.337680                      339928.000   \n",
       "A78053147          18245.356737                      346970.000   \n",
       "B75103515          35354.415000                       19954.260   \n",
       "B75103515          45897.425000                       12554.314   \n",
       "B95864310          42823.000000                       11920.000   \n",
       "\n",
       "            ratio_deuda_ebitda  \n",
       "Codigo_NIF                      \n",
       "A78053147             0.179219  \n",
       "A78053147             0.600626  \n",
       "B75103515            -5.923025  \n",
       "B75103515            -1.607162  \n",
       "B95864310             4.245187  \n",
       "\n",
       "[5 rows x 48 columns]"
      ]
     },
     "execution_count": 114,
     "metadata": {},
     "output_type": "execute_result"
    }
   ],
   "source": [
    "df_numeric_sinna.head()"
   ]
  },
  {
   "cell_type": "code",
   "execution_count": 115,
   "metadata": {},
   "outputs": [
    {
     "data": {
      "text/plain": [
       "Index(['Capital social mil EUR', 'Free capital mil EUR',\n",
       "       'Porcentaje_adquisicion_cat', 'total_funding', 'last_funding',\n",
       "       'total_rounds', 'Número empleados', 'Inmovilizado mil EUR',\n",
       "       'Activo circulante mil EUR', 'Total activo mil EUR',\n",
       "       'Fondos propios mil EUR', 'Pasivo fijo mil EUR',\n",
       "       'Pasivo líquido mil EUR', 'Total pasivo y capital propio mil EUR',\n",
       "       'Resultado Explotación mil EUR', 'Resultado financiero mil EUR',\n",
       "       'Resultado del Ejercicio mil EUR',\n",
       "       'Costes de los trabajadores / Ingresos de explotación (%) %',\n",
       "       'Tesorería mil EUR', 'Cash flow mil EUR',\n",
       "       'Período de cobro (días) días', 'Valor agregado mil EUR',\n",
       "       'Apalancamiento (%) %', 'Endeudamiento (%) %',\n",
       "       'Margen de beneficio (%) %', 'Ratio de liquidez %',\n",
       "       'Ratio de solvencia %', 'Rentabilidad económica (%) %',\n",
       "       'Rentabilidad financiera (%) %', 'Rotación de activos netos %',\n",
       "       'Rotación de las existencias %', 'Coeficiente de solvencia (%) %',\n",
       "       'Rentabilidad sobre capital empleado (%) %',\n",
       "       'Rentabilidad sobre el activo total (%) %',\n",
       "       'Rentabilidad sobre recursos propios (%) %', 'Liquidez general %',\n",
       "       'Ratio de cobertura de intereses %',\n",
       "       'Ratios de autonomía financiera a medio y largo plazo %',\n",
       "       'EBITDA mil EUR', 'EBIT mil EUR', 'Fondo de maniobra mil EUR',\n",
       "       'Impuestos sobre sociedades mil EUR',\n",
       "       'Dotaciones para amortiz. de inmovil. mil EUR',\n",
       "       'Deudas financieras mil EUR', 'Importe neto Cifra de Ventas mil EUR',\n",
       "       'Existencias mil EUR', 'Acreedores comerciales mil EUR',\n",
       "       'ratio_deuda_ebitda'],\n",
       "      dtype='object')"
      ]
     },
     "execution_count": 115,
     "metadata": {},
     "output_type": "execute_result"
    }
   ],
   "source": [
    "df_numeric_sinna.columns"
   ]
  },
  {
   "attachments": {},
   "cell_type": "markdown",
   "metadata": {},
   "source": [
    "Antes de proceder a la visualización de _outliers_, se ha realizado una selección de las variables más significativas y se ha centrado el análisis en ellas."
   ]
  },
  {
   "cell_type": "code",
   "execution_count": 116,
   "metadata": {},
   "outputs": [],
   "source": [
    "columnas = ['Rentabilidad sobre capital empleado (%) %','Rentabilidad sobre el activo total (%) %',\n",
    "'Rentabilidad económica (%) %', 'Coeficiente de solvencia (%) %', 'Endeudamiento (%) %', 'Apalancamiento (%) %',\n",
    "'Liquidez general %','Rentabilidad financiera (%) %','Rentabilidad sobre recursos propios (%) %', 'Cash flow mil EUR',\n",
    "'EBITDA mil EUR', 'Importe neto Cifra de Ventas mil EUR','Tesorería mil EUR', 'Deudas financieras mil EUR', 'Free capital mil EUR', \n",
    "'Ratio de cobertura de intereses %','Ratios de autonomía financiera a medio y largo plazo %','Número empleados','total_funding' ]"
   ]
  },
  {
   "attachments": {},
   "cell_type": "markdown",
   "metadata": {},
   "source": [
    "Para visualizar mejor los valores atípicos, se han reagrupado dichas variables en grupos que mostraban un rango de valores similar:"
   ]
  },
  {
   "cell_type": "code",
   "execution_count": 117,
   "metadata": {},
   "outputs": [
    {
     "data": {
      "image/png": "[encoded data removed]",
      "text/plain": [
       "<Figure size 432x288 with 1 Axes>"
      ]
     },
     "metadata": {
      "needs_background": "light"
     },
     "output_type": "display_data"
    }
   ],
   "source": [
    "ax1 = df_numeric_sinna[columnas[:5]].plot(kind='box', color = 'black', vert= 0, flierprops=dict(color='black', markeredgecolor='black'),\n",
    "            medianprops=dict(color='#d9002f'))\n",
    "\n",
    "plt.xlim(-1000,1000)\n",
    "\n",
    "plt.title('')\n",
    "plt.show()"
   ]
  },
  {
   "cell_type": "code",
   "execution_count": 118,
   "metadata": {},
   "outputs": [
    {
     "data": {
      "image/png": "[encoded data removed]",
      "text/plain": [
       "<Figure size 432x288 with 1 Axes>"
      ]
     },
     "metadata": {
      "needs_background": "light"
     },
     "output_type": "display_data"
    }
   ],
   "source": [
    "ax2 = df_numeric_sinna[columnas[5:9]].plot(kind='box', vert = 0, color = 'black', flierprops=dict(color='black', markeredgecolor='black'),\n",
    "            medianprops=dict(color='#d9002f'))\n",
    "plt.title('')\n",
    "plt.xlim(-20000,20000)\n",
    "plt.show()"
   ]
  },
  {
   "cell_type": "code",
   "execution_count": 119,
   "metadata": {},
   "outputs": [
    {
     "data": {
      "image/png": "[encoded data removed]",
      "text/plain": [
       "<Figure size 432x288 with 1 Axes>"
      ]
     },
     "metadata": {
      "needs_background": "light"
     },
     "output_type": "display_data"
    }
   ],
   "source": [
    "ax3 = df_numeric_sinna[columnas[10:15]].plot(kind='box', color = 'black', vert= 0, flierprops=dict(color='black', markeredgecolor='black'),\n",
    "            medianprops=dict(color='#d9002f'))\n",
    "plt.xlim(-25000,150000)\n",
    "\n",
    "plt.show()"
   ]
  },
  {
   "cell_type": "code",
   "execution_count": 120,
   "metadata": {},
   "outputs": [
    {
     "data": {
      "text/plain": [
       "Text(20.625, 0.5, '')"
      ]
     },
     "execution_count": 120,
     "metadata": {},
     "output_type": "execute_result"
    },
    {
     "data": {
      "image/png": "[encoded data removed]",
      "text/plain": [
       "<Figure size 432x288 with 2 Axes>"
      ]
     },
     "metadata": {
      "needs_background": "light"
     },
     "output_type": "display_data"
    }
   ],
   "source": [
    "fig, ax4 = plt.subplots(2,1)\n",
    "plt.tight_layout()\n",
    "ax4[0].boxplot(df_numeric_sinna[columnas[15]][~np.isnan(df_numeric_sinna[columnas[15]])],\n",
    "            flierprops=dict(color='black', markeredgecolor='black'),\n",
    "            medianprops=dict(color='#d9002f'), vert=0)\n",
    "ax4[0].set_title('Ratio de cobertura de intereses %')\n",
    "ax4[0].set_xlabel('')\n",
    "\n",
    "ax4[1].boxplot(df_numeric_sinna[columnas[16]][~np.isnan(df_numeric_sinna[columnas[16]])],\n",
    "            flierprops=dict(color='black', markeredgecolor='black'),\n",
    "            medianprops=dict(color='#d9002f'), vert =0)\n",
    "ax4[1].set_title('Ratios de autonomía financiera a medio y largo plazo %')\n",
    "ax4[1].set_ylabel('')"
   ]
  },
  {
   "cell_type": "code",
   "execution_count": 121,
   "metadata": {},
   "outputs": [
    {
     "data": {
      "text/plain": [
       "Text(0.5, 15.000000000000028, '')"
      ]
     },
     "execution_count": 121,
     "metadata": {},
     "output_type": "execute_result"
    },
    {
     "data": {
      "image/png": "[encoded data removed]",
      "text/plain": [
       "<Figure size 432x288 with 2 Axes>"
      ]
     },
     "metadata": {
      "needs_background": "light"
     },
     "output_type": "display_data"
    }
   ],
   "source": [
    "fig, ax5 = plt.subplots(2,1)\n",
    "plt.tight_layout()\n",
    "\n",
    "ax5[0].boxplot(df_numeric_sinna[columnas[17]][~np.isnan(df_numeric_sinna[columnas[17]])],\n",
    "            flierprops=dict(color='black', markeredgecolor='black'),\n",
    "            medianprops=dict(color='#d9002f'), vert =0)\n",
    "ax5[0].set_title('Número empleados')\n",
    "ax5[0].set_xlabel('')\n",
    "\n",
    "ax5[1].boxplot(df_numeric_sinna[columnas[18]][~np.isnan(df_numeric_sinna[columnas[18]])],\n",
    "            flierprops=dict(color='black', markeredgecolor='black'),\n",
    "            medianprops=dict(color='#d9002f'), vert=0)\n",
    "ax5[1].set_title('total_funding')\n",
    "ax5[1].set_xlabel('')"
   ]
  },
  {
   "attachments": {},
   "cell_type": "markdown",
   "metadata": {},
   "source": [
    "Una vez hecho esto, se ha procedido a identificar las empresas consideradas outliers en cada variable (6 en la cola superior y 6 en la inferior):"
   ]
  },
  {
   "cell_type": "code",
   "execution_count": 122,
   "metadata": {},
   "outputs": [
    {
     "name": "stdout",
     "output_type": "stream",
     "text": [
      "                                                  Nombre_sabi  \\\n",
      "Codigo_NIF                                                      \n",
      "B01518620               GLOBETESTING NORTE SOCIEDAD LIMITADA.   \n",
      "B01583350                         TITHONUS BIORESOURCES, S.L.   \n",
      "A95991600     ENERGIA DISTRIBUIDA DEL NORTE SOCIEDAD ANONIMA.   \n",
      "B75232918                                     TIDORE FOOD SL.   \n",
      "B75232918                                     TIDORE FOOD SL.   \n",
      "B95846713   MOTION AND CONTROL APLICACIONES SOCIEDAD LIMIT...   \n",
      "\n",
      "            Rentabilidad sobre capital empleado (%) %    year  \n",
      "Codigo_NIF                                                     \n",
      "B01518620                                     515.686  2020.0  \n",
      "B01583350                                     254.817  2020.0  \n",
      "A95991600                                     210.267  2020.0  \n",
      "B75232918                                     209.900  2021.0  \n",
      "B75232918                                     166.808  2020.0  \n",
      "B95846713                                     161.840  2020.0  \n",
      "                                                  Nombre_sabi  \\\n",
      "Codigo_NIF                                                      \n",
      "B95820296                     INDARWEB XXI SOCIEDAD LIMITADA.   \n",
      "B95899217   INGENIERIA DE SIMULACIONES DEL NORTE SOCIEDAD ...   \n",
      "B95873261                      HODEIA APPS SOCIEDAD LIMITADA.   \n",
      "B75219261                          AMC VIBRATION SOLUTION SL.   \n",
      "B95964409   NEUROCIRUGIA BILBAO SOCIEDAD LIMITADA PROFESIO...   \n",
      "B75198523                             SAKONA AL SOLUTIONS SL.   \n",
      "\n",
      "            Rentabilidad sobre el activo total (%) %    year  \n",
      "Codigo_NIF                                                    \n",
      "B95820296                                     81.236  2020.0  \n",
      "B95899217                                     68.785  2021.0  \n",
      "B95873261                                     65.670  2020.0  \n",
      "B75219261                                     61.687  2020.0  \n",
      "B95964409                                     60.869  2021.0  \n",
      "B75198523                                     59.842  2021.0  \n",
      "                                                  Nombre_sabi  \\\n",
      "Codigo_NIF                                                      \n",
      "B95820296                     INDARWEB XXI SOCIEDAD LIMITADA.   \n",
      "B95899217   INGENIERIA DE SIMULACIONES DEL NORTE SOCIEDAD ...   \n",
      "B95873261                      HODEIA APPS SOCIEDAD LIMITADA.   \n",
      "B75219261                          AMC VIBRATION SOLUTION SL.   \n",
      "B95964409   NEUROCIRUGIA BILBAO SOCIEDAD LIMITADA PROFESIO...   \n",
      "B75198523                             SAKONA AL SOLUTIONS SL.   \n",
      "\n",
      "            Rentabilidad económica (%) %    year  \n",
      "Codigo_NIF                                        \n",
      "B95820296                         81.236  2020.0  \n",
      "B95899217                         68.785  2021.0  \n",
      "B95873261                         65.670  2020.0  \n",
      "B75219261                         61.687  2020.0  \n",
      "B95964409                         60.869  2021.0  \n",
      "B75198523                         59.842  2021.0  \n",
      "                                          Nombre_sabi  \\\n",
      "Codigo_NIF                                              \n",
      "B95992509   YOID IDENTIDAD DIGITAL SOCIEDAD LIMITADA.   \n",
      "B75157081                    MATHEMATICS FOR LIFE SL.   \n",
      "B01893924                                 HOLOCAM SL.   \n",
      "B01821701              WFUNERALNET SOCIEDAD LIMITADA.   \n",
      "B95686713                BUSCOLOOK SOCIEDAD LIMITADA.   \n",
      "B95910568               BUSCAMETAS SOCIEDAD LIMITADA.   \n",
      "\n",
      "            Coeficiente de solvencia (%) %    year  \n",
      "Codigo_NIF                                          \n",
      "B95992509                          100.000  2021.0  \n",
      "B75157081                          100.000  2021.0  \n",
      "B01893924                           99.995  2020.0  \n",
      "B01821701                           99.882  2020.0  \n",
      "B95686713                           99.451  2021.0  \n",
      "B95910568                           99.329  2020.0  \n",
      "                                                  Nombre_sabi  \\\n",
      "Codigo_NIF                                                      \n",
      "B01575679     HIPATIA CONTROL INTELIGENTE, SOCIEDAD LIMITADA.   \n",
      "B01575679     HIPATIA CONTROL INTELIGENTE, SOCIEDAD LIMITADA.   \n",
      "B71242499                        BIOMEDICAL HEALTH SYSTEM SL.   \n",
      "B95957643                                SAFYBOX DELIBERTY SL   \n",
      "B95946497                       VIRTUALREC SOCIEDAD LIMITADA.   \n",
      "B01540814   INTELIGENCIA CORPORATIVA Y SEGURIDAD SOCIEDAD ...   \n",
      "\n",
      "            Endeudamiento (%) %    year  \n",
      "Codigo_NIF                               \n",
      "B01575679               502.985  2020.0  \n",
      "B01575679               311.289  2021.0  \n",
      "B71242499               303.776  2020.0  \n",
      "B95957643               230.533  2021.0  \n",
      "B95946497               230.514  2020.0  \n",
      "B01540814               209.584  2020.0  \n",
      "                                              Nombre_sabi  \\\n",
      "Codigo_NIF                                                  \n",
      "B75231753                            SATIINS SOLUTION SL.   \n",
      "B95790812                  HIRUTEKNOVA SOCIEDAD LIMITADA.   \n",
      "B75107235                                  WAVEGARDEN SL.   \n",
      "B95989059        IRIMA METAL SOLUTIONS SOCIEDAD LIMITADA.   \n",
      "B01536192           GUARDIAN PRODUCTS AND PROMOTIONS S.L.   \n",
      "B95990164   BILLIN FACTURA ELECTRONICA SOCIEDAD LIMITADA.   \n",
      "\n",
      "            Apalancamiento (%) %    year  \n",
      "Codigo_NIF                                \n",
      "B75231753              17517.189  2021.0  \n",
      "B95790812               8230.450  2020.0  \n",
      "B75107235               7159.091  2020.0  \n",
      "B95989059               5694.805  2020.0  \n",
      "B01536192               3528.186  2020.0  \n",
      "B95990164               3105.761  2020.0  \n",
      "                                              Nombre_sabi  Liquidez general %  \\\n",
      "Codigo_NIF                                                                      \n",
      "B01893924                                     HOLOCAM SL.           11036.720   \n",
      "B95990164   BILLIN FACTURA ELECTRONICA SOCIEDAD LIMITADA.            5653.073   \n",
      "B75215228                                    BIMERTEK SL.            2276.167   \n",
      "B01821701                  WFUNERALNET SOCIEDAD LIMITADA.             772.239   \n",
      "B01600105                            POLYKEY POLYMERS SL.             286.413   \n",
      "B75237602                        KENTRONIC TECHNOLOGY SL.             148.512   \n",
      "\n",
      "              year  \n",
      "Codigo_NIF          \n",
      "B01893924   2020.0  \n",
      "B95990164   2020.0  \n",
      "B75215228   2020.0  \n",
      "B01821701   2020.0  \n",
      "B01600105   2020.0  \n",
      "B75237602   2020.0  \n",
      "                                      Nombre_sabi  \\\n",
      "Codigo_NIF                                          \n",
      "B75107235                          WAVEGARDEN SL.   \n",
      "B20712683                        TECNO TOOLING SL   \n",
      "B75105643                  GUAJIRA SICODELICA SL.   \n",
      "B86767761   WEGOW TECHNOLOGIES SOCIEDAD LIMITADA.   \n",
      "B01518620   GLOBETESTING NORTE SOCIEDAD LIMITADA.   \n",
      "B75124354   FUTBOLTEK TECHNOLOGY FOR TRAINING SL.   \n",
      "\n",
      "            Rentabilidad financiera (%) %    year  \n",
      "Codigo_NIF                                         \n",
      "B75107235                        6986.127  2020.0  \n",
      "B20712683                        4883.605  2020.0  \n",
      "B75105643                        2010.891  2020.0  \n",
      "B86767761                         728.378  2020.0  \n",
      "B01518620                         515.686  2020.0  \n",
      "B75124354                         457.070  2020.0  \n",
      "                                      Nombre_sabi  \\\n",
      "Codigo_NIF                                          \n",
      "B75107235                          WAVEGARDEN SL.   \n",
      "B20712683                        TECNO TOOLING SL   \n",
      "B75105643                  GUAJIRA SICODELICA SL.   \n",
      "B86767761   WEGOW TECHNOLOGIES SOCIEDAD LIMITADA.   \n",
      "B01518620   GLOBETESTING NORTE SOCIEDAD LIMITADA.   \n",
      "B75124354   FUTBOLTEK TECHNOLOGY FOR TRAINING SL.   \n",
      "\n",
      "            Rentabilidad sobre recursos propios (%) %    year  \n",
      "Codigo_NIF                                                     \n",
      "B75107235                                    6986.127  2020.0  \n",
      "B20712683                                    4883.605  2020.0  \n",
      "B75105643                                    2010.891  2020.0  \n",
      "B86767761                                     728.378  2020.0  \n",
      "B01518620                                     515.686  2020.0  \n",
      "B75124354                                     457.070  2020.0  \n",
      "                                                  Nombre_sabi  \\\n",
      "Codigo_NIF                                                      \n",
      "A78053147   TELEFONICA SOLUCIONES DE INFORMATICA Y COMUNIC...   \n",
      "B75107235                                      WAVEGARDEN SL.   \n",
      "B95610580                 EDUCAEDU BUSINESS SOCIEDAD LIMITADA   \n",
      "A95363859   SOLARPACK CORPORACION TECNOLOGICA SOCIEDAD ANO...   \n",
      "A78053147   TELEFONICA SOLUCIONES DE INFORMATICA Y COMUNIC...   \n",
      "A48464788                                   AJL OPHTHALMIC SA   \n",
      "\n",
      "            Cash flow mil EUR    year  \n",
      "Codigo_NIF                             \n",
      "A78053147        128101.00000  2020.0  \n",
      "B75107235          5048.31900  2021.0  \n",
      "B95610580          4845.07258  2021.0  \n",
      "A95363859          3670.00000  2021.0  \n",
      "A78053147          3589.00000  2021.0  \n",
      "A48464788          3296.40800  2021.0  \n",
      "                                                  Nombre_sabi  EBITDA mil EUR  \\\n",
      "Codigo_NIF                                                                      \n",
      "A78053147   TELEFONICA SOLUCIONES DE INFORMATICA Y COMUNIC...     99163.00000   \n",
      "A95363859   SOLARPACK CORPORACION TECNOLOGICA SOCIEDAD ANO...      9977.00000   \n",
      "B95745832         BAS PROJECTS CORPORATION SOCIEDAD LIMITADA.      8893.58815   \n",
      "B75107235                                      WAVEGARDEN SL.      6451.83500   \n",
      "A78053147   TELEFONICA SOLUCIONES DE INFORMATICA Y COMUNIC...      6182.00000   \n",
      "A95363859   SOLARPACK CORPORACION TECNOLOGICA SOCIEDAD ANO...      4798.00000   \n",
      "\n",
      "              year  \n",
      "Codigo_NIF          \n",
      "A78053147   2020.0  \n",
      "A95363859   2021.0  \n",
      "B95745832   2020.0  \n",
      "B75107235   2021.0  \n",
      "A78053147   2021.0  \n",
      "A95363859   2020.0  \n",
      "                                                  Nombre_sabi  \\\n",
      "Codigo_NIF                                                      \n",
      "A78053147   TELEFONICA SOLUCIONES DE INFORMATICA Y COMUNIC...   \n",
      "A78053147   TELEFONICA SOLUCIONES DE INFORMATICA Y COMUNIC...   \n",
      "B75103515                               IRIZAR E-MOBILITY SL.   \n",
      "B95864310                    HAIZEA BILBAO SOCIEDAD LIMITADA.   \n",
      "A95363859   SOLARPACK CORPORACION TECNOLOGICA SOCIEDAD ANO...   \n",
      "B75103515                               IRIZAR E-MOBILITY SL.   \n",
      "\n",
      "            Importe neto Cifra de Ventas mil EUR    year  \n",
      "Codigo_NIF                                                \n",
      "A78053147                            1258358.000  2021.0  \n",
      "A78053147                             973746.000  2020.0  \n",
      "B75103515                             104860.642  2021.0  \n",
      "B95864310                              65005.000  2021.0  \n",
      "A95363859                              54079.000  2021.0  \n",
      "B75103515                              49972.479  2020.0  \n",
      "                                                  Nombre_sabi  \\\n",
      "Codigo_NIF                                                      \n",
      "A95363859   SOLARPACK CORPORACION TECNOLOGICA SOCIEDAD ANO...   \n",
      "B75103515                               IRIZAR E-MOBILITY SL.   \n",
      "B95810826                   LOOKIERO STYLE SOCIEDAD LIMITADA.   \n",
      "A95363859   SOLARPACK CORPORACION TECNOLOGICA SOCIEDAD ANO...   \n",
      "B95586780             ONCOMATRYX BIOPHARMA SOCIEDAD LIMITADA.   \n",
      "B75103515                               IRIZAR E-MOBILITY SL.   \n",
      "\n",
      "            Tesorería mil EUR    year  \n",
      "Codigo_NIF                             \n",
      "A95363859         50938.00000  2020.0  \n",
      "B75103515         45819.78600  2021.0  \n",
      "B95810826         19517.93900  2021.0  \n",
      "A95363859         17474.00000  2021.0  \n",
      "B95586780         14233.32526  2021.0  \n",
      "B75103515         11694.42000  2020.0  \n",
      "                                            Nombre_sabi  \\\n",
      "Codigo_NIF                                                \n",
      "B95745832   BAS PROJECTS CORPORATION SOCIEDAD LIMITADA.   \n",
      "B75103515                         IRIZAR E-MOBILITY SL.   \n",
      "B75103515                         IRIZAR E-MOBILITY SL.   \n",
      "B95864310              HAIZEA BILBAO SOCIEDAD LIMITADA.   \n",
      "B95864310              HAIZEA BILBAO SOCIEDAD LIMITADA.   \n",
      "B95810826             LOOKIERO STYLE SOCIEDAD LIMITADA.   \n",
      "\n",
      "            Deudas financieras mil EUR    year  \n",
      "Codigo_NIF                                      \n",
      "B95745832                  40277.42589  2020.0  \n",
      "B75103515                  29685.49800  2021.0  \n",
      "B75103515                  19944.94600  2020.0  \n",
      "B95864310                  10135.00000  2020.0  \n",
      "B95864310                   8380.00000  2021.0  \n",
      "B95810826                   6131.66700  2021.0  \n",
      "                                                  Nombre_sabi  \\\n",
      "Codigo_NIF                                                      \n",
      "A95363859   SOLARPACK CORPORACION TECNOLOGICA SOCIEDAD ANO...   \n",
      "A95363859   SOLARPACK CORPORACION TECNOLOGICA SOCIEDAD ANO...   \n",
      "A95625042   IBIL GESTOR DE CARGA DE VEHICULO ELECTRICO SOC...   \n",
      "A95625042   IBIL GESTOR DE CARGA DE VEHICULO ELECTRICO SOC...   \n",
      "A95991600     ENERGIA DISTRIBUIDA DEL NORTE SOCIEDAD ANONIMA.   \n",
      "A95991600     ENERGIA DISTRIBUIDA DEL NORTE SOCIEDAD ANONIMA.   \n",
      "\n",
      "            Free capital mil EUR    year  \n",
      "Codigo_NIF                                \n",
      "A95363859             13301.2048  2021.0  \n",
      "A95363859             13301.2048  2020.0  \n",
      "A95625042              2860.9290  2020.0  \n",
      "A95625042              2860.9290  2021.0  \n",
      "A95991600              1279.8480  2020.0  \n",
      "A95991600              1279.8480  2021.0  \n",
      "                                               Nombre_sabi  \\\n",
      "Codigo_NIF                                                   \n",
      "B95770137                     ALEOVITRO SOCIEDAD LIMITADA.   \n",
      "B95951190          COREMARINE SOLUTIONS SOCIEDAD LIMITADA.   \n",
      "B95936670      ANBIOTEK BIOTECHNOLOGIES SOCIEDAD LIMITADA.   \n",
      "B20935532                     EDATALIA DATA SOLUTIONS S.L.   \n",
      "B95274890   IRONTEC INTERNET Y SISTEMAS SOBRE GNU LINUX SL   \n",
      "B20935532                     EDATALIA DATA SOLUTIONS S.L.   \n",
      "\n",
      "            Ratio de cobertura de intereses %    year  \n",
      "Codigo_NIF                                             \n",
      "B95770137                         7328866.000  2021.0  \n",
      "B95951190                           22988.315  2020.0  \n",
      "B95936670                           20497.863  2021.0  \n",
      "B20935532                            9762.106  2020.0  \n",
      "B95274890                            9469.572  2020.0  \n",
      "B20935532                            8163.974  2021.0  \n",
      "                                                 Nombre_sabi  \\\n",
      "Codigo_NIF                                                     \n",
      "B95792073                  AZPIARAN TOOLS SOCIEDAD LIMITADA.   \n",
      "B95274890     IRONTEC INTERNET Y SISTEMAS SOBRE GNU LINUX SL   \n",
      "B95817888          ATLAS MOLECULAR PHARMA SOCIEDAD LIMITADA.   \n",
      "B75080853                              ENERLOGIX SYSTEMS SL.   \n",
      "B95626842   SYMPLIO LIFESTYLE TECHNOLOGIES SOCIEDAD LIMITADA   \n",
      "B01531755                         PIXYBIT SOCIEDAD LIMITADA.   \n",
      "\n",
      "            Ratios de autonomía financiera a medio y largo plazo %    year  \n",
      "Codigo_NIF                                                                  \n",
      "B95792073                                       167483.775000       2021.0  \n",
      "B95274890                                         2254.107000       2021.0  \n",
      "B95817888                                         1704.663000       2021.0  \n",
      "B75080853                                         1387.569996       2021.0  \n",
      "B95626842                                          937.450223       2021.0  \n",
      "B01531755                                          852.975218       2020.0  \n",
      "                                                  Nombre_sabi  \\\n",
      "Codigo_NIF                                                      \n",
      "A78053147   TELEFONICA SOLUCIONES DE INFORMATICA Y COMUNIC...   \n",
      "A78053147   TELEFONICA SOLUCIONES DE INFORMATICA Y COMUNIC...   \n",
      "B95864310                    HAIZEA BILBAO SOCIEDAD LIMITADA.   \n",
      "B95864310                    HAIZEA BILBAO SOCIEDAD LIMITADA.   \n",
      "B75103515                               IRIZAR E-MOBILITY SL.   \n",
      "B75103515                               IRIZAR E-MOBILITY SL.   \n",
      "\n",
      "            Número empleados    year  \n",
      "Codigo_NIF                            \n",
      "A78053147              968.0  2020.0  \n",
      "A78053147              919.0  2021.0  \n",
      "B95864310              338.0  2021.0  \n",
      "B95864310              243.0  2020.0  \n",
      "B75103515              203.0  2021.0  \n",
      "B75103515              192.0  2020.0  \n",
      "                                                  Nombre_sabi  total_funding  \\\n",
      "Codigo_NIF                                                                     \n",
      "A95363859   SOLARPACK CORPORACION TECNOLOGICA SOCIEDAD ANO...         100.00   \n",
      "A95363859   SOLARPACK CORPORACION TECNOLOGICA SOCIEDAD ANO...         100.00   \n",
      "B95810826                   LOOKIERO STYLE SOCIEDAD LIMITADA.          51.35   \n",
      "B95810826                   LOOKIERO STYLE SOCIEDAD LIMITADA.          51.35   \n",
      "B95673406                    SHERPA EUROPE SOCIEDAD LIMITADA.          28.77   \n",
      "B95673406                    SHERPA EUROPE SOCIEDAD LIMITADA.          28.77   \n",
      "\n",
      "              year  \n",
      "Codigo_NIF          \n",
      "A95363859   2021.0  \n",
      "A95363859   2020.0  \n",
      "B95810826   2021.0  \n",
      "B95810826   2020.0  \n",
      "B95673406   2021.0  \n",
      "B95673406   2020.0  \n"
     ]
    }
   ],
   "source": [
    "saber_empresa_outliersMAX(dftot, columnas)"
   ]
  },
  {
   "cell_type": "code",
   "execution_count": 123,
   "metadata": {},
   "outputs": [
    {
     "name": "stdout",
     "output_type": "stream",
     "text": [
      "                                                Nombre_sabi  \\\n",
      "Codigo_NIF                                                    \n",
      "B01575679   HIPATIA CONTROL INTELIGENTE, SOCIEDAD LIMITADA.   \n",
      "B95957643                              SAFYBOX DELIBERTY SL   \n",
      "A95991600   ENERGIA DISTRIBUIDA DEL NORTE SOCIEDAD ANONIMA.   \n",
      "B75124354             FUTBOLTEK TECHNOLOGY FOR TRAINING SL.   \n",
      "B95957643                              SAFYBOX DELIBERTY SL   \n",
      "B95969887             BERBA TRANSLATIONS SOCIEDAD LIMITADA.   \n",
      "\n",
      "            Rentabilidad sobre capital empleado (%) %    year  \n",
      "Codigo_NIF                                                     \n",
      "B01575679                                    -724.311  2020.0  \n",
      "B95957643                                    -659.283  2020.0  \n",
      "A95991600                                    -418.812  2021.0  \n",
      "B75124354                                    -412.170  2020.0  \n",
      "B95957643                                    -374.825  2021.0  \n",
      "B95969887                                    -374.248  2021.0  \n",
      "                                                Nombre_sabi  \\\n",
      "Codigo_NIF                                                    \n",
      "B95957643                              SAFYBOX DELIBERTY SL   \n",
      "B95946497                     VIRTUALREC SOCIEDAD LIMITADA.   \n",
      "B95957643                              SAFYBOX DELIBERTY SL   \n",
      "B75112953                            DONOSTIA BY LOCALS SL.   \n",
      "B75139725                        COMPO GLOBAL SOLUTIONS SL.   \n",
      "B01575679   HIPATIA CONTROL INTELIGENTE, SOCIEDAD LIMITADA.   \n",
      "\n",
      "            Rentabilidad sobre el activo total (%) %    year  \n",
      "Codigo_NIF                                                    \n",
      "B95957643                                   -290.874  2020.0  \n",
      "B95946497                                   -210.338  2020.0  \n",
      "B95957643                                   -195.848  2021.0  \n",
      "B75112953                                   -175.048  2020.0  \n",
      "B75139725                                   -144.838  2021.0  \n",
      "B01575679                                   -144.400  2020.0  \n",
      "                                                Nombre_sabi  \\\n",
      "Codigo_NIF                                                    \n",
      "B95957643                              SAFYBOX DELIBERTY SL   \n",
      "B95946497                     VIRTUALREC SOCIEDAD LIMITADA.   \n",
      "B95957643                              SAFYBOX DELIBERTY SL   \n",
      "B75112953                            DONOSTIA BY LOCALS SL.   \n",
      "B75139725                        COMPO GLOBAL SOLUTIONS SL.   \n",
      "B01575679   HIPATIA CONTROL INTELIGENTE, SOCIEDAD LIMITADA.   \n",
      "\n",
      "            Rentabilidad económica (%) %    year  \n",
      "Codigo_NIF                                        \n",
      "B95957643                       -290.874  2020.0  \n",
      "B95946497                       -210.338  2020.0  \n",
      "B95957643                       -195.848  2021.0  \n",
      "B75112953                       -175.048  2020.0  \n",
      "B75139725                       -144.838  2021.0  \n",
      "B01575679                       -144.400  2020.0  \n",
      "                                                  Nombre_sabi  \\\n",
      "Codigo_NIF                                                      \n",
      "B01575679     HIPATIA CONTROL INTELIGENTE, SOCIEDAD LIMITADA.   \n",
      "B01575679     HIPATIA CONTROL INTELIGENTE, SOCIEDAD LIMITADA.   \n",
      "B71242499                        BIOMEDICAL HEALTH SYSTEM SL.   \n",
      "B95957643                                SAFYBOX DELIBERTY SL   \n",
      "B95946497                       VIRTUALREC SOCIEDAD LIMITADA.   \n",
      "B01540814   INTELIGENCIA CORPORATIVA Y SEGURIDAD SOCIEDAD ...   \n",
      "\n",
      "            Coeficiente de solvencia (%) %    year  \n",
      "Codigo_NIF                                          \n",
      "B01575679                         -402.985  2020.0  \n",
      "B01575679                         -211.289  2021.0  \n",
      "B71242499                         -203.776  2020.0  \n",
      "B95957643                         -130.533  2021.0  \n",
      "B95946497                         -130.514  2020.0  \n",
      "B01540814                         -109.584  2020.0  \n",
      "                                          Nombre_sabi  Endeudamiento (%) %  \\\n",
      "Codigo_NIF                                                                   \n",
      "B95992509   YOID IDENTIDAD DIGITAL SOCIEDAD LIMITADA.                0.000   \n",
      "B75157081                    MATHEMATICS FOR LIFE SL.                0.000   \n",
      "B01893924                                 HOLOCAM SL.                0.004   \n",
      "B01821701              WFUNERALNET SOCIEDAD LIMITADA.                0.117   \n",
      "B95686713                BUSCOLOOK SOCIEDAD LIMITADA.                0.548   \n",
      "B95910568               BUSCAMETAS SOCIEDAD LIMITADA.                0.670   \n",
      "\n",
      "              year  \n",
      "Codigo_NIF          \n",
      "B95992509   2021.0  \n",
      "B75157081   2021.0  \n",
      "B01893924   2020.0  \n",
      "B01821701   2020.0  \n",
      "B95686713   2021.0  \n",
      "B95910568   2020.0  \n",
      "                                              Nombre_sabi  \\\n",
      "Codigo_NIF                                                  \n",
      "B95986733       BAY OF BISCAY AQUATICS SOCIEDAD LIMITADA.   \n",
      "B20712683                                TECNO TOOLING SL   \n",
      "B75231753                            SATIINS SOLUTION SL.   \n",
      "B95930830                 EFILM ONLINE SOCIEDAD LIMITADA.   \n",
      "B75105643                          GUAJIRA SICODELICA SL.   \n",
      "B95990164   BILLIN FACTURA ELECTRONICA SOCIEDAD LIMITADA.   \n",
      "\n",
      "            Apalancamiento (%) %    year  \n",
      "Codigo_NIF                                \n",
      "B95986733              -9808.209  2020.0  \n",
      "B20712683              -7049.950  2020.0  \n",
      "B75231753              -5776.464  2020.0  \n",
      "B95930830              -3791.178  2020.0  \n",
      "B75105643              -2703.323  2020.0  \n",
      "B95990164              -1770.621  2021.0  \n",
      "                                                 Nombre_sabi  \\\n",
      "Codigo_NIF                                                     \n",
      "B95626842   SYMPLIO LIFESTYLE TECHNOLOGIES SOCIEDAD LIMITADA   \n",
      "B95626842   SYMPLIO LIFESTYLE TECHNOLOGIES SOCIEDAD LIMITADA   \n",
      "B75107623                   INTERSTOCK DEVELOPMENT SPAIN SL.   \n",
      "B71242499                       BIOMEDICAL HEALTH SYSTEM SL.   \n",
      "B95754586                      OPEN COAST SOCIEDAD LIMITADA.   \n",
      "B75215830                                  EOLICARE WIND SL.   \n",
      "\n",
      "            Liquidez general %    year  \n",
      "Codigo_NIF                              \n",
      "B95626842                0.036  2020.0  \n",
      "B95626842                0.039  2021.0  \n",
      "B75107623                0.054  2021.0  \n",
      "B71242499                0.077  2020.0  \n",
      "B95754586                0.102  2021.0  \n",
      "B75215830                0.108  2021.0  \n",
      "                                         Nombre_sabi  \\\n",
      "Codigo_NIF                                             \n",
      "B95790812             HIRUTEKNOVA SOCIEDAD LIMITADA.   \n",
      "B95989059   IRIMA METAL SOLUTIONS SOCIEDAD LIMITADA.   \n",
      "B01536192      GUARDIAN PRODUCTS AND PROMOTIONS S.L.   \n",
      "B75186403             TECNOLOGIA APLICADA EPACK3 SL.   \n",
      "B95957643                       SAFYBOX DELIBERTY SL   \n",
      "B75120964      ULTRASOUND TECHNOLOGY BABY3DPRINT SL.   \n",
      "\n",
      "            Rentabilidad financiera (%) %    year  \n",
      "Codigo_NIF                                         \n",
      "B95790812                       -1646.200  2020.0  \n",
      "B95989059                       -1588.729  2020.0  \n",
      "B01536192                        -871.716  2020.0  \n",
      "B75186403                        -853.175  2021.0  \n",
      "B95957643                        -659.283  2020.0  \n",
      "B75120964                        -543.553  2021.0  \n",
      "                                         Nombre_sabi  \\\n",
      "Codigo_NIF                                             \n",
      "B95790812             HIRUTEKNOVA SOCIEDAD LIMITADA.   \n",
      "B95989059   IRIMA METAL SOLUTIONS SOCIEDAD LIMITADA.   \n",
      "B01536192      GUARDIAN PRODUCTS AND PROMOTIONS S.L.   \n",
      "B75186403             TECNOLOGIA APLICADA EPACK3 SL.   \n",
      "B95957643                       SAFYBOX DELIBERTY SL   \n",
      "B75120964      ULTRASOUND TECHNOLOGY BABY3DPRINT SL.   \n",
      "\n",
      "            Rentabilidad sobre recursos propios (%) %    year  \n",
      "Codigo_NIF                                                     \n",
      "B95790812                                   -1646.200  2020.0  \n",
      "B95989059                                   -1588.729  2020.0  \n",
      "B01536192                                    -871.716  2020.0  \n",
      "B75186403                                    -853.175  2021.0  \n",
      "B95957643                                    -659.283  2020.0  \n",
      "B75120964                                    -543.553  2021.0  \n",
      "                                  Nombre_sabi  Cash flow mil EUR    year\n",
      "Codigo_NIF                                                              \n",
      "B75103515               IRIZAR E-MOBILITY SL.       -13014.98500  2020.0\n",
      "B95864310    HAIZEA BILBAO SOCIEDAD LIMITADA.        -6061.00000  2020.0\n",
      "B75103515               IRIZAR E-MOBILITY SL.        -5899.97800  2021.0\n",
      "B95810826   LOOKIERO STYLE SOCIEDAD LIMITADA.        -4751.85200  2021.0\n",
      "B95810826   LOOKIERO STYLE SOCIEDAD LIMITADA.        -2819.29300  2020.0\n",
      "B95673406    SHERPA EUROPE SOCIEDAD LIMITADA.        -1507.57137  2021.0\n",
      "                                            Nombre_sabi  EBITDA mil EUR  \\\n",
      "Codigo_NIF                                                                \n",
      "B75103515                         IRIZAR E-MOBILITY SL.      -12410.040   \n",
      "B95745832   BAS PROJECTS CORPORATION SOCIEDAD LIMITADA.       -6636.000   \n",
      "B75103515                         IRIZAR E-MOBILITY SL.       -5011.881   \n",
      "B95810826             LOOKIERO STYLE SOCIEDAD LIMITADA.       -4572.621   \n",
      "B95864310              HAIZEA BILBAO SOCIEDAD LIMITADA.       -3578.000   \n",
      "B95810826             LOOKIERO STYLE SOCIEDAD LIMITADA.       -2633.266   \n",
      "\n",
      "              year  \n",
      "Codigo_NIF          \n",
      "B75103515   2020.0  \n",
      "B95745832   2021.0  \n",
      "B75103515   2021.0  \n",
      "B95810826   2021.0  \n",
      "B95864310   2020.0  \n",
      "B95810826   2020.0  \n",
      "                                                  Nombre_sabi  \\\n",
      "Codigo_NIF                                                      \n",
      "B75192468                                     GOAZ SOCIAL SL.   \n",
      "B95623336   LUMIKER APLICACIONES TECNOLOGICAS SOCIEDAD LIM...   \n",
      "B75176818                                AIARA SOLUCIONES SL.   \n",
      "B75236794                                        NANO-BAY SL.   \n",
      "B01583350                         TITHONUS BIORESOURCES, S.L.   \n",
      "B95986733           BAY OF BISCAY AQUATICS SOCIEDAD LIMITADA.   \n",
      "\n",
      "            Importe neto Cifra de Ventas mil EUR    year  \n",
      "Codigo_NIF                                                \n",
      "B75192468                                0.06099  2020.0  \n",
      "B95623336                                0.12176  2020.0  \n",
      "B75176818                                0.12248  2020.0  \n",
      "B75236794                                0.20231  2020.0  \n",
      "B01583350                                0.48000  2021.0  \n",
      "B95986733                                0.60000  2021.0  \n",
      "                                             Nombre_sabi  Tesorería mil EUR  \\\n",
      "Codigo_NIF                                                                    \n",
      "B26482174           CREATIVITIC INNOVA SOCIEDAD LIMITADA            0.00446   \n",
      "B95910691                  PETA OPTIK SOCIEDAD LIMITADA.            0.00854   \n",
      "B95890893                    SUPRASYS SOCIEDAD LIMITADA.            0.02500   \n",
      "B01587328   NOVAUT SMART ENGINEERING, SOCIEDAD LIMITADA.            0.02779   \n",
      "B87217436                   AURA INNOVATIVE ROBOTICS SL.            0.04380   \n",
      "B95957643                           SAFYBOX DELIBERTY SL            0.05115   \n",
      "\n",
      "              year  \n",
      "Codigo_NIF          \n",
      "B26482174   2020.0  \n",
      "B95910691   2021.0  \n",
      "B95890893   2021.0  \n",
      "B01587328   2020.0  \n",
      "B87217436   2021.0  \n",
      "B95957643   2021.0  \n",
      "                                               Nombre_sabi  \\\n",
      "Codigo_NIF                                                   \n",
      "B75233916                           INGESEA AUTOMATION SL.   \n",
      "B95738803   NAUTILUS FLOATING SOLUTIONS SOCIEDAD LIMITADA.   \n",
      "B01529361                         INTELLIGENT PARKING S.L.   \n",
      "B01568880          BIHARTECH SOLUCIONES TECNOLOGICAS, S.L.   \n",
      "B75200840                           EMISSARY COSMETICS SL.   \n",
      "B01821701                   WFUNERALNET SOCIEDAD LIMITADA.   \n",
      "\n",
      "            Deudas financieras mil EUR    year  \n",
      "Codigo_NIF                                      \n",
      "B75233916                      0.00072  2020.0  \n",
      "B95738803                      0.00230  2020.0  \n",
      "B01529361                      0.00385  2021.0  \n",
      "B01568880                      0.01039  2020.0  \n",
      "B75200840                      0.04620  2021.0  \n",
      "B01821701                      0.05060  2021.0  \n",
      "                                                  Nombre_sabi  \\\n",
      "Codigo_NIF                                                      \n",
      "A78053147   TELEFONICA SOLUCIONES DE INFORMATICA Y COMUNIC...   \n",
      "B95949673    ADVANCED OPTICAL TECHNOLOGIES SOCIEDAD LIMITADA.   \n",
      "B95797890          MUON TOMOGRAPHY SYSTEMS SOCIEDAD LIMITADA.   \n",
      "B95797890          MUON TOMOGRAPHY SYSTEMS SOCIEDAD LIMITADA.   \n",
      "B95818829            LABSLAND EXPERIMENTIA SOCIEDAD LIMITADA.   \n",
      "B95818829            LABSLAND EXPERIMENTIA SOCIEDAD LIMITADA.   \n",
      "\n",
      "            Free capital mil EUR    year  \n",
      "Codigo_NIF                                \n",
      "A78053147                    0.0  2021.0  \n",
      "B95949673                    0.0  2020.0  \n",
      "B95797890                    0.0  2021.0  \n",
      "B95797890                    0.0  2020.0  \n",
      "B95818829                    0.0  2021.0  \n",
      "B95818829                    0.0  2020.0  \n",
      "                                                Nombre_sabi  \\\n",
      "Codigo_NIF                                                    \n",
      "B01575679   HIPATIA CONTROL INTELIGENTE, SOCIEDAD LIMITADA.   \n",
      "B01549096                           BV CLEANING & CARE S.L.   \n",
      "B01549096                           BV CLEANING & CARE S.L.   \n",
      "B75163832                          BIRZITEK ENGINEERING SL.   \n",
      "B71242499                      BIOMEDICAL HEALTH SYSTEM SL.   \n",
      "B75176057                                  EDUCA REALITY SL   \n",
      "\n",
      "            Ratio de cobertura de intereses %    year  \n",
      "Codigo_NIF                                             \n",
      "B01575679                           -5535.824  2020.0  \n",
      "B01549096                           -4944.125  2021.0  \n",
      "B01549096                           -4133.222  2020.0  \n",
      "B75163832                           -3330.360  2020.0  \n",
      "B71242499                           -1080.562  2020.0  \n",
      "B75176057                            -949.626  2021.0  \n",
      "                                                  Nombre_sabi  \\\n",
      "Codigo_NIF                                                      \n",
      "A95991600     ENERGIA DISTRIBUIDA DEL NORTE SOCIEDAD ANONIMA.   \n",
      "B95807558   ADVANCED DEVELOPMENT AND INNOVATION SOCIEDAD L...   \n",
      "B95807558   ADVANCED DEVELOPMENT AND INNOVATION SOCIEDAD L...   \n",
      "B01583350                         TITHONUS BIORESOURCES, S.L.   \n",
      "B95946497                       VIRTUALREC SOCIEDAD LIMITADA.   \n",
      "B01575679     HIPATIA CONTROL INTELIGENTE, SOCIEDAD LIMITADA.   \n",
      "\n",
      "            Ratios de autonomía financiera a medio y largo plazo %    year  \n",
      "Codigo_NIF                                                                  \n",
      "A95991600                                          -22.138000       2020.0  \n",
      "B95807558                                          -10.774913       2021.0  \n",
      "B95807558                                           -8.952182       2020.0  \n",
      "B01583350                                           -3.550200       2020.0  \n",
      "B95946497                                           -2.816451       2020.0  \n",
      "B01575679                                           -0.952000       2020.0  \n",
      "                                              Nombre_sabi  Número empleados  \\\n",
      "Codigo_NIF                                                                    \n",
      "B95789988               ROBOTS GALLERY SOCIEDAD LIMITADA.               1.0   \n",
      "B95949939       URA FISHING INNOVATION SOCIEDAD LIMITADA.               1.0   \n",
      "B75172098   RPA BIROTOR HELICOPTER RESCUE, ASSISTANCE SL.               1.0   \n",
      "B95911061      GLOBAL SURFING SERVICES SOCIEDAD LIMITADA.               1.0   \n",
      "B75231753                            SATIINS SOLUTION SL.               1.0   \n",
      "B75172098   RPA BIROTOR HELICOPTER RESCUE, ASSISTANCE SL.               1.0   \n",
      "\n",
      "              year  \n",
      "Codigo_NIF          \n",
      "B95789988   2021.0  \n",
      "B95949939   2020.0  \n",
      "B75172098   2020.0  \n",
      "B95911061   2020.0  \n",
      "B75231753   2021.0  \n",
      "B75172098   2021.0  \n",
      "                                                  Nombre_sabi  total_funding  \\\n",
      "Codigo_NIF                                                                     \n",
      "A78053147   TELEFONICA SOLUCIONES DE INFORMATICA Y COMUNIC...            0.0   \n",
      "B95552519                   AVANZABIO AGRO SOCIEDAD LIMITADA.            0.0   \n",
      "B95552519                   AVANZABIO AGRO SOCIEDAD LIMITADA.            0.0   \n",
      "B75219261                          AMC VIBRATION SOLUTION SL.            0.0   \n",
      "B75219261                          AMC VIBRATION SOLUTION SL.            0.0   \n",
      "B75144998                            L&L ROTARY SOLUTIONS SL.            0.0   \n",
      "\n",
      "              year  \n",
      "Codigo_NIF          \n",
      "A78053147   2021.0  \n",
      "B95552519   2021.0  \n",
      "B95552519   2020.0  \n",
      "B75219261   2020.0  \n",
      "B75219261   2021.0  \n",
      "B75144998   2020.0  \n"
     ]
    }
   ],
   "source": [
    "saber_empresa_outliersMIN(dftot, columnas)"
   ]
  },
  {
   "cell_type": "markdown",
   "metadata": {},
   "source": [
    "---------------------------------------"
   ]
  },
  {
   "attachments": {},
   "cell_type": "markdown",
   "metadata": {},
   "source": [
    "## Capex y Free cash flow"
   ]
  },
  {
   "cell_type": "code",
   "execution_count": 124,
   "metadata": {},
   "outputs": [],
   "source": [
    "# CÁLCULO DEL FREE CASH FLOW\n",
    "\n",
    "# capex = activo no corriente año2 - (activo no corriente año1 - dotac.amort.año1)\n",
    "#dftot['capex'] = dftot[dftot['year']==2021]['Inmovilizado mil EUR']-(dftot[dftot['year']==2020]['Inmovilizado mil EUR'] - dftot[dftot['year']==2020]['Dotaciones para amortiz. de inmovil. mil EUR'])\n",
    "\n",
    "# free cash flow = ebit - impuestos + dotacion_amort - capex - activo circulante\n",
    "# se corrigen capex y activo circulante porque están sumados pero aún no se han cobrado así que no son cash (clientes y proveedores)\n",
    "#dftot['free_cash_flow'] = dftot['EBIT mil EUR'] - dftot['Impuestos sobre sociedades mil EUR'] + dftot['Dotaciones para amortiz. de inmovil. mil EUR'] \\\n",
    "#    - dftot['capex'] - dftot['Activo circulante mil EUR']"
   ]
  },
  {
   "cell_type": "code",
   "execution_count": 125,
   "metadata": {},
   "outputs": [
    {
     "data": {
      "text/plain": [
       "valuation_2022    695\n",
       "dtype: int64"
      ]
     },
     "execution_count": 125,
     "metadata": {},
     "output_type": "execute_result"
    }
   ],
   "source": [
    "# Missings restantes\n",
    "dftot.isna().sum()[dftot.isna().sum()>0] # solo quedan los de la target que hay que filtrar"
   ]
  },
  {
   "attachments": {},
   "cell_type": "markdown",
   "metadata": {},
   "source": [
    "# Feature selection"
   ]
  },
  {
   "cell_type": "code",
   "execution_count": 126,
   "metadata": {},
   "outputs": [],
   "source": [
    "# features : según el modelo de Random Forest\n",
    "# new_feat : según f_classif o f_regression\n",
    "# new_features : según Recursive Feature Elimination\n",
    "# corr_features : según correlación con la variable objetivo"
   ]
  },
  {
   "cell_type": "code",
   "execution_count": 127,
   "metadata": {},
   "outputs": [],
   "source": [
    "df_aux = dftot.copy()"
   ]
  },
  {
   "attachments": {},
   "cell_type": "markdown",
   "metadata": {},
   "source": [
    "#### Para regresión"
   ]
  },
  {
   "cell_type": "code",
   "execution_count": 128,
   "metadata": {},
   "outputs": [],
   "source": [
    "dftot = df_aux.copy()"
   ]
  },
  {
   "cell_type": "code",
   "execution_count": 129,
   "metadata": {},
   "outputs": [],
   "source": [
    "dftot = dftot.drop(columns=['Codigo primario CNAE 2009', 'Nombre_sabi', 'Localidad', 'Fecha constitucion', 'Codigo consolidacion', 'Forma juridica', 'Forma juridica detallada', 'Estado', 'Estado detallado', 'website', 'name_dealroom', 'profile_url', 'tagline'])"
   ]
  },
  {
   "cell_type": "code",
   "execution_count": 130,
   "metadata": {},
   "outputs": [],
   "source": [
    "# Se filtran los NaN de la target\n",
    "dftot = dftot[~dftot['valuation_2022'].isna()]"
   ]
  },
  {
   "cell_type": "code",
   "execution_count": 131,
   "metadata": {},
   "outputs": [],
   "source": [
    "X = dftot.drop(columns=['valuation_2022'])\n",
    "y = dftot['valuation_2022']"
   ]
  },
  {
   "cell_type": "code",
   "execution_count": 132,
   "metadata": {},
   "outputs": [
    {
     "data": {
      "text/plain": [
       "(120, 68)"
      ]
     },
     "execution_count": 132,
     "metadata": {},
     "output_type": "execute_result"
    }
   ],
   "source": [
    "X.shape # 120 instancias, 60 empresas"
   ]
  },
  {
   "cell_type": "code",
   "execution_count": 133,
   "metadata": {},
   "outputs": [],
   "source": [
    "# Label encoding sobre todas las categóricas\n",
    "from sklearn.preprocessing import LabelEncoder\n",
    "le = LabelEncoder()\n",
    "for col in X.select_dtypes(include='object').columns:\n",
    "    X[col] = le.fit_transform(X[col])"
   ]
  },
  {
   "cell_type": "code",
   "execution_count": 134,
   "metadata": {},
   "outputs": [],
   "source": [
    "# Split train-test\n",
    "RANDOM_STATE = 42\n",
    "from sklearn.model_selection import train_test_split\n",
    "x_train, x_test, y_train, y_test = train_test_split(X, y, test_size=0.3, random_state=RANDOM_STATE)"
   ]
  },
  {
   "cell_type": "code",
   "execution_count": 135,
   "metadata": {},
   "outputs": [],
   "source": [
    "# Modelo a partir del cual se sacarán las features más importantes\n",
    "from sklearn.ensemble import RandomForestRegressor\n",
    "rf = RandomForestRegressor(random_state=RANDOM_STATE)\n",
    "rf.fit(x_train, y_train)\n",
    "predictions = rf.predict(x_test)"
   ]
  },
  {
   "cell_type": "code",
   "execution_count": 136,
   "metadata": {},
   "outputs": [
    {
     "data": {
      "text/plain": [
       "['Existencias mil EUR',\n",
       " 'Cash flow mil EUR',\n",
       " 'Pasivo líquido mil EUR',\n",
       " 'ratio_prueba_acida',\n",
       " 'Número empleados',\n",
       " 'ownerships',\n",
       " 'Resultado del Ejercicio mil EUR',\n",
       " 'ratio_deuda_patrimonio',\n",
       " 'Acreedores comerciales mil EUR',\n",
       " 'Inmovilizado mil EUR',\n",
       " 'Activo circulante mil EUR',\n",
       " 'Dotaciones para amortiz. de inmovil. mil EUR',\n",
       " 'Deudas financieras mil EUR',\n",
       " 'Resultado financiero mil EUR',\n",
       " 'Importe neto Cifra de Ventas mil EUR',\n",
       " 'ratio_ventas_patrimonio',\n",
       " 'Tesorería mil EUR',\n",
       " 'total_rounds',\n",
       " 'Total pasivo y capital propio mil EUR',\n",
       " 'ratio_ventas_activos',\n",
       " 'Impuestos sobre sociedades mil EUR',\n",
       " 'ratio_deuda_activos',\n",
       " 'Total activo mil EUR',\n",
       " 'Fondo de maniobra mil EUR']"
      ]
     },
     "execution_count": 136,
     "metadata": {},
     "output_type": "execute_result"
    },
    {
     "data": {
      "image/png": "[encoded data removed]",
      "text/plain": [
       "<Figure size 720x720 with 1 Axes>"
      ]
     },
     "metadata": {
      "needs_background": "light"
     },
     "output_type": "display_data"
    }
   ],
   "source": [
    "from matplotlib import pyplot as plt\n",
    "forest_importances = pd.Series(rf.feature_importances_, index=x_train.columns).sort_values(ascending=True)\n",
    "forest_importances\n",
    "\n",
    "plt.figure(figsize=(10,10))\n",
    "forest_importances.plot(kind='barh')\n",
    "plt.xlabel(\"feature importance\")\n",
    "plt.title('Random Forest feature importance (scikit-learn)')\n",
    "\n",
    "# Elegir esas variables\n",
    "umbral = 0.01\n",
    "forest_importances = forest_importances.to_frame().reset_index()\n",
    "forest_importances.columns = ['feature', 'importance']\n",
    "features = list(forest_importances[forest_importances['importance'] > umbral]['feature'])\n",
    "features"
   ]
  },
  {
   "cell_type": "code",
   "execution_count": 137,
   "metadata": {},
   "outputs": [
    {
     "name": "stdout",
     "output_type": "stream",
     "text": [
      "The best features are:['total_funding', 'last_funding', 'revenue_models', 'Número empleados', 'Inmovilizado mil EUR', 'Activo circulante mil EUR', 'Total activo mil EUR', 'Fondos propios mil EUR', 'Pasivo fijo mil EUR', 'Pasivo líquido mil EUR', 'Total pasivo y capital propio mil EUR', 'Resultado Explotación mil EUR', 'Resultado del Ejercicio mil EUR', 'Tesorería mil EUR', 'EBIT mil EUR', 'Fondo de maniobra mil EUR', 'Deudas financieras mil EUR', 'Importe neto Cifra de Ventas mil EUR', 'Existencias mil EUR', 'Acreedores comerciales mil EUR']\n"
     ]
    }
   ],
   "source": [
    "# Según f_regression\n",
    "from sklearn.feature_selection import SelectKBest\n",
    "from sklearn.feature_selection import f_regression\n",
    "\n",
    "selector = SelectKBest(f_regression, k=20)\n",
    "selector = selector.fit(x_train, y_train)\n",
    "mask = selector.get_support() # True si es importante, False si no lo es\n",
    "\n",
    "new_feat = []\n",
    "for bool, feature in zip(mask, x_train.columns):\n",
    "    if bool:\n",
    "        new_feat.append(feature)\n",
    "print('The best features are:{}'.format(new_feat))"
   ]
  },
  {
   "cell_type": "code",
   "execution_count": 138,
   "metadata": {},
   "outputs": [
    {
     "name": "stdout",
     "output_type": "stream",
     "text": [
      "The best features are:['total_rounds', 'ownerships', 'Número empleados', 'Inmovilizado mil EUR', 'Activo circulante mil EUR', 'Total activo mil EUR', 'Total pasivo y capital propio mil EUR', 'Resultado financiero mil EUR', 'Resultado del Ejercicio mil EUR', 'Tesorería mil EUR', 'Fondo de maniobra mil EUR', 'Impuestos sobre sociedades mil EUR', 'Dotaciones para amortiz. de inmovil. mil EUR', 'Deudas financieras mil EUR', 'Importe neto Cifra de Ventas mil EUR', 'Acreedores comerciales mil EUR', 'ratio_deuda_activos', 'ratio_deuda_patrimonio', 'ratio_ventas_activos', 'ratio_ventas_patrimonio']\n"
     ]
    }
   ],
   "source": [
    "# Recursive feature elimination\n",
    "from sklearn.feature_selection import RFE\n",
    "\n",
    "rf_RFE = RandomForestRegressor(random_state=RANDOM_STATE)\n",
    "selector = RFE(rf_RFE, n_features_to_select=20)\n",
    "selector = selector.fit(x_train, y_train)\n",
    "rfe_mask = selector.get_support()\n",
    "\n",
    "new_features = []\n",
    "for bool, feature in zip(rfe_mask, x_train.columns):\n",
    "    if bool:\n",
    "        new_features.append(feature)\n",
    "print('The best features are:{}'.format(new_features))"
   ]
  },
  {
   "cell_type": "code",
   "execution_count": 139,
   "metadata": {},
   "outputs": [
    {
     "data": {
      "text/plain": [
       "Activo circulante mil EUR                0.573366\n",
       "Fondo de maniobra mil EUR                0.566263\n",
       "Tesorería mil EUR                        0.563689\n",
       "Existencias mil EUR                      0.558500\n",
       "Total pasivo y capital propio mil EUR    0.535204\n",
       "Name: valuation_2022, dtype: float64"
      ]
     },
     "execution_count": 139,
     "metadata": {},
     "output_type": "execute_result"
    }
   ],
   "source": [
    "# Variables más correlacionadas con la variable objetivo\n",
    "corr = dftot.corr()\n",
    "corr = corr.sort_values(by=['valuation_2022'], ascending=False)\n",
    "\n",
    "# Top correlacionadas con la variable objetivo\n",
    "corr_features = corr['valuation_2022'].head(20).index[1:]\n",
    "corr.iloc[1:6, :]['valuation_2022']"
   ]
  },
  {
   "cell_type": "code",
   "execution_count": 140,
   "metadata": {},
   "outputs": [],
   "source": [
    "# Modelo base: predecir la variable objetivo con cada combinación de variables con un Random Forest\n",
    "\n",
    "from sklearn.metrics import mean_squared_error, r2_score\n",
    "\n",
    "def modelo_base(features):\n",
    "    X = dftot[features]\n",
    "    y = dftot['valuation_2022']\n",
    "    for col in X.select_dtypes(include='object').columns:\n",
    "        X.loc[:, col] = le.fit_transform(X.loc[:, col])\n",
    "    x_train, x_test, y_train, y_test = train_test_split(X, y, test_size=0.3, random_state=RANDOM_STATE)\n",
    "    rf = RandomForestRegressor(random_state=RANDOM_STATE)\n",
    "    rf.fit(x_train, y_train)\n",
    "    predictions = rf.predict(x_test)\n",
    "    rmse = np.sqrt(mean_squared_error(y_test, predictions))\n",
    "    r2 = r2_score(y_test, predictions)\n",
    "    print(f'Este método tiene un RMSE de {rmse.round(4)}, un R2 de {r2.round(4)}')\n",
    "    return r2"
   ]
  },
  {
   "cell_type": "code",
   "execution_count": 141,
   "metadata": {},
   "outputs": [
    {
     "name": "stderr",
     "output_type": "stream",
     "text": [
      "C:\\Users\\usuario\\AppData\\Local\\Temp\\ipykernel_9680\\1127961073.py:9: SettingWithCopyWarning: \n",
      "A value is trying to be set on a copy of a slice from a DataFrame.\n",
      "Try using .loc[row_indexer,col_indexer] = value instead\n",
      "\n",
      "See the caveats in the documentation: https://pandas.pydata.org/pandas-docs/stable/user_guide/indexing.html#returning-a-view-versus-a-copy\n",
      "  X.loc[:, col] = le.fit_transform(X.loc[:, col])\n"
     ]
    },
    {
     "name": "stdout",
     "output_type": "stream",
     "text": [
      "Este método tiene un RMSE de 24.4588, un R2 de 0.4776\n"
     ]
    },
    {
     "name": "stderr",
     "output_type": "stream",
     "text": [
      "C:\\Users\\usuario\\AppData\\Local\\Temp\\ipykernel_9680\\1127961073.py:9: SettingWithCopyWarning: \n",
      "A value is trying to be set on a copy of a slice from a DataFrame.\n",
      "Try using .loc[row_indexer,col_indexer] = value instead\n",
      "\n",
      "See the caveats in the documentation: https://pandas.pydata.org/pandas-docs/stable/user_guide/indexing.html#returning-a-view-versus-a-copy\n",
      "  X.loc[:, col] = le.fit_transform(X.loc[:, col])\n"
     ]
    },
    {
     "name": "stdout",
     "output_type": "stream",
     "text": [
      "Este método tiene un RMSE de 21.4299, un R2 de 0.5989\n",
      "Este método tiene un RMSE de 26.0194, un R2 de 0.4088\n"
     ]
    },
    {
     "name": "stderr",
     "output_type": "stream",
     "text": [
      "C:\\Users\\usuario\\AppData\\Local\\Temp\\ipykernel_9680\\1127961073.py:9: SettingWithCopyWarning: \n",
      "A value is trying to be set on a copy of a slice from a DataFrame.\n",
      "Try using .loc[row_indexer,col_indexer] = value instead\n",
      "\n",
      "See the caveats in the documentation: https://pandas.pydata.org/pandas-docs/stable/user_guide/indexing.html#returning-a-view-versus-a-copy\n",
      "  X.loc[:, col] = le.fit_transform(X.loc[:, col])\n"
     ]
    },
    {
     "name": "stdout",
     "output_type": "stream",
     "text": [
      "Este método tiene un RMSE de 22.2404, un R2 de 0.568\n",
      "Este método tiene un RMSE de 8.3102, un R2 de 0.9397\n",
      "El mejor método es el 5, con un R2 de 0.9397\n"
     ]
    },
    {
     "data": {
      "text/plain": [
       "Index(['Capital social mil EUR', 'Free capital mil EUR',\n",
       "       'Porcentaje_adquisicion_cat', 'total_funding', 'first_funding_date',\n",
       "       'last_funding_date', 'last_funding', 'last_round', 'total_rounds',\n",
       "       'ownerships', 'b2b_b2c', 'revenue_models', 'growth_stage',\n",
       "       'company_status', 'valuation_2022', 'year', 'Número empleados',\n",
       "       'Inmovilizado mil EUR', 'Activo circulante mil EUR',\n",
       "       'Total activo mil EUR', 'Fondos propios mil EUR', 'Pasivo fijo mil EUR',\n",
       "       'Pasivo líquido mil EUR', 'Total pasivo y capital propio mil EUR',\n",
       "       'Resultado Explotación mil EUR', 'Resultado financiero mil EUR',\n",
       "       'Resultado del Ejercicio mil EUR',\n",
       "       'Costes de los trabajadores / Ingresos de explotación (%) %',\n",
       "       'Tesorería mil EUR', 'Cash flow mil EUR',\n",
       "       'Período de cobro (días) días', 'Valor agregado mil EUR',\n",
       "       'Apalancamiento (%) %', 'Endeudamiento (%) %',\n",
       "       'Margen de beneficio (%) %', 'Ratio de liquidez %',\n",
       "       'Ratio de solvencia %', 'Rentabilidad económica (%) %',\n",
       "       'Rentabilidad financiera (%) %', 'Rotación de activos netos %',\n",
       "       'Rotación de las existencias %', 'Coeficiente de solvencia (%) %',\n",
       "       'Rentabilidad sobre capital empleado (%) %',\n",
       "       'Rentabilidad sobre el activo total (%) %',\n",
       "       'Rentabilidad sobre recursos propios (%) %', 'Liquidez general %',\n",
       "       'Ratio de cobertura de intereses %',\n",
       "       'Ratios de autonomía financiera a medio y largo plazo %',\n",
       "       'EBITDA mil EUR', 'EBIT mil EUR', 'Fondo de maniobra mil EUR',\n",
       "       'Impuestos sobre sociedades mil EUR',\n",
       "       'Dotaciones para amortiz. de inmovil. mil EUR',\n",
       "       'Deudas financieras mil EUR', 'Importe neto Cifra de Ventas mil EUR',\n",
       "       'Existencias mil EUR', 'Acreedores comerciales mil EUR',\n",
       "       'ratio_deuda_ebitda', 'ratio_deuda_activos', 'ratio_deuda_patrimonio',\n",
       "       'ratio_ebitda_activos', 'ratio_ebitda_patrimonio',\n",
       "       'ratio_ventas_ebitda', 'ratio_ventas_activos',\n",
       "       'ratio_ventas_patrimonio', 'ratio_prueba_acida',\n",
       "       'ratio_periodo_prom_cobro', 'dias_operando', 'dias_desde_ult_round'],\n",
       "      dtype='object')"
      ]
     },
     "execution_count": 141,
     "metadata": {},
     "output_type": "execute_result"
    }
   ],
   "source": [
    "# Mejor modelo en base a R2\n",
    "def mejor_modelo():\n",
    "    modelos = [features, new_feat, new_features, corr_features, dftot.columns]\n",
    "    r2 = []\n",
    "    for modelo in modelos:\n",
    "        r2.append(modelo_base(modelo))\n",
    "    mejor_modelo = modelos[np.argmax(r2)]\n",
    "    print(f'El mejor método es el {np.argmax(r2)+1}, con un R2 de {np.max(r2).round(4)}')\n",
    "    return mejor_modelo\n",
    "\n",
    "mejor_modelo()"
   ]
  },
  {
   "cell_type": "code",
   "execution_count": 142,
   "metadata": {},
   "outputs": [
    {
     "name": "stderr",
     "output_type": "stream",
     "text": [
      "C:\\Users\\usuario\\AppData\\Local\\Temp\\ipykernel_9680\\1127961073.py:9: SettingWithCopyWarning: \n",
      "A value is trying to be set on a copy of a slice from a DataFrame.\n",
      "Try using .loc[row_indexer,col_indexer] = value instead\n",
      "\n",
      "See the caveats in the documentation: https://pandas.pydata.org/pandas-docs/stable/user_guide/indexing.html#returning-a-view-versus-a-copy\n",
      "  X.loc[:, col] = le.fit_transform(X.loc[:, col])\n"
     ]
    },
    {
     "name": "stdout",
     "output_type": "stream",
     "text": [
      "Este método tiene un RMSE de 24.4588, un R2 de 0.4776\n"
     ]
    },
    {
     "name": "stderr",
     "output_type": "stream",
     "text": [
      "C:\\Users\\usuario\\AppData\\Local\\Temp\\ipykernel_9680\\1127961073.py:9: SettingWithCopyWarning: \n",
      "A value is trying to be set on a copy of a slice from a DataFrame.\n",
      "Try using .loc[row_indexer,col_indexer] = value instead\n",
      "\n",
      "See the caveats in the documentation: https://pandas.pydata.org/pandas-docs/stable/user_guide/indexing.html#returning-a-view-versus-a-copy\n",
      "  X.loc[:, col] = le.fit_transform(X.loc[:, col])\n"
     ]
    },
    {
     "name": "stdout",
     "output_type": "stream",
     "text": [
      "Este método tiene un RMSE de 21.4299, un R2 de 0.5989\n"
     ]
    },
    {
     "name": "stderr",
     "output_type": "stream",
     "text": [
      "C:\\Users\\usuario\\AppData\\Local\\Temp\\ipykernel_9680\\1127961073.py:9: SettingWithCopyWarning: \n",
      "A value is trying to be set on a copy of a slice from a DataFrame.\n",
      "Try using .loc[row_indexer,col_indexer] = value instead\n",
      "\n",
      "See the caveats in the documentation: https://pandas.pydata.org/pandas-docs/stable/user_guide/indexing.html#returning-a-view-versus-a-copy\n",
      "  X.loc[:, col] = le.fit_transform(X.loc[:, col])\n"
     ]
    },
    {
     "name": "stdout",
     "output_type": "stream",
     "text": [
      "Este método tiene un RMSE de 26.0194, un R2 de 0.4088\n",
      "Este método tiene un RMSE de 22.2404, un R2 de 0.568\n",
      "Este método tiene un RMSE de 8.3102, un R2 de 0.9397\n",
      "El mejor método es el 5, con un R2 de 0.9397\n"
     ]
    }
   ],
   "source": [
    "X = dftot[mejor_modelo()] # selecciona el mejor modelo\n",
    "# Guardar X en path limpios\n",
    "X.to_csv('Datos/Limpios/df_regr_prefusion.csv')"
   ]
  },
  {
   "attachments": {},
   "cell_type": "markdown",
   "metadata": {},
   "source": [
    "#### Para clasificación"
   ]
  },
  {
   "cell_type": "code",
   "execution_count": 143,
   "metadata": {},
   "outputs": [],
   "source": [
    "dftot = df_aux.copy()"
   ]
  },
  {
   "cell_type": "code",
   "execution_count": 144,
   "metadata": {},
   "outputs": [],
   "source": [
    "dftot = dftot.drop(columns=['Codigo primario CNAE 2009', 'Nombre_sabi', 'Localidad', 'Fecha constitucion', 'Codigo consolidacion', 'Forma juridica', 'Forma juridica detallada', 'Estado', 'Estado detallado', 'website', 'name_dealroom', 'profile_url', 'tagline'])"
   ]
  },
  {
   "cell_type": "code",
   "execution_count": 145,
   "metadata": {},
   "outputs": [
    {
     "data": {
      "text/plain": [
       "0"
      ]
     },
     "execution_count": 145,
     "metadata": {},
     "output_type": "execute_result"
    }
   ],
   "source": [
    "dftot['Porcentaje_adquisicion_cat'].isna().sum() # no hay missings en la variable target"
   ]
  },
  {
   "cell_type": "code",
   "execution_count": 146,
   "metadata": {},
   "outputs": [],
   "source": [
    "X = dftot.drop(columns=['Porcentaje_adquisicion_cat']).drop(columns=['valuation_2022'])\n",
    "y = dftot['Porcentaje_adquisicion_cat']"
   ]
  },
  {
   "cell_type": "code",
   "execution_count": 147,
   "metadata": {},
   "outputs": [],
   "source": [
    "# Label encoding sobre todas las categóricas\n",
    "from sklearn.preprocessing import LabelEncoder\n",
    "le = LabelEncoder()\n",
    "for col in X.select_dtypes(include='object').columns:\n",
    "    X[col] = le.fit_transform(X[col])"
   ]
  },
  {
   "cell_type": "code",
   "execution_count": 148,
   "metadata": {},
   "outputs": [],
   "source": [
    "# Split train-test\n",
    "RANDOM_STATE = 42\n",
    "x_train, x_test, y_train, y_test = train_test_split(X, y, test_size=0.3, random_state=RANDOM_STATE)"
   ]
  },
  {
   "cell_type": "code",
   "execution_count": 149,
   "metadata": {},
   "outputs": [],
   "source": [
    "# Modelo a partir del cual se sacarán las features más importantes\n",
    "from sklearn.ensemble import RandomForestClassifier\n",
    "rf = RandomForestClassifier(random_state=RANDOM_STATE)\n",
    "rf.fit(x_train, y_train)\n",
    "predictions = rf.predict(x_test)"
   ]
  },
  {
   "cell_type": "code",
   "execution_count": 150,
   "metadata": {},
   "outputs": [
    {
     "data": {
      "text/plain": [
       "['ratio_prueba_acida',\n",
       " 'Deudas financieras mil EUR',\n",
       " 'Costes de los trabajadores / Ingresos de explotación (%) %',\n",
       " 'ratio_ventas_activos',\n",
       " 'last_funding_date',\n",
       " 'total_funding',\n",
       " 'Ratios de autonomía financiera a medio y largo plazo %',\n",
       " 'dias_desde_ult_round',\n",
       " 'Acreedores comerciales mil EUR',\n",
       " 'EBITDA mil EUR',\n",
       " 'Resultado financiero mil EUR',\n",
       " 'Cash flow mil EUR',\n",
       " 'Resultado Explotación mil EUR',\n",
       " 'Existencias mil EUR',\n",
       " 'EBIT mil EUR',\n",
       " 'Importe neto Cifra de Ventas mil EUR',\n",
       " 'Valor agregado mil EUR',\n",
       " 'Período de cobro (días) días',\n",
       " 'first_funding_date',\n",
       " 'Activo circulante mil EUR',\n",
       " 'Pasivo líquido mil EUR',\n",
       " 'Impuestos sobre sociedades mil EUR',\n",
       " 'Inmovilizado mil EUR',\n",
       " 'dias_operando',\n",
       " 'Total activo mil EUR',\n",
       " 'Fondos propios mil EUR',\n",
       " 'Capital social mil EUR',\n",
       " 'Total pasivo y capital propio mil EUR',\n",
       " 'Resultado del Ejercicio mil EUR',\n",
       " 'Dotaciones para amortiz. de inmovil. mil EUR']"
      ]
     },
     "execution_count": 150,
     "metadata": {},
     "output_type": "execute_result"
    },
    {
     "data": {
      "image/png": "[encoded data removed]",
      "text/plain": [
       "<Figure size 720x720 with 1 Axes>"
      ]
     },
     "metadata": {
      "needs_background": "light"
     },
     "output_type": "display_data"
    }
   ],
   "source": [
    "from matplotlib import pyplot as plt\n",
    "forest_importances = pd.Series(rf.feature_importances_, index=x_train.columns).sort_values(ascending=True)\n",
    "forest_importances\n",
    "\n",
    "plt.figure(figsize=(10,10))\n",
    "forest_importances.plot(kind='barh')\n",
    "plt.xlabel(\"feature importance\")\n",
    "plt.title('Random Forest feature importance (scikit-learn)')\n",
    "\n",
    "# Elegir esas variables\n",
    "umbral = 0.015\n",
    "forest_importances = forest_importances.to_frame().reset_index()\n",
    "forest_importances.columns = ['feature', 'importance']\n",
    "features = list(forest_importances[forest_importances['importance'] > umbral]['feature'])\n",
    "features"
   ]
  },
  {
   "cell_type": "code",
   "execution_count": 151,
   "metadata": {},
   "outputs": [
    {
     "name": "stdout",
     "output_type": "stream",
     "text": [
      "The best features are:['total_funding', 'first_funding_date', 'last_funding_date', 'ownerships', 'revenue_models', 'growth_stage', 'company_status', 'Número empleados', 'Inmovilizado mil EUR', 'Fondos propios mil EUR', 'Tesorería mil EUR', 'Valor agregado mil EUR', 'Margen de beneficio (%) %', 'Rentabilidad sobre capital empleado (%) %', 'Dotaciones para amortiz. de inmovil. mil EUR', 'Importe neto Cifra de Ventas mil EUR', 'Existencias mil EUR', 'ratio_periodo_prom_cobro', 'dias_operando', 'dias_desde_ult_round']\n"
     ]
    }
   ],
   "source": [
    "# Según f_classif\n",
    "from sklearn.feature_selection import f_classif\n",
    "\n",
    "selector = SelectKBest(f_classif, k=20)\n",
    "selector = selector.fit(x_train, y_train)\n",
    "mask = selector.get_support() # True si es importante, False si no lo es\n",
    "\n",
    "new_feat = []\n",
    "for bool, feature in zip(mask, x_train.columns):\n",
    "    if bool:\n",
    "        new_feat.append(feature)\n",
    "print('The best features are:{}'.format(new_feat))"
   ]
  },
  {
   "cell_type": "code",
   "execution_count": 152,
   "metadata": {},
   "outputs": [
    {
     "name": "stdout",
     "output_type": "stream",
     "text": [
      "The best features are:['Capital social mil EUR', 'total_funding', 'first_funding_date', 'Inmovilizado mil EUR', 'Total activo mil EUR', 'Fondos propios mil EUR', 'Pasivo líquido mil EUR', 'Total pasivo y capital propio mil EUR', 'Resultado del Ejercicio mil EUR', 'Cash flow mil EUR', 'Período de cobro (días) días', 'Valor agregado mil EUR', 'EBIT mil EUR', 'Impuestos sobre sociedades mil EUR', 'Dotaciones para amortiz. de inmovil. mil EUR', 'Acreedores comerciales mil EUR', 'ratio_ebitda_patrimonio', 'ratio_ventas_activos', 'ratio_prueba_acida', 'dias_operando']\n"
     ]
    }
   ],
   "source": [
    "# Recursive feature elimination\n",
    "from sklearn.feature_selection import RFE\n",
    "\n",
    "rf_RFE = RandomForestClassifier(random_state=RANDOM_STATE)\n",
    "selector = RFE(rf_RFE, n_features_to_select=20)\n",
    "selector = selector.fit(x_train, y_train)\n",
    "rfe_mask = selector.get_support()\n",
    "\n",
    "new_features = []\n",
    "for bool, feature in zip(rfe_mask, x_train.columns):\n",
    "    if bool:\n",
    "        new_features.append(feature)\n",
    "print('The best features are:{}'.format(new_features))"
   ]
  },
  {
   "cell_type": "code",
   "execution_count": 153,
   "metadata": {},
   "outputs": [
    {
     "data": {
      "text/plain": [
       "dias_operando                                   0.169033\n",
       "Inmovilizado mil EUR                            0.148104\n",
       "Dotaciones para amortiz. de inmovil. mil EUR    0.142771\n",
       "Fondos propios mil EUR                          0.142676\n",
       "Número empleados                                0.130916\n",
       "Name: Porcentaje_adquisicion_cat, dtype: float64"
      ]
     },
     "execution_count": 153,
     "metadata": {},
     "output_type": "execute_result"
    }
   ],
   "source": [
    "# Variables más correlacionadas con la variable objetivo\n",
    "corr = dftot.corr()\n",
    "corr = corr.sort_values(by=['Porcentaje_adquisicion_cat'], ascending=False)\n",
    "\n",
    "# Top 30 más correlacionadas con la variable objetivo\n",
    "corr_features = corr['Porcentaje_adquisicion_cat'].head(20).index[1:]\n",
    "corr.iloc[1:6, :]['Porcentaje_adquisicion_cat']"
   ]
  },
  {
   "cell_type": "code",
   "execution_count": 154,
   "metadata": {},
   "outputs": [],
   "source": [
    "# Modelo base: predecir la variable objetivo con cada combinación de variables con un Random Forest\n",
    "\n",
    "from sklearn.metrics import accuracy_score\n",
    "\n",
    "def modelo_base(features):\n",
    "    X = dftot[features]\n",
    "    try:\n",
    "        X = X.drop(columns=['valuation_2022'])\n",
    "    except:\n",
    "        pass\n",
    "    y = dftot['Porcentaje_adquisicion_cat']\n",
    "    for col in X.select_dtypes(include='object').columns:\n",
    "        X[col] = le.fit_transform(X[col])\n",
    "    x_train, x_test, y_train, y_test = train_test_split(X, y, test_size=0.3, random_state=RANDOM_STATE)\n",
    "    rf = RandomForestClassifier(random_state=RANDOM_STATE)\n",
    "    rf.fit(x_train, y_train)\n",
    "    predictions = rf.predict(x_test)\n",
    "    accuracy = accuracy_score(y_test, predictions)\n",
    "    print(f'Este método tiene un accuracy de {accuracy.round(4)}')\n",
    "    return accuracy"
   ]
  },
  {
   "cell_type": "code",
   "execution_count": 155,
   "metadata": {},
   "outputs": [],
   "source": [
    "# Mejor modelo en base a accuracy\n",
    "def mejor_modelo():\n",
    "    modelos = [features, new_feat, new_features, corr_features, dftot.columns]\n",
    "    accuracy = []\n",
    "    for modelo in modelos:\n",
    "        accuracy.append(modelo_base(modelo))\n",
    "    mejor_modelo = modelos[np.argmax(accuracy)]\n",
    "    print(f'El mejor método es el {np.argmax(accuracy)+1}, con un accuracy de {np.max(accuracy).round(4)}')\n",
    "    return mejor_modelo"
   ]
  },
  {
   "cell_type": "code",
   "execution_count": 156,
   "metadata": {},
   "outputs": [
    {
     "name": "stderr",
     "output_type": "stream",
     "text": [
      "C:\\Users\\usuario\\AppData\\Local\\Temp\\ipykernel_9680\\454778818.py:13: SettingWithCopyWarning: \n",
      "A value is trying to be set on a copy of a slice from a DataFrame.\n",
      "Try using .loc[row_indexer,col_indexer] = value instead\n",
      "\n",
      "See the caveats in the documentation: https://pandas.pydata.org/pandas-docs/stable/user_guide/indexing.html#returning-a-view-versus-a-copy\n",
      "  X[col] = le.fit_transform(X[col])\n"
     ]
    },
    {
     "name": "stdout",
     "output_type": "stream",
     "text": [
      "Este método tiene un accuracy de 0.6857\n"
     ]
    },
    {
     "name": "stderr",
     "output_type": "stream",
     "text": [
      "C:\\Users\\usuario\\AppData\\Local\\Temp\\ipykernel_9680\\454778818.py:13: SettingWithCopyWarning: \n",
      "A value is trying to be set on a copy of a slice from a DataFrame.\n",
      "Try using .loc[row_indexer,col_indexer] = value instead\n",
      "\n",
      "See the caveats in the documentation: https://pandas.pydata.org/pandas-docs/stable/user_guide/indexing.html#returning-a-view-versus-a-copy\n",
      "  X[col] = le.fit_transform(X[col])\n"
     ]
    },
    {
     "name": "stdout",
     "output_type": "stream",
     "text": [
      "Este método tiene un accuracy de 0.7061\n"
     ]
    },
    {
     "name": "stderr",
     "output_type": "stream",
     "text": [
      "C:\\Users\\usuario\\AppData\\Local\\Temp\\ipykernel_9680\\454778818.py:13: SettingWithCopyWarning: \n",
      "A value is trying to be set on a copy of a slice from a DataFrame.\n",
      "Try using .loc[row_indexer,col_indexer] = value instead\n",
      "\n",
      "See the caveats in the documentation: https://pandas.pydata.org/pandas-docs/stable/user_guide/indexing.html#returning-a-view-versus-a-copy\n",
      "  X[col] = le.fit_transform(X[col])\n"
     ]
    },
    {
     "name": "stdout",
     "output_type": "stream",
     "text": [
      "Este método tiene un accuracy de 0.649\n",
      "Este método tiene un accuracy de 0.6857\n",
      "Este método tiene un accuracy de 0.9633\n",
      "El mejor método es el 5, con un accuracy de 0.9633\n",
      "RandomForestClassifier : 0.9633 \n",
      " [[ 85   0   0]\n",
      " [  0 105   0]\n",
      " [  0   9  46]]\n"
     ]
    }
   ],
   "source": [
    "from sklearn.metrics import confusion_matrix\n",
    "X = dftot[mejor_modelo()] # selecciona el mejor modelo\n",
    "# Guardar X en path limpios\n",
    "X.to_csv('Datos/Limpios/df_clasif_prefusion.csv')\n",
    "\n",
    "try:\n",
    "    X = X.drop(columns=['valuation_2022'])\n",
    "except:\n",
    "    pass\n",
    "y = dftot['Porcentaje_adquisicion_cat']\n",
    "for col in X.select_dtypes(include='object').columns:\n",
    "    X[col] = le.fit_transform(X[col])\n",
    "x_train, x_test, y_train, y_test = train_test_split(X, y, test_size=0.3, random_state=RANDOM_STATE)\n",
    "rf = RandomForestClassifier(random_state=RANDOM_STATE)\n",
    "rf.fit(x_train, y_train)\n",
    "predictions = rf.predict(x_test)\n",
    "\n",
    "print(rf.__class__.__name__, ':', round(accuracy_score(y_test, predictions),4), '\\n', confusion_matrix(y_test, predictions))"
   ]
  },
  {
   "attachments": {},
   "cell_type": "markdown",
   "metadata": {},
   "source": [
    "### Actualización de datos"
   ]
  },
  {
   "cell_type": "code",
   "execution_count": 157,
   "metadata": {},
   "outputs": [],
   "source": [
    "df = dftot.copy() # ninguna selección de variables se acerca al error o al accuracy del modelo con todas las variables"
   ]
  },
  {
   "cell_type": "code",
   "execution_count": 158,
   "metadata": {},
   "outputs": [
    {
     "data": {
      "text/plain": [
       "(815, 69)"
      ]
     },
     "execution_count": 158,
     "metadata": {},
     "output_type": "execute_result"
    }
   ],
   "source": [
    "df.shape"
   ]
  },
  {
   "cell_type": "code",
   "execution_count": 159,
   "metadata": {},
   "outputs": [
    {
     "data": {
      "text/plain": [
       "valuation_2022                                  695\n",
       "Capital social mil EUR                            0\n",
       "Dotaciones para amortiz. de inmovil. mil EUR      0\n",
       "Fondo de maniobra mil EUR                         0\n",
       "EBIT mil EUR                                      0\n",
       "                                               ... \n",
       "Cash flow mil EUR                                 0\n",
       "Período de cobro (días) días                      0\n",
       "Valor agregado mil EUR                            0\n",
       "Apalancamiento (%) %                              0\n",
       "dias_desde_ult_round                              0\n",
       "Length: 69, dtype: int64"
      ]
     },
     "execution_count": 159,
     "metadata": {},
     "output_type": "execute_result"
    }
   ],
   "source": [
    "df.isna().sum().sort_values(ascending=False)"
   ]
  },
  {
   "attachments": {},
   "cell_type": "markdown",
   "metadata": {},
   "source": [
    "---------------------------------------"
   ]
  },
  {
   "attachments": {},
   "cell_type": "markdown",
   "metadata": {},
   "source": [
    "# Normalización de los datos"
   ]
  },
  {
   "attachments": {},
   "cell_type": "markdown",
   "metadata": {},
   "source": [
    "#### Opción A: datos sin normalizar"
   ]
  },
  {
   "cell_type": "code",
   "execution_count": 160,
   "metadata": {},
   "outputs": [
    {
     "data": {
      "text/html": [
       "<div>\n",
       "<style scoped>\n",
       "    .dataframe tbody tr th:only-of-type {\n",
       "        vertical-align: middle;\n",
       "    }\n",
       "\n",
       "    .dataframe tbody tr th {\n",
       "        vertical-align: top;\n",
       "    }\n",
       "\n",
       "    .dataframe thead th {\n",
       "        text-align: right;\n",
       "    }\n",
       "</style>\n",
       "<table border=\"1\" class=\"dataframe\">\n",
       "  <thead>\n",
       "    <tr style=\"text-align: right;\">\n",
       "      <th></th>\n",
       "      <th>Capital social mil EUR</th>\n",
       "      <th>Free capital mil EUR</th>\n",
       "      <th>Porcentaje_adquisicion_cat</th>\n",
       "      <th>total_funding</th>\n",
       "      <th>last_funding</th>\n",
       "      <th>total_rounds</th>\n",
       "      <th>valuation_2022</th>\n",
       "      <th>year</th>\n",
       "      <th>Número empleados</th>\n",
       "      <th>Inmovilizado mil EUR</th>\n",
       "      <th>...</th>\n",
       "      <th>ratio_deuda_patrimonio</th>\n",
       "      <th>ratio_ebitda_activos</th>\n",
       "      <th>ratio_ebitda_patrimonio</th>\n",
       "      <th>ratio_ventas_ebitda</th>\n",
       "      <th>ratio_ventas_activos</th>\n",
       "      <th>ratio_ventas_patrimonio</th>\n",
       "      <th>ratio_prueba_acida</th>\n",
       "      <th>ratio_periodo_prom_cobro</th>\n",
       "      <th>dias_operando</th>\n",
       "      <th>dias_desde_ult_round</th>\n",
       "    </tr>\n",
       "  </thead>\n",
       "  <tbody>\n",
       "    <tr>\n",
       "      <th>count</th>\n",
       "      <td>120.000000</td>\n",
       "      <td>120.000000</td>\n",
       "      <td>120.000000</td>\n",
       "      <td>120.000000</td>\n",
       "      <td>120.000000</td>\n",
       "      <td>120.000000</td>\n",
       "      <td>120.000000</td>\n",
       "      <td>120.000000</td>\n",
       "      <td>120.000000</td>\n",
       "      <td>120.000000</td>\n",
       "      <td>...</td>\n",
       "      <td>120.000000</td>\n",
       "      <td>120.000000</td>\n",
       "      <td>120.000000</td>\n",
       "      <td>120.000000</td>\n",
       "      <td>120.000000</td>\n",
       "      <td>120.000000</td>\n",
       "      <td>120.000000</td>\n",
       "      <td>120.000000</td>\n",
       "      <td>120.000000</td>\n",
       "      <td>120.000000</td>\n",
       "    </tr>\n",
       "    <tr>\n",
       "      <th>mean</th>\n",
       "      <td>1080.957302</td>\n",
       "      <td>14.509833</td>\n",
       "      <td>0.966667</td>\n",
       "      <td>3.051667</td>\n",
       "      <td>0.978516</td>\n",
       "      <td>6.183333</td>\n",
       "      <td>14.866000</td>\n",
       "      <td>2020.500000</td>\n",
       "      <td>12.546349</td>\n",
       "      <td>2201.319088</td>\n",
       "      <td>...</td>\n",
       "      <td>0.246016</td>\n",
       "      <td>-0.057863</td>\n",
       "      <td>-0.022335</td>\n",
       "      <td>-1.899950</td>\n",
       "      <td>0.298516</td>\n",
       "      <td>0.887430</td>\n",
       "      <td>343.062967</td>\n",
       "      <td>310.357043</td>\n",
       "      <td>2578.800000</td>\n",
       "      <td>1768.683333</td>\n",
       "    </tr>\n",
       "    <tr>\n",
       "      <th>std</th>\n",
       "      <td>4508.571623</td>\n",
       "      <td>111.919451</td>\n",
       "      <td>0.483915</td>\n",
       "      <td>7.878575</td>\n",
       "      <td>3.667168</td>\n",
       "      <td>3.015320</td>\n",
       "      <td>31.175687</td>\n",
       "      <td>0.502096</td>\n",
       "      <td>15.611746</td>\n",
       "      <td>4108.896185</td>\n",
       "      <td>...</td>\n",
       "      <td>1.091165</td>\n",
       "      <td>0.185696</td>\n",
       "      <td>0.694643</td>\n",
       "      <td>23.688858</td>\n",
       "      <td>0.354464</td>\n",
       "      <td>1.833388</td>\n",
       "      <td>723.595321</td>\n",
       "      <td>597.360441</td>\n",
       "      <td>1128.767988</td>\n",
       "      <td>5679.778376</td>\n",
       "    </tr>\n",
       "    <tr>\n",
       "      <th>min</th>\n",
       "      <td>3.050000</td>\n",
       "      <td>0.000000</td>\n",
       "      <td>0.000000</td>\n",
       "      <td>0.000000</td>\n",
       "      <td>0.000000</td>\n",
       "      <td>0.000000</td>\n",
       "      <td>0.090000</td>\n",
       "      <td>2020.000000</td>\n",
       "      <td>1.000000</td>\n",
       "      <td>7.898090</td>\n",
       "      <td>...</td>\n",
       "      <td>-1.630018</td>\n",
       "      <td>-1.168613</td>\n",
       "      <td>-2.032186</td>\n",
       "      <td>-168.308046</td>\n",
       "      <td>0.000762</td>\n",
       "      <td>-4.808179</td>\n",
       "      <td>0.102355</td>\n",
       "      <td>0.021586</td>\n",
       "      <td>964.000000</td>\n",
       "      <td>465.000000</td>\n",
       "    </tr>\n",
       "    <tr>\n",
       "      <th>25%</th>\n",
       "      <td>10.441500</td>\n",
       "      <td>0.000000</td>\n",
       "      <td>1.000000</td>\n",
       "      <td>0.150000</td>\n",
       "      <td>0.030000</td>\n",
       "      <td>4.000000</td>\n",
       "      <td>1.267500</td>\n",
       "      <td>2020.000000</td>\n",
       "      <td>4.000000</td>\n",
       "      <td>187.038498</td>\n",
       "      <td>...</td>\n",
       "      <td>0.018831</td>\n",
       "      <td>-0.119168</td>\n",
       "      <td>-0.228443</td>\n",
       "      <td>-2.212861</td>\n",
       "      <td>0.026318</td>\n",
       "      <td>0.040554</td>\n",
       "      <td>2.209123</td>\n",
       "      <td>21.357763</td>\n",
       "      <td>1740.750000</td>\n",
       "      <td>679.000000</td>\n",
       "    </tr>\n",
       "    <tr>\n",
       "      <th>50%</th>\n",
       "      <td>43.413000</td>\n",
       "      <td>0.000000</td>\n",
       "      <td>1.000000</td>\n",
       "      <td>0.510000</td>\n",
       "      <td>0.137955</td>\n",
       "      <td>5.500000</td>\n",
       "      <td>4.460000</td>\n",
       "      <td>2020.500000</td>\n",
       "      <td>8.000000</td>\n",
       "      <td>807.762255</td>\n",
       "      <td>...</td>\n",
       "      <td>0.048664</td>\n",
       "      <td>-0.044950</td>\n",
       "      <td>-0.056522</td>\n",
       "      <td>-0.115517</td>\n",
       "      <td>0.175411</td>\n",
       "      <td>0.319212</td>\n",
       "      <td>5.323821</td>\n",
       "      <td>62.178951</td>\n",
       "      <td>2329.500000</td>\n",
       "      <td>845.000000</td>\n",
       "    </tr>\n",
       "    <tr>\n",
       "      <th>75%</th>\n",
       "      <td>332.546587</td>\n",
       "      <td>0.000000</td>\n",
       "      <td>1.000000</td>\n",
       "      <td>1.865000</td>\n",
       "      <td>0.310961</td>\n",
       "      <td>8.000000</td>\n",
       "      <td>10.855000</td>\n",
       "      <td>2021.000000</td>\n",
       "      <td>16.250000</td>\n",
       "      <td>2149.146710</td>\n",
       "      <td>...</td>\n",
       "      <td>0.163966</td>\n",
       "      <td>0.027619</td>\n",
       "      <td>0.075817</td>\n",
       "      <td>2.349964</td>\n",
       "      <td>0.402548</td>\n",
       "      <td>1.210329</td>\n",
       "      <td>468.330611</td>\n",
       "      <td>239.279810</td>\n",
       "      <td>3232.000000</td>\n",
       "      <td>1165.000000</td>\n",
       "    </tr>\n",
       "    <tr>\n",
       "      <th>max</th>\n",
       "      <td>34676.056000</td>\n",
       "      <td>870.590000</td>\n",
       "      <td>2.000000</td>\n",
       "      <td>51.350000</td>\n",
       "      <td>27.270000</td>\n",
       "      <td>17.000000</td>\n",
       "      <td>156.400000</td>\n",
       "      <td>2021.000000</td>\n",
       "      <td>89.000000</td>\n",
       "      <td>25584.340150</td>\n",
       "      <td>...</td>\n",
       "      <td>11.381294</td>\n",
       "      <td>0.525883</td>\n",
       "      <td>4.388859</td>\n",
       "      <td>76.694612</td>\n",
       "      <td>1.713815</td>\n",
       "      <td>13.659018</td>\n",
       "      <td>5561.375668</td>\n",
       "      <td>4037.221354</td>\n",
       "      <td>5448.000000</td>\n",
       "      <td>44994.000000</td>\n",
       "    </tr>\n",
       "  </tbody>\n",
       "</table>\n",
       "<p>8 rows × 61 columns</p>\n",
       "</div>"
      ],
      "text/plain": [
       "       Capital social mil EUR  Free capital mil EUR  \\\n",
       "count              120.000000            120.000000   \n",
       "mean              1080.957302             14.509833   \n",
       "std               4508.571623            111.919451   \n",
       "min                  3.050000              0.000000   \n",
       "25%                 10.441500              0.000000   \n",
       "50%                 43.413000              0.000000   \n",
       "75%                332.546587              0.000000   \n",
       "max              34676.056000            870.590000   \n",
       "\n",
       "       Porcentaje_adquisicion_cat  total_funding  last_funding  total_rounds  \\\n",
       "count                  120.000000     120.000000    120.000000    120.000000   \n",
       "mean                     0.966667       3.051667      0.978516      6.183333   \n",
       "std                      0.483915       7.878575      3.667168      3.015320   \n",
       "min                      0.000000       0.000000      0.000000      0.000000   \n",
       "25%                      1.000000       0.150000      0.030000      4.000000   \n",
       "50%                      1.000000       0.510000      0.137955      5.500000   \n",
       "75%                      1.000000       1.865000      0.310961      8.000000   \n",
       "max                      2.000000      51.350000     27.270000     17.000000   \n",
       "\n",
       "       valuation_2022         year  Número empleados  Inmovilizado mil EUR  \\\n",
       "count      120.000000   120.000000        120.000000            120.000000   \n",
       "mean        14.866000  2020.500000         12.546349           2201.319088   \n",
       "std         31.175687     0.502096         15.611746           4108.896185   \n",
       "min          0.090000  2020.000000          1.000000              7.898090   \n",
       "25%          1.267500  2020.000000          4.000000            187.038498   \n",
       "50%          4.460000  2020.500000          8.000000            807.762255   \n",
       "75%         10.855000  2021.000000         16.250000           2149.146710   \n",
       "max        156.400000  2021.000000         89.000000          25584.340150   \n",
       "\n",
       "       ...  ratio_deuda_patrimonio  ratio_ebitda_activos  \\\n",
       "count  ...              120.000000            120.000000   \n",
       "mean   ...                0.246016             -0.057863   \n",
       "std    ...                1.091165              0.185696   \n",
       "min    ...               -1.630018             -1.168613   \n",
       "25%    ...                0.018831             -0.119168   \n",
       "50%    ...                0.048664             -0.044950   \n",
       "75%    ...                0.163966              0.027619   \n",
       "max    ...               11.381294              0.525883   \n",
       "\n",
       "       ratio_ebitda_patrimonio  ratio_ventas_ebitda  ratio_ventas_activos  \\\n",
       "count               120.000000           120.000000            120.000000   \n",
       "mean                 -0.022335            -1.899950              0.298516   \n",
       "std                   0.694643            23.688858              0.354464   \n",
       "min                  -2.032186          -168.308046              0.000762   \n",
       "25%                  -0.228443            -2.212861              0.026318   \n",
       "50%                  -0.056522            -0.115517              0.175411   \n",
       "75%                   0.075817             2.349964              0.402548   \n",
       "max                   4.388859            76.694612              1.713815   \n",
       "\n",
       "       ratio_ventas_patrimonio  ratio_prueba_acida  ratio_periodo_prom_cobro  \\\n",
       "count               120.000000          120.000000                120.000000   \n",
       "mean                  0.887430          343.062967                310.357043   \n",
       "std                   1.833388          723.595321                597.360441   \n",
       "min                  -4.808179            0.102355                  0.021586   \n",
       "25%                   0.040554            2.209123                 21.357763   \n",
       "50%                   0.319212            5.323821                 62.178951   \n",
       "75%                   1.210329          468.330611                239.279810   \n",
       "max                  13.659018         5561.375668               4037.221354   \n",
       "\n",
       "       dias_operando  dias_desde_ult_round  \n",
       "count     120.000000            120.000000  \n",
       "mean     2578.800000           1768.683333  \n",
       "std      1128.767988           5679.778376  \n",
       "min       964.000000            465.000000  \n",
       "25%      1740.750000            679.000000  \n",
       "50%      2329.500000            845.000000  \n",
       "75%      3232.000000           1165.000000  \n",
       "max      5448.000000          44994.000000  \n",
       "\n",
       "[8 rows x 61 columns]"
      ]
     },
     "execution_count": 160,
     "metadata": {},
     "output_type": "execute_result"
    }
   ],
   "source": [
    "dfa_1 = pd.read_csv(os.path.join(path_clean_data,'df_regr_prefusion.csv'))\n",
    "dfa_2 = pd.read_csv(os.path.join(path_clean_data,'df_clasif_prefusion.csv'))\n",
    "dfa_1.describe()"
   ]
  },
  {
   "attachments": {},
   "cell_type": "markdown",
   "metadata": {},
   "source": [
    "#### Opción B: (x - mean)/std"
   ]
  },
  {
   "cell_type": "code",
   "execution_count": 161,
   "metadata": {},
   "outputs": [
    {
     "data": {
      "text/plain": [
       "(815, 69)"
      ]
     },
     "execution_count": 161,
     "metadata": {},
     "output_type": "execute_result"
    }
   ],
   "source": [
    "# (x - mean(x)) / std(x) por cada columna numérica, y se mantiene el valor de 2021 para las variables categóricas\n",
    "dfb = df.copy()\n",
    "from sklearn.preprocessing import StandardScaler\n",
    "scaler = StandardScaler()\n",
    "for col in dfb.select_dtypes(include='number').columns:\n",
    "    if col != 'Porcentaje_adquisicion_cat' or col != 'valuation_2022':\n",
    "        pass\n",
    "    dfb[col] = scaler.fit_transform(dfb[col].values.reshape(-1, 1))\n",
    "\n",
    "dfb.shape"
   ]
  },
  {
   "attachments": {},
   "cell_type": "markdown",
   "metadata": {},
   "source": [
    "#### Opción C: (x - min)/(max - min)"
   ]
  },
  {
   "cell_type": "code",
   "execution_count": 162,
   "metadata": {},
   "outputs": [
    {
     "data": {
      "text/plain": [
       "(815, 69)"
      ]
     },
     "execution_count": 162,
     "metadata": {},
     "output_type": "execute_result"
    }
   ],
   "source": [
    "# (x - min(x)) / (max(x) - min(x)) por cada columna numérica, y se mantiene el valor de 2021 para las variables categóricas\n",
    "dfc = df.copy()\n",
    "from sklearn.preprocessing import MinMaxScaler\n",
    "scaler = MinMaxScaler()\n",
    "for col in dfc.select_dtypes(include='number').columns:\n",
    "    if col != 'Porcentaje_adquisicion_cat' or col != 'valuation_2022':\n",
    "        pass\n",
    "    dfc[col] = scaler.fit_transform(dfc[col].values.reshape(-1, 1))\n",
    "\n",
    "dfc.shape"
   ]
  },
  {
   "attachments": {},
   "cell_type": "markdown",
   "metadata": {},
   "source": [
    "#### Mejor opción para regresión"
   ]
  },
  {
   "cell_type": "code",
   "execution_count": 163,
   "metadata": {},
   "outputs": [],
   "source": [
    "def random_forest_regr(df):\n",
    "    \"\"\"Calcula el RMSE de un modelo de Random Forest Regressor básico. Sirve para comparar conjuntos de datos.\n",
    "    Args:\n",
    "        df (pandas.dataframe): dataframe con las variables predictoras y la variable objetivo, la cual debe llamarse 'valuation 2022'.\n",
    "\n",
    "    Returns:\n",
    "        mape: error absoluto porcentual medio del modelo entrenado de Random Forest Regressor.\n",
    "    \"\"\"\n",
    "    df = df.dropna(subset=['valuation_2022']) # filtramos las filas con valores nulos en la variable objetivo\n",
    "    try:\n",
    "        df = df.drop(columns=['first_funding_date', 'last_funding_date'])\n",
    "    except:\n",
    "        pass\n",
    "    X = df.drop('valuation_2022', axis=1)\n",
    "    y = df['valuation_2022']\n",
    "\n",
    "    # Label encoding\n",
    "    for col in X.select_dtypes(include='object').columns:\n",
    "        X[col] = le.fit_transform(X[col])\n",
    "    x_train, x_test, y_train, y_test = train_test_split(X, y, test_size=0.3, random_state=42)\n",
    "\n",
    "    rf = RandomForestRegressor(random_state=RANDOM_STATE)\n",
    "    rf.fit(x_train, y_train)\n",
    "    predictions = rf.predict(x_test)\n",
    "    r2 = r2_score(y_test, predictions)\n",
    "\n",
    "    return r2"
   ]
  },
  {
   "cell_type": "code",
   "execution_count": 164,
   "metadata": {},
   "outputs": [
    {
     "name": "stdout",
     "output_type": "stream",
     "text": [
      "Sin escalar: 0.4796 de R2\n",
      "Con StandardScaler: 0.4769 de R2\n",
      "Con MinMaxScaler: 0.4346 de R2\n",
      "El mejor modelo es el de la opción 1 con un R2 de 0.4796\n"
     ]
    }
   ],
   "source": [
    "# Probar Random Forest con las tres opciones\n",
    "\n",
    "# Opción A: sin escalar\n",
    "\n",
    "print(f'Sin escalar: {random_forest_regr(dfa_1).round(4)} de R2')\n",
    "\n",
    "# Opción B: con StandardScaler\n",
    "print(f'Con StandardScaler: {random_forest_regr(dfb).round(4)} de R2')\n",
    "\n",
    "# Opción C: con MinMaxScaler\n",
    "print(f'Con MinMaxScaler: {random_forest_regr(dfc).round(4)} de R2')\n",
    "\n",
    "print(f'El mejor modelo es el de la opción {np.argmax([random_forest_regr(dfa_1), random_forest_regr(dfb), random_forest_regr(dfc)]) + 1} con un R2 de {(np.max([random_forest_regr(dfa_1), random_forest_regr(dfb), random_forest_regr(dfc)])).round(4)}')"
   ]
  },
  {
   "attachments": {},
   "cell_type": "markdown",
   "metadata": {},
   "source": [
    "#### Mejor opción para clasificación"
   ]
  },
  {
   "cell_type": "code",
   "execution_count": 165,
   "metadata": {},
   "outputs": [],
   "source": [
    "from sklearn.metrics import accuracy_score\n",
    "\n",
    "def random_forest_clasif(df):\n",
    "    \"\"\"Calcula el accuracy de un modelo de Random Forest Classifier básico. Sirve para comparar conjuntos de datos.\n",
    "    Args:\n",
    "        df (pandas.dataframe): dataframe con las variables predictoras y la variable objetivo, la cual debe llamarse 'Porcentaje_adquisicion_cat'.\n",
    "\n",
    "    Returns:\n",
    "        accuracy: accuracy del modelo entrenado de Random Forest Classifier.\n",
    "    \"\"\"\n",
    "    try:\n",
    "        df = df.drop(columns=['first_funding_date', 'last_funding_date', 'valuation_2022'])\n",
    "    except:\n",
    "        pass\n",
    "    X = df.drop('Porcentaje_adquisicion_cat', axis=1)\n",
    "    y = df['Porcentaje_adquisicion_cat'].astype('int')\n",
    "    \n",
    "    # Label encoding\n",
    "    for col in X.select_dtypes(include='object').columns:\n",
    "        X[col] = le.fit_transform(X[col])\n",
    "    x_train, x_test, y_train, y_test = train_test_split(X, y, test_size=0.3, random_state=RANDOM_STATE)\n",
    "\n",
    "    rf = RandomForestClassifier(random_state=RANDOM_STATE)\n",
    "    rf.fit(x_train, y_train)\n",
    "    predictions = rf.predict(x_test)\n",
    "    accuracy = accuracy_score(y_test, predictions).round(4)\n",
    "    #print(rf.__class__.__name__, ':', round(accuracy_score(y_test, predictions),4), '\\n', confusion_matrix(y_test, predictions))\n",
    "\n",
    "    return accuracy"
   ]
  },
  {
   "cell_type": "code",
   "execution_count": 166,
   "metadata": {},
   "outputs": [
    {
     "name": "stdout",
     "output_type": "stream",
     "text": [
      "Sin escalar: 0.8056 de accuracy\n",
      "Con StandardScaler: 0.649 de accuracy\n",
      "Con MinMaxScaler: 0.8 de accuracy\n",
      "El mejor modelo es el de la opción 1 con un accuracy de 0.8056\n"
     ]
    }
   ],
   "source": [
    "# Probar Random Forest con las tres opciones\n",
    "\n",
    "# Opción A: sin escalar\n",
    "\n",
    "print(f'Sin escalar: {random_forest_clasif(dfa_1)} de accuracy')\n",
    "\n",
    "# Opción B: con StandardScaler\n",
    "print(f'Con StandardScaler: {random_forest_clasif(dfb)} de accuracy')\n",
    "\n",
    "# Opción C: con MinMaxScaler\n",
    "print(f'Con MinMaxScaler: {random_forest_clasif(dfc)} de accuracy')\n",
    "\n",
    "print(f'El mejor modelo es el de la opción {np.argmax([random_forest_clasif(dfa_1), random_forest_clasif(dfb), random_forest_clasif(dfc)]) + 1} con un accuracy de {(np.max([random_forest_clasif(dfa_1), random_forest_clasif(dfb), random_forest_clasif(dfc)])).round(4)}')"
   ]
  },
  {
   "cell_type": "code",
   "execution_count": 167,
   "metadata": {},
   "outputs": [
    {
     "data": {
      "text/plain": [
       "(815, 70)"
      ]
     },
     "execution_count": 167,
     "metadata": {},
     "output_type": "execute_result"
    }
   ],
   "source": [
    "# Para ambos casos el mejor método no escalar\n",
    "df = dfa_2.copy()\n",
    "df.shape"
   ]
  },
  {
   "attachments": {},
   "cell_type": "markdown",
   "metadata": {},
   "source": [
    "---------------------------------------"
   ]
  },
  {
   "attachments": {},
   "cell_type": "markdown",
   "metadata": {},
   "source": [
    "# Fusión de los años 2020 y 2021"
   ]
  },
  {
   "attachments": {},
   "cell_type": "markdown",
   "metadata": {},
   "source": [
    "Iteraremos sobre los datos tratando las filas a pares. Crearemos una función que comprueba que la combinación de las dos instancias próximas es 2021 primero y 2020 después. Si eso es así, otra función calculará (2021-2020)/2020*100 para cada variable, y esa fila que representa la diferencia entre los años se añadirá al nuevo dataframe.\n",
    "\n",
    "Si la comprobación de la combinación de 2021 primero y 2020 después falla, se imprimirá un error por pantalla y se ignorará ese par de filas.\n",
    "\n",
    "De esta manera, se reduce el número de instancias a la mitad: 60 instancias para 60 empresas, teniendo una fila por empresa."
   ]
  },
  {
   "cell_type": "code",
   "execution_count": 168,
   "metadata": {},
   "outputs": [],
   "source": [
    "df_aux = df.copy()"
   ]
  },
  {
   "cell_type": "code",
   "execution_count": 169,
   "metadata": {},
   "outputs": [],
   "source": [
    "# Se añade la columna del año\n",
    "df2_reset = df2.reset_index()\n",
    "df_year = df2_reset['year']\n",
    "df_aux.reset_index(inplace=True)\n",
    "df = pd.concat([df_aux, df_year], axis=1)\n",
    "df.columns = df_aux.columns.tolist() + ['year']"
   ]
  },
  {
   "cell_type": "code",
   "execution_count": 170,
   "metadata": {},
   "outputs": [],
   "source": [
    "df = df.loc[:,~df.columns.duplicated()] # si hay columnas duplicadas, se elimina una de ellas"
   ]
  },
  {
   "cell_type": "code",
   "execution_count": 171,
   "metadata": {},
   "outputs": [],
   "source": [
    "# Ignore funding dates\n",
    "df = df.drop(columns=['first_funding_date', 'last_funding_date'])\n",
    "df['Porcentaje_adquisicion_cat'] = df['Porcentaje_adquisicion_cat'].astype('object')"
   ]
  },
  {
   "cell_type": "code",
   "execution_count": 172,
   "metadata": {},
   "outputs": [],
   "source": [
    "def is_valid_pair(row1, row2):\n",
    "    \"\"\"Función que comprueba si un par de filas cumple las condiciones.\n",
    "\n",
    "    Parameters:\n",
    "    -----------\n",
    "    row1 : pandas Series\n",
    "        La primera fila a comparar.\n",
    "    row2 : pandas Series\n",
    "        La segunda fila a comparar.\n",
    "\n",
    "    Returns:\n",
    "    --------\n",
    "    bool\n",
    "        True si el par de filas cumple las condiciones, False en caso contrario.\n",
    "    \"\"\"\n",
    "    return row1['year'] == 2021 and row2['year'] == 2020\n",
    "\n",
    "\n",
    "def get_difference(row1, row2):\n",
    "    \"\"\"Función que calcula la diferencia porcentual entre dos filas.\n",
    "\n",
    "    Parameters:\n",
    "    -----------\n",
    "    row1 : pandas Series\n",
    "        La primera fila a comparar.\n",
    "    row2 : pandas Series\n",
    "        La segunda fila a comparar.\n",
    "\n",
    "    Returns:\n",
    "    --------\n",
    "    dict\n",
    "        Un diccionario con las diferencias calculadas. Las variables\n",
    "        categóricas mantienen el valor de la primera fila.\n",
    "    \"\"\"\n",
    "    difference = {}\n",
    "    for col in row1.index:\n",
    "        if isinstance(row1[col], str) or col == 'valuation_2022' or col == 'Porcentaje_adquisicion_cat':\n",
    "            # Si la columna es de tipo string o es una de las variables target, mantener el valor de la fila de 2021\n",
    "            difference[col] = row1[col]\n",
    "        else:\n",
    "            # Si la columna es numérica, calcular la diferencia porcentual, salvo que el valor de la fila de 2020 sea 0\n",
    "            if row2[col] == 0:\n",
    "                difference[col] = 0\n",
    "            else:\n",
    "                difference[col] = (row1[col] - row2[col]) / row2[col] * 100\n",
    "    return difference\n",
    "\n",
    "\n",
    "def calculate_differences(df):\n",
    "    \"\"\"Función que itera sobre un DataFrame y calcula las diferencias.\n",
    "\n",
    "    Parameters:\n",
    "    -----------\n",
    "    df : pandas DataFrame\n",
    "        El DataFrame que contiene los datos.\n",
    "\n",
    "    Returns:\n",
    "    --------\n",
    "    pandas DataFrame\n",
    "        Un nuevo DataFrame con las diferencias calculadas.\n",
    "    \"\"\"\n",
    "    differences = []\n",
    "    for i in range(len(df) - 1):\n",
    "        if is_valid_pair(df.iloc[i], df.iloc[i + 1]):\n",
    "            differences.append(get_difference(df.iloc[i], df.iloc[i + 1]))\n",
    "    return pd.DataFrame(differences)"
   ]
  },
  {
   "cell_type": "code",
   "execution_count": 173,
   "metadata": {},
   "outputs": [
    {
     "data": {
      "text/html": [
       "<div>\n",
       "<style scoped>\n",
       "    .dataframe tbody tr th:only-of-type {\n",
       "        vertical-align: middle;\n",
       "    }\n",
       "\n",
       "    .dataframe tbody tr th {\n",
       "        vertical-align: top;\n",
       "    }\n",
       "\n",
       "    .dataframe thead th {\n",
       "        text-align: right;\n",
       "    }\n",
       "</style>\n",
       "<table border=\"1\" class=\"dataframe\">\n",
       "  <thead>\n",
       "    <tr style=\"text-align: right;\">\n",
       "      <th></th>\n",
       "      <th>index</th>\n",
       "      <th>Codigo_NIF</th>\n",
       "      <th>Capital social mil EUR</th>\n",
       "      <th>Free capital mil EUR</th>\n",
       "      <th>Porcentaje_adquisicion_cat</th>\n",
       "      <th>total_funding</th>\n",
       "      <th>last_funding</th>\n",
       "      <th>last_round</th>\n",
       "      <th>total_rounds</th>\n",
       "      <th>ownerships</th>\n",
       "      <th>...</th>\n",
       "      <th>ratio_deuda_patrimonio</th>\n",
       "      <th>ratio_ebitda_activos</th>\n",
       "      <th>ratio_ebitda_patrimonio</th>\n",
       "      <th>ratio_ventas_ebitda</th>\n",
       "      <th>ratio_ventas_activos</th>\n",
       "      <th>ratio_ventas_patrimonio</th>\n",
       "      <th>ratio_prueba_acida</th>\n",
       "      <th>ratio_periodo_prom_cobro</th>\n",
       "      <th>dias_operando</th>\n",
       "      <th>dias_desde_ult_round</th>\n",
       "    </tr>\n",
       "  </thead>\n",
       "  <tbody>\n",
       "    <tr>\n",
       "      <th>0</th>\n",
       "      <td>0</td>\n",
       "      <td>A78053147</td>\n",
       "      <td>2000.0</td>\n",
       "      <td>0.0</td>\n",
       "      <td>2</td>\n",
       "      <td>0.00000</td>\n",
       "      <td>0.000000</td>\n",
       "      <td>sin ronda</td>\n",
       "      <td>0</td>\n",
       "      <td>bootstrapped</td>\n",
       "      <td>...</td>\n",
       "      <td>0.299961</td>\n",
       "      <td>0.005223</td>\n",
       "      <td>0.042148</td>\n",
       "      <td>203.551925</td>\n",
       "      <td>1.063168</td>\n",
       "      <td>8.579402</td>\n",
       "      <td>656.482384</td>\n",
       "      <td>98.599699</td>\n",
       "      <td>13793</td>\n",
       "      <td>44994</td>\n",
       "    </tr>\n",
       "    <tr>\n",
       "      <th>1</th>\n",
       "      <td>1</td>\n",
       "      <td>A78053147</td>\n",
       "      <td>2000.0</td>\n",
       "      <td>0.0</td>\n",
       "      <td>2</td>\n",
       "      <td>0.00000</td>\n",
       "      <td>0.000000</td>\n",
       "      <td>sin ronda</td>\n",
       "      <td>0</td>\n",
       "      <td>bootstrapped</td>\n",
       "      <td>...</td>\n",
       "      <td>0.162420</td>\n",
       "      <td>0.095601</td>\n",
       "      <td>0.680009</td>\n",
       "      <td>9.819650</td>\n",
       "      <td>0.938765</td>\n",
       "      <td>6.677451</td>\n",
       "      <td>513.465916</td>\n",
       "      <td>130.058609</td>\n",
       "      <td>13793</td>\n",
       "      <td>44994</td>\n",
       "    </tr>\n",
       "    <tr>\n",
       "      <th>2</th>\n",
       "      <td>2</td>\n",
       "      <td>B75103515</td>\n",
       "      <td>20500.0</td>\n",
       "      <td>0.0</td>\n",
       "      <td>1</td>\n",
       "      <td>0.86575</td>\n",
       "      <td>0.728037</td>\n",
       "      <td>SUPPORT PROGRAM</td>\n",
       "      <td>1</td>\n",
       "      <td>accelerator</td>\n",
       "      <td>...</td>\n",
       "      <td>3.730236</td>\n",
       "      <td>-0.030085</td>\n",
       "      <td>-0.629786</td>\n",
       "      <td>-20.922413</td>\n",
       "      <td>0.629449</td>\n",
       "      <td>13.176632</td>\n",
       "      <td>1.200000</td>\n",
       "      <td>69.456993</td>\n",
       "      <td>3336</td>\n",
       "      <td>3356</td>\n",
       "    </tr>\n",
       "    <tr>\n",
       "      <th>3</th>\n",
       "      <td>3</td>\n",
       "      <td>B75103515</td>\n",
       "      <td>20500.0</td>\n",
       "      <td>0.0</td>\n",
       "      <td>1</td>\n",
       "      <td>0.86575</td>\n",
       "      <td>0.728037</td>\n",
       "      <td>SUPPORT PROGRAM</td>\n",
       "      <td>1</td>\n",
       "      <td>accelerator</td>\n",
       "      <td>...</td>\n",
       "      <td>-1.152470</td>\n",
       "      <td>-0.101442</td>\n",
       "      <td>0.717084</td>\n",
       "      <td>-4.026778</td>\n",
       "      <td>0.408485</td>\n",
       "      <td>-2.887537</td>\n",
       "      <td>1.106586</td>\n",
       "      <td>91.696964</td>\n",
       "      <td>3336</td>\n",
       "      <td>3356</td>\n",
       "    </tr>\n",
       "    <tr>\n",
       "      <th>4</th>\n",
       "      <td>4</td>\n",
       "      <td>B95864310</td>\n",
       "      <td>7515.0</td>\n",
       "      <td>0.0</td>\n",
       "      <td>1</td>\n",
       "      <td>0.00000</td>\n",
       "      <td>0.000000</td>\n",
       "      <td>sin ronda</td>\n",
       "      <td>0</td>\n",
       "      <td>accelerator</td>\n",
       "      <td>...</td>\n",
       "      <td>0.365205</td>\n",
       "      <td>0.019084</td>\n",
       "      <td>0.086028</td>\n",
       "      <td>32.930598</td>\n",
       "      <td>0.628438</td>\n",
       "      <td>2.832956</td>\n",
       "      <td>0.209598</td>\n",
       "      <td>66.930236</td>\n",
       "      <td>2297</td>\n",
       "      <td>44994</td>\n",
       "    </tr>\n",
       "    <tr>\n",
       "      <th>5</th>\n",
       "      <td>5</td>\n",
       "      <td>B95864310</td>\n",
       "      <td>7515.0</td>\n",
       "      <td>0.0</td>\n",
       "      <td>1</td>\n",
       "      <td>0.00000</td>\n",
       "      <td>0.000000</td>\n",
       "      <td>sin ronda</td>\n",
       "      <td>0</td>\n",
       "      <td>accelerator</td>\n",
       "      <td>...</td>\n",
       "      <td>0.580171</td>\n",
       "      <td>-0.047186</td>\n",
       "      <td>-0.204820</td>\n",
       "      <td>-11.625769</td>\n",
       "      <td>0.548570</td>\n",
       "      <td>2.381190</td>\n",
       "      <td>0.286003</td>\n",
       "      <td>187.821838</td>\n",
       "      <td>2297</td>\n",
       "      <td>44994</td>\n",
       "    </tr>\n",
       "  </tbody>\n",
       "</table>\n",
       "<p>6 rows × 69 columns</p>\n",
       "</div>"
      ],
      "text/plain": [
       "   index Codigo_NIF  Capital social mil EUR  Free capital mil EUR  \\\n",
       "0      0  A78053147                  2000.0                   0.0   \n",
       "1      1  A78053147                  2000.0                   0.0   \n",
       "2      2  B75103515                 20500.0                   0.0   \n",
       "3      3  B75103515                 20500.0                   0.0   \n",
       "4      4  B95864310                  7515.0                   0.0   \n",
       "5      5  B95864310                  7515.0                   0.0   \n",
       "\n",
       "  Porcentaje_adquisicion_cat  total_funding  last_funding       last_round  \\\n",
       "0                          2        0.00000      0.000000        sin ronda   \n",
       "1                          2        0.00000      0.000000        sin ronda   \n",
       "2                          1        0.86575      0.728037  SUPPORT PROGRAM   \n",
       "3                          1        0.86575      0.728037  SUPPORT PROGRAM   \n",
       "4                          1        0.00000      0.000000        sin ronda   \n",
       "5                          1        0.00000      0.000000        sin ronda   \n",
       "\n",
       "   total_rounds    ownerships  ... ratio_deuda_patrimonio  \\\n",
       "0             0  bootstrapped  ...               0.299961   \n",
       "1             0  bootstrapped  ...               0.162420   \n",
       "2             1   accelerator  ...               3.730236   \n",
       "3             1   accelerator  ...              -1.152470   \n",
       "4             0   accelerator  ...               0.365205   \n",
       "5             0   accelerator  ...               0.580171   \n",
       "\n",
       "  ratio_ebitda_activos ratio_ebitda_patrimonio ratio_ventas_ebitda  \\\n",
       "0             0.005223                0.042148          203.551925   \n",
       "1             0.095601                0.680009            9.819650   \n",
       "2            -0.030085               -0.629786          -20.922413   \n",
       "3            -0.101442                0.717084           -4.026778   \n",
       "4             0.019084                0.086028           32.930598   \n",
       "5            -0.047186               -0.204820          -11.625769   \n",
       "\n",
       "   ratio_ventas_activos  ratio_ventas_patrimonio  ratio_prueba_acida  \\\n",
       "0              1.063168                 8.579402          656.482384   \n",
       "1              0.938765                 6.677451          513.465916   \n",
       "2              0.629449                13.176632            1.200000   \n",
       "3              0.408485                -2.887537            1.106586   \n",
       "4              0.628438                 2.832956            0.209598   \n",
       "5              0.548570                 2.381190            0.286003   \n",
       "\n",
       "   ratio_periodo_prom_cobro  dias_operando  dias_desde_ult_round  \n",
       "0                 98.599699          13793                 44994  \n",
       "1                130.058609          13793                 44994  \n",
       "2                 69.456993           3336                  3356  \n",
       "3                 91.696964           3336                  3356  \n",
       "4                 66.930236           2297                 44994  \n",
       "5                187.821838           2297                 44994  \n",
       "\n",
       "[6 rows x 69 columns]"
      ]
     },
     "execution_count": 173,
     "metadata": {},
     "output_type": "execute_result"
    }
   ],
   "source": [
    "df.head(6) # antes de aplicar la función loop"
   ]
  },
  {
   "cell_type": "code",
   "execution_count": 174,
   "metadata": {},
   "outputs": [
    {
     "data": {
      "text/html": [
       "<div>\n",
       "<style scoped>\n",
       "    .dataframe tbody tr th:only-of-type {\n",
       "        vertical-align: middle;\n",
       "    }\n",
       "\n",
       "    .dataframe tbody tr th {\n",
       "        vertical-align: top;\n",
       "    }\n",
       "\n",
       "    .dataframe thead th {\n",
       "        text-align: right;\n",
       "    }\n",
       "</style>\n",
       "<table border=\"1\" class=\"dataframe\">\n",
       "  <thead>\n",
       "    <tr style=\"text-align: right;\">\n",
       "      <th></th>\n",
       "      <th>index</th>\n",
       "      <th>Codigo_NIF</th>\n",
       "      <th>Capital social mil EUR</th>\n",
       "      <th>Free capital mil EUR</th>\n",
       "      <th>Porcentaje_adquisicion_cat</th>\n",
       "      <th>total_funding</th>\n",
       "      <th>last_funding</th>\n",
       "      <th>last_round</th>\n",
       "      <th>total_rounds</th>\n",
       "      <th>ownerships</th>\n",
       "      <th>...</th>\n",
       "      <th>ratio_deuda_patrimonio</th>\n",
       "      <th>ratio_ebitda_activos</th>\n",
       "      <th>ratio_ebitda_patrimonio</th>\n",
       "      <th>ratio_ventas_ebitda</th>\n",
       "      <th>ratio_ventas_activos</th>\n",
       "      <th>ratio_ventas_patrimonio</th>\n",
       "      <th>ratio_prueba_acida</th>\n",
       "      <th>ratio_periodo_prom_cobro</th>\n",
       "      <th>dias_operando</th>\n",
       "      <th>dias_desde_ult_round</th>\n",
       "    </tr>\n",
       "  </thead>\n",
       "  <tbody>\n",
       "    <tr>\n",
       "      <th>0</th>\n",
       "      <td>-100.000000</td>\n",
       "      <td>A78053147</td>\n",
       "      <td>0.0</td>\n",
       "      <td>0.0</td>\n",
       "      <td>2</td>\n",
       "      <td>0.0</td>\n",
       "      <td>0.0</td>\n",
       "      <td>sin ronda</td>\n",
       "      <td>0.0</td>\n",
       "      <td>bootstrapped</td>\n",
       "      <td>...</td>\n",
       "      <td>84.682330</td>\n",
       "      <td>-94.536564</td>\n",
       "      <td>-93.801778</td>\n",
       "      <td>1972.903974</td>\n",
       "      <td>13.251777</td>\n",
       "      <td>28.483180</td>\n",
       "      <td>27.853157</td>\n",
       "      <td>-24.188256</td>\n",
       "      <td>0.0</td>\n",
       "      <td>0.0</td>\n",
       "    </tr>\n",
       "    <tr>\n",
       "      <th>1</th>\n",
       "      <td>-33.333333</td>\n",
       "      <td>B75103515</td>\n",
       "      <td>0.0</td>\n",
       "      <td>0.0</td>\n",
       "      <td>1</td>\n",
       "      <td>0.0</td>\n",
       "      <td>0.0</td>\n",
       "      <td>SUPPORT PROGRAM</td>\n",
       "      <td>0.0</td>\n",
       "      <td>accelerator</td>\n",
       "      <td>...</td>\n",
       "      <td>-423.673144</td>\n",
       "      <td>-70.342819</td>\n",
       "      <td>-187.825931</td>\n",
       "      <td>419.581942</td>\n",
       "      <td>54.093356</td>\n",
       "      <td>-556.327677</td>\n",
       "      <td>8.441659</td>\n",
       "      <td>-24.253770</td>\n",
       "      <td>0.0</td>\n",
       "      <td>0.0</td>\n",
       "    </tr>\n",
       "    <tr>\n",
       "      <th>2</th>\n",
       "      <td>-20.000000</td>\n",
       "      <td>B95864310</td>\n",
       "      <td>0.0</td>\n",
       "      <td>0.0</td>\n",
       "      <td>1</td>\n",
       "      <td>0.0</td>\n",
       "      <td>0.0</td>\n",
       "      <td>sin ronda</td>\n",
       "      <td>0.0</td>\n",
       "      <td>accelerator</td>\n",
       "      <td>...</td>\n",
       "      <td>-37.052089</td>\n",
       "      <td>-140.443814</td>\n",
       "      <td>-142.001797</td>\n",
       "      <td>-383.255232</td>\n",
       "      <td>14.559218</td>\n",
       "      <td>18.972286</td>\n",
       "      <td>-26.714724</td>\n",
       "      <td>-64.365040</td>\n",
       "      <td>0.0</td>\n",
       "      <td>0.0</td>\n",
       "    </tr>\n",
       "  </tbody>\n",
       "</table>\n",
       "<p>3 rows × 69 columns</p>\n",
       "</div>"
      ],
      "text/plain": [
       "        index Codigo_NIF  Capital social mil EUR  Free capital mil EUR  \\\n",
       "0 -100.000000  A78053147                     0.0                   0.0   \n",
       "1  -33.333333  B75103515                     0.0                   0.0   \n",
       "2  -20.000000  B95864310                     0.0                   0.0   \n",
       "\n",
       "   Porcentaje_adquisicion_cat  total_funding  last_funding       last_round  \\\n",
       "0                           2            0.0           0.0        sin ronda   \n",
       "1                           1            0.0           0.0  SUPPORT PROGRAM   \n",
       "2                           1            0.0           0.0        sin ronda   \n",
       "\n",
       "   total_rounds    ownerships  ... ratio_deuda_patrimonio  \\\n",
       "0           0.0  bootstrapped  ...              84.682330   \n",
       "1           0.0   accelerator  ...            -423.673144   \n",
       "2           0.0   accelerator  ...             -37.052089   \n",
       "\n",
       "  ratio_ebitda_activos ratio_ebitda_patrimonio ratio_ventas_ebitda  \\\n",
       "0           -94.536564              -93.801778         1972.903974   \n",
       "1           -70.342819             -187.825931          419.581942   \n",
       "2          -140.443814             -142.001797         -383.255232   \n",
       "\n",
       "   ratio_ventas_activos  ratio_ventas_patrimonio  ratio_prueba_acida  \\\n",
       "0             13.251777                28.483180           27.853157   \n",
       "1             54.093356              -556.327677            8.441659   \n",
       "2             14.559218                18.972286          -26.714724   \n",
       "\n",
       "   ratio_periodo_prom_cobro  dias_operando  dias_desde_ult_round  \n",
       "0                -24.188256            0.0                   0.0  \n",
       "1                -24.253770            0.0                   0.0  \n",
       "2                -64.365040            0.0                   0.0  \n",
       "\n",
       "[3 rows x 69 columns]"
      ]
     },
     "execution_count": 174,
     "metadata": {},
     "output_type": "execute_result"
    }
   ],
   "source": [
    "df_diff = calculate_differences(df)\n",
    "df_diff.head(3) # después de aplicar la función loop"
   ]
  },
  {
   "cell_type": "code",
   "execution_count": 175,
   "metadata": {},
   "outputs": [],
   "source": [
    "# La columna 'year' ya no es necesaria, ya que todas las filas indican la diferencia entre dos años\n",
    "df_diff = df_diff.drop(columns=['year'])"
   ]
  },
  {
   "cell_type": "code",
   "execution_count": 176,
   "metadata": {},
   "outputs": [],
   "source": [
    "df_diff.set_index('Codigo_NIF', inplace=True)"
   ]
  },
  {
   "attachments": {},
   "cell_type": "markdown",
   "metadata": {},
   "source": [
    "#### ¿Mejora los resultados para regresión?"
   ]
  },
  {
   "cell_type": "code",
   "execution_count": 177,
   "metadata": {},
   "outputs": [
    {
     "data": {
      "text/plain": [
       "(60, 67)"
      ]
     },
     "execution_count": 177,
     "metadata": {},
     "output_type": "execute_result"
    }
   ],
   "source": [
    "df_regr = df_diff.drop(columns=['Porcentaje_adquisicion_cat'])\n",
    "df_regr = df_diff.dropna(subset=['valuation_2022'])\n",
    "df_regr.shape # 60 instancias, 60 empresas"
   ]
  },
  {
   "cell_type": "code",
   "execution_count": 178,
   "metadata": {},
   "outputs": [
    {
     "name": "stdout",
     "output_type": "stream",
     "text": [
      "Con la segunda derivada (la diferencia porcentual de 2020 a 2021): -0.0411 de R2\n"
     ]
    }
   ],
   "source": [
    "# Random Forest Regressor con los datos obtenidos de las diferencias porcentuales de 2020 a 2021 (la segunda derivada)\n",
    "print(f'Con la segunda derivada (la diferencia porcentual de 2020 a 2021): {random_forest_regr(df_regr).round(4)} de R2')"
   ]
  },
  {
   "attachments": {},
   "cell_type": "markdown",
   "metadata": {},
   "source": [
    "#### ¿Mejora los resultados para clasificación?"
   ]
  },
  {
   "cell_type": "code",
   "execution_count": 179,
   "metadata": {},
   "outputs": [
    {
     "data": {
      "text/plain": [
       "(403, 66)"
      ]
     },
     "execution_count": 179,
     "metadata": {},
     "output_type": "execute_result"
    }
   ],
   "source": [
    "df_clasif = df_diff.drop(columns=['valuation_2022'])\n",
    "df_clasif.shape"
   ]
  },
  {
   "cell_type": "code",
   "execution_count": 180,
   "metadata": {},
   "outputs": [
    {
     "name": "stdout",
     "output_type": "stream",
     "text": [
      "Con la segunda derivada (la diferencia porcentual de 2020 a 2021): 0.4876 de accuracy\n"
     ]
    }
   ],
   "source": [
    "# Random Forest Classifier con los datos obtenidos de las diferencias porcentuales de 2020 a 2021 (la segunda derivada)\n",
    "print(f'Con la segunda derivada (la diferencia porcentual de 2020 a 2021): {random_forest_clasif(df_clasif)} de accuracy')"
   ]
  },
  {
   "attachments": {},
   "cell_type": "markdown",
   "metadata": {},
   "source": [
    "---------------------------------------"
   ]
  },
  {
   "attachments": {},
   "cell_type": "markdown",
   "metadata": {},
   "source": [
    "# Datos para clasificación (predecir adquisición)"
   ]
  },
  {
   "cell_type": "code",
   "execution_count": 181,
   "metadata": {},
   "outputs": [
    {
     "data": {
      "text/plain": [
       "1    164\n",
       "0    160\n",
       "2     79\n",
       "Name: Porcentaje_adquisicion_cat, dtype: int64"
      ]
     },
     "execution_count": 181,
     "metadata": {},
     "output_type": "execute_result"
    }
   ],
   "source": [
    "df_clasif['Porcentaje_adquisicion_cat'].value_counts()"
   ]
  },
  {
   "cell_type": "code",
   "execution_count": 182,
   "metadata": {},
   "outputs": [
    {
     "data": {
      "text/plain": [
       "(403, 66)"
      ]
     },
     "execution_count": 182,
     "metadata": {},
     "output_type": "execute_result"
    }
   ],
   "source": [
    "df_clasif.shape"
   ]
  },
  {
   "cell_type": "code",
   "execution_count": 183,
   "metadata": {},
   "outputs": [],
   "source": [
    "df_clasif.reset_index(inplace=True)"
   ]
  },
  {
   "attachments": {},
   "cell_type": "markdown",
   "metadata": {},
   "source": [
    "# Datos para regresión (predecir valoración)"
   ]
  },
  {
   "attachments": {},
   "cell_type": "markdown",
   "metadata": {},
   "source": [
    "Filtrado de instancias"
   ]
  },
  {
   "cell_type": "code",
   "execution_count": 184,
   "metadata": {
    "vscode": {
     "languageId": "powershell"
    }
   },
   "outputs": [
    {
     "data": {
      "text/plain": [
       "(60, 67)"
      ]
     },
     "execution_count": 184,
     "metadata": {},
     "output_type": "execute_result"
    }
   ],
   "source": [
    "df_regr.shape # 60 instancias = 60 empresas"
   ]
  },
  {
   "cell_type": "code",
   "execution_count": 185,
   "metadata": {
    "vscode": {
     "languageId": "powershell"
    }
   },
   "outputs": [
    {
     "data": {
      "text/plain": [
       "0"
      ]
     },
     "execution_count": 185,
     "metadata": {},
     "output_type": "execute_result"
    }
   ],
   "source": [
    "df_regr['valuation_2022'].isna().sum()"
   ]
  },
  {
   "cell_type": "code",
   "execution_count": 186,
   "metadata": {
    "vscode": {
     "languageId": "powershell"
    }
   },
   "outputs": [
    {
     "data": {
      "text/plain": [
       "<AxesSubplot:>"
      ]
     },
     "execution_count": 186,
     "metadata": {},
     "output_type": "execute_result"
    },
    {
     "data": {
      "image/png": "[encoded data removed]",
      "text/plain": [
       "<Figure size 432x288 with 1 Axes>"
      ]
     },
     "metadata": {
      "needs_background": "light"
     },
     "output_type": "display_data"
    }
   ],
   "source": [
    "df_regr['valuation_2022'].plot(kind='box')"
   ]
  },
  {
   "cell_type": "code",
   "execution_count": 187,
   "metadata": {
    "vscode": {
     "languageId": "powershell"
    }
   },
   "outputs": [],
   "source": [
    "df_regr.reset_index(inplace=True)"
   ]
  },
  {
   "attachments": {},
   "cell_type": "markdown",
   "metadata": {},
   "source": [
    "-----------------"
   ]
  },
  {
   "attachments": {},
   "cell_type": "markdown",
   "metadata": {},
   "source": [
    "# GUARDAR DATOS LIMPIOS"
   ]
  },
  {
   "attachments": {},
   "cell_type": "markdown",
   "metadata": {},
   "source": [
    "#### Creación de directorios"
   ]
  },
  {
   "cell_type": "code",
   "execution_count": 188,
   "metadata": {},
   "outputs": [],
   "source": [
    "# Se crea el directorio donde se guardarán los modelos\n",
    "path_modelos = os.path.join('Modelos')\n",
    "if not os.path.exists(path_modelos):\n",
    "    os.makedirs(path_modelos)"
   ]
  },
  {
   "cell_type": "code",
   "execution_count": 189,
   "metadata": {},
   "outputs": [],
   "source": [
    "# Se crea el directorio donde se guardarán los gráficos\n",
    "path_graficos = os.path.join('Graficos')\n",
    "if not os.path.exists(path_graficos):\n",
    "    os.makedirs(path_graficos)"
   ]
  },
  {
   "attachments": {},
   "cell_type": "markdown",
   "metadata": {},
   "source": [
    "#### Guardado del dataframe para clasificación"
   ]
  },
  {
   "cell_type": "code",
   "execution_count": 190,
   "metadata": {},
   "outputs": [
    {
     "name": "stdout",
     "output_type": "stream",
     "text": [
      "403 startups en los datos limpios para clasificación.\n",
      "67 variables en el dataframe limpio guardado para clasificación.\n"
     ]
    }
   ],
   "source": [
    "# Se guarda el dataset limpio\n",
    "file_clean = os.path.join(path_clean_data,'df_clasif.csv') # nombre con el que se guardará el archivo\n",
    "df_clasif.to_csv(file_clean, index = False) # nombre del df a guardar con el método que incluye el path\n",
    "print(f\"{df_clasif['Codigo_NIF'].nunique()} startups en los datos limpios para clasificación.\")\n",
    "print(f\"{df_clasif.shape[1]} variables en el dataframe limpio guardado para clasificación.\")"
   ]
  },
  {
   "attachments": {},
   "cell_type": "markdown",
   "metadata": {},
   "source": [
    "#### Guardado del dataframe para regresión"
   ]
  },
  {
   "cell_type": "code",
   "execution_count": 192,
   "metadata": {},
   "outputs": [
    {
     "name": "stdout",
     "output_type": "stream",
     "text": [
      "60 startups en los datos limpios para regresión.\n",
      "68 variables en el dataframe limpio guardado para regresión.\n"
     ]
    }
   ],
   "source": [
    "# Se guarda el dataset limpio\n",
    "file_clean = os.path.join(path_clean_data,'df_regr.csv') # nombre con el que se guardará el archivo\n",
    "df_regr.to_csv(file_clean, index = False) # nombre del df a guardar con el método que incluye el path\n",
    "print(f\"{df_regr['Codigo_NIF'].nunique()} startups en los datos limpios para regresión.\")\n",
    "print(f\"{df_regr.shape[1]} variables en el dataframe limpio guardado para regresión.\")"
   ]
  }
 ],
 "metadata": {
  "kernelspec": {
   "display_name": "RETO_6",
   "language": "python",
   "name": "python3"
  },
  "language_info": {
   "codemirror_mode": {
    "name": "ipython",
    "version": 3
   },
   "file_extension": ".py",
   "mimetype": "text/x-python",
   "name": "python",
   "nbconvert_exporter": "python",
   "pygments_lexer": "ipython3",
   "version": "3.9.12"
  },
  "orig_nbformat": 4,
  "vscode": {
   "interpreter": {
    "hash": "43da2a4a05ab489e1944bd06d741de7bea8232c934cad1a8d410025196f580f5"
   }
  }
 },
 "nbformat": 4,
 "nbformat_minor": 2
}
