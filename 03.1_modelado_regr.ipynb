{
 "cells": [
  {
   "attachments": {},
   "cell_type": "markdown",
   "metadata": {},
   "source": [
    "# MODELADO: Regresión sobre la valoracion del 2022"
   ]
  },
  {
   "cell_type": "code",
   "execution_count": 473,
   "metadata": {},
   "outputs": [],
   "source": [
    "# Generales y preprocesamiento\n",
    "import pandas as pd\n",
    "import numpy as np\n",
    "from sklearn.preprocessing import LabelEncoder, MinMaxScaler, StandardScaler\n",
    "\n",
    "# Preparación para modelos\n",
    "from sklearn.model_selection import train_test_split, GridSearchCV, cross_val_score\n",
    "from scipy.special import inv_boxcox\n",
    "from scipy.stats import boxcox\n",
    "from hyperopt import hp,fmin,tpe,STATUS_OK,Trials, space_eval\n",
    "\n",
    "# Modelos\n",
    "from sklearn.ensemble import RandomForestRegressor\n",
    "from sklearn.linear_model import LinearRegression, TweedieRegressor, Lasso, Ridge, ElasticNet\n",
    "from sklearn.svm import SVR\n",
    "from sklearn.neighbors import KNeighborsRegressor\n",
    "from sklearn.tree import  DecisionTreeRegressor\n",
    "from sklearn.ensemble import BaggingRegressor,StackingRegressor\n",
    "\n",
    "# Validación y guardado de modelos\n",
    "from sklearn.metrics import mean_squared_error, r2_score, mean_absolute_percentage_error, mean_absolute_error\n",
    "import pickle\n",
    "\n",
    "import matplotlib.pyplot as plt\n",
    "\n",
    "# funciones\n",
    "import modelado.funciones_modelado as fmod\n",
    "\n",
    "import warnings\n",
    "\n",
    "\n",
    "from sklearn.compose import ColumnTransformer"
   ]
  },
  {
   "cell_type": "code",
   "execution_count": 474,
   "metadata": {},
   "outputs": [],
   "source": [
    "# Carga de datos limpios\n",
    "path_limpios = 'Datos/Limpios/'\n",
    "\n",
    "try:\n",
    "    df_regr = fmod.carga_datos_limpios('df_regr')\n",
    "    df_regr_prefusion = fmod.carga_datos_limpios('df_regr_prefusion')\n",
    "except:\n",
    "    df_regr = fmod.carga_datos_limpios('df_regr', path_limpios)\n",
    "    df_regr_prefusion = fmod.carga_datos_limpios('df_regr_prefusion', path_limpios)"
   ]
  },
  {
   "cell_type": "code",
   "execution_count": 475,
   "metadata": {},
   "outputs": [],
   "source": [
    "df_regr.set_index(\"Codigo_NIF\", inplace=True)"
   ]
  },
  {
   "cell_type": "code",
   "execution_count": 476,
   "metadata": {},
   "outputs": [],
   "source": [
    "df_regr=df_regr.drop(['index', 'ownerships'], axis=1)"
   ]
  },
  {
   "cell_type": "code",
   "execution_count": 477,
   "metadata": {},
   "outputs": [],
   "source": [
    "df_regr_prefusion = df_regr_prefusion.drop(columns=['first_funding_date', 'last_funding_date', 'Free capital mil EUR'])"
   ]
  },
  {
   "cell_type": "code",
   "execution_count": 478,
   "metadata": {},
   "outputs": [
    {
     "data": {
      "text/plain": [
       "(60, 64)"
      ]
     },
     "execution_count": 478,
     "metadata": {},
     "output_type": "execute_result"
    }
   ],
   "source": [
    "df_regr.shape"
   ]
  },
  {
   "cell_type": "code",
   "execution_count": 479,
   "metadata": {},
   "outputs": [
    {
     "data": {
      "text/plain": [
       "(120, 66)"
      ]
     },
     "execution_count": 479,
     "metadata": {},
     "output_type": "execute_result"
    }
   ],
   "source": [
    "df_regr_prefusion.shape"
   ]
  },
  {
   "cell_type": "code",
   "execution_count": 480,
   "metadata": {},
   "outputs": [],
   "source": [
    "RANDOM_STATE = 42"
   ]
  },
  {
   "attachments": {},
   "cell_type": "markdown",
   "metadata": {},
   "source": [
    "## 1. Preprocesamiento"
   ]
  },
  {
   "attachments": {},
   "cell_type": "markdown",
   "metadata": {},
   "source": [
    "### 1.1 Limpieza de variables"
   ]
  },
  {
   "cell_type": "code",
   "execution_count": 481,
   "metadata": {},
   "outputs": [],
   "source": [
    "df_regr=fmod.quitar_variables_ident(df_regr)\n",
    "df_regr_prefusion=fmod.quitar_variables_ident(df_regr_prefusion)"
   ]
  },
  {
   "attachments": {},
   "cell_type": "markdown",
   "metadata": {},
   "source": [
    "### 1.2 Label Encoding de las categóricas"
   ]
  },
  {
   "cell_type": "code",
   "execution_count": 482,
   "metadata": {},
   "outputs": [],
   "source": [
    "df_regr = fmod.label_encoder_categoricas(df_regr)\n",
    "df_regr_prefusion=fmod.label_encoder_categoricas(df_regr_prefusion)"
   ]
  },
  {
   "attachments": {},
   "cell_type": "markdown",
   "metadata": {},
   "source": [
    "### 1.3 Transformar df"
   ]
  },
  {
   "cell_type": "code",
   "execution_count": 483,
   "metadata": {},
   "outputs": [],
   "source": [
    "df_regr=np.log(df_regr+1)\n",
    "df_regr_prefusion=np.log(df_regr_prefusion+1)"
   ]
  },
  {
   "cell_type": "code",
   "execution_count": 484,
   "metadata": {},
   "outputs": [],
   "source": [
    "df_regr=df_regr.dropna(axis=1)\n",
    "df_regr_prefusion=df_regr_prefusion.dropna(axis=1)"
   ]
  },
  {
   "attachments": {},
   "cell_type": "markdown",
   "metadata": {},
   "source": [
    "### 1.3 Selección de variables"
   ]
  },
  {
   "attachments": {},
   "cell_type": "markdown",
   "metadata": {},
   "source": [
    "* Correlacion"
   ]
  },
  {
   "cell_type": "code",
   "execution_count": 485,
   "metadata": {},
   "outputs": [
    {
     "data": {
      "text/plain": [
       "valuation_2022                                                1.000000\n",
       "Activo circulante mil EUR                                     0.704769\n",
       "Tesorería mil EUR                                             0.700543\n",
       "Total activo mil EUR                                          0.674296\n",
       "Total pasivo y capital propio mil EUR                         0.674296\n",
       "Inmovilizado mil EUR                                          0.590409\n",
       "Pasivo líquido mil EUR                                        0.572060\n",
       "Existencias mil EUR                                           0.546402\n",
       "total_funding                                                 0.522243\n",
       "Pasivo fijo mil EUR                                           0.468260\n",
       "Acreedores comerciales mil EUR                                0.430842\n",
       "last_funding                                                  0.411438\n",
       "Dotaciones para amortiz. de inmovil. mil EUR                  0.396312\n",
       "total_rounds                                                  0.354861\n",
       "dias_operando                                                 0.331750\n",
       "Importe neto Cifra de Ventas mil EUR                          0.324367\n",
       "Número empleados                                              0.312316\n",
       "Capital social mil EUR                                        0.276206\n",
       "Período de cobro (días) días                                  0.259946\n",
       "Deudas financieras mil EUR                                    0.127564\n",
       "Ratio de liquidez %                                           0.065466\n",
       "Ratio de solvencia %                                          0.053347\n",
       "Liquidez general %                                            0.053347\n",
       "ratio_periodo_prom_cobro                                      0.049666\n",
       "ratio_ebitda_activos                                          0.041332\n",
       "Ratios de autonomía financiera a medio y largo plazo %        0.007608\n",
       "Costes de los trabajadores / Ingresos de explotación (%) %   -0.009396\n",
       "b2b_b2c                                                      -0.058425\n",
       "ratio_prueba_acida                                           -0.058776\n",
       "Free capital mil EUR                                         -0.085162\n",
       "dias_desde_ult_round                                         -0.087096\n",
       "growth_stage                                                 -0.108282\n",
       "company_status                                               -0.112919\n",
       "ratio_ventas_activos                                         -0.182420\n",
       "Rotación de activos netos %                                  -0.222865\n",
       "Rotación de las existencias %                                -0.231221\n",
       "last_round                                                   -0.234452\n",
       "ratio_deuda_activos                                          -0.244464\n",
       "ratio_deuda_patrimonio                                       -0.253564\n",
       "revenue_models                                               -0.255005\n",
       "Endeudamiento (%) %                                          -0.255655\n",
       "Name: valuation_2022, dtype: float64"
      ]
     },
     "execution_count": 485,
     "metadata": {},
     "output_type": "execute_result"
    }
   ],
   "source": [
    "# Observamos las correlaciones con la variable objetivo\n",
    "\n",
    "correlaciones=df_regr.corr()\n",
    "correlaciones.loc[:,\"valuation_2022\"].sort_values(ascending=False)\n",
    "\n",
    "# no hay tan buena correlación"
   ]
  },
  {
   "cell_type": "code",
   "execution_count": 486,
   "metadata": {},
   "outputs": [
    {
     "data": {
      "text/plain": [
       "valuation_2022                                                1.000000e+00\n",
       "Activo circulante mil EUR                                     6.875414e-01\n",
       "Tesorería mil EUR                                             6.477650e-01\n",
       "Total activo mil EUR                                          6.443259e-01\n",
       "Total pasivo y capital propio mil EUR                         6.443259e-01\n",
       "Inmovilizado mil EUR                                          5.489783e-01\n",
       "total_funding                                                 5.222434e-01\n",
       "Pasivo líquido mil EUR                                        5.200960e-01\n",
       "Existencias mil EUR                                           5.123051e-01\n",
       "Pasivo fijo mil EUR                                           4.648514e-01\n",
       "last_funding                                                  4.114381e-01\n",
       "Acreedores comerciales mil EUR                                3.843625e-01\n",
       "Dotaciones para amortiz. de inmovil. mil EUR                  3.806726e-01\n",
       "total_rounds                                                  3.548608e-01\n",
       "dias_operando                                                 3.317497e-01\n",
       "Número empleados                                              3.128454e-01\n",
       "Importe neto Cifra de Ventas mil EUR                          2.892974e-01\n",
       "Capital social mil EUR                                        2.762063e-01\n",
       "Período de cobro (días) días                                  2.593867e-01\n",
       "Deudas financieras mil EUR                                    1.459743e-01\n",
       "Porcentaje_adquisicion_cat                                    1.269720e-01\n",
       "Ratio de liquidez %                                           9.438879e-02\n",
       "Liquidez general %                                            7.901288e-02\n",
       "Ratio de solvencia %                                          7.901288e-02\n",
       "Ratios de autonomía financiera a medio y largo plazo %        6.147819e-02\n",
       "ratio_periodo_prom_cobro                                      5.766095e-02\n",
       "Costes de los trabajadores / Ingresos de explotación (%) %    5.129089e-02\n",
       "year                                                          7.588257e-13\n",
       "ratio_prueba_acida                                           -3.870509e-02\n",
       "b2b_b2c                                                      -5.842450e-02\n",
       "dias_desde_ult_round                                         -8.709567e-02\n",
       "growth_stage                                                 -1.082824e-01\n",
       "ownerships                                                   -1.106163e-01\n",
       "company_status                                               -1.129195e-01\n",
       "ratio_ventas_activos                                         -1.415434e-01\n",
       "Endeudamiento (%) %                                          -1.476026e-01\n",
       "Rotación de activos netos %                                  -1.903971e-01\n",
       "Rotación de las existencias %                                -1.959686e-01\n",
       "ratio_deuda_activos                                          -2.062176e-01\n",
       "last_round                                                   -2.271004e-01\n",
       "revenue_models                                               -2.550050e-01\n",
       "Name: valuation_2022, dtype: float64"
      ]
     },
     "execution_count": 486,
     "metadata": {},
     "output_type": "execute_result"
    }
   ],
   "source": [
    "# Observamos las correlaciones con la variable objetivo\n",
    "\n",
    "correlaciones=df_regr_prefusion.corr()\n",
    "correlaciones=correlaciones.loc[:,\"valuation_2022\"].sort_values(ascending=False)\n",
    "correlaciones\n",
    "# no hay tan buena correlación"
   ]
  },
  {
   "cell_type": "code",
   "execution_count": 487,
   "metadata": {},
   "outputs": [
    {
     "name": "stdout",
     "output_type": "stream",
     "text": [
      "Hay 27 variables con una correlacion mayor a 0.15\n",
      "Hay 22 variables con una correlacion mayor a 0.2\n"
     ]
    }
   ],
   "source": [
    "df_regr_cor=fmod.vars_correlacion_reg(df_regr, 0.15)\n",
    "df_regr_pref_cor=fmod.vars_correlacion_reg(df_regr_prefusion, 0.2)"
   ]
  },
  {
   "attachments": {},
   "cell_type": "markdown",
   "metadata": {},
   "source": [
    "* Feature importance Random Forest"
   ]
  },
  {
   "cell_type": "code",
   "execution_count": 488,
   "metadata": {},
   "outputs": [
    {
     "name": "stdout",
     "output_type": "stream",
     "text": [
      "{'Capital social mil EUR': 0.03, 'Free capital mil EUR': 0.0, 'total_funding': 0.03, 'last_funding': 0.01, 'last_round': 0.0, 'total_rounds': 0.03, 'b2b_b2c': 0.0, 'revenue_models': 0.0, 'growth_stage': 0.0, 'company_status': 0.0, 'Número empleados': 0.01, 'Inmovilizado mil EUR': 0.04, 'Activo circulante mil EUR': 0.27, 'Total activo mil EUR': 0.05, 'Pasivo fijo mil EUR': 0.02, 'Pasivo líquido mil EUR': 0.0, 'Total pasivo y capital propio mil EUR': 0.05, 'Costes de los trabajadores / Ingresos de explotación (%) %': 0.01, 'Tesorería mil EUR': 0.16, 'Período de cobro (días) días': 0.01, 'Endeudamiento (%) %': 0.01, 'Ratio de liquidez %': 0.01, 'Ratio de solvencia %': 0.01, 'Rotación de activos netos %': 0.0, 'Rotación de las existencias %': 0.02, 'Liquidez general %': 0.0, 'Ratios de autonomía financiera a medio y largo plazo %': 0.05, 'Dotaciones para amortiz. de inmovil. mil EUR': 0.01, 'Deudas financieras mil EUR': 0.01, 'Importe neto Cifra de Ventas mil EUR': 0.0, 'Existencias mil EUR': 0.03, 'Acreedores comerciales mil EUR': 0.01, 'ratio_deuda_activos': 0.03, 'ratio_deuda_patrimonio': 0.01, 'ratio_ebitda_activos': 0.01, 'ratio_ventas_activos': 0.01, 'ratio_prueba_acida': 0.01, 'ratio_periodo_prom_cobro': 0.01, 'dias_operando': 0.01, 'dias_desde_ult_round': 0.01}\n",
      "Hay 22 variables importantes con el umbral 0.01\n"
     ]
    },
    {
     "data": {
      "image/png": "[encoded data removed]",
      "text/plain": [
       "<Figure size 1000x1000 with 1 Axes>"
      ]
     },
     "metadata": {},
     "output_type": "display_data"
    }
   ],
   "source": [
    "df_regr_imp=fmod.vars_importantes_rf_reg(df_regr,0.01 )"
   ]
  },
  {
   "cell_type": "code",
   "execution_count": 489,
   "metadata": {},
   "outputs": [
    {
     "name": "stdout",
     "output_type": "stream",
     "text": [
      "{'Capital social mil EUR': 0.03, 'Porcentaje_adquisicion_cat': 0.0, 'total_funding': 0.04, 'last_funding': 0.02, 'last_round': 0.0, 'total_rounds': 0.02, 'ownerships': 0.03, 'b2b_b2c': 0.0, 'revenue_models': 0.0, 'growth_stage': 0.0, 'company_status': 0.0, 'year': 0.0, 'Número empleados': 0.03, 'Inmovilizado mil EUR': 0.03, 'Activo circulante mil EUR': 0.42, 'Total activo mil EUR': 0.02, 'Pasivo fijo mil EUR': 0.02, 'Pasivo líquido mil EUR': 0.0, 'Total pasivo y capital propio mil EUR': 0.02, 'Costes de los trabajadores / Ingresos de explotación (%) %': 0.01, 'Tesorería mil EUR': 0.09, 'Período de cobro (días) días': 0.01, 'Endeudamiento (%) %': 0.01, 'Ratio de liquidez %': 0.0, 'Ratio de solvencia %': 0.01, 'Rotación de activos netos %': 0.0, 'Rotación de las existencias %': 0.01, 'Liquidez general %': 0.0, 'Ratios de autonomía financiera a medio y largo plazo %': 0.04, 'Dotaciones para amortiz. de inmovil. mil EUR': 0.01, 'Deudas financieras mil EUR': 0.02, 'Importe neto Cifra de Ventas mil EUR': 0.01, 'Existencias mil EUR': 0.01, 'Acreedores comerciales mil EUR': 0.01, 'ratio_deuda_activos': 0.01, 'ratio_ventas_activos': 0.01, 'ratio_prueba_acida': 0.01, 'ratio_periodo_prom_cobro': 0.01, 'dias_operando': 0.01, 'dias_desde_ult_round': 0.02}\n",
      "Hay 11 variables importantes con el umbral 0.02\n"
     ]
    },
    {
     "data": {
      "image/png": "[encoded data removed]",
      "text/plain": [
       "<Figure size 1000x1000 with 1 Axes>"
      ]
     },
     "metadata": {},
     "output_type": "display_data"
    }
   ],
   "source": [
    "df_regr_pref_imp=fmod.vars_importantes_rf_reg(df_regr_prefusion,0.02 )"
   ]
  },
  {
   "attachments": {},
   "cell_type": "markdown",
   "metadata": {},
   "source": [
    "* Variables ratios"
   ]
  },
  {
   "cell_type": "code",
   "execution_count": 490,
   "metadata": {},
   "outputs": [
    {
     "name": "stdout",
     "output_type": "stream",
     "text": [
      "Contiene 7 columnas\n",
      "Contiene 5 columnas\n"
     ]
    }
   ],
   "source": [
    "df_regr_ratio = df_regr.filter(regex='^(ratio|valuation)')\n",
    "print(f'Contiene {df_regr_ratio.shape[1]} columnas')\n",
    "df_regr_pref_ratio = df_regr_prefusion.filter(regex='^(ratio|valuation)')\n",
    "print(f'Contiene {df_regr_pref_ratio.shape[1]} columnas')\n"
   ]
  },
  {
   "attachments": {},
   "cell_type": "markdown",
   "metadata": {},
   "source": [
    "### 1.4 Escalado"
   ]
  },
  {
   "cell_type": "code",
   "execution_count": 491,
   "metadata": {},
   "outputs": [],
   "source": [
    "\n",
    "\n",
    "df_regr_cor_esc, df_regr_cor_nor = fmod.normalizacion_reg(df_regr_cor)\n",
    "df_regr_pref_cor_esc, df_regr_pref_cor_nor = fmod.normalizacion_reg(df_regr_pref_cor)\n",
    "df_regr_imp_esc, df_regr_imp_nor  = fmod.normalizacion_reg(df_regr_imp)\n",
    "df_regr_pref_imp_esc, df_regr_pref_imp_nor = fmod.normalizacion_reg(df_regr_pref_imp)\n",
    "df_regr_ratio_esc, df_regr_ratio_nor = fmod.normalizacion_reg(df_regr_ratio)\n",
    "df_regr_pref_ratio_esc, df_regr_pref_ratio_nor = fmod.normalizacion_reg(df_regr_pref_ratio)\n",
    "\n",
    "df_lista=[df_regr_cor_esc, df_regr_cor_nor,df_regr_pref_cor_esc, df_regr_pref_cor_nor,df_regr_imp_esc, df_regr_imp_nor,df_regr_pref_imp_esc, df_regr_pref_imp_nor,\n",
    "          df_regr_ratio_esc, df_regr_ratio_nor,df_regr_pref_ratio_esc, df_regr_pref_ratio_nor]\n",
    "df_lista_nombre=['df_regr_cor_esc', 'df_regr_cor_nor','df_regr_pref_cor_esc', 'df_regr_pref_cor_nor','df_regr_imp_esc', 'df_regr_imp_nor','df_regr_pref_imp_esc', 'df_regr_pref_imp_nor',\n",
    "           'df_regr_ratio_esc', 'df_regr_ratio_nor','df_regr_pref_ratio_esc', 'df_regr_pref_ratio_nor']"
   ]
  },
  {
   "cell_type": "code",
   "execution_count": 492,
   "metadata": {},
   "outputs": [],
   "source": [
    "df_lista_original=[df_regr_cor,df_regr_pref_cor, df_regr_imp, df_regr_pref_imp, df_regr_ratio, df_regr_pref_ratio ]\n",
    "df_original_nombres=['df_regr_cor','df_regr_pref_cor', 'df_regr_imp', 'df_regr_pref_imp', 'df_regr_ratio', 'df_regr_pref_ratio']"
   ]
  },
  {
   "attachments": {},
   "cell_type": "markdown",
   "metadata": {},
   "source": [
    "## 2. Modelos simples"
   ]
  },
  {
   "cell_type": "code",
   "execution_count": 493,
   "metadata": {},
   "outputs": [
    {
     "name": "stdout",
     "output_type": "stream",
     "text": [
      "df_regr_cor\n",
      "            \n",
      "RandomForestRegressor\n",
      "MSE:  1.830672920471356\n",
      "R2:  0.34797356030318416\n",
      "RMSE:  1.3530236215496594\n",
      "MAPE: 1.5016723862645514\n",
      "\n",
      "\n",
      "LinearRegression\n",
      "MSE:  3.442615973071554\n",
      "R2:  -0.22614838022910266\n",
      "RMSE:  1.8554287841551758\n",
      "MAPE: 2.0522382216931265\n",
      "\n",
      "\n",
      "SVR\n",
      "MSE:  1.7758449645400993\n",
      "R2:  0.36750150355396805\n",
      "RMSE:  1.332608331258701\n",
      "MAPE: 1.4960815482499046\n",
      "\n",
      "\n",
      "KNeighborsRegressor\n",
      "MSE:  2.300206783970887\n",
      "R2:  0.18074079583105573\n",
      "RMSE:  1.516643261934357\n",
      "MAPE: 1.9777788613022336\n",
      "\n",
      "\n",
      "DecisionTreeRegressor\n",
      "MSE:  2.3856998469526824\n",
      "R2:  0.15029093400623406\n",
      "RMSE:  1.544571088345461\n",
      "MAPE: 0.9398175541368973\n",
      "\n",
      "\n",
      "TweedieRegressor\n",
      "MSE:  1.72862656402651\n",
      "R2:  0.3843191694683832\n",
      "RMSE:  1.3147724381148662\n",
      "MAPE: 1.607661042159104\n",
      "\n",
      "\n",
      "Mejor modelo: DecisionTreeRegressor(random_state=42) , que tiene un MAPE de: 0.9398175541368973\n",
      "              \n",
      "df_regr_pref_cor\n",
      "            \n",
      "RandomForestRegressor\n",
      "MSE:  0.8311657552532004\n",
      "R2:  0.5912643819806327\n",
      "RMSE:  0.9116829247349104\n",
      "MAPE: 0.6964871504745404\n",
      "\n",
      "\n",
      "LinearRegression\n",
      "MSE:  1.1159483082044082\n",
      "R2:  0.4512191839609121\n",
      "RMSE:  1.0563845456103607\n",
      "MAPE: 0.891517155212248\n",
      "\n",
      "\n",
      "SVR\n",
      "MSE:  1.0476038615496546\n",
      "R2:  0.4848283761888962\n",
      "RMSE:  1.023525212952595\n",
      "MAPE: 0.93713879519857\n",
      "\n",
      "\n",
      "KNeighborsRegressor\n",
      "MSE:  1.4728702747968094\n",
      "R2:  0.27569857368818595\n",
      "RMSE:  1.2136186694331994\n",
      "MAPE: 0.8232443338011416\n",
      "\n",
      "\n",
      "DecisionTreeRegressor\n",
      "MSE:  0.6514385549836109\n",
      "R2:  0.6796473643313705\n",
      "RMSE:  0.8071174356830677\n",
      "MAPE: 0.7524652911066921\n",
      "\n",
      "\n",
      "TweedieRegressor\n",
      "MSE:  0.992765020969607\n",
      "R2:  0.5117960264491299\n",
      "RMSE:  0.9963759435923807\n",
      "MAPE: 0.9060990079280459\n",
      "\n",
      "\n",
      "Mejor modelo: RandomForestRegressor(random_state=42) , que tiene un MAPE de: 0.6964871504745404\n",
      "              \n",
      "df_regr_imp\n",
      "            \n",
      "RandomForestRegressor\n",
      "MSE:  1.66934203700761\n",
      "R2:  0.40543439909186507\n",
      "RMSE:  1.2920301997273942\n",
      "MAPE: 1.4526723728531452\n",
      "\n",
      "\n",
      "LinearRegression\n",
      "MSE:  2.7125319498635583\n",
      "R2:  0.033883917735554436\n",
      "RMSE:  1.6469766087785092\n",
      "MAPE: 1.7600254073244876\n",
      "\n",
      "\n",
      "SVR\n",
      "MSE:  1.5411478607451967\n",
      "R2:  0.45109301533267665\n",
      "RMSE:  1.2414297647250112\n",
      "MAPE: 1.4684360511870194\n",
      "\n",
      "\n",
      "KNeighborsRegressor\n",
      "MSE:  2.024264607436528\n",
      "R2:  0.27902246751359894\n",
      "RMSE:  1.4227665330041075\n",
      "MAPE: 1.5423896403727415\n",
      "\n",
      "\n",
      "DecisionTreeRegressor\n",
      "MSE:  3.1968842486440696\n",
      "R2:  -0.1386266937457752\n",
      "RMSE:  1.7879832909297753\n",
      "MAPE: 1.3203154606417695\n",
      "\n",
      "\n",
      "TweedieRegressor\n",
      "MSE:  1.50904314236974\n",
      "R2:  0.4625276768638191\n",
      "RMSE:  1.228431171197532\n",
      "MAPE: 1.5978083491728803\n",
      "\n",
      "\n",
      "Mejor modelo: DecisionTreeRegressor(random_state=42) , que tiene un MAPE de: 1.3203154606417695\n",
      "              \n",
      "df_regr_pref_imp\n",
      "            \n",
      "RandomForestRegressor\n",
      "MSE:  0.913414230488839\n",
      "R2:  0.5508177187920751\n",
      "RMSE:  0.9557270690363641\n",
      "MAPE: 0.8078843918404887\n",
      "\n",
      "\n",
      "LinearRegression\n",
      "MSE:  1.021544521636313\n",
      "R2:  0.49764336566282086\n",
      "RMSE:  1.01071485674067\n",
      "MAPE: 0.8929816782550081\n",
      "\n",
      "\n",
      "SVR\n",
      "MSE:  0.853317017054278\n",
      "R2:  0.5803712362693851\n",
      "RMSE:  0.9237515992160868\n",
      "MAPE: 0.9965165309823022\n",
      "\n",
      "\n",
      "KNeighborsRegressor\n",
      "MSE:  1.021281655079109\n",
      "R2:  0.49777263341000166\n",
      "RMSE:  1.0105848084545448\n",
      "MAPE: 1.0095598539520774\n",
      "\n",
      "\n",
      "DecisionTreeRegressor\n",
      "MSE:  2.488393542113188\n",
      "R2:  -0.22369703742329428\n",
      "RMSE:  1.577464276018062\n",
      "MAPE: 0.8996897605100503\n",
      "\n",
      "\n",
      "TweedieRegressor\n",
      "MSE:  1.0056173120610243\n",
      "R2:  0.505475759872922\n",
      "RMSE:  1.0028047227955323\n",
      "MAPE: 0.9176656334677462\n",
      "\n",
      "\n",
      "Mejor modelo: RandomForestRegressor(random_state=42) , que tiene un MAPE de: 0.8078843918404887\n",
      "              \n",
      "df_regr_ratio\n",
      "            \n",
      "RandomForestRegressor\n",
      "MSE:  3.49082016506086\n",
      "R2:  -0.2433171531594176\n",
      "RMSE:  1.868373668477711\n",
      "MAPE: 2.5262416773227803\n",
      "\n",
      "\n",
      "LinearRegression\n",
      "MSE:  3.428058393251483\n",
      "R2:  -0.22096344149180003\n",
      "RMSE:  1.8515016589923659\n",
      "MAPE: 2.950883704160321\n",
      "\n",
      "\n",
      "SVR\n",
      "MSE:  3.2464747721723235\n",
      "R2:  -0.15628923309797327\n",
      "RMSE:  1.8017976501739377\n",
      "MAPE: 3.458829643512448\n",
      "\n",
      "\n",
      "KNeighborsRegressor\n",
      "MSE:  3.1137669110323962\n",
      "R2:  -0.10902298840115043\n",
      "RMSE:  1.7645868952909052\n",
      "MAPE: 3.6013145481688134\n",
      "\n",
      "\n",
      "DecisionTreeRegressor\n",
      "MSE:  3.1090258635817505\n",
      "R2:  -0.10733438075578117\n",
      "RMSE:  1.7632429961811136\n",
      "MAPE: 1.7445084608037318\n",
      "\n",
      "\n",
      "TweedieRegressor\n",
      "MSE:  3.308282287697649\n",
      "R2:  -0.17830306956424224\n",
      "RMSE:  1.818868408571013\n",
      "MAPE: 3.421668445850718\n",
      "\n",
      "\n",
      "Mejor modelo: DecisionTreeRegressor(random_state=42) , que tiene un MAPE de: 1.7445084608037318\n",
      "              \n",
      "df_regr_pref_ratio\n",
      "            \n",
      "RandomForestRegressor\n",
      "MSE:  1.5070207592396845\n",
      "R2:  0.2589046679284772\n",
      "RMSE:  1.2276077383430282\n",
      "MAPE: 1.116416567976971\n",
      "\n",
      "\n",
      "LinearRegression\n",
      "MSE:  2.016559280985881\n",
      "R2:  0.008333056581037002\n",
      "RMSE:  1.420056083746653\n",
      "MAPE: 1.0413335508144703\n",
      "\n",
      "\n",
      "SVR\n",
      "MSE:  2.8045616228293775\n",
      "R2:  -0.3791764409631593\n",
      "RMSE:  1.6746825438958206\n",
      "MAPE: 1.4336826350943157\n",
      "\n",
      "\n",
      "KNeighborsRegressor\n",
      "MSE:  2.529359522085438\n",
      "R2:  -0.24384254394338178\n",
      "RMSE:  1.5903960268076118\n",
      "MAPE: 1.1635730619942086\n",
      "\n",
      "\n",
      "DecisionTreeRegressor\n",
      "MSE:  2.396307937250434\n",
      "R2:  -0.1784128490693131\n",
      "RMSE:  1.548001271721194\n",
      "MAPE: 1.4650793193831584\n",
      "\n",
      "\n",
      "TweedieRegressor\n",
      "MSE:  2.2307015184372117\n",
      "R2:  -0.09697392847642083\n",
      "RMSE:  1.4935533195829374\n",
      "MAPE: 1.290480028459262\n",
      "\n",
      "\n",
      "Mejor modelo: LinearRegression() , que tiene un MAPE de: 1.0413335508144703\n",
      "              \n"
     ]
    }
   ],
   "source": [
    "i=0\n",
    "for df in df_lista_original:\n",
    "    print(df_original_nombres[i])\n",
    "    fmod.probar_dataset_reg(df)\n",
    "    i+=1"
   ]
  },
  {
   "cell_type": "code",
   "execution_count": 494,
   "metadata": {},
   "outputs": [
    {
     "name": "stdout",
     "output_type": "stream",
     "text": [
      "df_regr_cor_esc\n",
      "            \n",
      "RandomForestRegressor\n",
      "MSE:  1.830672920471356\n",
      "R2:  0.34797356030318416\n",
      "RMSE:  1.3530236215496594\n",
      "MAPE: 1.5016723862645514\n",
      "\n",
      "\n",
      "LinearRegression\n",
      "MSE:  3.442612179764201\n",
      "R2:  -0.2261470291758041\n",
      "RMSE:  1.8554277619363684\n",
      "MAPE: 2.0522422846653945\n",
      "\n",
      "\n",
      "SVR\n",
      "MSE:  2.259568898958872\n",
      "R2:  0.19521469511961376\n",
      "RMSE:  1.503186248925552\n",
      "MAPE: 1.7284396593532545\n",
      "\n",
      "\n",
      "KNeighborsRegressor\n",
      "MSE:  2.0159533711297866\n",
      "R2:  0.2819826608708964\n",
      "RMSE:  1.4198427276039367\n",
      "MAPE: 1.6195867200193603\n",
      "\n",
      "\n",
      "DecisionTreeRegressor\n",
      "MSE:  2.3856998469526824\n",
      "R2:  0.15029093400623406\n",
      "RMSE:  1.544571088345461\n",
      "MAPE: 0.9398175541368973\n",
      "\n",
      "\n",
      "TweedieRegressor\n",
      "MSE:  1.7717893945408523\n",
      "R2:  0.36894596631844123\n",
      "RMSE:  1.33108579533434\n",
      "MAPE: 1.5973041027351063\n",
      "\n",
      "\n",
      "Mejor modelo: DecisionTreeRegressor(random_state=42) , que tiene un MAPE de: 0.9398175541368973\n",
      "              \n",
      "df_regr_cor_nor\n",
      "            \n",
      "RandomForestRegressor\n",
      "MSE:  1.830672920471356\n",
      "R2:  0.34797356030318416\n",
      "RMSE:  1.3530236215496594\n",
      "MAPE: 1.5016723862645514\n",
      "\n",
      "\n",
      "LinearRegression\n",
      "MSE:  3.442639956136887\n",
      "R2:  -0.22615692222069894\n",
      "RMSE:  1.8554352470881021\n",
      "MAPE: 2.0522325133473465\n",
      "\n",
      "\n",
      "SVR\n",
      "MSE:  2.3058130182674685\n",
      "R2:  0.17874403663522687\n",
      "RMSE:  1.5184903747694514\n",
      "MAPE: 1.574680567060504\n",
      "\n",
      "\n",
      "KNeighborsRegressor\n",
      "MSE:  2.3370262153570693\n",
      "R2:  0.16762690612965991\n",
      "RMSE:  1.5287335331433891\n",
      "MAPE: 1.7056026124517043\n",
      "\n",
      "\n",
      "DecisionTreeRegressor\n",
      "MSE:  2.3856998469526824\n",
      "R2:  0.15029093400623406\n",
      "RMSE:  1.544571088345461\n",
      "MAPE: 0.9398175541368973\n",
      "\n",
      "\n",
      "TweedieRegressor\n",
      "MSE:  2.677771371598713\n",
      "R2:  0.0462645105953613\n",
      "RMSE:  1.636389737073266\n",
      "MAPE: 2.7253859537472995\n",
      "\n",
      "\n",
      "Mejor modelo: DecisionTreeRegressor(random_state=42) , que tiene un MAPE de: 0.9398175541368973\n",
      "              \n",
      "df_regr_pref_cor_esc\n",
      "            \n",
      "RandomForestRegressor\n",
      "MSE:  0.8280282969748329\n",
      "R2:  0.5928072643002102\n",
      "RMSE:  0.909960601880561\n",
      "MAPE: 0.6961488899107824\n",
      "\n",
      "\n",
      "LinearRegression\n",
      "MSE:  1.1159481581146975\n",
      "R2:  0.4512192577693075\n",
      "RMSE:  1.0563844745710236\n",
      "MAPE: 0.8915174182168878\n",
      "\n",
      "\n",
      "SVR\n",
      "MSE:  0.8218879758190397\n",
      "R2:  0.5958268400546107\n",
      "RMSE:  0.9065803747153585\n",
      "MAPE: 0.987532191227731\n",
      "\n",
      "\n",
      "KNeighborsRegressor\n",
      "MSE:  1.2349732569487248\n",
      "R2:  0.39268725374452407\n",
      "RMSE:  1.111293506211894\n",
      "MAPE: 0.8466910756747336\n",
      "\n",
      "\n",
      "DecisionTreeRegressor\n",
      "MSE:  0.6514385549836109\n",
      "R2:  0.6796473643313705\n",
      "RMSE:  0.8071174356830677\n",
      "MAPE: 0.7524652911066921\n",
      "\n",
      "\n",
      "TweedieRegressor\n",
      "MSE:  0.9817911837799116\n",
      "R2:  0.5171925410401427\n",
      "RMSE:  0.9908537650833809\n",
      "MAPE: 0.8772712280345084\n",
      "\n",
      "\n",
      "Mejor modelo: RandomForestRegressor(random_state=42) , que tiene un MAPE de: 0.6961488899107824\n",
      "              \n",
      "df_regr_pref_cor_nor\n",
      "            \n",
      "RandomForestRegressor\n",
      "MSE:  0.8311657552532004\n",
      "R2:  0.5912643819806327\n",
      "RMSE:  0.9116829247349104\n",
      "MAPE: 0.6964871504745404\n",
      "\n",
      "\n",
      "LinearRegression\n",
      "MSE:  1.115948683744585\n",
      "R2:  0.4512189992845762\n",
      "RMSE:  1.056384723358202\n",
      "MAPE: 0.8915175101065201\n",
      "\n",
      "\n",
      "SVR\n",
      "MSE:  0.9083902148264983\n",
      "R2:  0.5532883380803544\n",
      "RMSE:  0.9530950712423699\n",
      "MAPE: 0.9585391511409765\n",
      "\n",
      "\n",
      "KNeighborsRegressor\n",
      "MSE:  1.8205397448273704\n",
      "R2:  0.10472798833711194\n",
      "RMSE:  1.3492737842363092\n",
      "MAPE: 0.9617282717835534\n",
      "\n",
      "\n",
      "DecisionTreeRegressor\n",
      "MSE:  0.6514385549836109\n",
      "R2:  0.6796473643313705\n",
      "RMSE:  0.8071174356830677\n",
      "MAPE: 0.7524652911066921\n",
      "\n",
      "\n",
      "TweedieRegressor\n",
      "MSE:  1.7920334146130503\n",
      "R2:  0.11874631431357718\n",
      "RMSE:  1.338668523053056\n",
      "MAPE: 1.1975806571042227\n",
      "\n",
      "\n",
      "Mejor modelo: RandomForestRegressor(random_state=42) , que tiene un MAPE de: 0.6964871504745404\n",
      "              \n",
      "df_regr_imp_esc\n",
      "            \n",
      "RandomForestRegressor\n",
      "MSE:  1.66934203700761\n",
      "R2:  0.40543439909186507\n",
      "RMSE:  1.2920301997273942\n",
      "MAPE: 1.4526723728531452\n",
      "\n",
      "\n",
      "LinearRegression\n",
      "MSE:  2.7125278631626966\n",
      "R2:  0.03388537328612451\n",
      "RMSE:  1.6469753681104937\n",
      "MAPE: 1.7600260073631937\n",
      "\n",
      "\n",
      "SVR\n",
      "MSE:  2.237410711595967\n",
      "R2:  0.20310672424989107\n",
      "RMSE:  1.4957976840455287\n",
      "MAPE: 1.8522217142128101\n",
      "\n",
      "\n",
      "KNeighborsRegressor\n",
      "MSE:  2.130456155880732\n",
      "R2:  0.24120047512834064\n",
      "RMSE:  1.4596082199962879\n",
      "MAPE: 1.5359327649480592\n",
      "\n",
      "\n",
      "DecisionTreeRegressor\n",
      "MSE:  3.1968842486440696\n",
      "R2:  -0.1386266937457752\n",
      "RMSE:  1.7879832909297753\n",
      "MAPE: 1.3203154606417695\n",
      "\n",
      "\n",
      "TweedieRegressor\n",
      "MSE:  1.5981734962425431\n",
      "R2:  0.4307823297541684\n",
      "RMSE:  1.264188868896789\n",
      "MAPE: 1.6364141007276933\n",
      "\n",
      "\n",
      "Mejor modelo: DecisionTreeRegressor(random_state=42) , que tiene un MAPE de: 1.3203154606417695\n",
      "              \n",
      "df_regr_imp_nor\n",
      "            \n",
      "RandomForestRegressor\n",
      "MSE:  1.66934203700761\n",
      "R2:  0.40543439909186507\n",
      "RMSE:  1.2920301997273942\n",
      "MAPE: 1.4526723728531452\n",
      "\n",
      "\n",
      "LinearRegression\n",
      "MSE:  2.71252903016066\n",
      "R2:  0.033884957639222724\n",
      "RMSE:  1.646975722395646\n",
      "MAPE: 1.760029879895454\n",
      "\n",
      "\n",
      "SVR\n",
      "MSE:  2.0387898136941818\n",
      "R2:  0.27384905919137315\n",
      "RMSE:  1.4278619729141124\n",
      "MAPE: 1.616207898647964\n",
      "\n",
      "\n",
      "KNeighborsRegressor\n",
      "MSE:  2.2274199441483447\n",
      "R2:  0.20666511223709905\n",
      "RMSE:  1.4924543356995366\n",
      "MAPE: 1.7039721937299595\n",
      "\n",
      "\n",
      "DecisionTreeRegressor\n",
      "MSE:  3.1968842486440696\n",
      "R2:  -0.1386266937457752\n",
      "RMSE:  1.7879832909297753\n",
      "MAPE: 1.3203154606417695\n",
      "\n",
      "\n",
      "TweedieRegressor\n",
      "MSE:  2.691820830956884\n",
      "R2:  0.04126054791992351\n",
      "RMSE:  1.640676942897926\n",
      "MAPE: 2.8290877627710924\n",
      "\n",
      "\n",
      "Mejor modelo: DecisionTreeRegressor(random_state=42) , que tiene un MAPE de: 1.3203154606417695\n",
      "              \n",
      "df_regr_pref_imp_esc\n",
      "            \n",
      "RandomForestRegressor\n",
      "MSE:  0.913414230488839\n",
      "R2:  0.5508177187920751\n",
      "RMSE:  0.9557270690363641\n",
      "MAPE: 0.8078843918404887\n",
      "\n",
      "\n",
      "LinearRegression\n",
      "MSE:  1.021544521636311\n",
      "R2:  0.49764336566282186\n",
      "RMSE:  1.010714856740669\n",
      "MAPE: 0.8929816782550083\n",
      "\n",
      "\n",
      "SVR\n",
      "MSE:  0.7105836856297475\n",
      "R2:  0.6505620448572538\n",
      "RMSE:  0.8429612598629592\n",
      "MAPE: 0.9352466768476893\n",
      "\n",
      "\n",
      "KNeighborsRegressor\n",
      "MSE:  1.0869182411014715\n",
      "R2:  0.46549506376403016\n",
      "RMSE:  1.0425537113748489\n",
      "MAPE: 0.9261797902116283\n",
      "\n",
      "\n",
      "DecisionTreeRegressor\n",
      "MSE:  2.488393542113188\n",
      "R2:  -0.22369703742329428\n",
      "RMSE:  1.577464276018062\n",
      "MAPE: 0.8996897605100503\n",
      "\n",
      "\n",
      "TweedieRegressor\n",
      "MSE:  1.0954994917310106\n",
      "R2:  0.4612751319907641\n",
      "RMSE:  1.0466611159926649\n",
      "MAPE: 0.9780173758533409\n",
      "\n",
      "\n",
      "Mejor modelo: RandomForestRegressor(random_state=42) , que tiene un MAPE de: 0.8078843918404887\n",
      "              \n",
      "df_regr_pref_imp_nor\n",
      "            \n",
      "RandomForestRegressor\n",
      "MSE:  0.9132261857464535\n",
      "R2:  0.5509101920244098\n",
      "RMSE:  0.9556286861257638\n",
      "MAPE: 0.8078226746550653\n",
      "\n",
      "\n",
      "LinearRegression\n",
      "MSE:  1.0215445216363133\n",
      "R2:  0.49764336566282075\n",
      "RMSE:  1.01071485674067\n",
      "MAPE: 0.8929816782550088\n",
      "\n",
      "\n",
      "SVR\n",
      "MSE:  0.7128821788497174\n",
      "R2:  0.6494317335555189\n",
      "RMSE:  0.8443235036700787\n",
      "MAPE: 0.915412196418735\n",
      "\n",
      "\n",
      "KNeighborsRegressor\n",
      "MSE:  1.2638172424752345\n",
      "R2:  0.3785028817635969\n",
      "RMSE:  1.1241962651046455\n",
      "MAPE: 0.9812296184295043\n",
      "\n",
      "\n",
      "DecisionTreeRegressor\n",
      "MSE:  2.488393542113188\n",
      "R2:  -0.22369703742329428\n",
      "RMSE:  1.577464276018062\n",
      "MAPE: 0.8996897605100503\n",
      "\n",
      "\n",
      "TweedieRegressor\n",
      "MSE:  1.9418135767792968\n",
      "R2:  0.045090143130956606\n",
      "RMSE:  1.3934897117594003\n",
      "MAPE: 1.2413280902243422\n",
      "\n",
      "\n",
      "Mejor modelo: RandomForestRegressor(random_state=42) , que tiene un MAPE de: 0.8078226746550653\n",
      "              \n",
      "df_regr_ratio_esc\n",
      "            \n",
      "RandomForestRegressor\n",
      "MSE:  3.49082016506086\n",
      "R2:  -0.2433171531594176\n",
      "RMSE:  1.868373668477711\n",
      "MAPE: 2.5262416773227803\n",
      "\n",
      "\n",
      "LinearRegression\n",
      "MSE:  3.4280583932514794\n",
      "R2:  -0.2209634414917987\n",
      "RMSE:  1.851501658992365\n",
      "MAPE: 2.9508837041603226\n",
      "\n",
      "\n",
      "SVR\n",
      "MSE:  3.1403262744808735\n",
      "R2:  -0.11848257399739426\n",
      "RMSE:  1.772096575946377\n",
      "MAPE: 3.3188853549516817\n",
      "\n",
      "\n",
      "KNeighborsRegressor\n",
      "MSE:  3.0685354496988846\n",
      "R2:  -0.09291300591013263\n",
      "RMSE:  1.7517235654345935\n",
      "MAPE: 2.908120984643061\n",
      "\n",
      "\n",
      "DecisionTreeRegressor\n",
      "MSE:  3.1090258635817505\n",
      "R2:  -0.10733438075578117\n",
      "RMSE:  1.7632429961811136\n",
      "MAPE: 1.7445084608037318\n",
      "\n",
      "\n",
      "TweedieRegressor\n",
      "MSE:  3.314331371433081\n",
      "R2:  -0.1804575573961953\n",
      "RMSE:  1.820530519225943\n",
      "MAPE: 3.222537373959908\n",
      "\n",
      "\n",
      "Mejor modelo: DecisionTreeRegressor(random_state=42) , que tiene un MAPE de: 1.7445084608037318\n",
      "              \n",
      "df_regr_ratio_nor\n",
      "            \n",
      "RandomForestRegressor\n",
      "MSE:  3.49082016506086\n",
      "R2:  -0.2433171531594176\n",
      "RMSE:  1.868373668477711\n",
      "MAPE: 2.5262416773227803\n",
      "\n",
      "\n",
      "LinearRegression\n",
      "MSE:  3.4280583932514808\n",
      "R2:  -0.22096344149179914\n",
      "RMSE:  1.8515016589923652\n",
      "MAPE: 2.950883704160319\n",
      "\n",
      "\n",
      "SVR\n",
      "MSE:  3.2050132542609995\n",
      "R2:  -0.14152198242974046\n",
      "RMSE:  1.790255080780669\n",
      "MAPE: 3.734846142825092\n",
      "\n",
      "\n",
      "KNeighborsRegressor\n",
      "MSE:  3.1859198694160287\n",
      "R2:  -0.1347215367559047\n",
      "RMSE:  1.784914527201801\n",
      "MAPE: 2.9314160540507697\n",
      "\n",
      "\n",
      "DecisionTreeRegressor\n",
      "MSE:  3.1090258635817505\n",
      "R2:  -0.10733438075578117\n",
      "RMSE:  1.7632429961811136\n",
      "MAPE: 1.7445084608037318\n",
      "\n",
      "\n",
      "TweedieRegressor\n",
      "MSE:  3.2483914185904954\n",
      "R2:  -0.15697188051479105\n",
      "RMSE:  1.8023294423025151\n",
      "MAPE: 3.3933628894753647\n",
      "\n",
      "\n",
      "Mejor modelo: DecisionTreeRegressor(random_state=42) , que tiene un MAPE de: 1.7445084608037318\n",
      "              \n",
      "df_regr_pref_ratio_esc\n",
      "            \n",
      "RandomForestRegressor\n",
      "MSE:  1.5070207592396845\n",
      "R2:  0.2589046679284772\n",
      "RMSE:  1.2276077383430282\n",
      "MAPE: 1.116416567976971\n",
      "\n",
      "\n",
      "LinearRegression\n",
      "MSE:  2.016559280985882\n",
      "R2:  0.008333056581036669\n",
      "RMSE:  1.4200560837466534\n",
      "MAPE: 1.0413335508144708\n",
      "\n",
      "\n",
      "SVR\n",
      "MSE:  2.045588204237515\n",
      "R2:  -0.0059422607196362165\n",
      "RMSE:  1.4302406106098076\n",
      "MAPE: 1.330276881722936\n",
      "\n",
      "\n",
      "KNeighborsRegressor\n",
      "MSE:  1.8602177201390158\n",
      "R2:  0.08521587338499603\n",
      "RMSE:  1.3638979874385826\n",
      "MAPE: 0.9546938395728467\n",
      "\n",
      "\n",
      "DecisionTreeRegressor\n",
      "MSE:  2.396307937250434\n",
      "R2:  -0.1784128490693131\n",
      "RMSE:  1.548001271721194\n",
      "MAPE: 1.4650793193831584\n",
      "\n",
      "\n",
      "TweedieRegressor\n",
      "MSE:  2.1129787970388545\n",
      "R2:  -0.03908238400221298\n",
      "RMSE:  1.4536088872316564\n",
      "MAPE: 1.1735221353815695\n",
      "\n",
      "\n",
      "Mejor modelo: KNeighborsRegressor() , que tiene un MAPE de: 0.9546938395728467\n",
      "              \n",
      "df_regr_pref_ratio_nor\n",
      "            \n",
      "RandomForestRegressor\n",
      "MSE:  1.5070207592396845\n",
      "R2:  0.2589046679284772\n",
      "RMSE:  1.2276077383430282\n",
      "MAPE: 1.116416567976971\n",
      "\n",
      "\n",
      "LinearRegression\n",
      "MSE:  2.016559280985881\n",
      "R2:  0.008333056581037002\n",
      "RMSE:  1.420056083746653\n",
      "MAPE: 1.0413335508144705\n",
      "\n",
      "\n",
      "SVR\n",
      "MSE:  2.2210559321571943\n",
      "R2:  -0.0922305970236943\n",
      "RMSE:  1.49032074807982\n",
      "MAPE: 1.3236989014442224\n",
      "\n",
      "\n",
      "KNeighborsRegressor\n",
      "MSE:  1.9040074677765138\n",
      "R2:  0.06368174562479689\n",
      "RMSE:  1.379857770850501\n",
      "MAPE: 0.9796396200087308\n",
      "\n",
      "\n",
      "DecisionTreeRegressor\n",
      "MSE:  2.396307937250434\n",
      "R2:  -0.1784128490693131\n",
      "RMSE:  1.548001271721194\n",
      "MAPE: 1.4650793193831584\n",
      "\n",
      "\n",
      "TweedieRegressor\n",
      "MSE:  2.2251033167493417\n",
      "R2:  -0.09422094640007028\n",
      "RMSE:  1.491678020468674\n",
      "MAPE: 1.3065815669093395\n",
      "\n",
      "\n",
      "Mejor modelo: KNeighborsRegressor() , que tiene un MAPE de: 0.9796396200087308\n",
      "              \n"
     ]
    }
   ],
   "source": [
    "i=0\n",
    "for df in df_lista:\n",
    "    print(df_lista_nombre[i])\n",
    "    fmod.probar_dataset_reg(df)\n",
    "    i+=1"
   ]
  },
  {
   "cell_type": "code",
   "execution_count": 495,
   "metadata": {},
   "outputs": [
    {
     "name": "stdout",
     "output_type": "stream",
     "text": [
      "El mejor dataset para regresión de los probados es: df_regr_imp\n"
     ]
    }
   ],
   "source": [
    "print(f'El mejor dataset para regresión de los probados es: {\"df_regr_imp\"}')"
   ]
  },
  {
   "cell_type": "code",
   "execution_count": 496,
   "metadata": {},
   "outputs": [],
   "source": [
    "df_regr_imp_nor.to_csv(\"datos_flask_regresion.csv\", index=False)"
   ]
  },
  {
   "cell_type": "code",
   "execution_count": 497,
   "metadata": {},
   "outputs": [],
   "source": [
    "independinetes=df_regr_imp.drop('valuation_2022', axis=1)\n",
    "target=df_regr_imp['valuation_2022']\n",
    "\n",
    "X_train, X_test, y_train, y_test = train_test_split(independinetes, target, test_size=0.2, random_state=42)\n",
    "\n",
    "# transformamos y_train\n",
    "prin=y_train\n",
    "\n",
    "y_train, lambdas = boxcox(y_train)\n"
   ]
  },
  {
   "attachments": {},
   "cell_type": "markdown",
   "metadata": {},
   "source": [
    "## AutoML"
   ]
  },
  {
   "cell_type": "code",
   "execution_count": 498,
   "metadata": {},
   "outputs": [
    {
     "name": "stdout",
     "output_type": "stream",
     "text": [
      "                                                                             \n",
      "Generation 1 - Current best internal CV score: 0.5592092278227965\n",
      "                                                                              \n",
      "Generation 2 - Current best internal CV score: 0.5592092278227965\n",
      "                                                                              \n",
      "Generation 3 - Current best internal CV score: 0.5592092278227965\n",
      "                                                                              \n",
      "Generation 4 - Current best internal CV score: 0.5592092278227965\n",
      "                                                                              \n",
      "Generation 5 - Current best internal CV score: 0.5592092278227965\n",
      "                                                                              \n",
      "Generation 6 - Current best internal CV score: 0.5592092278227965\n",
      "                                                                              \n",
      "Generation 7 - Current best internal CV score: 0.5592092278227965\n",
      "                                                                              \n",
      "Generation 8 - Current best internal CV score: 0.5592092278227965\n",
      "                                                                              \n",
      "Generation 9 - Current best internal CV score: 0.5592092278227965\n",
      "                                                                              \n",
      "Generation 10 - Current best internal CV score: 0.5592092278227965\n",
      "                                                                              \n",
      "Best pipeline: AdaBoostRegressor(input_matrix, learning_rate=1.0, loss=square, n_estimators=100)\n"
     ]
    },
    {
     "data": {
      "text/html": [
       "<style>#sk-container-id-8 {color: black;background-color: white;}#sk-container-id-8 pre{padding: 0;}#sk-container-id-8 div.sk-toggleable {background-color: white;}#sk-container-id-8 label.sk-toggleable__label {cursor: pointer;display: block;width: 100%;margin-bottom: 0;padding: 0.3em;box-sizing: border-box;text-align: center;}#sk-container-id-8 label.sk-toggleable__label-arrow:before {content: \"▸\";float: left;margin-right: 0.25em;color: #696969;}#sk-container-id-8 label.sk-toggleable__label-arrow:hover:before {color: black;}#sk-container-id-8 div.sk-estimator:hover label.sk-toggleable__label-arrow:before {color: black;}#sk-container-id-8 div.sk-toggleable__content {max-height: 0;max-width: 0;overflow: hidden;text-align: left;background-color: #f0f8ff;}#sk-container-id-8 div.sk-toggleable__content pre {margin: 0.2em;color: black;border-radius: 0.25em;background-color: #f0f8ff;}#sk-container-id-8 input.sk-toggleable__control:checked~div.sk-toggleable__content {max-height: 200px;max-width: 100%;overflow: auto;}#sk-container-id-8 input.sk-toggleable__control:checked~label.sk-toggleable__label-arrow:before {content: \"▾\";}#sk-container-id-8 div.sk-estimator input.sk-toggleable__control:checked~label.sk-toggleable__label {background-color: #d4ebff;}#sk-container-id-8 div.sk-label input.sk-toggleable__control:checked~label.sk-toggleable__label {background-color: #d4ebff;}#sk-container-id-8 input.sk-hidden--visually {border: 0;clip: rect(1px 1px 1px 1px);clip: rect(1px, 1px, 1px, 1px);height: 1px;margin: -1px;overflow: hidden;padding: 0;position: absolute;width: 1px;}#sk-container-id-8 div.sk-estimator {font-family: monospace;background-color: #f0f8ff;border: 1px dotted black;border-radius: 0.25em;box-sizing: border-box;margin-bottom: 0.5em;}#sk-container-id-8 div.sk-estimator:hover {background-color: #d4ebff;}#sk-container-id-8 div.sk-parallel-item::after {content: \"\";width: 100%;border-bottom: 1px solid gray;flex-grow: 1;}#sk-container-id-8 div.sk-label:hover label.sk-toggleable__label {background-color: #d4ebff;}#sk-container-id-8 div.sk-serial::before {content: \"\";position: absolute;border-left: 1px solid gray;box-sizing: border-box;top: 0;bottom: 0;left: 50%;z-index: 0;}#sk-container-id-8 div.sk-serial {display: flex;flex-direction: column;align-items: center;background-color: white;padding-right: 0.2em;padding-left: 0.2em;position: relative;}#sk-container-id-8 div.sk-item {position: relative;z-index: 1;}#sk-container-id-8 div.sk-parallel {display: flex;align-items: stretch;justify-content: center;background-color: white;position: relative;}#sk-container-id-8 div.sk-item::before, #sk-container-id-8 div.sk-parallel-item::before {content: \"\";position: absolute;border-left: 1px solid gray;box-sizing: border-box;top: 0;bottom: 0;left: 50%;z-index: -1;}#sk-container-id-8 div.sk-parallel-item {display: flex;flex-direction: column;z-index: 1;position: relative;background-color: white;}#sk-container-id-8 div.sk-parallel-item:first-child::after {align-self: flex-end;width: 50%;}#sk-container-id-8 div.sk-parallel-item:last-child::after {align-self: flex-start;width: 50%;}#sk-container-id-8 div.sk-parallel-item:only-child::after {width: 0;}#sk-container-id-8 div.sk-dashed-wrapped {border: 1px dashed gray;margin: 0 0.4em 0.5em 0.4em;box-sizing: border-box;padding-bottom: 0.4em;background-color: white;}#sk-container-id-8 div.sk-label label {font-family: monospace;font-weight: bold;display: inline-block;line-height: 1.2em;}#sk-container-id-8 div.sk-label-container {text-align: center;}#sk-container-id-8 div.sk-container {/* jupyter's `normalize.less` sets `[hidden] { display: none; }` but bootstrap.min.css set `[hidden] { display: none !important; }` so we also need the `!important` here to be able to override the default hidden behavior on the sphinx rendered scikit-learn.org. See: https://github.com/scikit-learn/scikit-learn/issues/21755 */display: inline-block !important;position: relative;}#sk-container-id-8 div.sk-text-repr-fallback {display: none;}</style><div id=\"sk-container-id-8\" class=\"sk-top-container\"><div class=\"sk-text-repr-fallback\"><pre>TPOTRegressor(generations=10, population_size=50, random_state=42, scoring=&#x27;r2&#x27;,\n",
       "              verbosity=2)</pre><b>In a Jupyter environment, please rerun this cell to show the HTML representation or trust the notebook. <br />On GitHub, the HTML representation is unable to render, please try loading this page with nbviewer.org.</b></div><div class=\"sk-container\" hidden><div class=\"sk-item\"><div class=\"sk-estimator sk-toggleable\"><input class=\"sk-toggleable__control sk-hidden--visually\" id=\"sk-estimator-id-8\" type=\"checkbox\" checked><label for=\"sk-estimator-id-8\" class=\"sk-toggleable__label sk-toggleable__label-arrow\">TPOTRegressor</label><div class=\"sk-toggleable__content\"><pre>TPOTRegressor(generations=10, population_size=50, random_state=42, scoring=&#x27;r2&#x27;,\n",
       "              verbosity=2)</pre></div></div></div></div></div>"
      ],
      "text/plain": [
       "TPOTRegressor(generations=10, population_size=50, random_state=42, scoring='r2',\n",
       "              verbosity=2)"
      ]
     },
     "execution_count": 498,
     "metadata": {},
     "output_type": "execute_result"
    }
   ],
   "source": [
    "from sklearn.model_selection import RepeatedStratifiedKFold\n",
    "from tpot import TPOTRegressor\n",
    "\n",
    "\n",
    "tpot = TPOTRegressor(generations=10, population_size=50, verbosity=2,random_state=RANDOM_STATE, scoring=\"r2\")\n",
    "tpot.fit(X_train, y_train)\n",
    "\n"
   ]
  },
  {
   "cell_type": "code",
   "execution_count": 499,
   "metadata": {},
   "outputs": [
    {
     "name": "stdout",
     "output_type": "stream",
     "text": [
      "R2: 0.46 \n",
      " MAPE: 1.4463 \n",
      " MAE : 0.97 \n",
      " RMSE : 1.2266\n"
     ]
    }
   ],
   "source": [
    "fmod.prediccion_regr(tpot, X_test, y_test, lambdas)"
   ]
  },
  {
   "attachments": {},
   "cell_type": "markdown",
   "metadata": {},
   "source": [
    "## 3. Grid search del mejor dataframe"
   ]
  },
  {
   "cell_type": "code",
   "execution_count": 500,
   "metadata": {},
   "outputs": [],
   "source": [
    "model_list=[KNeighborsRegressor(), DecisionTreeRegressor(random_state=0), SVR(), TweedieRegressor(), LinearRegression()]\n",
    "\n",
    "model_hyperparameters={\"kn\":{\n",
    "    \"n_neighbors\": [3,5,7],\n",
    "    \"leaf_size\": [15,30],\n",
    "    'weights':['uniform', 'distance']\n",
    "},\n",
    "\"tree_reg\":{\n",
    "    'criterion':['squared_error', 'friedman_mse', 'absolute_error', 'poisson'],\n",
    "    \"max_depth\":[None, 3, 5,10],\n",
    "    'min_samples_split':[0,2,5,10]\n",
    "},\n",
    "\"svr\":{\n",
    "    'kernel':['linear', 'rbf'],\n",
    "    \"C\":[1,3,5],\n",
    "    \"gamma\":[\"scale\", \"auto\"]\n",
    "},\n",
    "\"tweedie\":{\n",
    "    \"link\":['auto', 'identity', 'log']\n",
    "},\n",
    "'linear':{}\n",
    "}"
   ]
  },
  {
   "cell_type": "code",
   "execution_count": 501,
   "metadata": {},
   "outputs": [
    {
     "name": "stdout",
     "output_type": "stream",
     "text": [
      "{'model_used': KNeighborsRegressor(), 'highest_score': 0.3340840581536269, 'best hyperparameters': {'leaf_size': 15, 'n_neighbors': 7, 'weights': 'uniform'}}\n",
      "{'model_used': DecisionTreeRegressor(random_state=0), 'highest_score': 0.014172485399175882, 'best hyperparameters': {'criterion': 'squared_error', 'max_depth': 5, 'min_samples_split': 10}}\n",
      "{'model_used': SVR(), 'highest_score': 0.263349913332543, 'best hyperparameters': {'C': 3, 'gamma': 'scale', 'kernel': 'rbf'}}\n",
      "{'model_used': TweedieRegressor(), 'highest_score': 0.4300889592803999, 'best hyperparameters': {'link': 'auto'}}\n",
      "{'model_used': LinearRegression(), 'highest_score': -0.4150007399108963, 'best hyperparameters': {}}\n"
     ]
    }
   ],
   "source": [
    "warnings.filterwarnings('ignore')\n",
    "fmod.entrenamiento_regr(xtr=X_train, ytr=y_train,models_list=model_list, model_hyperparameters=model_hyperparameters)"
   ]
  },
  {
   "cell_type": "code",
   "execution_count": 502,
   "metadata": {},
   "outputs": [
    {
     "name": "stdout",
     "output_type": "stream",
     "text": [
      "TweedieRegressor\n",
      "MSE:  1.50904314236974\n",
      "R2:  0.4625276768638191\n",
      "RMSE:  1.228431171197532\n",
      "MAPE: 1.5978083491728803\n",
      "\n",
      "\n"
     ]
    },
    {
     "data": {
      "text/plain": [
       "(TweedieRegressor(), 1.5978083491728803)"
      ]
     },
     "execution_count": 502,
     "metadata": {},
     "output_type": "execute_result"
    }
   ],
   "source": [
    "tw=TweedieRegressor(link='auto')\n",
    "fmod.modelo_simple_reg(tw, X_train, y_train, X_test, y_test, lambdas)"
   ]
  },
  {
   "attachments": {},
   "cell_type": "markdown",
   "metadata": {},
   "source": [
    "## 4. Ensemble learning"
   ]
  },
  {
   "attachments": {},
   "cell_type": "markdown",
   "metadata": {},
   "source": [
    "## 4.1 Stacking"
   ]
  },
  {
   "cell_type": "code",
   "execution_count": 503,
   "metadata": {},
   "outputs": [
    {
     "name": "stdout",
     "output_type": "stream",
     "text": [
      "R2: -0.47 \n",
      " MAPE: 1.3283 \n",
      " MAE : 1.5599 \n",
      " RMSE : 2.032\n"
     ]
    }
   ],
   "source": [
    "\n",
    "# level 0\n",
    "level0 = list()\n",
    "level0.append(('ls', Lasso()))\n",
    "level0.append(('dt', DecisionTreeRegressor(random_state=1234)))\n",
    "level0.append(('svr', SVR()))\n",
    "level0.append(('ridge', Ridge()))\n",
    "\n",
    "\n",
    "# level 1\n",
    "level1 = DecisionTreeRegressor(random_state=1234)\n",
    "\n",
    "# define the stacking ensemble\n",
    "model = StackingRegressor(estimators=level0, final_estimator=level1, cv=5)\n",
    "model.fit(X_train, y_train)\n",
    "\n",
    "\n",
    "prediccion = model.predict(X_test)\n",
    "\n",
    "prediccion = inv_boxcox(prediccion, lambdas)\n",
    "\n",
    "print('R2:', round(r2_score(y_test, prediccion),2), '\\n', 'MAPE:',round(mean_absolute_percentage_error(y_test, prediccion),4),'\\n',\n",
    "       'MAE :',round(mean_absolute_error(y_test, prediccion),4),'\\n', 'RMSE :',round(np.sqrt(mean_squared_error(y_test, prediccion)),4))"
   ]
  },
  {
   "attachments": {},
   "cell_type": "markdown",
   "metadata": {},
   "source": [
    "* Optimizacion"
   ]
  },
  {
   "cell_type": "code",
   "execution_count": 504,
   "metadata": {},
   "outputs": [],
   "source": [
    "from hyperopt import hp,fmin,tpe,STATUS_OK,Trials\n",
    "from sklearn.model_selection import cross_val_score\n",
    "from hyperopt import space_eval\n",
    "\n",
    "# Definir espacio de búsqueda para stacking regressor\n",
    "space = {\n",
    "    'alpha' : hp.uniform(\"alpha\", 0.5,1),\n",
    "    'max_depth': hp.choice('max_depth', range(1, 100)),\n",
    "    'selection': hp.choice('selection',['cyclic', 'random']),\n",
    "    'min_samples_split': hp.choice('min_samples_split', range(2, 15)),\n",
    "    'C': hp.uniform('C', 0.01, 10),\n",
    "    'gamma': hp.uniform('gamma', 0.01, 10),\n",
    "    'alpha2' : hp.uniform(\"alpha2\", 0.5,1),\n",
    "    'max_depth2': hp.choice('max_depth2', range(1, 100)),\n",
    "    'min_samples_split2': hp.choice('min_samples_split2', range(2, 15))\n",
    "\n",
    "}\n",
    "\n",
    "\n",
    "def objective(space):\n",
    "    # level 0\n",
    "    level0 = list()\n",
    "    level0.append(('ls', Lasso(alpha=space['alpha'], selection=space['selection'])))\n",
    "    level0.append(('dt', DecisionTreeRegressor(random_state=1234, max_depth=space['max_depth'], min_samples_split=space['min_samples_split'])))\n",
    "    level0.append(('svr', SVR(C=space['C'], gamma=space['gamma'])))\n",
    "    level0.append(('ridge', Ridge(alpha=space['alpha2'])))\n",
    "\n",
    "\n",
    "    # level 1\n",
    "    level1 = DecisionTreeRegressor(random_state=1234,max_depth=space['max_depth2'], min_samples_split=space['min_samples_split2'] )\n",
    "\n",
    "    # define the stacking ensemble\n",
    "    model = StackingRegressor(estimators=level0, final_estimator=level1, cv=5)\n",
    "    score = cross_val_score(model, X_train, y_train, cv=5, scoring='neg_root_mean_squared_error').mean()\n",
    "\n",
    "    return {'loss': -score, 'status': STATUS_OK}"
   ]
  },
  {
   "cell_type": "code",
   "execution_count": 505,
   "metadata": {},
   "outputs": [
    {
     "name": "stdout",
     "output_type": "stream",
     "text": [
      "100%|██████████| 25/25 [00:12<00:00,  2.07trial/s, best loss: 0.7030326998465956]\n",
      "best {'C': 9.997145024018439, 'alpha': 0.7695118933540283, 'alpha2': 0.6775324364868492, 'gamma': 4.25948510241931, 'max_depth': 8, 'max_depth2': 6, 'min_samples_split': 6, 'min_samples_split2': 9, 'selection': 1}\n"
     ]
    }
   ],
   "source": [
    "trial = Trials()\n",
    "best = fmin(fn=objective,\n",
    "            space=space,\n",
    "            algo=tpe.suggest,\n",
    "            max_evals=25,\n",
    "            trials=trial)\n",
    "print(\"best {}\".format(best))"
   ]
  },
  {
   "cell_type": "code",
   "execution_count": 506,
   "metadata": {},
   "outputs": [
    {
     "name": "stdout",
     "output_type": "stream",
     "text": [
      "R2: 0.32 \n",
      " MAPE: 2.1438 \n",
      " MAE : 1.0848 \n",
      " RMSE : 1.3812\n"
     ]
    }
   ],
   "source": [
    "best = space_eval(space, best)\n",
    "\n",
    "# level 0\n",
    "level0 = list()\n",
    "level0.append(('ls', Lasso(alpha=best['alpha'], selection=best['selection'])))\n",
    "level0.append(('dt', DecisionTreeRegressor(random_state=1234, max_depth=best['max_depth'], min_samples_split=best['min_samples_split'] )))\n",
    "level0.append(('svr', SVR(C=best['C'], gamma=best['gamma'])))\n",
    "level0.append(('ridge', Ridge(alpha=best['alpha2'])))\n",
    "\n",
    "\n",
    "# level 1\n",
    "level1 = DecisionTreeRegressor(random_state=1234, max_depth=best['max_depth2'], min_samples_split=best['min_samples_split2'])\n",
    "\n",
    "# define the stacking ensemble\n",
    "model = StackingRegressor(estimators=level0, final_estimator=level1, cv=5)\n",
    "model.fit(X_train, y_train)\n",
    "\n",
    "fmod.prediccion_regr(model, X_test, y_test, lambdas)"
   ]
  },
  {
   "attachments": {},
   "cell_type": "markdown",
   "metadata": {},
   "source": [
    "## 4.2 Bagging"
   ]
  },
  {
   "attachments": {},
   "cell_type": "markdown",
   "metadata": {},
   "source": [
    "### Bagginregressor"
   ]
  },
  {
   "cell_type": "code",
   "execution_count": 507,
   "metadata": {},
   "outputs": [],
   "source": [
    "linear = LinearRegression()\n",
    "dt = DecisionTreeRegressor(random_state=RANDOM_STATE)\n",
    "svr = SVR()\n",
    "lasso = Lasso(random_state=RANDOM_STATE)\n",
    "ridge = Ridge(random_state=RANDOM_STATE)\n",
    "elastic = ElasticNet(random_state=RANDOM_STATE)\n",
    "\n",
    "models = [linear, dt, svr, lasso, ridge, elastic]"
   ]
  },
  {
   "cell_type": "code",
   "execution_count": 508,
   "metadata": {},
   "outputs": [
    {
     "name": "stdout",
     "output_type": "stream",
     "text": [
      "LinearRegression : \n",
      " R2: -1.17 \n",
      " MAPE: 0.904 \n",
      " MAE : 1.9301 \n",
      " RMSE : 2.4681\n",
      "DecisionTreeRegressor : \n",
      " R2: -1.42 \n",
      " MAPE: 0.9333 \n",
      " MAE : 2.0227 \n",
      " RMSE : 2.6069\n",
      "SVR : \n",
      " R2: -1.45 \n",
      " MAPE: 0.9356 \n",
      " MAE : 2.0353 \n",
      " RMSE : 2.6232\n",
      "Lasso : \n",
      " R2: -1.5 \n",
      " MAPE: 0.9114 \n",
      " MAE : 2.0527 \n",
      " RMSE : 2.6495\n",
      "Ridge : \n",
      " R2: -1.3 \n",
      " MAPE: 0.9078 \n",
      " MAE : 1.9768 \n",
      " RMSE : 2.5439\n",
      "ElasticNet : \n",
      " R2: -1.49 \n",
      " MAPE: 0.9257 \n",
      " MAE : 2.051 \n",
      " RMSE : 2.6442\n"
     ]
    }
   ],
   "source": [
    "\n",
    "\n",
    "for model in models:\n",
    "\n",
    "    bagging = BaggingRegressor(base_estimator=model, n_estimators=100, random_state=RANDOM_STATE)\n",
    "    bagging.fit(X_train, y_train)\n",
    "    prediccion = bagging.predict(X_test)\n",
    "    prediccion = np.exp(prediccion)\n",
    "    prediccion = inv_boxcox(prediccion, lambdas)\n",
    "    prediccion = prediccion / 100\n",
    "\n",
    "    print(model.__class__.__name__, ':','\\n',   'R2:', round(r2_score(y_test, prediccion),2), '\\n', 'MAPE:',round(mean_absolute_percentage_error(y_test, prediccion),4),'\\n',\n",
    "       'MAE :',round(mean_absolute_error(y_test, prediccion),4),'\\n', 'RMSE :',round(np.sqrt(mean_squared_error(y_test, prediccion)),4))"
   ]
  },
  {
   "attachments": {},
   "cell_type": "markdown",
   "metadata": {},
   "source": [
    "### Random Forest"
   ]
  },
  {
   "cell_type": "code",
   "execution_count": 509,
   "metadata": {},
   "outputs": [
    {
     "name": "stdout",
     "output_type": "stream",
     "text": [
      "R2: 0.41 \n",
      " MAPE: 1.4527 \n",
      " MAE : 1.018 \n",
      " RMSE : 1.292\n"
     ]
    }
   ],
   "source": [
    "from sklearn.ensemble import RandomForestRegressor\n",
    "\n",
    "rf = RandomForestRegressor(random_state=RANDOM_STATE)\n",
    "rf.fit(X_train, y_train)\n",
    "fmod.prediccion_regr(rf, X_test, y_test, lambdas)"
   ]
  },
  {
   "attachments": {},
   "cell_type": "markdown",
   "metadata": {},
   "source": [
    "* Optimizacion de parametros"
   ]
  },
  {
   "cell_type": "code",
   "execution_count": 510,
   "metadata": {},
   "outputs": [],
   "source": [
    "space = {\n",
    "    'n_estimators': hp.choice('n_estimators', range(100, 1000)),\n",
    "    'max_depth': hp.choice('max_depth', range(1, 10)),\n",
    "    'min_samples_split': hp.choice('min_samples_split', range(2, 10)),\n",
    "    'min_samples_leaf': hp.choice('min_samples_leaf', range(2, 10)),\n",
    "    'bootstrap': hp.choice('bootstrap', [True, False])\n",
    "}\n",
    "\n",
    "def objective(space):\n",
    "    rf = RandomForestRegressor(n_estimators=space['n_estimators'], max_depth=space['max_depth'], min_samples_split=space['min_samples_split'], min_samples_leaf=space['min_samples_leaf'], bootstrap=space['bootstrap'], random_state=RANDOM_STATE)\n",
    "    score = cross_val_score(rf, X_train, y_train, cv=5, scoring='neg_root_mean_squared_error').mean()\n",
    "\n",
    "    return {'loss': -score, 'status': STATUS_OK}"
   ]
  },
  {
   "cell_type": "code",
   "execution_count": 511,
   "metadata": {},
   "outputs": [
    {
     "name": "stdout",
     "output_type": "stream",
     "text": [
      "100%|██████████| 25/25 [00:55<00:00,  2.20s/trial, best loss: 0.5979276062606902]\n",
      "best {'bootstrap': 0, 'max_depth': 8, 'min_samples_leaf': 0, 'min_samples_split': 2, 'n_estimators': 143}\n"
     ]
    }
   ],
   "source": [
    "trials = Trials()\n",
    "\n",
    "best = fmin(fn=objective,\n",
    "            space=space,\n",
    "            algo=tpe.suggest,\n",
    "            max_evals=25,\n",
    "            trials=trials)\n",
    "\n",
    "print(\"best {}\".format(best))"
   ]
  },
  {
   "cell_type": "code",
   "execution_count": 512,
   "metadata": {},
   "outputs": [
    {
     "name": "stdout",
     "output_type": "stream",
     "text": [
      "R2: 0.42 \n",
      " MAPE: 1.4051 \n",
      " MAE : 1.0079 \n",
      " RMSE : 1.2734\n"
     ]
    }
   ],
   "source": [
    "from sklearn.ensemble import RandomForestRegressor\n",
    "best = space_eval(space, best)\n",
    "rf = RandomForestRegressor(random_state=RANDOM_STATE, bootstrap=best['bootstrap'],  min_samples_leaf=best['min_samples_leaf'], min_samples_split=best['min_samples_split'], n_estimators=best['n_estimators'])\n",
    "rf.fit(X_train, y_train)\n",
    "fmod.prediccion_regr(rf, X_test, y_test, lambdas)\n",
    "\n",
    "with open('modelo_regresion2.sav', 'wb') as f:\n",
    "    pickle.dump(rf, f)"
   ]
  },
  {
   "attachments": {},
   "cell_type": "markdown",
   "metadata": {},
   "source": [
    "### Extremely Randomized Trees"
   ]
  },
  {
   "cell_type": "code",
   "execution_count": 513,
   "metadata": {},
   "outputs": [
    {
     "name": "stdout",
     "output_type": "stream",
     "text": [
      "R2: 0.38 \n",
      " MAPE: 1.0451 \n",
      " MAE : 0.9997 \n",
      " RMSE : 1.3197\n"
     ]
    }
   ],
   "source": [
    "from sklearn.ensemble import ExtraTreesRegressor\n",
    "\n",
    "et = ExtraTreesRegressor(random_state=RANDOM_STATE, )\n",
    "et.fit(X_train, y_train)\n",
    "fmod.prediccion_regr(et, X_test, y_test, lambdas)"
   ]
  },
  {
   "attachments": {},
   "cell_type": "markdown",
   "metadata": {},
   "source": [
    "* Optimizacion"
   ]
  },
  {
   "cell_type": "code",
   "execution_count": 514,
   "metadata": {},
   "outputs": [],
   "source": [
    "space = {\n",
    "    'n_estimators': hp.choice('n_estimators', range(100, 1000)),\n",
    "    'max_depth': hp.choice('max_depth', range(1, 10)),\n",
    "    'min_samples_split': hp.choice('min_samples_split', range(2, 10)),\n",
    "    'min_samples_leaf': hp.choice('min_samples_leaf', range(2, 10)),\n",
    "    'bootstrap': hp.choice('bootstrap', [True, False])\n",
    "}\n",
    "\n",
    "def objective(space):\n",
    "    et = ExtraTreesRegressor(n_estimators=space['n_estimators'], max_depth=space['max_depth'], min_samples_split=space['min_samples_split'], min_samples_leaf=space['min_samples_leaf'], bootstrap=space['bootstrap'], random_state=RANDOM_STATE)\n",
    "    score = cross_val_score(et, X_train, y_train, cv=5, scoring='neg_root_mean_squared_error').mean()\n",
    "\n",
    "    return {'loss': -score, 'status': STATUS_OK}"
   ]
  },
  {
   "cell_type": "code",
   "execution_count": 515,
   "metadata": {},
   "outputs": [
    {
     "name": "stdout",
     "output_type": "stream",
     "text": [
      "100%|██████████| 25/25 [00:54<00:00,  2.18s/trial, best loss: 0.5998764396355252]\n",
      "best {'bootstrap': 1, 'max_depth': 7, 'min_samples_leaf': 0, 'min_samples_split': 3, 'n_estimators': 433}\n"
     ]
    }
   ],
   "source": [
    "trials = Trials()\n",
    "\n",
    "best = fmin(fn=objective,\n",
    "            space=space,\n",
    "            algo=tpe.suggest,\n",
    "            max_evals=25,\n",
    "            trials=trials)\n",
    "\n",
    "print(\"best {}\".format(best))"
   ]
  },
  {
   "cell_type": "code",
   "execution_count": 516,
   "metadata": {},
   "outputs": [
    {
     "name": "stdout",
     "output_type": "stream",
     "text": [
      "R2: 0.38 \n",
      " MAPE: 1.1172 \n",
      " MAE : 1.0169 \n",
      " RMSE : 1.32\n"
     ]
    }
   ],
   "source": [
    "from sklearn.ensemble import ExtraTreesRegressor\n",
    "best=space_eval(space, best)\n",
    "et = ExtraTreesRegressor(random_state=RANDOM_STATE,max_depth=best['max_depth'], min_samples_leaf=best['min_samples_leaf'], min_samples_split=best['min_samples_split'], n_estimators=best['n_estimators'] )\n",
    "et.fit(X_train, y_train)\n",
    "fmod.prediccion_regr(et, X_test, y_test, lambdas)"
   ]
  },
  {
   "attachments": {},
   "cell_type": "markdown",
   "metadata": {},
   "source": [
    "*Optimización"
   ]
  },
  {
   "cell_type": "code",
   "execution_count": 517,
   "metadata": {},
   "outputs": [],
   "source": [
    "space = {\n",
    "    'max_depth': hp.choice('max_depth', range(1, 10)),\n",
    "    'n_estimators': hp.choice('n_estimators', range(50, 300)),\n",
    "    'min_samples_split': hp.choice('min_samples_split', range(2, 5)),\n",
    "    'min_samples_leaf': hp.choice('min_samples_leaf', range(2, 5)),\n",
    "    'bootstrap': hp.choice('bootstrap', [True, False])\n",
    "}\n",
    "\n",
    "def objective(space):\n",
    "    et = ExtraTreesRegressor(max_depth=space['max_depth'],n_estimators=space['n_estimators'], min_samples_split=space['min_samples_split'], min_samples_leaf=space['min_samples_leaf'], bootstrap=space['bootstrap'], random_state=RANDOM_STATE)\n",
    "    score = cross_val_score(et, X_train, y_train, cv=5, scoring='neg_root_mean_squared_error').mean()\n",
    "\n",
    "    return {'loss': -score, 'status': STATUS_OK}"
   ]
  },
  {
   "cell_type": "code",
   "execution_count": 518,
   "metadata": {},
   "outputs": [
    {
     "name": "stdout",
     "output_type": "stream",
     "text": [
      "100%|██████████| 25/25 [00:20<00:00,  1.23trial/s, best loss: 0.599199345047508] \n",
      "best {'bootstrap': 1, 'max_depth': 7, 'min_samples_leaf': 0, 'min_samples_split': 2, 'n_estimators': 223}\n"
     ]
    }
   ],
   "source": [
    "trials = Trials()\n",
    "\n",
    "best = fmin(fn=objective,\n",
    "            space=space,\n",
    "            algo=tpe.suggest,\n",
    "            max_evals=25,\n",
    "            trials=trials)\n",
    "\n",
    "print(\"best {}\".format(best))"
   ]
  },
  {
   "cell_type": "code",
   "execution_count": 519,
   "metadata": {},
   "outputs": [
    {
     "name": "stdout",
     "output_type": "stream",
     "text": [
      "R2: 0.36 \n",
      " MAPE: 1.1055 \n",
      " MAE : 1.013 \n",
      " RMSE : 1.3355\n"
     ]
    }
   ],
   "source": [
    "from sklearn.ensemble import ExtraTreesRegressor\n",
    "best = space_eval(space, best)\n",
    "et = ExtraTreesRegressor(random_state=RANDOM_STATE,max_depth=best['max_depth'], min_samples_leaf=best['min_samples_leaf'], min_samples_split=best['min_samples_split'], n_estimators=best['n_estimators'] )\n",
    "et.fit(X_train, y_train)\n",
    "fmod.prediccion_regr(et, X_test, y_test, lambdas)"
   ]
  },
  {
   "attachments": {},
   "cell_type": "markdown",
   "metadata": {},
   "source": [
    "## 4.3 Boosting"
   ]
  },
  {
   "attachments": {},
   "cell_type": "markdown",
   "metadata": {},
   "source": [
    "### Adaboost regresssor"
   ]
  },
  {
   "cell_type": "code",
   "execution_count": 520,
   "metadata": {},
   "outputs": [
    {
     "name": "stdout",
     "output_type": "stream",
     "text": [
      "R2: 0.54 \n",
      " MAPE: 1.5028 \n",
      " MAE : 0.9195 \n",
      " RMSE : 1.1326\n"
     ]
    }
   ],
   "source": [
    "from sklearn.ensemble import AdaBoostRegressor\n",
    "\n",
    "ada = AdaBoostRegressor(random_state=RANDOM_STATE)\n",
    "ada.fit(X_train, y_train)\n",
    "fmod.prediccion_regr(ada, X_test, y_test, lambdas)\n",
    "\n",
    "with open('modelo_regresion.sav', 'wb') as f:\n",
    "    pickle.dump(ada, f)"
   ]
  },
  {
   "attachments": {},
   "cell_type": "markdown",
   "metadata": {},
   "source": [
    "* Optimizacion"
   ]
  },
  {
   "cell_type": "code",
   "execution_count": 521,
   "metadata": {},
   "outputs": [],
   "source": [
    "space = {\n",
    "    'n_estimators': hp.choice('n_estimators', range(100, 1000)),\n",
    "    'learning_rate': hp.uniform('learning_rate', 0.01, 1),\n",
    "    'loss': hp.choice('loss', ['linear', 'square', 'exponential'])\n",
    "}\n",
    "\n",
    "def objective(space):\n",
    "    ada = AdaBoostRegressor(n_estimators=space['n_estimators'], learning_rate=space['learning_rate'], loss=space['loss'], random_state=RANDOM_STATE)\n",
    "    score = cross_val_score(ada, X_train, y_train, cv=5, scoring='neg_root_mean_squared_error').mean()\n",
    "\n",
    "    return {'loss': -score, 'status': STATUS_OK}"
   ]
  },
  {
   "cell_type": "code",
   "execution_count": 522,
   "metadata": {},
   "outputs": [
    {
     "name": "stdout",
     "output_type": "stream",
     "text": [
      "100%|██████████| 25/25 [01:06<00:00,  2.67s/trial, best loss: 0.514274980440562] \n",
      "best {'learning_rate': 0.998783331975307, 'loss': 1, 'n_estimators': 748}\n"
     ]
    }
   ],
   "source": [
    "trials = Trials()\n",
    "best = fmin(fn=objective,\n",
    "            space=space,\n",
    "            algo=tpe.suggest,\n",
    "            max_evals=25,\n",
    "            trials=trials)\n",
    "\n",
    "print(\"best {}\".format(best))"
   ]
  },
  {
   "cell_type": "code",
   "execution_count": 523,
   "metadata": {},
   "outputs": [
    {
     "name": "stdout",
     "output_type": "stream",
     "text": [
      "R2: 0.42 \n",
      " MAPE: 1.4378 \n",
      " MAE : 1.0135 \n",
      " RMSE : 1.2784\n"
     ]
    }
   ],
   "source": [
    "best = space_eval(space, best)\n",
    "\n",
    "ada = AdaBoostRegressor(n_estimators=best['n_estimators'], learning_rate=best['learning_rate'], loss=best['loss'], random_state=RANDOM_STATE)\n",
    "ada.fit(X_train, y_train)\n",
    "fmod.prediccion_regr(ada, X_test, y_test, lambdas)"
   ]
  },
  {
   "cell_type": "code",
   "execution_count": 524,
   "metadata": {},
   "outputs": [],
   "source": [
    "with open('modelos/adaboost_regresion.sav', 'wb') as archivo:\n",
    "    pickle.dump(ada, archivo)"
   ]
  },
  {
   "attachments": {},
   "cell_type": "markdown",
   "metadata": {},
   "source": [
    "### Gradient Descent Boosting"
   ]
  },
  {
   "cell_type": "code",
   "execution_count": 525,
   "metadata": {},
   "outputs": [
    {
     "name": "stdout",
     "output_type": "stream",
     "text": [
      "R2: 0.24 \n",
      " MAPE: 1.3953 \n",
      " MAE : 1.1277 \n",
      " RMSE : 1.4644\n"
     ]
    }
   ],
   "source": [
    "from sklearn.ensemble import GradientBoostingRegressor\n",
    "\n",
    "params = {\n",
    "    \"n_estimators\": 1000,\n",
    "}\n",
    "\n",
    "gb = GradientBoostingRegressor(random_state=RANDOM_STATE, **params)\n",
    "gb.fit(X_train, y_train)\n",
    "fmod.prediccion_regr(gb, X_test, y_test, lambdas)"
   ]
  },
  {
   "attachments": {},
   "cell_type": "markdown",
   "metadata": {},
   "source": [
    "* Optimizacion"
   ]
  },
  {
   "cell_type": "code",
   "execution_count": 526,
   "metadata": {},
   "outputs": [],
   "source": [
    "\n",
    "space = { \n",
    "'loss':hp.choice('loss', ['squared_error', 'absolute_error']),\n",
    "'n_estimators': hp.quniform('n_esimator', 10, 100,10),\n",
    "'learning_rate': hp.quniform('learning_rate', 0.1,1,0.1),\n",
    "'min_samples_split':hp.quniform('min_samples_split', 2,30,4),\n",
    "'min_samples_leaf':hp.quniform('min_samples_leaf', 2,21,3)\n",
    "}\n",
    "def objective(space):\n",
    "    model = GradientBoostingRegressor( loss=space['loss'],n_estimators= int(round(space['n_estimators'])), learning_rate=space['learning_rate'],\n",
    "                                       min_samples_split=round(space['min_samples_split']) , min_samples_leaf=int(round(space['min_samples_leaf'])))\n",
    "    accuracy = cross_val_score(model, X_train, y_train, cv = 5, scoring='neg_mean_absolute_percentage_error').mean()\n",
    "\n",
    "    return {'loss': abs(accuracy), 'status': STATUS_OK } "
   ]
  },
  {
   "cell_type": "code",
   "execution_count": 527,
   "metadata": {},
   "outputs": [
    {
     "name": "stdout",
     "output_type": "stream",
     "text": [
      "100%|██████████| 10/10 [00:02<00:00,  4.09trial/s, best loss: 2.085491396951773]\n",
      "best: {'learning_rate': 0.2, 'loss': 0, 'min_samples_leaf': 6.0, 'min_samples_split': 24.0, 'n_esimator': 100.0}\n"
     ]
    }
   ],
   "source": [
    "\n",
    "trials = Trials()\n",
    "best = fmin(fn= objective,\n",
    "space= space, \n",
    "algo= tpe.suggest, \n",
    "max_evals = 10, \n",
    "trials= trials)\n",
    "print(\"best: {}\".format(best))"
   ]
  },
  {
   "cell_type": "code",
   "execution_count": 528,
   "metadata": {},
   "outputs": [
    {
     "name": "stdout",
     "output_type": "stream",
     "text": [
      "R2: 0.24 \n",
      " MAPE: 1.3263 \n",
      " MAE : 1.0968 \n",
      " RMSE : 1.4589\n"
     ]
    }
   ],
   "source": [
    "best_rf = space_eval(space, best)\n",
    "\n",
    "et = GradientBoostingRegressor(loss=best_rf['loss'],n_estimators= round(best_rf['n_estimators']), learning_rate=best_rf['learning_rate'],\n",
    "                                       min_samples_split=round(best_rf['min_samples_split']) , min_samples_leaf=round(best_rf['min_samples_leaf']))\n",
    "et.fit(X_train, y_train)\n",
    "fmod.prediccion_regr(et, X_test, y_test, lambdas)"
   ]
  },
  {
   "attachments": {},
   "cell_type": "markdown",
   "metadata": {},
   "source": [
    "### Hist Gradient Boosting"
   ]
  },
  {
   "cell_type": "code",
   "execution_count": 529,
   "metadata": {},
   "outputs": [
    {
     "name": "stdout",
     "output_type": "stream",
     "text": [
      "R2: 0.18 \n",
      " MAPE: 1.8355 \n",
      " MAE : 1.2371 \n",
      " RMSE : 1.5176\n"
     ]
    }
   ],
   "source": [
    "from sklearn.ensemble import HistGradientBoostingRegressor\n",
    "\n",
    "\n",
    "gb = HistGradientBoostingRegressor(random_state=RANDOM_STATE)\n",
    "gb.fit(X_train, y_train)\n",
    "fmod.prediccion_regr(gb, X_test, y_test, lambdas)"
   ]
  },
  {
   "attachments": {},
   "cell_type": "markdown",
   "metadata": {},
   "source": [
    "* Optimizacion"
   ]
  },
  {
   "cell_type": "code",
   "execution_count": 532,
   "metadata": {},
   "outputs": [],
   "source": [
    "\n",
    "space = { \n",
    "'loss':hp.choice('loss', ['squared_error', 'absolute_error']),\n",
    "'learning_rate': hp.quniform('learning_rate', 0.1,1,0.1),\n",
    "'max_leaf_nodes':hp.quniform('max_leaf_nodes', 5,40,5),\n",
    "'min_samples_leaf':hp.quniform('min_samples_leaf', 2,21,3)\n",
    "}\n",
    "def objective(space):\n",
    "    model = HistGradientBoostingRegressor( loss=space['loss'], learning_rate=space['learning_rate'],\n",
    "                                       max_leaf_nodes=round(space['max_leaf_nodes']) , min_samples_leaf=int(round(space['min_samples_leaf'])))\n",
    "    accuracy = cross_val_score(model, X_train, y_train, cv = 5, scoring='neg_mean_absolute_percentage_error').mean()\n",
    "\n",
    "    return {'loss': abs(accuracy), 'status': STATUS_OK } "
   ]
  },
  {
   "cell_type": "code",
   "execution_count": 533,
   "metadata": {},
   "outputs": [
    {
     "name": "stdout",
     "output_type": "stream",
     "text": [
      "100%|██████████| 10/10 [00:05<00:00,  1.97trial/s, best loss: 2.1911123765401443]\n",
      "best: {'learning_rate': 0.4, 'loss': 1, 'max_leaf_nodes': 40.0, 'min_samples_leaf': 15.0}\n"
     ]
    }
   ],
   "source": [
    "trials = Trials()\n",
    "best = fmin(fn= objective,\n",
    "space= space, \n",
    "algo= tpe.suggest, \n",
    "max_evals = 10, \n",
    "trials= trials)\n",
    "print(\"best: {}\".format(best))"
   ]
  },
  {
   "cell_type": "code",
   "execution_count": 534,
   "metadata": {},
   "outputs": [
    {
     "name": "stdout",
     "output_type": "stream",
     "text": [
      "R2: 0.49 \n",
      " MAPE: 1.4133 \n",
      " MAE : 0.951 \n",
      " RMSE : 1.1913\n"
     ]
    }
   ],
   "source": [
    "best_rf = space_eval(space, best)\n",
    "\n",
    "gb = HistGradientBoostingRegressor(loss=best_rf['loss'], learning_rate=best_rf['learning_rate'],\n",
    "                                       max_leaf_nodes=round(best_rf['max_leaf_nodes']) , min_samples_leaf=round(best_rf['min_samples_leaf']))\n",
    "gb.fit(X_train, y_train)\n",
    "fmod.prediccion_regr(gb, X_test, y_test, lambdas)"
   ]
  },
  {
   "attachments": {},
   "cell_type": "markdown",
   "metadata": {},
   "source": [
    "### XGBOOST"
   ]
  },
  {
   "cell_type": "code",
   "execution_count": 535,
   "metadata": {},
   "outputs": [
    {
     "name": "stdout",
     "output_type": "stream",
     "text": [
      "R2: 0.25 \n",
      " MAPE: 1.4909 \n",
      " MAE : 1.0355 \n",
      " RMSE : 1.4471\n"
     ]
    }
   ],
   "source": [
    "from xgboost import XGBRegressor\n",
    "\n",
    "xgb = XGBRegressor(random_state=RANDOM_STATE)\n",
    "xgb.fit(X_train, y_train)\n",
    "fmod.prediccion_regr(xgb, X_test, y_test, lambdas)"
   ]
  },
  {
   "attachments": {},
   "cell_type": "markdown",
   "metadata": {},
   "source": [
    "* Optimizacion"
   ]
  },
  {
   "cell_type": "code",
   "execution_count": 536,
   "metadata": {},
   "outputs": [],
   "source": [
    "space = {\n",
    "    'n_estimators': hp.choice('n_estimators', range(100, 1000)),\n",
    "    'learning_rate': hp.uniform('learning_rate', 0.01, 1),\n",
    "    'max_depth': hp.choice('max_depth', range(1, 10)),\n",
    "    'min_child_weight': hp.choice('min_child_weight', range(1, 10)),\n",
    "    'gamma': hp.uniform('gamma', 0.01, 1),\n",
    "    'subsample': hp.uniform('subsample', 0.01, 1),\n",
    "    'colsample_bytree': hp.uniform('colsample_bytree', 0.01, 1),\n",
    "    'reg_alpha': hp.uniform('reg_alpha', 0.01, 1),\n",
    "    'reg_lambda': hp.uniform('reg_lambda', 0.01, 1)\n",
    "}\n",
    "\n",
    "def objective(space):\n",
    "    xgb = XGBRegressor(n_estimators=space['n_estimators'], learning_rate=space['learning_rate'], max_depth=space['max_depth'], min_child_weight=space['min_child_weight'], gamma=space['gamma'], subsample=space['subsample'], colsample_bytree=space['colsample_bytree'], reg_alpha=space['reg_alpha'], reg_lambda=space['reg_lambda'], random_state=RANDOM_STATE)\n",
    "    score = cross_val_score(xgb, X_train, y_train, cv=5, scoring='neg_root_mean_squared_error').mean()\n",
    "\n",
    "    return {'loss': -score, 'status': STATUS_OK}"
   ]
  },
  {
   "cell_type": "code",
   "execution_count": 537,
   "metadata": {},
   "outputs": [
    {
     "name": "stdout",
     "output_type": "stream",
     "text": [
      "100%|██████████| 25/25 [00:30<00:00,  1.21s/trial, best loss: 0.6072509405489812]\n",
      "best {'colsample_bytree': 0.758396833543995, 'gamma': 0.3086335412487917, 'learning_rate': 0.1158185863540775, 'max_depth': 5, 'min_child_weight': 0, 'n_estimators': 193, 'reg_alpha': 0.8466680127426142, 'reg_lambda': 0.86709115529329, 'subsample': 0.43126180434712563}\n"
     ]
    }
   ],
   "source": [
    "trials = Trials()\n",
    "best = fmin(fn=objective,\n",
    "            space=space,\n",
    "            algo=tpe.suggest,\n",
    "            max_evals=25,\n",
    "            trials=trials)\n",
    "\n",
    "print(\"best {}\".format(best))"
   ]
  },
  {
   "cell_type": "code",
   "execution_count": 538,
   "metadata": {},
   "outputs": [
    {
     "name": "stdout",
     "output_type": "stream",
     "text": [
      "R2: 0.36 \n",
      " MAPE: 1.7211 \n",
      " MAE : 1.1015 \n",
      " RMSE : 1.3369\n"
     ]
    }
   ],
   "source": [
    "best = space_eval(space, best)\n",
    "\n",
    "xgb = XGBRegressor(n_estimators=best['n_estimators'], learning_rate=best['learning_rate'], max_depth=best['max_depth'], min_child_weight=best['min_child_weight'], gamma=best['gamma'], subsample=best['subsample'], colsample_bytree=best['colsample_bytree'], reg_alpha=best['reg_alpha'], reg_lambda=best['reg_lambda'], random_state=RANDOM_STATE)\n",
    "xgb.fit(X_train, y_train)\n",
    "fmod.prediccion_regr(xgb, X_test, y_test, lambdas)"
   ]
  },
  {
   "attachments": {},
   "cell_type": "markdown",
   "metadata": {},
   "source": [
    "### Catboost"
   ]
  },
  {
   "cell_type": "code",
   "execution_count": 539,
   "metadata": {},
   "outputs": [
    {
     "name": "stdout",
     "output_type": "stream",
     "text": [
      "R2: 0.26 \n",
      " MAPE: 1.4997 \n",
      " MAE : 1.0891 \n",
      " RMSE : 1.4379\n"
     ]
    }
   ],
   "source": [
    "from catboost import CatBoostRegressor\n",
    "\n",
    "cat = CatBoostRegressor(random_state=RANDOM_STATE, silent=True)\n",
    "cat.fit(X_train, y_train)\n",
    "fmod.prediccion_regr(cat, X_test, y_test, lambdas)"
   ]
  },
  {
   "attachments": {},
   "cell_type": "markdown",
   "metadata": {},
   "source": [
    "* Optimizacion"
   ]
  },
  {
   "cell_type": "code",
   "execution_count": 540,
   "metadata": {},
   "outputs": [],
   "source": [
    "space = {\n",
    "    'n_estimators': hp.choice('n_estimators', range(50, 1000)),\n",
    "    'learning_rate': hp.uniform('learning_rate', 0.01, 1),\n",
    "    'depth': hp.choice('depth', range(1, 10)),\n",
    "    'l2_leaf_reg': hp.uniform('l2_leaf_reg', 0.01, 1),\n",
    "    'bagging_temperature': hp.uniform('bagging_temperature', 0.001, 1),\n",
    "    'random_strength': hp.uniform('random_strength', 0.001, 1)\n",
    "}\n",
    "\n",
    "def objective(space):\n",
    "    cat = CatBoostRegressor(n_estimators=space['n_estimators'], learning_rate=space['learning_rate'], depth=space['depth'], l2_leaf_reg=space['l2_leaf_reg'], bagging_temperature=space['bagging_temperature'], random_strength=space['random_strength'], random_state=RANDOM_STATE, silent=True)\n",
    "    score = cross_val_score(cat, X_train, y_train, cv=5, scoring='neg_root_mean_squared_error').mean()\n",
    "\n",
    "    return {'loss': -score, 'status': STATUS_OK}"
   ]
  },
  {
   "cell_type": "code",
   "execution_count": 541,
   "metadata": {},
   "outputs": [
    {
     "name": "stdout",
     "output_type": "stream",
     "text": [
      "100%|██████████| 25/25 [01:33<00:00,  3.73s/trial, best loss: 0.5574156042393624]\n",
      "best {'bagging_temperature': 0.11675455302435273, 'depth': 3, 'l2_leaf_reg': 0.8746299699252349, 'learning_rate': 0.13182133864884324, 'n_estimators': 178, 'random_strength': 0.6907932682468151}\n"
     ]
    }
   ],
   "source": [
    "trials = Trials()\n",
    "best = fmin(fn=objective,\n",
    "            space=space,\n",
    "            algo=tpe.suggest,\n",
    "            max_evals=25,\n",
    "            trials=trials)\n",
    "\n",
    "print(\"best {}\".format(best))"
   ]
  },
  {
   "cell_type": "code",
   "execution_count": 542,
   "metadata": {},
   "outputs": [
    {
     "name": "stdout",
     "output_type": "stream",
     "text": [
      "R2: 0.4 \n",
      " MAPE: 1.4417 \n",
      " MAE : 1.0202 \n",
      " RMSE : 1.2928\n"
     ]
    }
   ],
   "source": [
    "best = space_eval(space, best)\n",
    "\n",
    "cat = CatBoostRegressor(n_estimators=best['n_estimators'], \n",
    "                        learning_rate=best['learning_rate'], \n",
    "                        depth=best['depth'], \n",
    "                        l2_leaf_reg=best['l2_leaf_reg'], \n",
    "                        bagging_temperature=best['bagging_temperature'], \n",
    "                        random_strength=best['random_strength'], \n",
    "                        random_state=RANDOM_STATE,\n",
    "                        silent=True)\n",
    "cat.fit(X_train, y_train)\n",
    "fmod.prediccion_regr(cat, X_test, y_test, lambdas)"
   ]
  },
  {
   "attachments": {},
   "cell_type": "markdown",
   "metadata": {},
   "source": [
    "### LIGHTGBM"
   ]
  },
  {
   "cell_type": "code",
   "execution_count": 543,
   "metadata": {},
   "outputs": [
    {
     "name": "stdout",
     "output_type": "stream",
     "text": [
      "R2: 0.23 \n",
      " MAPE: 1.7212 \n",
      " MAE : 1.2037 \n",
      " RMSE : 1.4723\n"
     ]
    }
   ],
   "source": [
    "from lightgbm import LGBMRegressor\n",
    "\n",
    "lg = LGBMRegressor(random_state=RANDOM_STATE, silent=True, objective='regression')\n",
    "lg.fit(X_train, y_train)\n",
    "fmod.prediccion_regr(lg, X_test, y_test, lambdas)"
   ]
  },
  {
   "cell_type": "code",
   "execution_count": 544,
   "metadata": {},
   "outputs": [],
   "source": [
    "space = { #criterion \n",
    "'num_iterations': hp.uniform('num_iterations', 1, 50),\n",
    "'learning_rate': hp.quniform('learning_rate', 0.1,1,0.1),\n",
    "'max_depth' :hp.quniform('max_depth', 3,12,3),\n",
    "'subsample':hp.quniform('subsample', 0.3,1,0.1),\n",
    "'feature_fraction':hp.quniform('feature_fraction', 0.3,1,0.1)\n",
    "}\n",
    "def objective(space):\n",
    "    model = LGBMRegressor( num_iterations= round(space['num_iterations']), learning_rate=space['learning_rate'],max_depth=round(space['max_depth']),\n",
    "                         subsample=space['subsample'],feature_fraction=space['feature_fraction'], random_state=0, silent=True )\n",
    "    accuracy = cross_val_score(model, X_train, y_train, cv = 5, scoring='neg_mean_absolute_percentage_error').mean()\n",
    "\n",
    "    return {'loss': abs(accuracy), 'status': STATUS_OK } "
   ]
  },
  {
   "cell_type": "code",
   "execution_count": 545,
   "metadata": {},
   "outputs": [
    {
     "name": "stdout",
     "output_type": "stream",
     "text": [
      "[LightGBM] [Warning] feature_fraction is set=0.5, colsample_bytree=1.0 will be ignored. Current value: feature_fraction=0.5\n",
      "[LightGBM] [Warning] feature_fraction is set=0.5, colsample_bytree=1.0 will be ignored. Current value: feature_fraction=0.5\n",
      "[LightGBM] [Warning] feature_fraction is set=0.5, colsample_bytree=1.0 will be ignored. Current value: feature_fraction=0.5\n",
      "[LightGBM] [Warning] feature_fraction is set=0.5, colsample_bytree=1.0 will be ignored. Current value: feature_fraction=0.5\n",
      "[LightGBM] [Warning] feature_fraction is set=0.5, colsample_bytree=1.0 will be ignored. Current value: feature_fraction=0.5\n",
      "[LightGBM] [Warning] feature_fraction is set=0.9, colsample_bytree=1.0 will be ignored. Current value: feature_fraction=0.9\n",
      "[LightGBM] [Warning] feature_fraction is set=0.9, colsample_bytree=1.0 will be ignored. Current value: feature_fraction=0.9\n",
      "[LightGBM] [Warning] feature_fraction is set=0.9, colsample_bytree=1.0 will be ignored. Current value: feature_fraction=0.9\n",
      "[LightGBM] [Warning] feature_fraction is set=0.9, colsample_bytree=1.0 will be ignored. Current value: feature_fraction=0.9\n",
      "[LightGBM] [Warning] feature_fraction is set=0.9, colsample_bytree=1.0 will be ignored. Current value: feature_fraction=0.9\n",
      "[LightGBM] [Warning] feature_fraction is set=0.5, colsample_bytree=1.0 will be ignored. Current value: feature_fraction=0.5\n",
      "[LightGBM] [Warning] feature_fraction is set=0.5, colsample_bytree=1.0 will be ignored. Current value: feature_fraction=0.5\n",
      "[LightGBM] [Warning] feature_fraction is set=0.5, colsample_bytree=1.0 will be ignored. Current value: feature_fraction=0.5\n",
      "[LightGBM] [Warning] feature_fraction is set=0.5, colsample_bytree=1.0 will be ignored. Current value: feature_fraction=0.5\n",
      "[LightGBM] [Warning] feature_fraction is set=0.5, colsample_bytree=1.0 will be ignored. Current value: feature_fraction=0.5\n",
      "[LightGBM] [Warning] feature_fraction is set=1.0, colsample_bytree=1.0 will be ignored. Current value: feature_fraction=1.0\n",
      "[LightGBM] [Warning] feature_fraction is set=1.0, colsample_bytree=1.0 will be ignored. Current value: feature_fraction=1.0\n",
      "[LightGBM] [Warning] feature_fraction is set=1.0, colsample_bytree=1.0 will be ignored. Current value: feature_fraction=1.0\n",
      "[LightGBM] [Warning] feature_fraction is set=1.0, colsample_bytree=1.0 will be ignored. Current value: feature_fraction=1.0\n",
      "[LightGBM] [Warning] feature_fraction is set=1.0, colsample_bytree=1.0 will be ignored. Current value: feature_fraction=1.0\n",
      "[LightGBM] [Warning] feature_fraction is set=0.5, colsample_bytree=1.0 will be ignored. Current value: feature_fraction=0.5\n",
      "[LightGBM] [Warning] feature_fraction is set=0.5, colsample_bytree=1.0 will be ignored. Current value: feature_fraction=0.5\n",
      "[LightGBM] [Warning] feature_fraction is set=0.5, colsample_bytree=1.0 will be ignored. Current value: feature_fraction=0.5\n",
      "[LightGBM] [Warning] feature_fraction is set=0.5, colsample_bytree=1.0 will be ignored. Current value: feature_fraction=0.5\n",
      "[LightGBM] [Warning] feature_fraction is set=0.5, colsample_bytree=1.0 will be ignored. Current value: feature_fraction=0.5\n",
      "[LightGBM] [Warning] feature_fraction is set=0.6000000000000001, colsample_bytree=1.0 will be ignored. Current value: feature_fraction=0.6000000000000001\n",
      "[LightGBM] [Warning] feature_fraction is set=0.6000000000000001, colsample_bytree=1.0 will be ignored. Current value: feature_fraction=0.6000000000000001\n",
      "[LightGBM] [Warning] feature_fraction is set=0.6000000000000001, colsample_bytree=1.0 will be ignored. Current value: feature_fraction=0.6000000000000001\n",
      "[LightGBM] [Warning] feature_fraction is set=0.6000000000000001, colsample_bytree=1.0 will be ignored. Current value: feature_fraction=0.6000000000000001\n",
      "[LightGBM] [Warning] feature_fraction is set=0.6000000000000001, colsample_bytree=1.0 will be ignored. Current value: feature_fraction=0.6000000000000001\n",
      "[LightGBM] [Warning] feature_fraction is set=0.9, colsample_bytree=1.0 will be ignored. Current value: feature_fraction=0.9\n",
      "[LightGBM] [Warning] feature_fraction is set=0.9, colsample_bytree=1.0 will be ignored. Current value: feature_fraction=0.9\n",
      "[LightGBM] [Warning] feature_fraction is set=0.9, colsample_bytree=1.0 will be ignored. Current value: feature_fraction=0.9\n",
      "[LightGBM] [Warning] feature_fraction is set=0.9, colsample_bytree=1.0 will be ignored. Current value: feature_fraction=0.9\n",
      "[LightGBM] [Warning] feature_fraction is set=0.9, colsample_bytree=1.0 will be ignored. Current value: feature_fraction=0.9\n",
      "[LightGBM] [Warning] feature_fraction is set=0.9, colsample_bytree=1.0 will be ignored. Current value: feature_fraction=0.9\n",
      "[LightGBM] [Warning] feature_fraction is set=0.9, colsample_bytree=1.0 will be ignored. Current value: feature_fraction=0.9\n",
      "[LightGBM] [Warning] feature_fraction is set=0.9, colsample_bytree=1.0 will be ignored. Current value: feature_fraction=0.9\n",
      "[LightGBM] [Warning] feature_fraction is set=0.9, colsample_bytree=1.0 will be ignored. Current value: feature_fraction=0.9\n",
      "[LightGBM] [Warning] feature_fraction is set=0.9, colsample_bytree=1.0 will be ignored. Current value: feature_fraction=0.9\n",
      "[LightGBM] [Warning] feature_fraction is set=0.5, colsample_bytree=1.0 will be ignored. Current value: feature_fraction=0.5\n",
      "[LightGBM] [Warning] feature_fraction is set=0.5, colsample_bytree=1.0 will be ignored. Current value: feature_fraction=0.5\n",
      "[LightGBM] [Warning] feature_fraction is set=0.5, colsample_bytree=1.0 will be ignored. Current value: feature_fraction=0.5\n",
      "[LightGBM] [Warning] feature_fraction is set=0.5, colsample_bytree=1.0 will be ignored. Current value: feature_fraction=0.5\n",
      "[LightGBM] [Warning] feature_fraction is set=0.5, colsample_bytree=1.0 will be ignored. Current value: feature_fraction=0.5\n",
      "[LightGBM] [Warning] feature_fraction is set=0.8, colsample_bytree=1.0 will be ignored. Current value: feature_fraction=0.8\n",
      "[LightGBM] [Warning] feature_fraction is set=0.8, colsample_bytree=1.0 will be ignored. Current value: feature_fraction=0.8\n",
      "[LightGBM] [Warning] feature_fraction is set=0.8, colsample_bytree=1.0 will be ignored. Current value: feature_fraction=0.8\n",
      "[LightGBM] [Warning] feature_fraction is set=0.8, colsample_bytree=1.0 will be ignored. Current value: feature_fraction=0.8\n",
      "[LightGBM] [Warning] feature_fraction is set=0.8, colsample_bytree=1.0 will be ignored. Current value: feature_fraction=0.8\n",
      "[LightGBM] [Warning] feature_fraction is set=0.5, colsample_bytree=1.0 will be ignored. Current value: feature_fraction=0.5\n",
      "[LightGBM] [Warning] feature_fraction is set=0.5, colsample_bytree=1.0 will be ignored. Current value: feature_fraction=0.5\n",
      "[LightGBM] [Warning] feature_fraction is set=0.5, colsample_bytree=1.0 will be ignored. Current value: feature_fraction=0.5\n",
      "[LightGBM] [Warning] feature_fraction is set=0.5, colsample_bytree=1.0 will be ignored. Current value: feature_fraction=0.5\n",
      "[LightGBM] [Warning] feature_fraction is set=0.5, colsample_bytree=1.0 will be ignored. Current value: feature_fraction=0.5\n",
      "[LightGBM] [Warning] feature_fraction is set=0.4, colsample_bytree=1.0 will be ignored. Current value: feature_fraction=0.4\n",
      "[LightGBM] [Warning] feature_fraction is set=0.4, colsample_bytree=1.0 will be ignored. Current value: feature_fraction=0.4\n",
      "[LightGBM] [Warning] feature_fraction is set=0.4, colsample_bytree=1.0 will be ignored. Current value: feature_fraction=0.4\n",
      "[LightGBM] [Warning] feature_fraction is set=0.4, colsample_bytree=1.0 will be ignored. Current value: feature_fraction=0.4\n",
      "[LightGBM] [Warning] feature_fraction is set=0.4, colsample_bytree=1.0 will be ignored. Current value: feature_fraction=0.4\n",
      "[LightGBM] [Warning] feature_fraction is set=0.7000000000000001, colsample_bytree=1.0 will be ignored. Current value: feature_fraction=0.7000000000000001\n",
      "[LightGBM] [Warning] feature_fraction is set=0.7000000000000001, colsample_bytree=1.0 will be ignored. Current value: feature_fraction=0.7000000000000001\n",
      "[LightGBM] [Warning] feature_fraction is set=0.7000000000000001, colsample_bytree=1.0 will be ignored. Current value: feature_fraction=0.7000000000000001\n",
      "[LightGBM] [Warning] feature_fraction is set=0.7000000000000001, colsample_bytree=1.0 will be ignored. Current value: feature_fraction=0.7000000000000001\n",
      "[LightGBM] [Warning] feature_fraction is set=0.7000000000000001, colsample_bytree=1.0 will be ignored. Current value: feature_fraction=0.7000000000000001\n",
      "[LightGBM] [Warning] feature_fraction is set=0.4, colsample_bytree=1.0 will be ignored. Current value: feature_fraction=0.4\n",
      "[LightGBM] [Warning] feature_fraction is set=0.4, colsample_bytree=1.0 will be ignored. Current value: feature_fraction=0.4\n",
      "[LightGBM] [Warning] feature_fraction is set=0.4, colsample_bytree=1.0 will be ignored. Current value: feature_fraction=0.4\n",
      "[LightGBM] [Warning] feature_fraction is set=0.4, colsample_bytree=1.0 will be ignored. Current value: feature_fraction=0.4\n",
      "[LightGBM] [Warning] feature_fraction is set=0.4, colsample_bytree=1.0 will be ignored. Current value: feature_fraction=0.4\n",
      "[LightGBM] [Warning] feature_fraction is set=1.0, colsample_bytree=1.0 will be ignored. Current value: feature_fraction=1.0\n",
      "[LightGBM] [Warning] feature_fraction is set=1.0, colsample_bytree=1.0 will be ignored. Current value: feature_fraction=1.0\n",
      "[LightGBM] [Warning] feature_fraction is set=1.0, colsample_bytree=1.0 will be ignored. Current value: feature_fraction=1.0\n",
      "[LightGBM] [Warning] feature_fraction is set=1.0, colsample_bytree=1.0 will be ignored. Current value: feature_fraction=1.0\n",
      "[LightGBM] [Warning] feature_fraction is set=1.0, colsample_bytree=1.0 will be ignored. Current value: feature_fraction=1.0\n",
      "[LightGBM] [Warning] feature_fraction is set=1.0, colsample_bytree=1.0 will be ignored. Current value: feature_fraction=1.0\n",
      "[LightGBM] [Warning] feature_fraction is set=1.0, colsample_bytree=1.0 will be ignored. Current value: feature_fraction=1.0\n",
      "[LightGBM] [Warning] feature_fraction is set=1.0, colsample_bytree=1.0 will be ignored. Current value: feature_fraction=1.0\n",
      "[LightGBM] [Warning] feature_fraction is set=1.0, colsample_bytree=1.0 will be ignored. Current value: feature_fraction=1.0\n",
      "[LightGBM] [Warning] feature_fraction is set=1.0, colsample_bytree=1.0 will be ignored. Current value: feature_fraction=1.0\n",
      "[LightGBM] [Warning] feature_fraction is set=0.6000000000000001, colsample_bytree=1.0 will be ignored. Current value: feature_fraction=0.6000000000000001\n",
      "[LightGBM] [Warning] feature_fraction is set=0.6000000000000001, colsample_bytree=1.0 will be ignored. Current value: feature_fraction=0.6000000000000001\n",
      "[LightGBM] [Warning] feature_fraction is set=0.6000000000000001, colsample_bytree=1.0 will be ignored. Current value: feature_fraction=0.6000000000000001\n",
      "[LightGBM] [Warning] feature_fraction is set=0.6000000000000001, colsample_bytree=1.0 will be ignored. Current value: feature_fraction=0.6000000000000001\n",
      "[LightGBM] [Warning] feature_fraction is set=0.6000000000000001, colsample_bytree=1.0 will be ignored. Current value: feature_fraction=0.6000000000000001\n",
      "[LightGBM] [Warning] feature_fraction is set=0.9, colsample_bytree=1.0 will be ignored. Current value: feature_fraction=0.9\n",
      "[LightGBM] [Warning] feature_fraction is set=0.9, colsample_bytree=1.0 will be ignored. Current value: feature_fraction=0.9\n",
      "[LightGBM] [Warning] feature_fraction is set=0.9, colsample_bytree=1.0 will be ignored. Current value: feature_fraction=0.9\n",
      "[LightGBM] [Warning] feature_fraction is set=0.9, colsample_bytree=1.0 will be ignored. Current value: feature_fraction=0.9\n",
      "[LightGBM] [Warning] feature_fraction is set=0.9, colsample_bytree=1.0 will be ignored. Current value: feature_fraction=0.9\n",
      "[LightGBM] [Warning] feature_fraction is set=0.5, colsample_bytree=1.0 will be ignored. Current value: feature_fraction=0.5\n",
      "[LightGBM] [Warning] feature_fraction is set=0.5, colsample_bytree=1.0 will be ignored. Current value: feature_fraction=0.5\n",
      "[LightGBM] [Warning] feature_fraction is set=0.5, colsample_bytree=1.0 will be ignored. Current value: feature_fraction=0.5\n",
      "[LightGBM] [Warning] feature_fraction is set=0.5, colsample_bytree=1.0 will be ignored. Current value: feature_fraction=0.5\n",
      "[LightGBM] [Warning] feature_fraction is set=0.5, colsample_bytree=1.0 will be ignored. Current value: feature_fraction=0.5\n",
      "[LightGBM] [Warning] feature_fraction is set=0.8, colsample_bytree=1.0 will be ignored. Current value: feature_fraction=0.8\n",
      "[LightGBM] [Warning] feature_fraction is set=0.8, colsample_bytree=1.0 will be ignored. Current value: feature_fraction=0.8\n",
      "[LightGBM] [Warning] feature_fraction is set=0.8, colsample_bytree=1.0 will be ignored. Current value: feature_fraction=0.8\n",
      "[LightGBM] [Warning] feature_fraction is set=0.8, colsample_bytree=1.0 will be ignored. Current value: feature_fraction=0.8\n",
      "[LightGBM] [Warning] feature_fraction is set=0.8, colsample_bytree=1.0 will be ignored. Current value: feature_fraction=0.8\n",
      "100%|██████████| 20/20 [00:01<00:00, 14.33trial/s, best loss: 2.7619113211411617]\n",
      "best: {'feature_fraction': 0.5, 'learning_rate': 0.2, 'max_depth': 9.0, 'num_iterations': 10.061962799439225, 'subsample': 0.8}\n"
     ]
    }
   ],
   "source": [
    "trials = Trials()\n",
    "best = fmin(fn= objective,\n",
    "space= space, \n",
    "algo= tpe.suggest, \n",
    "max_evals = 20, \n",
    "trials= trials)\n",
    "print(\"best: {}\".format(best))"
   ]
  },
  {
   "cell_type": "code",
   "execution_count": 546,
   "metadata": {},
   "outputs": [
    {
     "name": "stdout",
     "output_type": "stream",
     "text": [
      "[LightGBM] [Warning] feature_fraction is set=0.5, colsample_bytree=1.0 will be ignored. Current value: feature_fraction=0.5\n",
      "R2: 0.21 \n",
      " MAPE: 2.1931 \n",
      " MAE : 1.2072 \n",
      " RMSE : 1.4846\n"
     ]
    }
   ],
   "source": [
    "best = space_eval(space, best)\n",
    "\n",
    "lg = LGBMRegressor(feature_fraction=best['feature_fraction'],\n",
    "                        learning_rate=best['learning_rate'],\n",
    "                        max_depth=round(best['max_depth']),\n",
    "                        num_iterations=round(best['num_iterations']),\n",
    "                        subsample=best['subsample'],\n",
    "                        random_state=RANDOM_STATE,\n",
    "                        silent=True)\n",
    "lg.fit(X_train, y_train)\n",
    "fmod.prediccion_regr(lg, X_test, y_test, lambdas)"
   ]
  }
 ],
 "metadata": {
  "kernelspec": {
   "display_name": "RETO_6",
   "language": "python",
   "name": "python3"
  },
  "language_info": {
   "codemirror_mode": {
    "name": "ipython",
    "version": 3
   },
   "file_extension": ".py",
   "mimetype": "text/x-python",
   "name": "python",
   "nbconvert_exporter": "python",
   "pygments_lexer": "ipython3",
   "version": "3.9.0"
  },
  "orig_nbformat": 4,
  "vscode": {
   "interpreter": {
    "hash": "43da2a4a05ab489e1944bd06d741de7bea8232c934cad1a8d410025196f580f5"
   }
  }
 },
 "nbformat": 4,
 "nbformat_minor": 2
}
